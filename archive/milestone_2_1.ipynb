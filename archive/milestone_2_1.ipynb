{
 "cells": [
  {
   "cell_type": "code",
   "execution_count": 3,
   "metadata": {},
   "outputs": [],
   "source": [
    "#! pip install https://github.com/pandas-profiling/pandas-profiling/archive/master.zip"
   ]
  },
  {
   "cell_type": "code",
   "execution_count": 59,
   "metadata": {},
   "outputs": [],
   "source": [
    "import pandas as pd \n",
    "import numpy as np \n",
    "import matplotlib.pyplot as plt\n",
    "import seaborn as sns\n",
    "from pandas_profiling import ProfileReport\n",
    "from scipy.io import arff\n",
    "import xgboost as xgb\n",
    "pd.options.display.max_columns = None\n",
    "import seaborn as sns\n",
    "import matplotlib.pyplot as plt\n",
    "from sklearn.model_selection import KFold\n",
    "from sklearn import metrics"
   ]
  },
  {
   "cell_type": "markdown",
   "metadata": {},
   "source": [
    "## Wczytanie danych"
   ]
  },
  {
   "cell_type": "code",
   "execution_count": 146,
   "metadata": {},
   "outputs": [],
   "source": [
    "df = pd.read_csv(\"students-all.csv\")"
   ]
  },
  {
   "cell_type": "code",
   "execution_count": 147,
   "metadata": {},
   "outputs": [
    {
     "data": {
      "text/html": [
       "<div>\n",
       "<style scoped>\n",
       "    .dataframe tbody tr th:only-of-type {\n",
       "        vertical-align: middle;\n",
       "    }\n",
       "\n",
       "    .dataframe tbody tr th {\n",
       "        vertical-align: top;\n",
       "    }\n",
       "\n",
       "    .dataframe thead th {\n",
       "        text-align: right;\n",
       "    }\n",
       "</style>\n",
       "<table border=\"1\" class=\"dataframe\">\n",
       "  <thead>\n",
       "    <tr style=\"text-align: right;\">\n",
       "      <th></th>\n",
       "      <th>age</th>\n",
       "      <th>Medu</th>\n",
       "      <th>Fedu</th>\n",
       "      <th>traveltime</th>\n",
       "      <th>studytime</th>\n",
       "      <th>failures</th>\n",
       "      <th>famrel</th>\n",
       "      <th>freetime</th>\n",
       "      <th>goout</th>\n",
       "      <th>Dalc</th>\n",
       "      <th>Walc</th>\n",
       "      <th>health</th>\n",
       "      <th>absences</th>\n",
       "      <th>G1</th>\n",
       "      <th>G2</th>\n",
       "      <th>G3</th>\n",
       "      <th>school_MS</th>\n",
       "      <th>sex_M</th>\n",
       "      <th>address_U</th>\n",
       "      <th>famsize_LE3</th>\n",
       "      <th>Pstatus_T</th>\n",
       "      <th>Mjob_health</th>\n",
       "      <th>Mjob_other</th>\n",
       "      <th>Mjob_services</th>\n",
       "      <th>Mjob_teacher</th>\n",
       "      <th>Fjob_health</th>\n",
       "      <th>Fjob_other</th>\n",
       "      <th>Fjob_services</th>\n",
       "      <th>Fjob_teacher</th>\n",
       "      <th>reason_home</th>\n",
       "      <th>reason_other</th>\n",
       "      <th>reason_reputation</th>\n",
       "      <th>guardian_mother</th>\n",
       "      <th>guardian_other</th>\n",
       "      <th>schoolsup_yes</th>\n",
       "      <th>famsup_yes</th>\n",
       "      <th>paid_yes</th>\n",
       "      <th>activities_yes</th>\n",
       "      <th>nursery_yes</th>\n",
       "      <th>higher_yes</th>\n",
       "      <th>internet_yes</th>\n",
       "      <th>romantic_yes</th>\n",
       "      <th>major_por</th>\n",
       "    </tr>\n",
       "  </thead>\n",
       "  <tbody>\n",
       "    <tr>\n",
       "      <th>0</th>\n",
       "      <td>18</td>\n",
       "      <td>4</td>\n",
       "      <td>4</td>\n",
       "      <td>2</td>\n",
       "      <td>2</td>\n",
       "      <td>0</td>\n",
       "      <td>4</td>\n",
       "      <td>3</td>\n",
       "      <td>4</td>\n",
       "      <td>1</td>\n",
       "      <td>1</td>\n",
       "      <td>3</td>\n",
       "      <td>6</td>\n",
       "      <td>5</td>\n",
       "      <td>6</td>\n",
       "      <td>6</td>\n",
       "      <td>0</td>\n",
       "      <td>0</td>\n",
       "      <td>1</td>\n",
       "      <td>0</td>\n",
       "      <td>0</td>\n",
       "      <td>0</td>\n",
       "      <td>0</td>\n",
       "      <td>0</td>\n",
       "      <td>0</td>\n",
       "      <td>0</td>\n",
       "      <td>0</td>\n",
       "      <td>0</td>\n",
       "      <td>1</td>\n",
       "      <td>0</td>\n",
       "      <td>0</td>\n",
       "      <td>0</td>\n",
       "      <td>1</td>\n",
       "      <td>0</td>\n",
       "      <td>1</td>\n",
       "      <td>0</td>\n",
       "      <td>0</td>\n",
       "      <td>0</td>\n",
       "      <td>1</td>\n",
       "      <td>1</td>\n",
       "      <td>0</td>\n",
       "      <td>0</td>\n",
       "      <td>0</td>\n",
       "    </tr>\n",
       "    <tr>\n",
       "      <th>1</th>\n",
       "      <td>17</td>\n",
       "      <td>1</td>\n",
       "      <td>1</td>\n",
       "      <td>1</td>\n",
       "      <td>2</td>\n",
       "      <td>0</td>\n",
       "      <td>5</td>\n",
       "      <td>3</td>\n",
       "      <td>3</td>\n",
       "      <td>1</td>\n",
       "      <td>1</td>\n",
       "      <td>3</td>\n",
       "      <td>4</td>\n",
       "      <td>5</td>\n",
       "      <td>5</td>\n",
       "      <td>6</td>\n",
       "      <td>0</td>\n",
       "      <td>0</td>\n",
       "      <td>1</td>\n",
       "      <td>0</td>\n",
       "      <td>1</td>\n",
       "      <td>0</td>\n",
       "      <td>0</td>\n",
       "      <td>0</td>\n",
       "      <td>0</td>\n",
       "      <td>0</td>\n",
       "      <td>1</td>\n",
       "      <td>0</td>\n",
       "      <td>0</td>\n",
       "      <td>0</td>\n",
       "      <td>0</td>\n",
       "      <td>0</td>\n",
       "      <td>0</td>\n",
       "      <td>0</td>\n",
       "      <td>0</td>\n",
       "      <td>1</td>\n",
       "      <td>0</td>\n",
       "      <td>0</td>\n",
       "      <td>0</td>\n",
       "      <td>1</td>\n",
       "      <td>1</td>\n",
       "      <td>0</td>\n",
       "      <td>0</td>\n",
       "    </tr>\n",
       "    <tr>\n",
       "      <th>2</th>\n",
       "      <td>15</td>\n",
       "      <td>1</td>\n",
       "      <td>1</td>\n",
       "      <td>1</td>\n",
       "      <td>2</td>\n",
       "      <td>3</td>\n",
       "      <td>4</td>\n",
       "      <td>3</td>\n",
       "      <td>2</td>\n",
       "      <td>2</td>\n",
       "      <td>3</td>\n",
       "      <td>3</td>\n",
       "      <td>10</td>\n",
       "      <td>7</td>\n",
       "      <td>8</td>\n",
       "      <td>10</td>\n",
       "      <td>0</td>\n",
       "      <td>0</td>\n",
       "      <td>1</td>\n",
       "      <td>1</td>\n",
       "      <td>1</td>\n",
       "      <td>0</td>\n",
       "      <td>0</td>\n",
       "      <td>0</td>\n",
       "      <td>0</td>\n",
       "      <td>0</td>\n",
       "      <td>1</td>\n",
       "      <td>0</td>\n",
       "      <td>0</td>\n",
       "      <td>0</td>\n",
       "      <td>1</td>\n",
       "      <td>0</td>\n",
       "      <td>1</td>\n",
       "      <td>0</td>\n",
       "      <td>1</td>\n",
       "      <td>0</td>\n",
       "      <td>1</td>\n",
       "      <td>0</td>\n",
       "      <td>1</td>\n",
       "      <td>1</td>\n",
       "      <td>1</td>\n",
       "      <td>0</td>\n",
       "      <td>0</td>\n",
       "    </tr>\n",
       "    <tr>\n",
       "      <th>3</th>\n",
       "      <td>15</td>\n",
       "      <td>4</td>\n",
       "      <td>2</td>\n",
       "      <td>1</td>\n",
       "      <td>3</td>\n",
       "      <td>0</td>\n",
       "      <td>3</td>\n",
       "      <td>2</td>\n",
       "      <td>2</td>\n",
       "      <td>1</td>\n",
       "      <td>1</td>\n",
       "      <td>5</td>\n",
       "      <td>2</td>\n",
       "      <td>15</td>\n",
       "      <td>14</td>\n",
       "      <td>15</td>\n",
       "      <td>0</td>\n",
       "      <td>0</td>\n",
       "      <td>1</td>\n",
       "      <td>0</td>\n",
       "      <td>1</td>\n",
       "      <td>1</td>\n",
       "      <td>0</td>\n",
       "      <td>0</td>\n",
       "      <td>0</td>\n",
       "      <td>0</td>\n",
       "      <td>0</td>\n",
       "      <td>1</td>\n",
       "      <td>0</td>\n",
       "      <td>1</td>\n",
       "      <td>0</td>\n",
       "      <td>0</td>\n",
       "      <td>1</td>\n",
       "      <td>0</td>\n",
       "      <td>0</td>\n",
       "      <td>1</td>\n",
       "      <td>1</td>\n",
       "      <td>1</td>\n",
       "      <td>1</td>\n",
       "      <td>1</td>\n",
       "      <td>1</td>\n",
       "      <td>1</td>\n",
       "      <td>0</td>\n",
       "    </tr>\n",
       "    <tr>\n",
       "      <th>4</th>\n",
       "      <td>16</td>\n",
       "      <td>3</td>\n",
       "      <td>3</td>\n",
       "      <td>1</td>\n",
       "      <td>2</td>\n",
       "      <td>0</td>\n",
       "      <td>4</td>\n",
       "      <td>3</td>\n",
       "      <td>2</td>\n",
       "      <td>1</td>\n",
       "      <td>2</td>\n",
       "      <td>5</td>\n",
       "      <td>4</td>\n",
       "      <td>6</td>\n",
       "      <td>10</td>\n",
       "      <td>10</td>\n",
       "      <td>0</td>\n",
       "      <td>0</td>\n",
       "      <td>1</td>\n",
       "      <td>0</td>\n",
       "      <td>1</td>\n",
       "      <td>0</td>\n",
       "      <td>1</td>\n",
       "      <td>0</td>\n",
       "      <td>0</td>\n",
       "      <td>0</td>\n",
       "      <td>1</td>\n",
       "      <td>0</td>\n",
       "      <td>0</td>\n",
       "      <td>1</td>\n",
       "      <td>0</td>\n",
       "      <td>0</td>\n",
       "      <td>0</td>\n",
       "      <td>0</td>\n",
       "      <td>0</td>\n",
       "      <td>1</td>\n",
       "      <td>1</td>\n",
       "      <td>0</td>\n",
       "      <td>1</td>\n",
       "      <td>1</td>\n",
       "      <td>0</td>\n",
       "      <td>0</td>\n",
       "      <td>0</td>\n",
       "    </tr>\n",
       "  </tbody>\n",
       "</table>\n",
       "</div>"
      ],
      "text/plain": [
       "   age  Medu  Fedu  traveltime  studytime  failures  famrel  freetime  goout  \\\n",
       "0   18     4     4           2          2         0       4         3      4   \n",
       "1   17     1     1           1          2         0       5         3      3   \n",
       "2   15     1     1           1          2         3       4         3      2   \n",
       "3   15     4     2           1          3         0       3         2      2   \n",
       "4   16     3     3           1          2         0       4         3      2   \n",
       "\n",
       "   Dalc  Walc  health  absences  G1  G2  G3  school_MS  sex_M  address_U  \\\n",
       "0     1     1       3         6   5   6   6          0      0          1   \n",
       "1     1     1       3         4   5   5   6          0      0          1   \n",
       "2     2     3       3        10   7   8  10          0      0          1   \n",
       "3     1     1       5         2  15  14  15          0      0          1   \n",
       "4     1     2       5         4   6  10  10          0      0          1   \n",
       "\n",
       "   famsize_LE3  Pstatus_T  Mjob_health  Mjob_other  Mjob_services  \\\n",
       "0            0          0            0           0              0   \n",
       "1            0          1            0           0              0   \n",
       "2            1          1            0           0              0   \n",
       "3            0          1            1           0              0   \n",
       "4            0          1            0           1              0   \n",
       "\n",
       "   Mjob_teacher  Fjob_health  Fjob_other  Fjob_services  Fjob_teacher  \\\n",
       "0             0            0           0              0             1   \n",
       "1             0            0           1              0             0   \n",
       "2             0            0           1              0             0   \n",
       "3             0            0           0              1             0   \n",
       "4             0            0           1              0             0   \n",
       "\n",
       "   reason_home  reason_other  reason_reputation  guardian_mother  \\\n",
       "0            0             0                  0                1   \n",
       "1            0             0                  0                0   \n",
       "2            0             1                  0                1   \n",
       "3            1             0                  0                1   \n",
       "4            1             0                  0                0   \n",
       "\n",
       "   guardian_other  schoolsup_yes  famsup_yes  paid_yes  activities_yes  \\\n",
       "0               0              1           0         0               0   \n",
       "1               0              0           1         0               0   \n",
       "2               0              1           0         1               0   \n",
       "3               0              0           1         1               1   \n",
       "4               0              0           1         1               0   \n",
       "\n",
       "   nursery_yes  higher_yes  internet_yes  romantic_yes  major_por  \n",
       "0            1           1             0             0          0  \n",
       "1            0           1             1             0          0  \n",
       "2            1           1             1             0          0  \n",
       "3            1           1             1             1          0  \n",
       "4            1           1             0             0          0  "
      ]
     },
     "execution_count": 147,
     "metadata": {},
     "output_type": "execute_result"
    }
   ],
   "source": [
    "df_dummies = pd.get_dummies(df, drop_first=True)\n",
    "df_dummies.head()\n",
    "df_dummies = df_dummies.iloc[:,1:]\n",
    "df_dummies.head()"
   ]
  },
  {
   "cell_type": "markdown",
   "metadata": {},
   "source": [
    "## Funkcja ternująca na xgboost"
   ]
  },
  {
   "cell_type": "code",
   "execution_count": 104,
   "metadata": {},
   "outputs": [],
   "source": [
    "def train_fast(df, max_depth, target ):\n",
    "    \n",
    "    \"\"\"\n",
    "    From Standard cross validation differs in data partitnion. Due to optimizing model on validation set,\n",
    "    we get final AUC score from equally big test set.\n",
    "    \"\"\"\n",
    "    \n",
    "    # shuffling index\n",
    "    df = df.sample(frac=1).reset_index(drop=True)\n",
    "    n = len(df)\n",
    "    \n",
    "    # 5 fold cross validation\n",
    "    kf = KFold(n_splits=5)\n",
    "        \n",
    "    \n",
    "    ret = []\n",
    "    tpr_arr = []\n",
    "    fpr_arr = []\n",
    "    \n",
    "    # we will make test 10% and validation 10%\n",
    "    for train_index, test_index in kf.split(df):\n",
    "        \n",
    "        train = df.iloc[train_index,:]\n",
    "        \n",
    "        v_ind = test_index[0:(len(test_index)//2)] \n",
    "        t_ind = test_index[(len(test_index)//2):len(test_index)]\n",
    "        \n",
    "        validation = df.iloc[v_ind,:]\n",
    "        test = df.iloc[t_ind,:]\n",
    "        \n",
    "        label_train = train[target]\n",
    "        label_val = validation[target]\n",
    "        label_test = test[target]\n",
    "\n",
    "        df_train = train.drop([target], axis = 1)\n",
    "        df_test  = test.drop([target], axis = 1)\n",
    "        df_val  = validation.drop([target], axis = 1)\n",
    "        \n",
    "        dtrain = xgb.DMatrix(data = df_train, label=label_train)\n",
    "        dval = xgb.DMatrix(data = df_val, label=label_val)\n",
    "        dtest = xgb.DMatrix(data = df_test, label=label_val)\n",
    "        \n",
    "        param = {'max_depth': max_depth, 'objective': 'binary:logistic', 'eval_metric':'auc'}\n",
    "        \n",
    "        evallist = [(dval, 'eval'), (dtrain, 'train')]\n",
    "        \n",
    "        num_round = 100\n",
    "        \n",
    "        bst = xgb.train(param, dtrain, num_round, evallist, verbose_eval=0)\n",
    "        y_pred = bst.predict(dtest, ntree_limit=bst.best_ntree_limit)\n",
    "\n",
    "        fpr, tpr, thresholds = metrics.roc_curve(label_test.to_numpy(), y_pred)\n",
    "\n",
    "        \n",
    "        ret.append(metrics.auc(fpr, tpr))\n",
    "        \n",
    "        fpr_arr.append(fpr)\n",
    "        tpr_arr.append(tpr)\n",
    "        \n",
    "    # fpr and tpr arrays are problematic, we will get them from median AUC score\n",
    "    # note that we are returning mean auc score, so it is not ideal \n",
    "    index = np.where(np.mean(np.array(ret))== np.mean(np.array(ret)))[0][0]\n",
    "    \n",
    "    \n",
    "    return np.array(ret).mean(), bst, fpr_arr[index],tpr_arr[index]"
   ]
  },
  {
   "cell_type": "markdown",
   "metadata": {},
   "source": [
    "## Uśrednione auc (nie acc dont worry)"
   ]
  },
  {
   "cell_type": "code",
   "execution_count": 24,
   "metadata": {
    "scrolled": true
   },
   "outputs": [
    {
     "name": "stdout",
     "output_type": "stream",
     "text": [
      "[0]\teval-auc:0.57743\ttrain-auc:0.92682\n",
      "[50]\teval-auc:0.75919\ttrain-auc:1.00000\n",
      "[99]\teval-auc:0.77236\ttrain-auc:1.00000\n",
      "[0]\teval-auc:0.73610\ttrain-auc:0.92640\n",
      "[50]\teval-auc:0.83787\ttrain-auc:1.00000\n"
     ]
    },
    {
     "name": "stderr",
     "output_type": "stream",
     "text": [
      "/home/jakwisn/anaconda3/lib/python3.7/site-packages/sklearn/metrics/_ranking.py:808: UndefinedMetricWarning: No positive samples in y_true, true positive value should be meaningless\n",
      "  UndefinedMetricWarning)\n"
     ]
    },
    {
     "name": "stdout",
     "output_type": "stream",
     "text": [
      "[99]\teval-auc:0.83747\ttrain-auc:1.00000\n",
      "[0]\teval-auc:0.60580\ttrain-auc:0.93720\n",
      "[50]\teval-auc:0.82026\ttrain-auc:1.00000\n",
      "[99]\teval-auc:0.83946\ttrain-auc:1.00000\n",
      "[0]\teval-auc:0.74327\ttrain-auc:0.92910\n",
      "[50]\teval-auc:0.91059\ttrain-auc:1.00000\n",
      "[99]\teval-auc:0.89410\ttrain-auc:1.00000\n",
      "[0]\teval-auc:0.63221\ttrain-auc:0.92231\n",
      "[50]\teval-auc:0.81378\ttrain-auc:1.00000\n",
      "[99]\teval-auc:0.81339\ttrain-auc:1.00000\n"
     ]
    },
    {
     "ename": "TypeError",
     "evalue": "unsupported operand type(s) for +=: 'int' and 'list'",
     "output_type": "error",
     "traceback": [
      "\u001b[0;31m---------------------------------------------------------------------------\u001b[0m",
      "\u001b[0;31mTypeError\u001b[0m                                 Traceback (most recent call last)",
      "\u001b[0;32m<ipython-input-24-c33c3ee7fa08>\u001b[0m in \u001b[0;36m<module>\u001b[0;34m\u001b[0m\n\u001b[1;32m      3\u001b[0m \u001b[0;32mfor\u001b[0m \u001b[0mi\u001b[0m \u001b[0;32min\u001b[0m \u001b[0mrange\u001b[0m\u001b[0;34m(\u001b[0m\u001b[0;36m10\u001b[0m\u001b[0;34m)\u001b[0m\u001b[0;34m:\u001b[0m\u001b[0;34m\u001b[0m\u001b[0;34m\u001b[0m\u001b[0m\n\u001b[1;32m      4\u001b[0m     \u001b[0macc\u001b[0m \u001b[0;34m,\u001b[0m \u001b[0mbst\u001b[0m \u001b[0;34m=\u001b[0m \u001b[0mtrain_fast\u001b[0m\u001b[0;34m(\u001b[0m\u001b[0mdf_dummies\u001b[0m\u001b[0;34m,\u001b[0m \u001b[0;36m13\u001b[0m\u001b[0;34m,\u001b[0m \u001b[0;34m\"romantic_yes\"\u001b[0m\u001b[0;34m)\u001b[0m\u001b[0;34m\u001b[0m\u001b[0;34m\u001b[0m\u001b[0m\n\u001b[0;32m----> 5\u001b[0;31m     \u001b[0macc_sum\u001b[0m \u001b[0;34m+=\u001b[0m \u001b[0macc\u001b[0m\u001b[0;34m\u001b[0m\u001b[0;34m\u001b[0m\u001b[0m\n\u001b[0m\u001b[1;32m      6\u001b[0m \u001b[0macc_results\u001b[0m\u001b[0;34m.\u001b[0m\u001b[0mappend\u001b[0m\u001b[0;34m(\u001b[0m\u001b[0macc_sum\u001b[0m\u001b[0;34m/\u001b[0m\u001b[0;36m10\u001b[0m\u001b[0;34m)\u001b[0m\u001b[0;34m\u001b[0m\u001b[0;34m\u001b[0m\u001b[0m\n\u001b[1;32m      7\u001b[0m \u001b[0macc_sum\u001b[0m \u001b[0;34m=\u001b[0m \u001b[0;36m0\u001b[0m\u001b[0;34m\u001b[0m\u001b[0;34m\u001b[0m\u001b[0m\n",
      "\u001b[0;31mTypeError\u001b[0m: unsupported operand type(s) for +=: 'int' and 'list'"
     ]
    }
   ],
   "source": [
    "acc_results = []\n",
    "acc_sum = 0\n",
    "for i in range(10): \n",
    "    acc , bst = train_fast(df_dummies, 13, \"romantic_yes\")\n",
    "    acc_sum += acc\n",
    "acc_results.append(acc_sum/10)\n",
    "acc_sum = 0"
   ]
  },
  {
   "cell_type": "code",
   "execution_count": 22,
   "metadata": {},
   "outputs": [],
   "source": [
    "# Zróbmy średnią kroczącą \n",
    "def moving_average(a, n=3) :\n",
    "    ret = np.cumsum(a, dtype=float)\n",
    "    ret[n:] = ret[n:] - ret[:-n]\n",
    "    return ret[n - 1:] / n"
   ]
  },
  {
   "cell_type": "code",
   "execution_count": 23,
   "metadata": {},
   "outputs": [],
   "source": [
    "a = moving_average(np.array(acc_results),5)"
   ]
  },
  {
   "cell_type": "code",
   "execution_count": 24,
   "metadata": {},
   "outputs": [],
   "source": [
    "res = pd.DataFrame({\"acc\":a,\"depth\":np.arange(len(acc_results))[2:-2]})"
   ]
  },
  {
   "cell_type": "code",
   "execution_count": 25,
   "metadata": {
    "scrolled": false
   },
   "outputs": [
    {
     "data": {
      "text/plain": [
       "Text(0.5, 1.0, 'moving average of accuracy, base = 3')"
      ]
     },
     "execution_count": 25,
     "metadata": {},
     "output_type": "execute_result"
    },
    {
     "data": {
      "image/png": "[encoded data removed]",
      "text/plain": [
       "<Figure size 576x396 with 1 Axes>"
      ]
     },
     "metadata": {},
     "output_type": "display_data"
    }
   ],
   "source": [
    "sns.lineplot(data = res, x = \"depth\", y = \"acc\").set_title(\"moving average of accuracy, base = 5\")"
   ]
  },
  {
   "cell_type": "markdown",
   "metadata": {},
   "source": [
    "## Różne encodery"
   ]
  },
  {
   "cell_type": "code",
   "execution_count": 42,
   "metadata": {},
   "outputs": [],
   "source": [
    "def get_acc_mean(df):\n",
    "    acc_sum = 0\n",
    "    for i in range(20):\n",
    "        acc , bst = train_fast(df, 18)\n",
    "        acc_sum += acc\n",
    "    return(acc_sum/20)"
   ]
  },
  {
   "cell_type": "code",
   "execution_count": 17,
   "metadata": {},
   "outputs": [],
   "source": [
    "import category_encoders as ce\n",
    "\n",
    "encolums = ['Medu', 'Fedu', 'traveltime', 'studytime', 'failures', 'famrel',\n",
    "       'freetime', 'goout', 'Dalc', 'Walc', 'health', 'school_MS', 'sex_M', 'address_U', 'famsize_LE3', 'Pstatus_T',\n",
    "       'Mjob_health', 'Mjob_other', 'Mjob_services', 'Mjob_teacher',\n",
    "       'Fjob_health', 'Fjob_other', 'Fjob_services', 'Fjob_teacher',\n",
    "       'reason_home', 'reason_other', 'reason_reputation', 'guardian_mother',\n",
    "       'guardian_other', 'schoolsup_yes', 'famsup_yes', 'paid_yes',\n",
    "       'activities_yes', 'nursery_yes', 'higher_yes', 'internet_yes',\n",
    "       'major_por']"
   ]
  },
  {
   "cell_type": "code",
   "execution_count": 43,
   "metadata": {},
   "outputs": [],
   "source": [
    "%%capture\n",
    "res_dict = {}\n",
    "encoder = ce.backward_difference.BackwardDifferenceEncoder(cols = encolums)\n",
    "df_encoded = encoder.fit_transform(df)\n",
    "res_dict[\"BackwardDifferenceEncoder\"] = get_acc_mean(df_encoded)"
   ]
  },
  {
   "cell_type": "code",
   "execution_count": 44,
   "metadata": {},
   "outputs": [],
   "source": [
    "%%capture\n",
    "encoder = ce.binary.BinaryEncoder(cols = encolums)\n",
    "df_encoded = encoder.fit_transform(df)\n",
    "res_dict[\"BinaryEncoder\"] = get_acc_mean(df_encoded)"
   ]
  },
  {
   "cell_type": "code",
   "execution_count": 45,
   "metadata": {},
   "outputs": [],
   "source": [
    "%%capture\n",
    "encoder = ce.basen.BaseNEncoder(cols = encolums)\n",
    "df_encoded = encoder.fit_transform(df)\n",
    "res_dict[\"BaseNEncoder\"] = get_acc_mean(df_encoded)"
   ]
  },
  {
   "cell_type": "code",
   "execution_count": 46,
   "metadata": {},
   "outputs": [],
   "source": [
    "%%capture\n",
    "encoder = ce.hashing.HashingEncoder(cols = encolums)\n",
    "df_encoded = encoder.fit_transform(df)\n",
    "res_dict[\"HashingEncoder\"] = get_acc_mean(df_encoded)"
   ]
  },
  {
   "cell_type": "code",
   "execution_count": 47,
   "metadata": {},
   "outputs": [],
   "source": [
    "%%capture\n",
    "encoder = ce.helmert.HelmertEncoder(cols = encolums)\n",
    "df_encoded = encoder.fit_transform(df)\n",
    "res_dict[\"HelmertEncoder\"] = get_acc_mean(df_encoded)"
   ]
  },
  {
   "cell_type": "code",
   "execution_count": 52,
   "metadata": {},
   "outputs": [],
   "source": [
    "%%capture\n",
    "encoder = ce.one_hot.OneHotEncoder(cols = encolums)\n",
    "df_encoded = encoder.fit_transform(df)\n",
    "res_dict[\"OneHotEncoder\"] = get_acc_mean(df_encoded)"
   ]
  },
  {
   "cell_type": "code",
   "execution_count": 53,
   "metadata": {},
   "outputs": [],
   "source": [
    "%%capture\n",
    "encoder = ce.ordinal.OrdinalEncoder(cols = encolums)\n",
    "df_encoded = encoder.fit_transform(df)\n",
    "res_dict[\"OrdinalEncoder\"] = get_acc_mean(df_encoded)"
   ]
  },
  {
   "cell_type": "code",
   "execution_count": 55,
   "metadata": {},
   "outputs": [],
   "source": [
    "%%capture\n",
    "encoder = ce.polynomial.PolynomialEncoder(cols = encolums)\n",
    "df_encoded = encoder.fit_transform(df)\n",
    "res_dict[\"PolynomialEncoder\"] = get_acc_mean(df_encoded)"
   ]
  },
  {
   "cell_type": "code",
   "execution_count": 56,
   "metadata": {},
   "outputs": [],
   "source": [
    "%%capture\n",
    "encoder = ce.sum_coding.SumEncoder(cols = encolums)\n",
    "df_encoded = encoder.fit_transform(df)\n",
    "res_dict[\"SumEncoder\"] = get_acc_mean(df_encoded)"
   ]
  },
  {
   "cell_type": "code",
   "execution_count": 57,
   "metadata": {
    "scrolled": true
   },
   "outputs": [
    {
     "name": "stdout",
     "output_type": "stream",
     "text": [
      "{'BackwardDifferenceEncoder': 0.743312101910828,\n",
      " 'BaseNEncoder': 0.7420382165605096,\n",
      " 'BinaryEncoder': 0.743312101910828,\n",
      " 'HelmertEncoder': 0.7535031847133757,\n",
      " 'OneHotEncoder': 0.7719745222929936,\n",
      " 'OrdinalEncoder': 0.7426751592356687,\n",
      " 'PolynomialEncoder': 0.7515923566878981,\n",
      " 'SumEncoder': 0.7585987261146496,\n",
      " 'hashing.HashingEncoder(': 0.6404458598726113}\n"
     ]
    }
   ],
   "source": [
    "from pprint import pprint\n",
    "pprint(res_dict)"
   ]
  },
  {
   "cell_type": "markdown",
   "metadata": {},
   "source": [
    "## Benchmark - podstawa"
   ]
  },
  {
   "cell_type": "markdown",
   "metadata": {},
   "source": [
    "Widzimy, że najlepiej wypada model dla głębokości około 40, ale ogólnie charakteryzuje się sporą wariancją wyniku accuracy"
   ]
  },
  {
   "cell_type": "code",
   "execution_count": 148,
   "metadata": {},
   "outputs": [],
   "source": [
    "def quick_auc_median(df,depth,target):\n",
    "\n",
    "    auc_array = []\n",
    "    fpr_array = []\n",
    "    tpr_array = []\n",
    "\n",
    "    # musi być nieparzysta! ;)\n",
    "    iterations = 25\n",
    "\n",
    "    for i in range(iterations):\n",
    "        auc, _, fpr_arr, tpr_arr = train_fast(df, depth, target)\n",
    "        auc_array.append(auc)\n",
    "        fpr_array.append(fpr_arr) \n",
    "        tpr_array.append(tpr_arr)\n",
    "\n",
    "\n",
    "    print(f'Mediana AUC: {round(np.median(auc_array),4)}')\n",
    "\n",
    "    return auc_array, fpr_array, tpr_array"
   ]
  },
  {
   "cell_type": "markdown",
   "metadata": {},
   "source": [
    "Sprawdźmy bazowe `AUC`"
   ]
  },
  {
   "cell_type": "code",
   "execution_count": 170,
   "metadata": {},
   "outputs": [
    {
     "name": "stdout",
     "output_type": "stream",
     "text": [
      "Mediana AUC: 0.8286\n"
     ]
    }
   ],
   "source": [
    "auc_array , fpr_array, tpr_array = quick_auc_median(df_dummies, 20,\"romantic_yes\")"
   ]
  },
  {
   "cell_type": "code",
   "execution_count": 150,
   "metadata": {},
   "outputs": [],
   "source": [
    "# index where median value is\n",
    "index = np.where(auc_array == np.median(auc_array))[0][0]"
   ]
  },
  {
   "cell_type": "code",
   "execution_count": 151,
   "metadata": {},
   "outputs": [
    {
     "data": {
      "image/png": "[encoded data removed]",
      "text/plain": [
       "<Figure size 576x396 with 1 Axes>"
      ]
     },
     "metadata": {},
     "output_type": "display_data"
    }
   ],
   "source": [
    "lw = 2\n",
    "roc_auc = metrics.auc(fpr_array[index], tpr_array[index])\n",
    "plt.figure()\n",
    "plt.plot(fpr_array[index], tpr_array[index], color='darkorange',\n",
    "lw=lw, label='ROC curve (AUC = %0.2f)' % roc_auc)\n",
    "\n",
    "plt.show()"
   ]
  },
  {
   "cell_type": "markdown",
   "metadata": {},
   "source": [
    "## Logarytmowanie zmiennych ciągłych"
   ]
  },
  {
   "cell_type": "markdown",
   "metadata": {},
   "source": [
    "Jedna zmienna ma rozkład dużo odbiegający od normalnego, przekształćmy ją."
   ]
  },
  {
   "cell_type": "code",
   "execution_count": 152,
   "metadata": {},
   "outputs": [
    {
     "data": {
      "text/plain": [
       "<matplotlib.axes._subplots.AxesSubplot at 0x7f9ebdb92c50>"
      ]
     },
     "execution_count": 152,
     "metadata": {},
     "output_type": "execute_result"
    },
    {
     "data": {
      "image/png": "[encoded data removed]",
      "text/plain": [
       "<Figure size 576x396 with 1 Axes>"
      ]
     },
     "metadata": {},
     "output_type": "display_data"
    }
   ],
   "source": [
    "sns.distplot(df_dummies.absences)"
   ]
  },
  {
   "cell_type": "code",
   "execution_count": 153,
   "metadata": {},
   "outputs": [
    {
     "data": {
      "text/plain": [
       "<matplotlib.axes._subplots.AxesSubplot at 0x7f9ebb619b90>"
      ]
     },
     "execution_count": 153,
     "metadata": {},
     "output_type": "execute_result"
    },
    {
     "data": {
      "image/png": "[encoded data removed]",
      "text/plain": [
       "<Figure size 576x396 with 1 Axes>"
      ]
     },
     "metadata": {},
     "output_type": "display_data"
    }
   ],
   "source": [
    "sns.distplot(np.log(df_dummies.absences+1)) # pytanie czy warto, może coś lepszego"
   ]
  },
  {
   "cell_type": "code",
   "execution_count": 154,
   "metadata": {},
   "outputs": [],
   "source": [
    "df_dummies[\"absences\"] = np.log(df.absences +1)"
   ]
  },
  {
   "cell_type": "markdown",
   "metadata": {},
   "source": [
    "Sprawdźmy medianę `AUC` po zmianie"
   ]
  },
  {
   "cell_type": "code",
   "execution_count": 168,
   "metadata": {},
   "outputs": [
    {
     "name": "stdout",
     "output_type": "stream",
     "text": [
      "Mediana AUC: 0.8397\n"
     ]
    }
   ],
   "source": [
    "auc_array , _, _ = quick_auc_median(df_dummies, 20,\"romantic_yes\")"
   ]
  },
  {
   "cell_type": "markdown",
   "metadata": {},
   "source": [
    "Trochę lepiej!"
   ]
  },
  {
   "cell_type": "code",
   "execution_count": 160,
   "metadata": {},
   "outputs": [
    {
     "data": {
      "text/plain": [
       "<matplotlib.axes._subplots.AxesSubplot at 0x7f9eb9d7c550>"
      ]
     },
     "execution_count": 160,
     "metadata": {},
     "output_type": "execute_result"
    },
    {
     "data": {
      "image/png": "[encoded data removed]",
      "text/plain": [
       "<Figure size 576x396 with 1 Axes>"
      ]
     },
     "metadata": {},
     "output_type": "display_data"
    }
   ],
   "source": [
    "sns.distplot(df_dummies.loc[df_dummies.romantic_yes == 1].Walc * df_dummies.loc[df_dummies.romantic_yes == 1].Dalc)"
   ]
  },
  {
   "cell_type": "code",
   "execution_count": 161,
   "metadata": {
    "scrolled": true
   },
   "outputs": [
    {
     "data": {
      "text/plain": [
       "<matplotlib.axes._subplots.AxesSubplot at 0x7f9eb91e9a10>"
      ]
     },
     "execution_count": 161,
     "metadata": {},
     "output_type": "execute_result"
    },
    {
     "data": {
      "image/png": "[encoded data removed]",
      "text/plain": [
       "<Figure size 576x396 with 1 Axes>"
      ]
     },
     "metadata": {},
     "output_type": "display_data"
    }
   ],
   "source": [
    "sns.distplot(df_dummies.loc[df_dummies.romantic_yes == 0].Walc * df_dummies.loc[df_dummies.romantic_yes == 0].Dalc)"
   ]
  },
  {
   "cell_type": "code",
   "execution_count": 163,
   "metadata": {},
   "outputs": [],
   "source": [
    "df_dummies[\"WeekandEnd\"] = df_dummies.Walc * df_dummies.Dalc"
   ]
  },
  {
   "cell_type": "code",
   "execution_count": 164,
   "metadata": {},
   "outputs": [],
   "source": [
    "a = np.where((df_dummies.Dalc > 3)&(df_dummies.Walc <3),1,0 )   # wniosek z eda, osoby oznaczone w tej kolumnie jako 1, to wyłącznie romantycy\n",
    "df_dummies[\"WeirdDrinker\"] = a"
   ]
  },
  {
   "cell_type": "code",
   "execution_count": 169,
   "metadata": {},
   "outputs": [
    {
     "name": "stdout",
     "output_type": "stream",
     "text": [
      "Mediana AUC: 0.8358\n"
     ]
    }
   ],
   "source": [
    "auc_array , fpr_array, tpr_array = quick_auc_median(df_dummies, 20,\"romantic_yes\") "
   ]
  },
  {
   "cell_type": "markdown",
   "metadata": {},
   "source": [
    "Ta zmiana zdaje się nic nie wnosić"
   ]
  },
  {
   "cell_type": "markdown",
   "metadata": {},
   "source": [
    "## PCA"
   ]
  },
  {
   "cell_type": "code",
   "execution_count": 188,
   "metadata": {},
   "outputs": [],
   "source": [
    "from sklearn.decomposition import PCA\n",
    "from sklearn import preprocessing"
   ]
  },
  {
   "cell_type": "code",
   "execution_count": 189,
   "metadata": {},
   "outputs": [
    {
     "data": {
      "text/html": [
       "<div>\n",
       "<style scoped>\n",
       "    .dataframe tbody tr th:only-of-type {\n",
       "        vertical-align: middle;\n",
       "    }\n",
       "\n",
       "    .dataframe tbody tr th {\n",
       "        vertical-align: top;\n",
       "    }\n",
       "\n",
       "    .dataframe thead th {\n",
       "        text-align: right;\n",
       "    }\n",
       "</style>\n",
       "<table border=\"1\" class=\"dataframe\">\n",
       "  <thead>\n",
       "    <tr style=\"text-align: right;\">\n",
       "      <th></th>\n",
       "      <th>pc1</th>\n",
       "      <th>pc2</th>\n",
       "      <th>pc3</th>\n",
       "      <th>pc4</th>\n",
       "      <th>pc5</th>\n",
       "      <th>pc6</th>\n",
       "      <th>pc7</th>\n",
       "      <th>pc8</th>\n",
       "      <th>pc9</th>\n",
       "      <th>pc10</th>\n",
       "    </tr>\n",
       "  </thead>\n",
       "  <tbody>\n",
       "    <tr>\n",
       "      <th>0</th>\n",
       "      <td>0.133842</td>\n",
       "      <td>0.283697</td>\n",
       "      <td>-0.067985</td>\n",
       "      <td>-0.079052</td>\n",
       "      <td>0.128798</td>\n",
       "      <td>0.018826</td>\n",
       "      <td>-0.005779</td>\n",
       "      <td>0.018085</td>\n",
       "      <td>0.012935</td>\n",
       "      <td>0.004488</td>\n",
       "    </tr>\n",
       "    <tr>\n",
       "      <th>1</th>\n",
       "      <td>0.134529</td>\n",
       "      <td>0.287312</td>\n",
       "      <td>-0.122219</td>\n",
       "      <td>0.015823</td>\n",
       "      <td>-0.000697</td>\n",
       "      <td>-0.008242</td>\n",
       "      <td>0.011128</td>\n",
       "      <td>0.052255</td>\n",
       "      <td>-0.016777</td>\n",
       "      <td>0.063424</td>\n",
       "    </tr>\n",
       "    <tr>\n",
       "      <th>2</th>\n",
       "      <td>0.128834</td>\n",
       "      <td>-0.042732</td>\n",
       "      <td>-0.129686</td>\n",
       "      <td>0.008777</td>\n",
       "      <td>-0.021515</td>\n",
       "      <td>0.021404</td>\n",
       "      <td>0.022562</td>\n",
       "      <td>0.005734</td>\n",
       "      <td>-0.049978</td>\n",
       "      <td>0.029722</td>\n",
       "    </tr>\n",
       "    <tr>\n",
       "      <th>3</th>\n",
       "      <td>-0.211432</td>\n",
       "      <td>-0.053861</td>\n",
       "      <td>0.067972</td>\n",
       "      <td>-0.034567</td>\n",
       "      <td>-0.028637</td>\n",
       "      <td>0.039572</td>\n",
       "      <td>0.027683</td>\n",
       "      <td>-0.004114</td>\n",
       "      <td>-0.010486</td>\n",
       "      <td>0.009243</td>\n",
       "    </tr>\n",
       "    <tr>\n",
       "      <th>4</th>\n",
       "      <td>-0.003423</td>\n",
       "      <td>0.085860</td>\n",
       "      <td>-0.105848</td>\n",
       "      <td>-0.112036</td>\n",
       "      <td>0.004150</td>\n",
       "      <td>0.062464</td>\n",
       "      <td>-0.062037</td>\n",
       "      <td>0.003460</td>\n",
       "      <td>-0.016332</td>\n",
       "      <td>0.011738</td>\n",
       "    </tr>\n",
       "    <tr>\n",
       "      <th>...</th>\n",
       "      <td>...</td>\n",
       "      <td>...</td>\n",
       "      <td>...</td>\n",
       "      <td>...</td>\n",
       "      <td>...</td>\n",
       "      <td>...</td>\n",
       "      <td>...</td>\n",
       "      <td>...</td>\n",
       "      <td>...</td>\n",
       "      <td>...</td>\n",
       "    </tr>\n",
       "    <tr>\n",
       "      <th>1039</th>\n",
       "      <td>-0.005607</td>\n",
       "      <td>0.118302</td>\n",
       "      <td>-0.028167</td>\n",
       "      <td>-0.026576</td>\n",
       "      <td>-0.032772</td>\n",
       "      <td>0.030762</td>\n",
       "      <td>-0.025911</td>\n",
       "      <td>0.003140</td>\n",
       "      <td>-0.029379</td>\n",
       "      <td>0.007283</td>\n",
       "    </tr>\n",
       "    <tr>\n",
       "      <th>1040</th>\n",
       "      <td>-0.190407</td>\n",
       "      <td>-0.028638</td>\n",
       "      <td>-0.006787</td>\n",
       "      <td>0.079153</td>\n",
       "      <td>0.041379</td>\n",
       "      <td>-0.022013</td>\n",
       "      <td>0.013452</td>\n",
       "      <td>0.002749</td>\n",
       "      <td>-0.003164</td>\n",
       "      <td>0.003389</td>\n",
       "    </tr>\n",
       "    <tr>\n",
       "      <th>1041</th>\n",
       "      <td>-0.072759</td>\n",
       "      <td>0.099734</td>\n",
       "      <td>0.003553</td>\n",
       "      <td>0.063838</td>\n",
       "      <td>-0.090179</td>\n",
       "      <td>0.134129</td>\n",
       "      <td>-0.002537</td>\n",
       "      <td>-0.085959</td>\n",
       "      <td>-0.016442</td>\n",
       "      <td>-0.030444</td>\n",
       "    </tr>\n",
       "    <tr>\n",
       "      <th>1042</th>\n",
       "      <td>0.247189</td>\n",
       "      <td>-0.174395</td>\n",
       "      <td>-0.028633</td>\n",
       "      <td>0.053885</td>\n",
       "      <td>0.037794</td>\n",
       "      <td>-0.032032</td>\n",
       "      <td>0.012791</td>\n",
       "      <td>-0.041836</td>\n",
       "      <td>-0.003896</td>\n",
       "      <td>-0.042167</td>\n",
       "    </tr>\n",
       "    <tr>\n",
       "      <th>1043</th>\n",
       "      <td>0.218265</td>\n",
       "      <td>-0.152952</td>\n",
       "      <td>-0.030583</td>\n",
       "      <td>-0.017196</td>\n",
       "      <td>-0.045408</td>\n",
       "      <td>0.065699</td>\n",
       "      <td>-0.003239</td>\n",
       "      <td>0.026815</td>\n",
       "      <td>-0.026753</td>\n",
       "      <td>-0.026454</td>\n",
       "    </tr>\n",
       "  </tbody>\n",
       "</table>\n",
       "<p>1044 rows × 10 columns</p>\n",
       "</div>"
      ],
      "text/plain": [
       "           pc1       pc2       pc3       pc4       pc5       pc6       pc7  \\\n",
       "0     0.133842  0.283697 -0.067985 -0.079052  0.128798  0.018826 -0.005779   \n",
       "1     0.134529  0.287312 -0.122219  0.015823 -0.000697 -0.008242  0.011128   \n",
       "2     0.128834 -0.042732 -0.129686  0.008777 -0.021515  0.021404  0.022562   \n",
       "3    -0.211432 -0.053861  0.067972 -0.034567 -0.028637  0.039572  0.027683   \n",
       "4    -0.003423  0.085860 -0.105848 -0.112036  0.004150  0.062464 -0.062037   \n",
       "...        ...       ...       ...       ...       ...       ...       ...   \n",
       "1039 -0.005607  0.118302 -0.028167 -0.026576 -0.032772  0.030762 -0.025911   \n",
       "1040 -0.190407 -0.028638 -0.006787  0.079153  0.041379 -0.022013  0.013452   \n",
       "1041 -0.072759  0.099734  0.003553  0.063838 -0.090179  0.134129 -0.002537   \n",
       "1042  0.247189 -0.174395 -0.028633  0.053885  0.037794 -0.032032  0.012791   \n",
       "1043  0.218265 -0.152952 -0.030583 -0.017196 -0.045408  0.065699 -0.003239   \n",
       "\n",
       "           pc8       pc9      pc10  \n",
       "0     0.018085  0.012935  0.004488  \n",
       "1     0.052255 -0.016777  0.063424  \n",
       "2     0.005734 -0.049978  0.029722  \n",
       "3    -0.004114 -0.010486  0.009243  \n",
       "4     0.003460 -0.016332  0.011738  \n",
       "...        ...       ...       ...  \n",
       "1039  0.003140 -0.029379  0.007283  \n",
       "1040  0.002749 -0.003164  0.003389  \n",
       "1041 -0.085959 -0.016442 -0.030444  \n",
       "1042 -0.041836 -0.003896 -0.042167  \n",
       "1043  0.026815 -0.026753 -0.026454  \n",
       "\n",
       "[1044 rows x 10 columns]"
      ]
     },
     "execution_count": 189,
     "metadata": {},
     "output_type": "execute_result"
    }
   ],
   "source": [
    "pca = PCA(n_components=10) \n",
    "X = preprocessing.normalize(df_dummies.drop(\"romantic_yes\", axis = 1), norm='l2')\n",
    "\n",
    "principalComponents = pca.fit_transform(X)\n",
    "\n",
    "cols = []\n",
    "for i in range(10): \n",
    "    cols.append(\"pc\"+str(i+1))\n",
    "\n",
    "principalDf = pd.DataFrame(data = principalComponents, columns = cols)\n",
    "principalDf"
   ]
  },
  {
   "cell_type": "code",
   "execution_count": 191,
   "metadata": {},
   "outputs": [
    {
     "data": {
      "text/plain": [
       "array([0.42656404, 0.67467506, 0.72241182, 0.7581744 , 0.79198726,\n",
       "       0.81756701, 0.83829407, 0.85615083, 0.8699993 , 0.88336884])"
      ]
     },
     "execution_count": 191,
     "metadata": {},
     "output_type": "execute_result"
    }
   ],
   "source": [
    "pca.explained_variance_ratio_.cumsum()   # 67 % wariancji w 2 ważnych kolumnach"
   ]
  },
  {
   "cell_type": "markdown",
   "metadata": {},
   "source": [
    "zredukowaliśmy wymiar do 10"
   ]
  },
  {
   "cell_type": "code",
   "execution_count": 192,
   "metadata": {},
   "outputs": [
    {
     "data": {
      "text/html": [
       "<div>\n",
       "<style scoped>\n",
       "    .dataframe tbody tr th:only-of-type {\n",
       "        vertical-align: middle;\n",
       "    }\n",
       "\n",
       "    .dataframe tbody tr th {\n",
       "        vertical-align: top;\n",
       "    }\n",
       "\n",
       "    .dataframe thead th {\n",
       "        text-align: right;\n",
       "    }\n",
       "</style>\n",
       "<table border=\"1\" class=\"dataframe\">\n",
       "  <thead>\n",
       "    <tr style=\"text-align: right;\">\n",
       "      <th></th>\n",
       "      <th>pc1</th>\n",
       "      <th>pc2</th>\n",
       "      <th>pc3</th>\n",
       "      <th>pc4</th>\n",
       "      <th>pc5</th>\n",
       "      <th>pc6</th>\n",
       "      <th>pc7</th>\n",
       "      <th>pc8</th>\n",
       "      <th>pc9</th>\n",
       "      <th>pc10</th>\n",
       "      <th>romantic_yes</th>\n",
       "    </tr>\n",
       "  </thead>\n",
       "  <tbody>\n",
       "    <tr>\n",
       "      <th>0</th>\n",
       "      <td>0.133842</td>\n",
       "      <td>0.283697</td>\n",
       "      <td>-0.067985</td>\n",
       "      <td>-0.079052</td>\n",
       "      <td>0.128798</td>\n",
       "      <td>0.018826</td>\n",
       "      <td>-0.005779</td>\n",
       "      <td>0.018085</td>\n",
       "      <td>0.012935</td>\n",
       "      <td>0.004488</td>\n",
       "      <td>0</td>\n",
       "    </tr>\n",
       "    <tr>\n",
       "      <th>1</th>\n",
       "      <td>0.134529</td>\n",
       "      <td>0.287312</td>\n",
       "      <td>-0.122219</td>\n",
       "      <td>0.015823</td>\n",
       "      <td>-0.000697</td>\n",
       "      <td>-0.008242</td>\n",
       "      <td>0.011128</td>\n",
       "      <td>0.052255</td>\n",
       "      <td>-0.016777</td>\n",
       "      <td>0.063424</td>\n",
       "      <td>0</td>\n",
       "    </tr>\n",
       "    <tr>\n",
       "      <th>2</th>\n",
       "      <td>0.128834</td>\n",
       "      <td>-0.042732</td>\n",
       "      <td>-0.129686</td>\n",
       "      <td>0.008777</td>\n",
       "      <td>-0.021515</td>\n",
       "      <td>0.021404</td>\n",
       "      <td>0.022562</td>\n",
       "      <td>0.005734</td>\n",
       "      <td>-0.049978</td>\n",
       "      <td>0.029722</td>\n",
       "      <td>0</td>\n",
       "    </tr>\n",
       "    <tr>\n",
       "      <th>3</th>\n",
       "      <td>-0.211432</td>\n",
       "      <td>-0.053861</td>\n",
       "      <td>0.067972</td>\n",
       "      <td>-0.034567</td>\n",
       "      <td>-0.028637</td>\n",
       "      <td>0.039572</td>\n",
       "      <td>0.027683</td>\n",
       "      <td>-0.004114</td>\n",
       "      <td>-0.010486</td>\n",
       "      <td>0.009243</td>\n",
       "      <td>1</td>\n",
       "    </tr>\n",
       "    <tr>\n",
       "      <th>4</th>\n",
       "      <td>-0.003423</td>\n",
       "      <td>0.085860</td>\n",
       "      <td>-0.105848</td>\n",
       "      <td>-0.112036</td>\n",
       "      <td>0.004150</td>\n",
       "      <td>0.062464</td>\n",
       "      <td>-0.062037</td>\n",
       "      <td>0.003460</td>\n",
       "      <td>-0.016332</td>\n",
       "      <td>0.011738</td>\n",
       "      <td>0</td>\n",
       "    </tr>\n",
       "    <tr>\n",
       "      <th>...</th>\n",
       "      <td>...</td>\n",
       "      <td>...</td>\n",
       "      <td>...</td>\n",
       "      <td>...</td>\n",
       "      <td>...</td>\n",
       "      <td>...</td>\n",
       "      <td>...</td>\n",
       "      <td>...</td>\n",
       "      <td>...</td>\n",
       "      <td>...</td>\n",
       "      <td>...</td>\n",
       "    </tr>\n",
       "    <tr>\n",
       "      <th>1039</th>\n",
       "      <td>-0.005607</td>\n",
       "      <td>0.118302</td>\n",
       "      <td>-0.028167</td>\n",
       "      <td>-0.026576</td>\n",
       "      <td>-0.032772</td>\n",
       "      <td>0.030762</td>\n",
       "      <td>-0.025911</td>\n",
       "      <td>0.003140</td>\n",
       "      <td>-0.029379</td>\n",
       "      <td>0.007283</td>\n",
       "      <td>0</td>\n",
       "    </tr>\n",
       "    <tr>\n",
       "      <th>1040</th>\n",
       "      <td>-0.190407</td>\n",
       "      <td>-0.028638</td>\n",
       "      <td>-0.006787</td>\n",
       "      <td>0.079153</td>\n",
       "      <td>0.041379</td>\n",
       "      <td>-0.022013</td>\n",
       "      <td>0.013452</td>\n",
       "      <td>0.002749</td>\n",
       "      <td>-0.003164</td>\n",
       "      <td>0.003389</td>\n",
       "      <td>0</td>\n",
       "    </tr>\n",
       "    <tr>\n",
       "      <th>1041</th>\n",
       "      <td>-0.072759</td>\n",
       "      <td>0.099734</td>\n",
       "      <td>0.003553</td>\n",
       "      <td>0.063838</td>\n",
       "      <td>-0.090179</td>\n",
       "      <td>0.134129</td>\n",
       "      <td>-0.002537</td>\n",
       "      <td>-0.085959</td>\n",
       "      <td>-0.016442</td>\n",
       "      <td>-0.030444</td>\n",
       "      <td>0</td>\n",
       "    </tr>\n",
       "    <tr>\n",
       "      <th>1042</th>\n",
       "      <td>0.247189</td>\n",
       "      <td>-0.174395</td>\n",
       "      <td>-0.028633</td>\n",
       "      <td>0.053885</td>\n",
       "      <td>0.037794</td>\n",
       "      <td>-0.032032</td>\n",
       "      <td>0.012791</td>\n",
       "      <td>-0.041836</td>\n",
       "      <td>-0.003896</td>\n",
       "      <td>-0.042167</td>\n",
       "      <td>0</td>\n",
       "    </tr>\n",
       "    <tr>\n",
       "      <th>1043</th>\n",
       "      <td>0.218265</td>\n",
       "      <td>-0.152952</td>\n",
       "      <td>-0.030583</td>\n",
       "      <td>-0.017196</td>\n",
       "      <td>-0.045408</td>\n",
       "      <td>0.065699</td>\n",
       "      <td>-0.003239</td>\n",
       "      <td>0.026815</td>\n",
       "      <td>-0.026753</td>\n",
       "      <td>-0.026454</td>\n",
       "      <td>0</td>\n",
       "    </tr>\n",
       "  </tbody>\n",
       "</table>\n",
       "<p>1044 rows × 11 columns</p>\n",
       "</div>"
      ],
      "text/plain": [
       "           pc1       pc2       pc3       pc4       pc5       pc6       pc7  \\\n",
       "0     0.133842  0.283697 -0.067985 -0.079052  0.128798  0.018826 -0.005779   \n",
       "1     0.134529  0.287312 -0.122219  0.015823 -0.000697 -0.008242  0.011128   \n",
       "2     0.128834 -0.042732 -0.129686  0.008777 -0.021515  0.021404  0.022562   \n",
       "3    -0.211432 -0.053861  0.067972 -0.034567 -0.028637  0.039572  0.027683   \n",
       "4    -0.003423  0.085860 -0.105848 -0.112036  0.004150  0.062464 -0.062037   \n",
       "...        ...       ...       ...       ...       ...       ...       ...   \n",
       "1039 -0.005607  0.118302 -0.028167 -0.026576 -0.032772  0.030762 -0.025911   \n",
       "1040 -0.190407 -0.028638 -0.006787  0.079153  0.041379 -0.022013  0.013452   \n",
       "1041 -0.072759  0.099734  0.003553  0.063838 -0.090179  0.134129 -0.002537   \n",
       "1042  0.247189 -0.174395 -0.028633  0.053885  0.037794 -0.032032  0.012791   \n",
       "1043  0.218265 -0.152952 -0.030583 -0.017196 -0.045408  0.065699 -0.003239   \n",
       "\n",
       "           pc8       pc9      pc10  romantic_yes  \n",
       "0     0.018085  0.012935  0.004488             0  \n",
       "1     0.052255 -0.016777  0.063424             0  \n",
       "2     0.005734 -0.049978  0.029722             0  \n",
       "3    -0.004114 -0.010486  0.009243             1  \n",
       "4     0.003460 -0.016332  0.011738             0  \n",
       "...        ...       ...       ...           ...  \n",
       "1039  0.003140 -0.029379  0.007283             0  \n",
       "1040  0.002749 -0.003164  0.003389             0  \n",
       "1041 -0.085959 -0.016442 -0.030444             0  \n",
       "1042 -0.041836 -0.003896 -0.042167             0  \n",
       "1043  0.026815 -0.026753 -0.026454             0  \n",
       "\n",
       "[1044 rows x 11 columns]"
      ]
     },
     "execution_count": 192,
     "metadata": {},
     "output_type": "execute_result"
    }
   ],
   "source": [
    "pca_df = pd.concat([principalDf,df_dummies.romantic_yes],axis =1)\n",
    "pca_df"
   ]
  },
  {
   "cell_type": "code",
   "execution_count": 193,
   "metadata": {},
   "outputs": [
    {
     "data": {
      "text/plain": [
       "<matplotlib.axes._subplots.AxesSubplot at 0x7f9eb818ce50>"
      ]
     },
     "execution_count": 193,
     "metadata": {},
     "output_type": "execute_result"
    },
    {
     "data": {
      "image/png": "[encoded data removed]",
      "text/plain": [
       "<Figure size 576x396 with 1 Axes>"
      ]
     },
     "metadata": {},
     "output_type": "display_data"
    }
   ],
   "source": [
    "sns.scatterplot(x = \"pc1\", y = \"pc2\", data = pca_df, hue = \"romantic_yes\")  "
   ]
  },
  {
   "cell_type": "markdown",
   "metadata": {},
   "source": [
    "Nie widać widocznego podziału danych"
   ]
  },
  {
   "cell_type": "code",
   "execution_count": 195,
   "metadata": {},
   "outputs": [
    {
     "name": "stdout",
     "output_type": "stream",
     "text": [
      "Mediana AUC: 0.5931\n"
     ]
    }
   ],
   "source": [
    " _, _,_ = quick_auc_median(pca_df,13,\"romantic_yes\")"
   ]
  },
  {
   "cell_type": "code",
   "execution_count": 227,
   "metadata": {
    "scrolled": true
   },
   "outputs": [
    {
     "data": {
      "text/html": [
       "<div>\n",
       "<style scoped>\n",
       "    .dataframe tbody tr th:only-of-type {\n",
       "        vertical-align: middle;\n",
       "    }\n",
       "\n",
       "    .dataframe tbody tr th {\n",
       "        vertical-align: top;\n",
       "    }\n",
       "\n",
       "    .dataframe thead th {\n",
       "        text-align: right;\n",
       "    }\n",
       "</style>\n",
       "<table border=\"1\" class=\"dataframe\">\n",
       "  <thead>\n",
       "    <tr style=\"text-align: right;\">\n",
       "      <th></th>\n",
       "      <th>age</th>\n",
       "      <th>Medu</th>\n",
       "      <th>Fedu</th>\n",
       "      <th>traveltime</th>\n",
       "      <th>studytime</th>\n",
       "      <th>failures</th>\n",
       "      <th>famrel</th>\n",
       "      <th>freetime</th>\n",
       "      <th>goout</th>\n",
       "      <th>Dalc</th>\n",
       "      <th>Walc</th>\n",
       "      <th>health</th>\n",
       "      <th>absences</th>\n",
       "      <th>G1</th>\n",
       "      <th>G2</th>\n",
       "      <th>G3</th>\n",
       "      <th>school_MS</th>\n",
       "      <th>sex_M</th>\n",
       "      <th>address_U</th>\n",
       "      <th>famsize_LE3</th>\n",
       "      <th>Pstatus_T</th>\n",
       "      <th>Mjob_health</th>\n",
       "      <th>Mjob_other</th>\n",
       "      <th>Mjob_services</th>\n",
       "      <th>Mjob_teacher</th>\n",
       "      <th>Fjob_health</th>\n",
       "      <th>Fjob_other</th>\n",
       "      <th>Fjob_services</th>\n",
       "      <th>Fjob_teacher</th>\n",
       "      <th>reason_home</th>\n",
       "      <th>reason_other</th>\n",
       "      <th>reason_reputation</th>\n",
       "      <th>guardian_mother</th>\n",
       "      <th>guardian_other</th>\n",
       "      <th>schoolsup_yes</th>\n",
       "      <th>famsup_yes</th>\n",
       "      <th>paid_yes</th>\n",
       "      <th>activities_yes</th>\n",
       "      <th>nursery_yes</th>\n",
       "      <th>higher_yes</th>\n",
       "      <th>internet_yes</th>\n",
       "      <th>romantic_yes</th>\n",
       "      <th>major_por</th>\n",
       "      <th>WeekandEnd</th>\n",
       "      <th>WeirdDrinker</th>\n",
       "    </tr>\n",
       "  </thead>\n",
       "  <tbody>\n",
       "    <tr>\n",
       "      <th>0</th>\n",
       "      <td>18</td>\n",
       "      <td>4</td>\n",
       "      <td>4</td>\n",
       "      <td>2</td>\n",
       "      <td>2</td>\n",
       "      <td>0</td>\n",
       "      <td>4</td>\n",
       "      <td>3</td>\n",
       "      <td>4</td>\n",
       "      <td>1</td>\n",
       "      <td>1</td>\n",
       "      <td>3</td>\n",
       "      <td>1.945910</td>\n",
       "      <td>5</td>\n",
       "      <td>6</td>\n",
       "      <td>6</td>\n",
       "      <td>0</td>\n",
       "      <td>0</td>\n",
       "      <td>1</td>\n",
       "      <td>0</td>\n",
       "      <td>0</td>\n",
       "      <td>0</td>\n",
       "      <td>0</td>\n",
       "      <td>0</td>\n",
       "      <td>0</td>\n",
       "      <td>0</td>\n",
       "      <td>0</td>\n",
       "      <td>0</td>\n",
       "      <td>1</td>\n",
       "      <td>0</td>\n",
       "      <td>0</td>\n",
       "      <td>0</td>\n",
       "      <td>1</td>\n",
       "      <td>0</td>\n",
       "      <td>1</td>\n",
       "      <td>0</td>\n",
       "      <td>0</td>\n",
       "      <td>0</td>\n",
       "      <td>1</td>\n",
       "      <td>1</td>\n",
       "      <td>0</td>\n",
       "      <td>0</td>\n",
       "      <td>0</td>\n",
       "      <td>1</td>\n",
       "      <td>0</td>\n",
       "    </tr>\n",
       "    <tr>\n",
       "      <th>1</th>\n",
       "      <td>17</td>\n",
       "      <td>1</td>\n",
       "      <td>1</td>\n",
       "      <td>1</td>\n",
       "      <td>2</td>\n",
       "      <td>0</td>\n",
       "      <td>5</td>\n",
       "      <td>3</td>\n",
       "      <td>3</td>\n",
       "      <td>1</td>\n",
       "      <td>1</td>\n",
       "      <td>3</td>\n",
       "      <td>1.609438</td>\n",
       "      <td>5</td>\n",
       "      <td>5</td>\n",
       "      <td>6</td>\n",
       "      <td>0</td>\n",
       "      <td>0</td>\n",
       "      <td>1</td>\n",
       "      <td>0</td>\n",
       "      <td>1</td>\n",
       "      <td>0</td>\n",
       "      <td>0</td>\n",
       "      <td>0</td>\n",
       "      <td>0</td>\n",
       "      <td>0</td>\n",
       "      <td>1</td>\n",
       "      <td>0</td>\n",
       "      <td>0</td>\n",
       "      <td>0</td>\n",
       "      <td>0</td>\n",
       "      <td>0</td>\n",
       "      <td>0</td>\n",
       "      <td>0</td>\n",
       "      <td>0</td>\n",
       "      <td>1</td>\n",
       "      <td>0</td>\n",
       "      <td>0</td>\n",
       "      <td>0</td>\n",
       "      <td>1</td>\n",
       "      <td>1</td>\n",
       "      <td>0</td>\n",
       "      <td>0</td>\n",
       "      <td>1</td>\n",
       "      <td>0</td>\n",
       "    </tr>\n",
       "    <tr>\n",
       "      <th>2</th>\n",
       "      <td>15</td>\n",
       "      <td>1</td>\n",
       "      <td>1</td>\n",
       "      <td>1</td>\n",
       "      <td>2</td>\n",
       "      <td>3</td>\n",
       "      <td>4</td>\n",
       "      <td>3</td>\n",
       "      <td>2</td>\n",
       "      <td>2</td>\n",
       "      <td>3</td>\n",
       "      <td>3</td>\n",
       "      <td>2.397895</td>\n",
       "      <td>7</td>\n",
       "      <td>8</td>\n",
       "      <td>10</td>\n",
       "      <td>0</td>\n",
       "      <td>0</td>\n",
       "      <td>1</td>\n",
       "      <td>1</td>\n",
       "      <td>1</td>\n",
       "      <td>0</td>\n",
       "      <td>0</td>\n",
       "      <td>0</td>\n",
       "      <td>0</td>\n",
       "      <td>0</td>\n",
       "      <td>1</td>\n",
       "      <td>0</td>\n",
       "      <td>0</td>\n",
       "      <td>0</td>\n",
       "      <td>1</td>\n",
       "      <td>0</td>\n",
       "      <td>1</td>\n",
       "      <td>0</td>\n",
       "      <td>1</td>\n",
       "      <td>0</td>\n",
       "      <td>1</td>\n",
       "      <td>0</td>\n",
       "      <td>1</td>\n",
       "      <td>1</td>\n",
       "      <td>1</td>\n",
       "      <td>0</td>\n",
       "      <td>0</td>\n",
       "      <td>6</td>\n",
       "      <td>0</td>\n",
       "    </tr>\n",
       "    <tr>\n",
       "      <th>3</th>\n",
       "      <td>15</td>\n",
       "      <td>4</td>\n",
       "      <td>2</td>\n",
       "      <td>1</td>\n",
       "      <td>3</td>\n",
       "      <td>0</td>\n",
       "      <td>3</td>\n",
       "      <td>2</td>\n",
       "      <td>2</td>\n",
       "      <td>1</td>\n",
       "      <td>1</td>\n",
       "      <td>5</td>\n",
       "      <td>1.098612</td>\n",
       "      <td>15</td>\n",
       "      <td>14</td>\n",
       "      <td>15</td>\n",
       "      <td>0</td>\n",
       "      <td>0</td>\n",
       "      <td>1</td>\n",
       "      <td>0</td>\n",
       "      <td>1</td>\n",
       "      <td>1</td>\n",
       "      <td>0</td>\n",
       "      <td>0</td>\n",
       "      <td>0</td>\n",
       "      <td>0</td>\n",
       "      <td>0</td>\n",
       "      <td>1</td>\n",
       "      <td>0</td>\n",
       "      <td>1</td>\n",
       "      <td>0</td>\n",
       "      <td>0</td>\n",
       "      <td>1</td>\n",
       "      <td>0</td>\n",
       "      <td>0</td>\n",
       "      <td>1</td>\n",
       "      <td>1</td>\n",
       "      <td>1</td>\n",
       "      <td>1</td>\n",
       "      <td>1</td>\n",
       "      <td>1</td>\n",
       "      <td>1</td>\n",
       "      <td>0</td>\n",
       "      <td>1</td>\n",
       "      <td>0</td>\n",
       "    </tr>\n",
       "    <tr>\n",
       "      <th>4</th>\n",
       "      <td>16</td>\n",
       "      <td>3</td>\n",
       "      <td>3</td>\n",
       "      <td>1</td>\n",
       "      <td>2</td>\n",
       "      <td>0</td>\n",
       "      <td>4</td>\n",
       "      <td>3</td>\n",
       "      <td>2</td>\n",
       "      <td>1</td>\n",
       "      <td>2</td>\n",
       "      <td>5</td>\n",
       "      <td>1.609438</td>\n",
       "      <td>6</td>\n",
       "      <td>10</td>\n",
       "      <td>10</td>\n",
       "      <td>0</td>\n",
       "      <td>0</td>\n",
       "      <td>1</td>\n",
       "      <td>0</td>\n",
       "      <td>1</td>\n",
       "      <td>0</td>\n",
       "      <td>1</td>\n",
       "      <td>0</td>\n",
       "      <td>0</td>\n",
       "      <td>0</td>\n",
       "      <td>1</td>\n",
       "      <td>0</td>\n",
       "      <td>0</td>\n",
       "      <td>1</td>\n",
       "      <td>0</td>\n",
       "      <td>0</td>\n",
       "      <td>0</td>\n",
       "      <td>0</td>\n",
       "      <td>0</td>\n",
       "      <td>1</td>\n",
       "      <td>1</td>\n",
       "      <td>0</td>\n",
       "      <td>1</td>\n",
       "      <td>1</td>\n",
       "      <td>0</td>\n",
       "      <td>0</td>\n",
       "      <td>0</td>\n",
       "      <td>2</td>\n",
       "      <td>0</td>\n",
       "    </tr>\n",
       "  </tbody>\n",
       "</table>\n",
       "</div>"
      ],
      "text/plain": [
       "   age  Medu  Fedu  traveltime  studytime  failures  famrel  freetime  goout  \\\n",
       "0   18     4     4           2          2         0       4         3      4   \n",
       "1   17     1     1           1          2         0       5         3      3   \n",
       "2   15     1     1           1          2         3       4         3      2   \n",
       "3   15     4     2           1          3         0       3         2      2   \n",
       "4   16     3     3           1          2         0       4         3      2   \n",
       "\n",
       "   Dalc  Walc  health  absences  G1  G2  G3  school_MS  sex_M  address_U  \\\n",
       "0     1     1       3  1.945910   5   6   6          0      0          1   \n",
       "1     1     1       3  1.609438   5   5   6          0      0          1   \n",
       "2     2     3       3  2.397895   7   8  10          0      0          1   \n",
       "3     1     1       5  1.098612  15  14  15          0      0          1   \n",
       "4     1     2       5  1.609438   6  10  10          0      0          1   \n",
       "\n",
       "   famsize_LE3  Pstatus_T  Mjob_health  Mjob_other  Mjob_services  \\\n",
       "0            0          0            0           0              0   \n",
       "1            0          1            0           0              0   \n",
       "2            1          1            0           0              0   \n",
       "3            0          1            1           0              0   \n",
       "4            0          1            0           1              0   \n",
       "\n",
       "   Mjob_teacher  Fjob_health  Fjob_other  Fjob_services  Fjob_teacher  \\\n",
       "0             0            0           0              0             1   \n",
       "1             0            0           1              0             0   \n",
       "2             0            0           1              0             0   \n",
       "3             0            0           0              1             0   \n",
       "4             0            0           1              0             0   \n",
       "\n",
       "   reason_home  reason_other  reason_reputation  guardian_mother  \\\n",
       "0            0             0                  0                1   \n",
       "1            0             0                  0                0   \n",
       "2            0             1                  0                1   \n",
       "3            1             0                  0                1   \n",
       "4            1             0                  0                0   \n",
       "\n",
       "   guardian_other  schoolsup_yes  famsup_yes  paid_yes  activities_yes  \\\n",
       "0               0              1           0         0               0   \n",
       "1               0              0           1         0               0   \n",
       "2               0              1           0         1               0   \n",
       "3               0              0           1         1               1   \n",
       "4               0              0           1         1               0   \n",
       "\n",
       "   nursery_yes  higher_yes  internet_yes  romantic_yes  major_por  WeekandEnd  \\\n",
       "0            1           1             0             0          0           1   \n",
       "1            0           1             1             0          0           1   \n",
       "2            1           1             1             0          0           6   \n",
       "3            1           1             1             1          0           1   \n",
       "4            1           1             0             0          0           2   \n",
       "\n",
       "   WeirdDrinker  \n",
       "0             0  \n",
       "1             0  \n",
       "2             0  \n",
       "3             0  \n",
       "4             0  "
      ]
     },
     "execution_count": 227,
     "metadata": {},
     "output_type": "execute_result"
    }
   ],
   "source": [
    "df.head()"
   ]
  },
  {
   "cell_type": "markdown",
   "metadata": {},
   "source": [
    "Czyli najlepsze, bo ok 77% dostaliśmy accuracy modelu z kilkoma dodatkowymi kolumnami. Co jeszcze warto przemyśleć? Standaryzację zmiennych, jaki ma efekt dla modelu (dla tego powinien mieć żaden), na koniec projektu przemyślimy kilka modeli - drzewiaste, sieć nauronową oraz być może k średich. "
   ]
  },
  {
   "cell_type": "code",
   "execution_count": null,
   "metadata": {},
   "outputs": [],
   "source": []
  }
 ],
 "metadata": {
  "kernelspec": {
   "display_name": "Python 3",
   "language": "python",
   "name": "python3"
  },
  "language_info": {
   "codemirror_mode": {
    "name": "ipython",
    "version": 3
   },
   "file_extension": ".py",
   "mimetype": "text/x-python",
   "name": "python",
   "nbconvert_exporter": "python",
   "pygments_lexer": "ipython3",
   "version": "3.7.6"
  }
 },
 "nbformat": 4,
 "nbformat_minor": 2
}
