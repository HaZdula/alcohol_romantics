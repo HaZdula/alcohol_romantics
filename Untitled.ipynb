{
 "cells": [
  {
   "cell_type": "code",
   "execution_count": 6,
   "metadata": {},
   "outputs": [],
   "source": [
    "from __future__ import print_function\n",
    "import pickle\n",
    "import os.path\n",
    "from googleapiclient.discovery import build\n",
    "from google_auth_oauthlib.flow import InstalledAppFlow\n",
    "from google.auth.transport.requests import Request"
   ]
  },
  {
   "cell_type": "code",
   "execution_count": 13,
   "metadata": {},
   "outputs": [],
   "source": [
    "SAMPLE_SPREADSHEET_ID = '130UfW919YdY1MT9x81JRY3UiSjYdsm2ydxBpVq2_zJM'\n",
    "SAMPLE_RANGE_NAME = 'A1:D21'\n",
    "\n",
    "key="
   ]
  },
  {
   "cell_type": "code",
   "execution_count": 10,
   "metadata": {},
   "outputs": [],
   "source": [
    "service = build('sheets', 'v4', developerKey=key)\n",
    "sheet = service.spreadsheets()"
   ]
  },
  {
   "cell_type": "code",
   "execution_count": 14,
   "metadata": {},
   "outputs": [],
   "source": [
    "result = sheet.values().get(spreadsheetId=SAMPLE_SPREADSHEET_ID,\n",
    "                                range=SAMPLE_RANGE_NAME).execute()\n",
    "values = result.get('values', [])"
   ]
  },
  {
   "cell_type": "code",
   "execution_count": 15,
   "metadata": {},
   "outputs": [
    {
     "data": {
      "text/plain": [
       "[['Sygnatura czasowa', 'lubisz pierogi? ', 'Ale na pewno?'],\n",
       " ['2020-04-18 19:14:29', 'Tak', 'No pewka'],\n",
       " ['2020-04-18 19:14:35', 'Nie', 'no dobra, tak serio to nie...'],\n",
       " ['2020-04-18 19:14:39', 'Tak', 'no dobra, tak serio to nie...'],\n",
       " ['2020-04-18 19:14:42', 'Tak', 'no dobra, tak serio to nie...'],\n",
       " ['2020-04-18 19:14:43', 'Nie', 'No pewka'],\n",
       " ['2020-04-18 19:14:47', 'Tak', 'no dobra, tak serio to nie...'],\n",
       " ['2020-04-18 19:14:50', 'Tak', 'No pewka'],\n",
       " ['2020-04-18 19:14:50', 'Nie', 'No pewka'],\n",
       " ['2020-04-18 19:14:53', 'Nie', 'no dobra, tak serio to nie...'],\n",
       " ['2020-04-18 19:14:57', 'Nie', 'no dobra, tak serio to nie...'],\n",
       " ['2020-04-18 19:15:01', 'Tak', 'no dobra, tak serio to nie...'],\n",
       " ['2020-04-18 19:19:36', 'Tak', 'No pewka']]"
      ]
     },
     "execution_count": 15,
     "metadata": {},
     "output_type": "execute_result"
    }
   ],
   "source": [
    "values"
   ]
  }
 ],
 "metadata": {
  "kernelspec": {
   "display_name": "Python 3.7.1 64-bit ('3.7.1': pyenv)",
   "language": "python",
   "name": "python37164bit371pyenv8b58cff780124c0e86c6832805abcd0c"
  },
  "language_info": {
   "codemirror_mode": {
    "name": "ipython",
    "version": 3
   },
   "file_extension": ".py",
   "mimetype": "text/x-python",
   "name": "python",
   "nbconvert_exporter": "python",
   "pygments_lexer": "ipython3",
   "version": "3.7.1"
  }
 },
 "nbformat": 4,
 "nbformat_minor": 4
}
