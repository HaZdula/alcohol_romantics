{
 "cells": [
  {
   "cell_type": "code",
   "execution_count": 1,
   "metadata": {},
   "outputs": [],
   "source": [
    "from __future__ import print_function\n",
    "import pickle\n",
    "import os.path\n",
    "from googleapiclient.discovery import build\n",
    "from google_auth_oauthlib.flow import InstalledAppFlow\n",
    "from google.auth.transport.requests import Request\n",
    "from googleapiclient import errors"
   ]
  },
  {
   "cell_type": "code",
   "execution_count": 3,
   "metadata": {},
   "outputs": [
    {
     "ename": "SyntaxError",
     "evalue": "invalid syntax (<ipython-input-3-21ccb0140ff7>, line 3)",
     "output_type": "error",
     "traceback": [
      "\u001b[0;36m  File \u001b[0;32m\"<ipython-input-3-21ccb0140ff7>\"\u001b[0;36m, line \u001b[0;32m3\u001b[0m\n\u001b[0;31m    import \"cred.py\"\u001b[0m\n\u001b[0m                   ^\u001b[0m\n\u001b[0;31mSyntaxError\u001b[0m\u001b[0;31m:\u001b[0m invalid syntax\n"
     ]
    }
   ],
   "source": [
    "SAMPLE_SPREADSHEET_ID = '130UfW919YdY1MT9x81JRY3UiSjYdsm2ydxBpVq2_zJM'\n",
    "\n",
    "import \"cred.py\""
   ]
  },
  {
   "cell_type": "code",
   "execution_count": 3,
   "metadata": {},
   "outputs": [],
   "source": [
    "service = build('sheets', 'v4', developerKey=key)\n",
    "sheet = service.spreadsheets()"
   ]
  },
  {
   "cell_type": "code",
   "execution_count": 4,
   "metadata": {},
   "outputs": [],
   "source": [
    "SAMPLE_RANGE_NAME = 'A1:D210'\n",
    "result = sheet.values().get(spreadsheetId=SAMPLE_SPREADSHEET_ID,\n",
    "                                range=SAMPLE_RANGE_NAME).execute()\n",
    "values = result.get('values', [])"
   ]
  },
  {
   "cell_type": "code",
   "execution_count": 5,
   "metadata": {},
   "outputs": [
    {
     "data": {
      "text/plain": [
       "[['Sygnatura czasowa', 'Sex', 'Family size', 'Age'],\n",
       " ['2020-04-18 22:36:19', 'Male', 'Less or equal than 3', '19'],\n",
       " [],\n",
       " [],\n",
       " [],\n",
       " [],\n",
       " [],\n",
       " [],\n",
       " [],\n",
       " [],\n",
       " [],\n",
       " [],\n",
       " [],\n",
       " [],\n",
       " ['2020-04-18 22:40:00', 'Female', 'more than 3', '24']]"
      ]
     },
     "execution_count": 5,
     "metadata": {},
     "output_type": "execute_result"
    }
   ],
   "source": [
    "values"
   ]
  },
  {
   "cell_type": "code",
   "execution_count": null,
   "metadata": {},
   "outputs": [],
   "source": []
  },
  {
   "cell_type": "code",
   "execution_count": 48,
   "metadata": {},
   "outputs": [
    {
     "data": {
      "text/plain": [
       "(221, b'2.0.0 closing connection h22sm20635526ljl.96 - gsmtp')"
      ]
     },
     "execution_count": 48,
     "metadata": {},
     "output_type": "execute_result"
    }
   ],
   "source": [
    "import smtplib\n",
    "from email.mime.text import MIMEText\n",
    "from email.mime.multipart import MIMEMultipart\n",
    "\n",
    "email = \"AlcoholRomantics@gmail.com\"\n",
    "password = \"Fajny!Alkohol0\"\n",
    "send_to_email = \"michal@bijata.com\"\n",
    "subject = \"Nowa wspaniała przyszłość\"\n",
    "message = \"już teraz!\"\n",
    "\n",
    "msg = MIMEMultipart()\n",
    "msg[\"From\"] = email\n",
    "msg[\"To\"] = send_to_email\n",
    "msg[\"Subject\"] = subject\n",
    "\n",
    "msg.attach(MIMEText(message, 'plain'))\n",
    "\n",
    "server = smtplib.SMTP(\"smtp.gmail.com\", 587)\n",
    "server.starttls()\n",
    "server.login(email, password)\n",
    "text = msg.as_string()\n",
    "server.sendmail(email, send_to_email, text)\n",
    "server.quit()"
   ]
  },
  {
   "cell_type": "code",
   "execution_count": 57,
   "metadata": {},
   "outputs": [],
   "source": [
    "def send_response(nick, send_to_email, result, prob):\n",
    "    email = \"AlcoholRomantics@gmail.com\"\n",
    "    password = \"Fajny!Alkohol0\"\n",
    "\n",
    "    subject = \"Student, do you have partner?\"\n",
    "    message = 'Hi, {}'.format(nick)\n",
    "    message += \"\\n\\nThank you for participating in our survey! Here are your results: \"\n",
    "\n",
    "    if result == 0:\n",
    "        message += '\\nForever alone'\n",
    "    else:\n",
    "        message += '\\nYou have partner!'\n",
    "        \n",
    "    message += '\\n\\nThis result was predicted by machine learning model trained on Student Alcohol Consumption dataset from University Of Camerino'\n",
    "    message += '\\nYour probability of beeing in romantic relationship is: {}'.format(prob)\n",
    "    \n",
    "    message += '\\n\\nSee you next time!'\n",
    "    \n",
    "    msg = MIMEMultipart()\n",
    "    msg[\"From\"] = email\n",
    "    msg[\"To\"] = send_to_email\n",
    "    msg[\"Subject\"] = subject\n",
    "\n",
    "    msg.attach(MIMEText(message, 'plain'))\n",
    "\n",
    "    server = smtplib.SMTP(\"smtp.gmail.com\", 587)\n",
    "    server.starttls()\n",
    "    server.login(email, password)\n",
    "    text = msg.as_string()\n",
    "    server.sendmail(email, send_to_email, text)\n",
    "    server.quit()\n",
    "    \n",
    "    return"
   ]
  },
  {
   "cell_type": "code",
   "execution_count": 58,
   "metadata": {},
   "outputs": [],
   "source": [
    "send_response('HANIAiKUBA', 'AlcoholRomantics@gmail.com', 1, 0.8)"
   ]
  }
 ],
 "metadata": {
  "kernelspec": {
   "display_name": "Python 3.7.1 64-bit ('3.7.1': pyenv)",
   "language": "python",
   "name": "python37164bit371pyenv8b58cff780124c0e86c6832805abcd0c"
  },
  "language_info": {
   "codemirror_mode": {
    "name": "ipython",
    "version": 3
   },
   "file_extension": ".py",
   "mimetype": "text/x-python",
   "name": "python",
   "nbconvert_exporter": "python",
   "pygments_lexer": "ipython3",
   "version": "3.7.1"
  }
 },
 "nbformat": 4,
 "nbformat_minor": 4
}
