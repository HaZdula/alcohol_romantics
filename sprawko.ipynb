{
 "cells": [
  {
   "cell_type": "code",
   "execution_count": 4,
   "metadata": {},
   "outputs": [],
   "source": [
    "import pandas as pd \n",
    "import numpy as np \n",
    "import matplotlib.pyplot as plt\n",
    "import seaborn as sns\n",
    "from pandas_profiling import ProfileReport\n",
    "from scipy.io import arff\n",
    "import xgboost as xgb\n",
    "\n",
    "from sklearn.model_selection import KFold, train_test_split, GridSearchCV, cross_val_score\n",
    "from sklearn.linear_model import LogisticRegression, LinearRegression, SGDClassifier\n",
    "from sklearn.neighbors import KNeighborsClassifier\n",
    "from sklearn.preprocessing import scale\n",
    "from sklearn.metrics import accuracy_score, roc_auc_score, classification_report, recall_score, precision_score, plot_precision_recall_curve, mean_squared_error, r2_score, plot_confusion_matrix, plot_roc_curve, plot_precision_recall_curve\n",
    "import category_encoders as ce\n",
    "from sklearn.neural_network import MLPClassifier\n",
    "from sklearn.decomposition import PCA\n",
    "from sklearn import preprocessing\n",
    "from sklearn import metrics\n",
    "\n",
    "from sklearn.ensemble import AdaBoostClassifier, BaggingClassifier, ExtraTreesClassifier, RandomForestClassifier, GradientBoostingClassifier\n",
    "from xgboost import XGBClassifier, XGBRFClassifier\n",
    "from sklearn.svm import SVC\n",
    "\n",
    "from skopt import BayesSearchCV, plots\n",
    "\n",
    "from google.auth.transport.requests import Request\n",
    "from google_auth_oauthlib.flow import InstalledAppFlow\n",
    "from googleapiclient.discovery import build\n",
    "\n",
    "from time import sleep \n",
    "\n",
    "import smtplib\n",
    "from email.mime.text import MIMEText\n",
    "from email.mime.multipart import MIMEMultipart\n",
    "\n",
    "from watcher import entries_processed\n",
    "\n",
    "import warnings\n",
    "warnings.filterwarnings('ignore')\n",
    "\n",
    "pd.options.display.max_columns = None\n",
    "\n",
    "np.random.seed(123)\n",
    "\n",
    "#import credencials\n",
    "from cred import key, email, password"
   ]
  },
  {
   "cell_type": "markdown",
   "metadata": {},
   "source": [
    "# Data preprocessing"
   ]
  },
  {
   "cell_type": "markdown",
   "metadata": {},
   "source": [
    "## Wczytanie danych"
   ]
  },
  {
   "cell_type": "code",
   "execution_count": 5,
   "metadata": {},
   "outputs": [],
   "source": [
    "df = pd.read_csv(\"students-all.csv\")\n",
    "# remove rownames\n",
    "df = df.iloc[:,1:]"
   ]
  },
  {
   "cell_type": "code",
   "execution_count": 6,
   "metadata": {},
   "outputs": [
    {
     "data": {
      "text/html": [
       "<div>\n",
       "<style scoped>\n",
       "    .dataframe tbody tr th:only-of-type {\n",
       "        vertical-align: middle;\n",
       "    }\n",
       "\n",
       "    .dataframe tbody tr th {\n",
       "        vertical-align: top;\n",
       "    }\n",
       "\n",
       "    .dataframe thead th {\n",
       "        text-align: right;\n",
       "    }\n",
       "</style>\n",
       "<table border=\"1\" class=\"dataframe\">\n",
       "  <thead>\n",
       "    <tr style=\"text-align: right;\">\n",
       "      <th></th>\n",
       "      <th>age</th>\n",
       "      <th>Medu</th>\n",
       "      <th>Fedu</th>\n",
       "      <th>traveltime</th>\n",
       "      <th>studytime</th>\n",
       "      <th>failures</th>\n",
       "      <th>famrel</th>\n",
       "      <th>freetime</th>\n",
       "      <th>goout</th>\n",
       "      <th>Dalc</th>\n",
       "      <th>Walc</th>\n",
       "      <th>health</th>\n",
       "      <th>absences</th>\n",
       "      <th>G1</th>\n",
       "      <th>G2</th>\n",
       "      <th>G3</th>\n",
       "      <th>school_MS</th>\n",
       "      <th>sex_M</th>\n",
       "      <th>address_U</th>\n",
       "      <th>famsize_LE3</th>\n",
       "      <th>Pstatus_T</th>\n",
       "      <th>Mjob_health</th>\n",
       "      <th>Mjob_other</th>\n",
       "      <th>Mjob_services</th>\n",
       "      <th>Mjob_teacher</th>\n",
       "      <th>Fjob_health</th>\n",
       "      <th>Fjob_other</th>\n",
       "      <th>Fjob_services</th>\n",
       "      <th>Fjob_teacher</th>\n",
       "      <th>reason_home</th>\n",
       "      <th>reason_other</th>\n",
       "      <th>reason_reputation</th>\n",
       "      <th>guardian_mother</th>\n",
       "      <th>guardian_other</th>\n",
       "      <th>schoolsup_yes</th>\n",
       "      <th>famsup_yes</th>\n",
       "      <th>paid_yes</th>\n",
       "      <th>activities_yes</th>\n",
       "      <th>nursery_yes</th>\n",
       "      <th>higher_yes</th>\n",
       "      <th>internet_yes</th>\n",
       "      <th>romantic_yes</th>\n",
       "      <th>major_por</th>\n",
       "    </tr>\n",
       "  </thead>\n",
       "  <tbody>\n",
       "    <tr>\n",
       "      <th>0</th>\n",
       "      <td>18</td>\n",
       "      <td>4</td>\n",
       "      <td>4</td>\n",
       "      <td>2</td>\n",
       "      <td>2</td>\n",
       "      <td>0</td>\n",
       "      <td>4</td>\n",
       "      <td>3</td>\n",
       "      <td>4</td>\n",
       "      <td>1</td>\n",
       "      <td>1</td>\n",
       "      <td>3</td>\n",
       "      <td>6</td>\n",
       "      <td>5</td>\n",
       "      <td>6</td>\n",
       "      <td>6</td>\n",
       "      <td>0</td>\n",
       "      <td>0</td>\n",
       "      <td>1</td>\n",
       "      <td>0</td>\n",
       "      <td>0</td>\n",
       "      <td>0</td>\n",
       "      <td>0</td>\n",
       "      <td>0</td>\n",
       "      <td>0</td>\n",
       "      <td>0</td>\n",
       "      <td>0</td>\n",
       "      <td>0</td>\n",
       "      <td>1</td>\n",
       "      <td>0</td>\n",
       "      <td>0</td>\n",
       "      <td>0</td>\n",
       "      <td>1</td>\n",
       "      <td>0</td>\n",
       "      <td>1</td>\n",
       "      <td>0</td>\n",
       "      <td>0</td>\n",
       "      <td>0</td>\n",
       "      <td>1</td>\n",
       "      <td>1</td>\n",
       "      <td>0</td>\n",
       "      <td>0</td>\n",
       "      <td>0</td>\n",
       "    </tr>\n",
       "    <tr>\n",
       "      <th>1</th>\n",
       "      <td>17</td>\n",
       "      <td>1</td>\n",
       "      <td>1</td>\n",
       "      <td>1</td>\n",
       "      <td>2</td>\n",
       "      <td>0</td>\n",
       "      <td>5</td>\n",
       "      <td>3</td>\n",
       "      <td>3</td>\n",
       "      <td>1</td>\n",
       "      <td>1</td>\n",
       "      <td>3</td>\n",
       "      <td>4</td>\n",
       "      <td>5</td>\n",
       "      <td>5</td>\n",
       "      <td>6</td>\n",
       "      <td>0</td>\n",
       "      <td>0</td>\n",
       "      <td>1</td>\n",
       "      <td>0</td>\n",
       "      <td>1</td>\n",
       "      <td>0</td>\n",
       "      <td>0</td>\n",
       "      <td>0</td>\n",
       "      <td>0</td>\n",
       "      <td>0</td>\n",
       "      <td>1</td>\n",
       "      <td>0</td>\n",
       "      <td>0</td>\n",
       "      <td>0</td>\n",
       "      <td>0</td>\n",
       "      <td>0</td>\n",
       "      <td>0</td>\n",
       "      <td>0</td>\n",
       "      <td>0</td>\n",
       "      <td>1</td>\n",
       "      <td>0</td>\n",
       "      <td>0</td>\n",
       "      <td>0</td>\n",
       "      <td>1</td>\n",
       "      <td>1</td>\n",
       "      <td>0</td>\n",
       "      <td>0</td>\n",
       "    </tr>\n",
       "    <tr>\n",
       "      <th>2</th>\n",
       "      <td>15</td>\n",
       "      <td>1</td>\n",
       "      <td>1</td>\n",
       "      <td>1</td>\n",
       "      <td>2</td>\n",
       "      <td>3</td>\n",
       "      <td>4</td>\n",
       "      <td>3</td>\n",
       "      <td>2</td>\n",
       "      <td>2</td>\n",
       "      <td>3</td>\n",
       "      <td>3</td>\n",
       "      <td>10</td>\n",
       "      <td>7</td>\n",
       "      <td>8</td>\n",
       "      <td>10</td>\n",
       "      <td>0</td>\n",
       "      <td>0</td>\n",
       "      <td>1</td>\n",
       "      <td>1</td>\n",
       "      <td>1</td>\n",
       "      <td>0</td>\n",
       "      <td>0</td>\n",
       "      <td>0</td>\n",
       "      <td>0</td>\n",
       "      <td>0</td>\n",
       "      <td>1</td>\n",
       "      <td>0</td>\n",
       "      <td>0</td>\n",
       "      <td>0</td>\n",
       "      <td>1</td>\n",
       "      <td>0</td>\n",
       "      <td>1</td>\n",
       "      <td>0</td>\n",
       "      <td>1</td>\n",
       "      <td>0</td>\n",
       "      <td>1</td>\n",
       "      <td>0</td>\n",
       "      <td>1</td>\n",
       "      <td>1</td>\n",
       "      <td>1</td>\n",
       "      <td>0</td>\n",
       "      <td>0</td>\n",
       "    </tr>\n",
       "    <tr>\n",
       "      <th>3</th>\n",
       "      <td>15</td>\n",
       "      <td>4</td>\n",
       "      <td>2</td>\n",
       "      <td>1</td>\n",
       "      <td>3</td>\n",
       "      <td>0</td>\n",
       "      <td>3</td>\n",
       "      <td>2</td>\n",
       "      <td>2</td>\n",
       "      <td>1</td>\n",
       "      <td>1</td>\n",
       "      <td>5</td>\n",
       "      <td>2</td>\n",
       "      <td>15</td>\n",
       "      <td>14</td>\n",
       "      <td>15</td>\n",
       "      <td>0</td>\n",
       "      <td>0</td>\n",
       "      <td>1</td>\n",
       "      <td>0</td>\n",
       "      <td>1</td>\n",
       "      <td>1</td>\n",
       "      <td>0</td>\n",
       "      <td>0</td>\n",
       "      <td>0</td>\n",
       "      <td>0</td>\n",
       "      <td>0</td>\n",
       "      <td>1</td>\n",
       "      <td>0</td>\n",
       "      <td>1</td>\n",
       "      <td>0</td>\n",
       "      <td>0</td>\n",
       "      <td>1</td>\n",
       "      <td>0</td>\n",
       "      <td>0</td>\n",
       "      <td>1</td>\n",
       "      <td>1</td>\n",
       "      <td>1</td>\n",
       "      <td>1</td>\n",
       "      <td>1</td>\n",
       "      <td>1</td>\n",
       "      <td>1</td>\n",
       "      <td>0</td>\n",
       "    </tr>\n",
       "    <tr>\n",
       "      <th>4</th>\n",
       "      <td>16</td>\n",
       "      <td>3</td>\n",
       "      <td>3</td>\n",
       "      <td>1</td>\n",
       "      <td>2</td>\n",
       "      <td>0</td>\n",
       "      <td>4</td>\n",
       "      <td>3</td>\n",
       "      <td>2</td>\n",
       "      <td>1</td>\n",
       "      <td>2</td>\n",
       "      <td>5</td>\n",
       "      <td>4</td>\n",
       "      <td>6</td>\n",
       "      <td>10</td>\n",
       "      <td>10</td>\n",
       "      <td>0</td>\n",
       "      <td>0</td>\n",
       "      <td>1</td>\n",
       "      <td>0</td>\n",
       "      <td>1</td>\n",
       "      <td>0</td>\n",
       "      <td>1</td>\n",
       "      <td>0</td>\n",
       "      <td>0</td>\n",
       "      <td>0</td>\n",
       "      <td>1</td>\n",
       "      <td>0</td>\n",
       "      <td>0</td>\n",
       "      <td>1</td>\n",
       "      <td>0</td>\n",
       "      <td>0</td>\n",
       "      <td>0</td>\n",
       "      <td>0</td>\n",
       "      <td>0</td>\n",
       "      <td>1</td>\n",
       "      <td>1</td>\n",
       "      <td>0</td>\n",
       "      <td>1</td>\n",
       "      <td>1</td>\n",
       "      <td>0</td>\n",
       "      <td>0</td>\n",
       "      <td>0</td>\n",
       "    </tr>\n",
       "  </tbody>\n",
       "</table>\n",
       "</div>"
      ],
      "text/plain": [
       "   age  Medu  Fedu  traveltime  studytime  failures  famrel  freetime  goout  \\\n",
       "0   18     4     4           2          2         0       4         3      4   \n",
       "1   17     1     1           1          2         0       5         3      3   \n",
       "2   15     1     1           1          2         3       4         3      2   \n",
       "3   15     4     2           1          3         0       3         2      2   \n",
       "4   16     3     3           1          2         0       4         3      2   \n",
       "\n",
       "   Dalc  Walc  health  absences  G1  G2  G3  school_MS  sex_M  address_U  \\\n",
       "0     1     1       3         6   5   6   6          0      0          1   \n",
       "1     1     1       3         4   5   5   6          0      0          1   \n",
       "2     2     3       3        10   7   8  10          0      0          1   \n",
       "3     1     1       5         2  15  14  15          0      0          1   \n",
       "4     1     2       5         4   6  10  10          0      0          1   \n",
       "\n",
       "   famsize_LE3  Pstatus_T  Mjob_health  Mjob_other  Mjob_services  \\\n",
       "0            0          0            0           0              0   \n",
       "1            0          1            0           0              0   \n",
       "2            1          1            0           0              0   \n",
       "3            0          1            1           0              0   \n",
       "4            0          1            0           1              0   \n",
       "\n",
       "   Mjob_teacher  Fjob_health  Fjob_other  Fjob_services  Fjob_teacher  \\\n",
       "0             0            0           0              0             1   \n",
       "1             0            0           1              0             0   \n",
       "2             0            0           1              0             0   \n",
       "3             0            0           0              1             0   \n",
       "4             0            0           1              0             0   \n",
       "\n",
       "   reason_home  reason_other  reason_reputation  guardian_mother  \\\n",
       "0            0             0                  0                1   \n",
       "1            0             0                  0                0   \n",
       "2            0             1                  0                1   \n",
       "3            1             0                  0                1   \n",
       "4            1             0                  0                0   \n",
       "\n",
       "   guardian_other  schoolsup_yes  famsup_yes  paid_yes  activities_yes  \\\n",
       "0               0              1           0         0               0   \n",
       "1               0              0           1         0               0   \n",
       "2               0              1           0         1               0   \n",
       "3               0              0           1         1               1   \n",
       "4               0              0           1         1               0   \n",
       "\n",
       "   nursery_yes  higher_yes  internet_yes  romantic_yes  major_por  \n",
       "0            1           1             0             0          0  \n",
       "1            0           1             1             0          0  \n",
       "2            1           1             1             0          0  \n",
       "3            1           1             1             1          0  \n",
       "4            1           1             0             0          0  "
      ]
     },
     "execution_count": 6,
     "metadata": {},
     "output_type": "execute_result"
    }
   ],
   "source": [
    "df_dummies = pd.get_dummies(df, drop_first=True)\n",
    "df_dummies.head()"
   ]
  },
  {
   "cell_type": "markdown",
   "metadata": {},
   "source": [
    "## Funkcja trenująca na xgboost\n",
    "Warto zauważyć, że train_fast imituje crossvalidation czyli dzieli zbiór na części. Wobec tego należy być ostrożnym przy jej używaniu by nie podzielić na np. 70 - 30 train/test , potem train fast dzieli na 5 foldów, w wyniku czego model uczy się na 14% oryginalego zbioru."
   ]
  },
  {
   "cell_type": "code",
   "execution_count": 7,
   "metadata": {},
   "outputs": [],
   "source": [
    "def train_fast(df, max_depth, target ):\n",
    "    \n",
    "    \"\"\"\n",
    "    From Standard cross validation differs in data partitnion. Due to optimizing model on validation set,\n",
    "    we get final AUC score from equally big test set.\n",
    "    \"\"\"\n",
    "    \n",
    "    # shuffling index\n",
    "    df = df.sample(frac=1).reset_index(drop=True)\n",
    "    n = len(df)\n",
    "    \n",
    "    # 5 fold cross validation\n",
    "    kf = KFold(n_splits=5)\n",
    "        \n",
    "    \n",
    "    ret = []\n",
    "    tpr_arr = []\n",
    "    fpr_arr = []\n",
    "    \n",
    "    # we will make test 10% and validation 10%\n",
    "    for train_index, test_index in kf.split(df):\n",
    "        \n",
    "        train = df.iloc[train_index,:]\n",
    "        \n",
    "        v_ind = test_index[0:(len(test_index)//2)] \n",
    "        t_ind = test_index[(len(test_index)//2):len(test_index)]\n",
    "        \n",
    "        validation = df.iloc[v_ind,:]\n",
    "        test = df.iloc[t_ind,:]\n",
    "        \n",
    "        label_train = train[target]\n",
    "        label_val = validation[target]\n",
    "        label_test = test[target]\n",
    "\n",
    "        df_train = train.drop([target], axis = 1)\n",
    "        df_test  = test.drop([target], axis = 1)\n",
    "        df_val  = validation.drop([target], axis = 1)\n",
    "        \n",
    "        dtrain = xgb.DMatrix(data = df_train, label=label_train)\n",
    "        dval = xgb.DMatrix(data = df_val, label=label_val)\n",
    "        dtest = xgb.DMatrix(data = df_test, label=label_val)\n",
    "        \n",
    "        param = {'max_depth': max_depth, 'objective': 'binary:logistic', 'eval_metric':'auc'}\n",
    "        \n",
    "        evallist = [(dval, 'eval'), (dtrain, 'train')]\n",
    "        \n",
    "        num_round = 100\n",
    "        \n",
    "        bst = xgb.train(param, dtrain, num_round, evallist, verbose_eval=0)\n",
    "        y_pred = bst.predict(dtest, ntree_limit=bst.best_ntree_limit)\n",
    "\n",
    "        fpr, tpr, thresholds = metrics.roc_curve(label_test.to_numpy(), y_pred)\n",
    "\n",
    "        \n",
    "        ret.append(metrics.auc(fpr, tpr))\n",
    "        \n",
    "        fpr_arr.append(fpr)\n",
    "        tpr_arr.append(tpr)\n",
    "        \n",
    "    # fpr and tpr arrays are problematic, we will get them from median AUC score\n",
    "    # note that we are returning mean auc score, so it is not ideal \n",
    "    index = np.where(np.mean(np.array(ret))== np.mean(np.array(ret)))[0][0]\n",
    "    \n",
    "    \n",
    "    return np.array(ret).mean(), bst, fpr_arr[index],tpr_arr[index]"
   ]
  },
  {
   "cell_type": "markdown",
   "metadata": {},
   "source": [
    "## Uśrednione auc"
   ]
  },
  {
   "cell_type": "code",
   "execution_count": 8,
   "metadata": {},
   "outputs": [],
   "source": [
    "def get_auc_mean(df, max_depth, target = \"romantic_yes\", n = 10):\n",
    "    auc_sum = 0\n",
    "    for i in range(n):\n",
    "        auc, bst, _, _ = train_fast(df, max_depth, target)\n",
    "        auc_sum += auc\n",
    "    return auc_sum/n"
   ]
  },
  {
   "cell_type": "markdown",
   "metadata": {},
   "source": [
    "Zobaczmy jak zachowuje się xgboost przy różnych parametrach max_depth. Może chwilę potrwać"
   ]
  },
  {
   "cell_type": "code",
   "execution_count": 9,
   "metadata": {
    "scrolled": true
   },
   "outputs": [],
   "source": [
    "%%capture\n",
    "auc_results = []\n",
    "\n",
    "for i in range(40): \n",
    "    auc = get_auc_mean(df_dummies, i, \"romantic_yes\")\n",
    "    auc_results.append(auc)"
   ]
  },
  {
   "cell_type": "code",
   "execution_count": 10,
   "metadata": {},
   "outputs": [],
   "source": [
    "# Zróbmy średnią kroczącą \n",
    "def moving_average(a, n=3) :\n",
    "    ret = np.cumsum(a, dtype=float)\n",
    "    ret[n:] = ret[n:] - ret[:-n]\n",
    "    return ret[n - 1:] / n"
   ]
  },
  {
   "cell_type": "code",
   "execution_count": 11,
   "metadata": {},
   "outputs": [],
   "source": [
    "a = moving_average(np.array(auc_results),5)"
   ]
  },
  {
   "cell_type": "code",
   "execution_count": 12,
   "metadata": {},
   "outputs": [
    {
     "data": {
      "text/plain": [
       "Text(0.5, 1.0, 'auc based on max_depth')"
      ]
     },
     "execution_count": 12,
     "metadata": {},
     "output_type": "execute_result"
    },
    {
     "data": {
      "image/png": "[encoded data removed]",
      "text/plain": [
       "<Figure size 576x396 with 1 Axes>"
      ]
     },
     "metadata": {},
     "output_type": "display_data"
    }
   ],
   "source": [
    "res = pd.DataFrame({\"auc\": auc_results, \"depth\": [i for i in range(40)]})\n",
    "sns.lineplot(data = res, x = \"depth\", y = \"auc\").set_title(\"auc based on max_depth\")"
   ]
  },
  {
   "cell_type": "code",
   "execution_count": 13,
   "metadata": {
    "scrolled": false
   },
   "outputs": [
    {
     "data": {
      "text/plain": [
       "Text(0.5, 1.0, 'moving average of auc, base = 5')"
      ]
     },
     "execution_count": 13,
     "metadata": {},
     "output_type": "execute_result"
    },
    {
     "data": {
      "image/png": "[encoded data removed]",
      "text/plain": [
       "<Figure size 576x396 with 1 Axes>"
      ]
     },
     "metadata": {},
     "output_type": "display_data"
    }
   ],
   "source": [
    "res = pd.DataFrame({\"auc\":a,\"depth\":np.arange(len(auc_results))[2:-2]})\n",
    "sns.lineplot(data = res, x = \"depth\", y = \"auc\").set_title(\"moving average of auc, base = 5\")"
   ]
  },
  {
   "cell_type": "markdown",
   "metadata": {},
   "source": [
    "Jak widać od depth około 6 otrzymujemy średnio to samo AUC"
   ]
  },
  {
   "cell_type": "markdown",
   "metadata": {},
   "source": [
    "## Różne encodery\n",
    "Przetestujmy jak działają różne enkodery na naszym modelu - czy ktoreś będą bardzo polepszały auc?"
   ]
  },
  {
   "cell_type": "code",
   "execution_count": 14,
   "metadata": {},
   "outputs": [],
   "source": [
    "df['romantic'] = np.where(df['romantic']=='yes', 1, 0)\n",
    "y = df[['romantic']].copy()\n",
    "df = df.drop(columns='romantic')"
   ]
  },
  {
   "cell_type": "code",
   "execution_count": 15,
   "metadata": {},
   "outputs": [],
   "source": [
    "encolums = ['school', 'sex', 'address', 'famsize', 'Pstatus', 'Medu', 'Fedu',\n",
    "       'Mjob', 'Fjob', 'reason', 'guardian', 'traveltime', 'studytime', 'schoolsup', 'famsup', 'paid', 'activities', 'nursery',\n",
    "       'higher', 'internet', 'famrel', 'freetime', 'goout', 'Dalc',\n",
    "       'Walc', 'health', 'major']"
   ]
  },
  {
   "cell_type": "code",
   "execution_count": 16,
   "metadata": {
    "scrolled": true
   },
   "outputs": [],
   "source": [
    "%%capture\n",
    "res_dict = {}\n",
    "encoder = ce.backward_difference.BackwardDifferenceEncoder(cols = encolums)\n",
    "df_encoded = encoder.fit_transform(df)\n",
    "df_encoded['romantic'] = y\n",
    "res_dict[\"BackwardDifferenceEncoder\"] = get_auc_mean(df_encoded, 18, \"romantic\")"
   ]
  },
  {
   "cell_type": "code",
   "execution_count": 17,
   "metadata": {},
   "outputs": [],
   "source": [
    "%%capture\n",
    "encoder = ce.binary.BinaryEncoder(cols = encolums)\n",
    "df_encoded = encoder.fit_transform(df)\n",
    "df_encoded['romantic'] = y\n",
    "res_dict[\"BinaryEncoder\"] = get_auc_mean(df_encoded, 18, \"romantic\")"
   ]
  },
  {
   "cell_type": "code",
   "execution_count": 18,
   "metadata": {},
   "outputs": [],
   "source": [
    "%%capture\n",
    "encoder = ce.basen.BaseNEncoder(cols = encolums)\n",
    "df_encoded = encoder.fit_transform(df)\n",
    "df_encoded['romantic'] = y\n",
    "res_dict[\"BaseNEncoder\"] = get_auc_mean(df_encoded, 18, \"romantic\")"
   ]
  },
  {
   "cell_type": "code",
   "execution_count": 19,
   "metadata": {},
   "outputs": [],
   "source": [
    "%%capture\n",
    "encoder = ce.hashing.HashingEncoder(cols = encolums)\n",
    "df_encoded = encoder.fit_transform(df)\n",
    "df_encoded['romantic'] = y\n",
    "res_dict[\"HashingEncoder\"] = get_auc_mean(df_encoded, 18, \"romantic\")"
   ]
  },
  {
   "cell_type": "code",
   "execution_count": 20,
   "metadata": {},
   "outputs": [],
   "source": [
    "%%capture\n",
    "encoder = ce.helmert.HelmertEncoder(cols = encolums)\n",
    "df_encoded = encoder.fit_transform(df)\n",
    "df_encoded['romantic'] = y\n",
    "res_dict[\"HelmertEncoder\"] = get_auc_mean(df_encoded, 18, \"romantic\")"
   ]
  },
  {
   "cell_type": "code",
   "execution_count": 21,
   "metadata": {},
   "outputs": [],
   "source": [
    "%%capture\n",
    "encoder = ce.one_hot.OneHotEncoder(cols = encolums)\n",
    "df_encoded = encoder.fit_transform(df)\n",
    "df_encoded['romantic'] = y\n",
    "res_dict[\"OneHotEncoder\"] = get_auc_mean(df_encoded, 18, \"romantic\")"
   ]
  },
  {
   "cell_type": "code",
   "execution_count": 22,
   "metadata": {},
   "outputs": [],
   "source": [
    "%%capture\n",
    "encoder = ce.ordinal.OrdinalEncoder(cols = encolums)\n",
    "df_encoded = encoder.fit_transform(df)\n",
    "df_encoded['romantic'] = y\n",
    "res_dict[\"OneHotEncoder\"] = get_auc_mean(df_encoded, 18, \"romantic\")"
   ]
  },
  {
   "cell_type": "code",
   "execution_count": 23,
   "metadata": {},
   "outputs": [],
   "source": [
    "%%capture\n",
    "encoder = ce.polynomial.PolynomialEncoder(cols = encolums)\n",
    "df_encoded = encoder.fit_transform(df)\n",
    "df_encoded['romantic'] = y\n",
    "res_dict[\"OneHotEncoder\"] = get_auc_mean(df_encoded, 18, \"romantic\")"
   ]
  },
  {
   "cell_type": "code",
   "execution_count": 24,
   "metadata": {},
   "outputs": [],
   "source": [
    "%%capture\n",
    "encoder = ce.sum_coding.SumEncoder(cols = encolums)\n",
    "df_encoded = encoder.fit_transform(df)\n",
    "df_encoded['romantic'] = y\n",
    "res_dict[\"OneHotEncoder\"] = get_auc_mean(df_encoded, 18, \"romantic\")"
   ]
  },
  {
   "cell_type": "code",
   "execution_count": 25,
   "metadata": {},
   "outputs": [
    {
     "data": {
      "text/plain": [
       "<matplotlib.axes._subplots.AxesSubplot at 0x7f26500f2588>"
      ]
     },
     "execution_count": 25,
     "metadata": {},
     "output_type": "execute_result"
    },
    {
     "data": {
      "image/png": "[encoded data removed]",
      "text/plain": [
       "<Figure size 576x396 with 1 Axes>"
      ]
     },
     "metadata": {},
     "output_type": "display_data"
    }
   ],
   "source": [
    "res_df = pd.DataFrame({\"encoder\": list(res_dict.keys()), \"mean_auc\": list(res_dict.values())})\n",
    "sns.barplot(data = res_df, y = \"encoder\", x = \"mean_auc\")"
   ]
  },
  {
   "cell_type": "code",
   "execution_count": 26,
   "metadata": {
    "scrolled": true
   },
   "outputs": [
    {
     "name": "stdout",
     "output_type": "stream",
     "text": [
      "                     encoder  mean_auc\n",
      "0  BackwardDifferenceEncoder  0.833543\n",
      "1              BinaryEncoder  0.845554\n",
      "2               BaseNEncoder  0.838845\n",
      "3             HashingEncoder  0.636498\n",
      "4             HelmertEncoder  0.836377\n",
      "5              OneHotEncoder  0.836121\n"
     ]
    }
   ],
   "source": [
    "from pprint import pprint\n",
    "pprint(res_df)"
   ]
  },
  {
   "cell_type": "markdown",
   "metadata": {},
   "source": [
    "Najlepiej radzi sobie one_hot_encoder, w kolejnych obliczeniach używać będziemy jego i jego najbliższego kuzyna `dummies`"
   ]
  },
  {
   "cell_type": "markdown",
   "metadata": {},
   "source": [
    "## Logarytmowanie zmiennych ciągłych"
   ]
  },
  {
   "cell_type": "markdown",
   "metadata": {},
   "source": [
    "Zobaczmy czy zlogarytmowanie pewnych zmiennych - na przykład obecności, które nijak nie przypominają rozkłady normalnego da pozytywny skutek."
   ]
  },
  {
   "cell_type": "code",
   "execution_count": 27,
   "metadata": {},
   "outputs": [
    {
     "data": {
      "text/plain": [
       "<matplotlib.axes._subplots.AxesSubplot at 0x7f269d6c8048>"
      ]
     },
     "execution_count": 27,
     "metadata": {},
     "output_type": "execute_result"
    },
    {
     "data": {
      "image/png": "[encoded data removed]",
      "text/plain": [
       "<Figure size 576x396 with 1 Axes>"
      ]
     },
     "metadata": {},
     "output_type": "display_data"
    }
   ],
   "source": [
    "sns.distplot(df_dummies.absences)"
   ]
  },
  {
   "cell_type": "code",
   "execution_count": 28,
   "metadata": {},
   "outputs": [
    {
     "data": {
      "text/plain": [
       "<matplotlib.axes._subplots.AxesSubplot at 0x7f269d631b70>"
      ]
     },
     "execution_count": 28,
     "metadata": {},
     "output_type": "execute_result"
    },
    {
     "data": {
      "image/png": "[encoded data removed]",
      "text/plain": [
       "<Figure size 576x396 with 1 Axes>"
      ]
     },
     "metadata": {},
     "output_type": "display_data"
    }
   ],
   "source": [
    "sns.distplot(np.log(df_dummies.absences+1)) "
   ]
  },
  {
   "cell_type": "code",
   "execution_count": 29,
   "metadata": {},
   "outputs": [],
   "source": [
    "df_dummies[\"absences\"] = np.log(df.absences +1)"
   ]
  },
  {
   "cell_type": "code",
   "execution_count": 30,
   "metadata": {},
   "outputs": [
    {
     "data": {
      "text/plain": [
       "0.8236201757930403"
      ]
     },
     "execution_count": 30,
     "metadata": {},
     "output_type": "execute_result"
    }
   ],
   "source": [
    "get_auc_mean(df_dummies, 19)"
   ]
  },
  {
   "cell_type": "code",
   "execution_count": 31,
   "metadata": {},
   "outputs": [
    {
     "data": {
      "text/plain": [
       "<matplotlib.axes._subplots.AxesSubplot at 0x7f269d5b1fd0>"
      ]
     },
     "execution_count": 31,
     "metadata": {},
     "output_type": "execute_result"
    },
    {
     "data": {
      "image/png": "[encoded data removed]",
      "text/plain": [
       "<Figure size 576x396 with 1 Axes>"
      ]
     },
     "metadata": {},
     "output_type": "display_data"
    }
   ],
   "source": [
    "sns.distplot(np.log(df_dummies.loc[df_dummies.romantic_yes == 1].Walc * df_dummies.loc[df_dummies.romantic_yes == 1].Dalc + 1))"
   ]
  },
  {
   "cell_type": "code",
   "execution_count": 32,
   "metadata": {
    "scrolled": false
   },
   "outputs": [
    {
     "data": {
      "text/plain": [
       "<matplotlib.axes._subplots.AxesSubplot at 0x7f269d594e48>"
      ]
     },
     "execution_count": 32,
     "metadata": {},
     "output_type": "execute_result"
    },
    {
     "data": {
      "image/png": "[encoded data removed]",
      "text/plain": [
       "<Figure size 576x396 with 1 Axes>"
      ]
     },
     "metadata": {},
     "output_type": "display_data"
    }
   ],
   "source": [
    "sns.distplot(np.log(df_dummies.loc[df_dummies.romantic_yes == 0].Walc * df_dummies.loc[df_dummies.romantic_yes == 0].Dalc +1))"
   ]
  },
  {
   "cell_type": "markdown",
   "metadata": {},
   "source": [
    "Spróbujmy stworzyć nowe zmienne i zobaczmy czy da to lepszy wynik\n",
    " * WeekandEnd\n",
    " * WeirdDrinker"
   ]
  },
  {
   "cell_type": "code",
   "execution_count": 33,
   "metadata": {},
   "outputs": [],
   "source": [
    "df_dummies[\"WeekandEnd\"] = np.log(df_dummies.Walc * df_dummies.Dalc +1)"
   ]
  },
  {
   "cell_type": "code",
   "execution_count": 34,
   "metadata": {},
   "outputs": [
    {
     "data": {
      "text/plain": [
       "0.8275404807784629"
      ]
     },
     "execution_count": 34,
     "metadata": {},
     "output_type": "execute_result"
    }
   ],
   "source": [
    "get_auc_mean(df_dummies, 19)  # idziemy do przodu"
   ]
  },
  {
   "cell_type": "code",
   "execution_count": 35,
   "metadata": {},
   "outputs": [],
   "source": [
    "a = np.where((df_dummies.Dalc > 3)&(df_dummies.Walc <3),1,0 )   # wniosek z eda, osoby oznaczone w tej kolumnie jako 1, to wyłącznie romantycy\n",
    "df_dummies[\"WeirdDrinker\"] = a"
   ]
  },
  {
   "cell_type": "code",
   "execution_count": 36,
   "metadata": {
    "scrolled": true
   },
   "outputs": [
    {
     "data": {
      "text/plain": [
       "0.8236886419768071"
      ]
     },
     "execution_count": 36,
     "metadata": {},
     "output_type": "execute_result"
    }
   ],
   "source": [
    "get_auc_mean(df_dummies,19)      # porównywalnie z ostatnią"
   ]
  },
  {
   "cell_type": "markdown",
   "metadata": {},
   "source": [
    "Wynik prównywalny z ostatnią"
   ]
  },
  {
   "cell_type": "markdown",
   "metadata": {},
   "source": [
    "## PCA\n",
    "Zobaczmy czy widać coś graficznie."
   ]
  },
  {
   "cell_type": "code",
   "execution_count": 37,
   "metadata": {},
   "outputs": [
    {
     "data": {
      "text/html": [
       "<div>\n",
       "<style scoped>\n",
       "    .dataframe tbody tr th:only-of-type {\n",
       "        vertical-align: middle;\n",
       "    }\n",
       "\n",
       "    .dataframe tbody tr th {\n",
       "        vertical-align: top;\n",
       "    }\n",
       "\n",
       "    .dataframe thead th {\n",
       "        text-align: right;\n",
       "    }\n",
       "</style>\n",
       "<table border=\"1\" class=\"dataframe\">\n",
       "  <thead>\n",
       "    <tr style=\"text-align: right;\">\n",
       "      <th></th>\n",
       "      <th>pc1</th>\n",
       "      <th>pc2</th>\n",
       "      <th>pc3</th>\n",
       "      <th>pc4</th>\n",
       "      <th>pc5</th>\n",
       "      <th>pc6</th>\n",
       "      <th>pc7</th>\n",
       "      <th>pc8</th>\n",
       "      <th>pc9</th>\n",
       "      <th>pc10</th>\n",
       "    </tr>\n",
       "  </thead>\n",
       "  <tbody>\n",
       "    <tr>\n",
       "      <th>0</th>\n",
       "      <td>0.291357</td>\n",
       "      <td>-0.002310</td>\n",
       "      <td>-0.068397</td>\n",
       "      <td>-0.104919</td>\n",
       "      <td>0.132940</td>\n",
       "      <td>-0.017787</td>\n",
       "      <td>-0.000859</td>\n",
       "      <td>-0.005117</td>\n",
       "      <td>0.019692</td>\n",
       "      <td>0.029364</td>\n",
       "    </tr>\n",
       "    <tr>\n",
       "      <th>1</th>\n",
       "      <td>0.293148</td>\n",
       "      <td>-0.014608</td>\n",
       "      <td>-0.150127</td>\n",
       "      <td>-0.030610</td>\n",
       "      <td>0.003750</td>\n",
       "      <td>-0.047458</td>\n",
       "      <td>0.017834</td>\n",
       "      <td>0.000423</td>\n",
       "      <td>0.035776</td>\n",
       "      <td>-0.037097</td>\n",
       "    </tr>\n",
       "    <tr>\n",
       "      <th>2</th>\n",
       "      <td>0.065921</td>\n",
       "      <td>-0.117237</td>\n",
       "      <td>-0.074609</td>\n",
       "      <td>0.000286</td>\n",
       "      <td>-0.021265</td>\n",
       "      <td>0.022723</td>\n",
       "      <td>0.022138</td>\n",
       "      <td>-0.010900</td>\n",
       "      <td>-0.018566</td>\n",
       "      <td>-0.054670</td>\n",
       "    </tr>\n",
       "    <tr>\n",
       "      <th>3</th>\n",
       "      <td>-0.190891</td>\n",
       "      <td>0.069406</td>\n",
       "      <td>0.031124</td>\n",
       "      <td>-0.042401</td>\n",
       "      <td>-0.026170</td>\n",
       "      <td>0.030764</td>\n",
       "      <td>0.026880</td>\n",
       "      <td>-0.022322</td>\n",
       "      <td>0.008727</td>\n",
       "      <td>0.018381</td>\n",
       "    </tr>\n",
       "    <tr>\n",
       "      <th>4</th>\n",
       "      <td>0.058324</td>\n",
       "      <td>-0.061050</td>\n",
       "      <td>-0.065479</td>\n",
       "      <td>-0.137130</td>\n",
       "      <td>0.010415</td>\n",
       "      <td>0.032583</td>\n",
       "      <td>-0.062040</td>\n",
       "      <td>-0.007676</td>\n",
       "      <td>0.000336</td>\n",
       "      <td>-0.006266</td>\n",
       "    </tr>\n",
       "    <tr>\n",
       "      <th>...</th>\n",
       "      <td>...</td>\n",
       "      <td>...</td>\n",
       "      <td>...</td>\n",
       "      <td>...</td>\n",
       "      <td>...</td>\n",
       "      <td>...</td>\n",
       "      <td>...</td>\n",
       "      <td>...</td>\n",
       "      <td>...</td>\n",
       "      <td>...</td>\n",
       "    </tr>\n",
       "    <tr>\n",
       "      <th>1039</th>\n",
       "      <td>0.076266</td>\n",
       "      <td>0.019750</td>\n",
       "      <td>-0.048860</td>\n",
       "      <td>-0.049729</td>\n",
       "      <td>-0.027928</td>\n",
       "      <td>0.011573</td>\n",
       "      <td>-0.026541</td>\n",
       "      <td>-0.009373</td>\n",
       "      <td>-0.017060</td>\n",
       "      <td>-0.026426</td>\n",
       "    </tr>\n",
       "    <tr>\n",
       "      <th>1040</th>\n",
       "      <td>-0.157430</td>\n",
       "      <td>0.026529</td>\n",
       "      <td>-0.045728</td>\n",
       "      <td>0.067681</td>\n",
       "      <td>0.041066</td>\n",
       "      <td>-0.023296</td>\n",
       "      <td>0.014745</td>\n",
       "      <td>-0.011721</td>\n",
       "      <td>0.005191</td>\n",
       "      <td>0.007356</td>\n",
       "    </tr>\n",
       "    <tr>\n",
       "      <th>1041</th>\n",
       "      <td>0.012407</td>\n",
       "      <td>0.073764</td>\n",
       "      <td>-0.076956</td>\n",
       "      <td>0.019303</td>\n",
       "      <td>-0.081741</td>\n",
       "      <td>0.139707</td>\n",
       "      <td>-0.014794</td>\n",
       "      <td>-0.072000</td>\n",
       "      <td>-0.014485</td>\n",
       "      <td>0.044567</td>\n",
       "    </tr>\n",
       "    <tr>\n",
       "      <th>1042</th>\n",
       "      <td>0.055787</td>\n",
       "      <td>-0.105886</td>\n",
       "      <td>0.039204</td>\n",
       "      <td>0.093806</td>\n",
       "      <td>0.034677</td>\n",
       "      <td>0.004991</td>\n",
       "      <td>0.009567</td>\n",
       "      <td>-0.022203</td>\n",
       "      <td>-0.032627</td>\n",
       "      <td>0.034219</td>\n",
       "    </tr>\n",
       "    <tr>\n",
       "      <th>1043</th>\n",
       "      <td>0.045790</td>\n",
       "      <td>-0.069946</td>\n",
       "      <td>0.009933</td>\n",
       "      <td>-0.019240</td>\n",
       "      <td>-0.048216</td>\n",
       "      <td>0.069031</td>\n",
       "      <td>-0.005755</td>\n",
       "      <td>0.048471</td>\n",
       "      <td>-0.059464</td>\n",
       "      <td>-0.045433</td>\n",
       "    </tr>\n",
       "  </tbody>\n",
       "</table>\n",
       "<p>1044 rows × 10 columns</p>\n",
       "</div>"
      ],
      "text/plain": [
       "           pc1       pc2       pc3       pc4       pc5       pc6       pc7  \\\n",
       "0     0.291357 -0.002310 -0.068397 -0.104919  0.132940 -0.017787 -0.000859   \n",
       "1     0.293148 -0.014608 -0.150127 -0.030610  0.003750 -0.047458  0.017834   \n",
       "2     0.065921 -0.117237 -0.074609  0.000286 -0.021265  0.022723  0.022138   \n",
       "3    -0.190891  0.069406  0.031124 -0.042401 -0.026170  0.030764  0.026880   \n",
       "4     0.058324 -0.061050 -0.065479 -0.137130  0.010415  0.032583 -0.062040   \n",
       "...        ...       ...       ...       ...       ...       ...       ...   \n",
       "1039  0.076266  0.019750 -0.048860 -0.049729 -0.027928  0.011573 -0.026541   \n",
       "1040 -0.157430  0.026529 -0.045728  0.067681  0.041066 -0.023296  0.014745   \n",
       "1041  0.012407  0.073764 -0.076956  0.019303 -0.081741  0.139707 -0.014794   \n",
       "1042  0.055787 -0.105886  0.039204  0.093806  0.034677  0.004991  0.009567   \n",
       "1043  0.045790 -0.069946  0.009933 -0.019240 -0.048216  0.069031 -0.005755   \n",
       "\n",
       "           pc8       pc9      pc10  \n",
       "0    -0.005117  0.019692  0.029364  \n",
       "1     0.000423  0.035776 -0.037097  \n",
       "2    -0.010900 -0.018566 -0.054670  \n",
       "3    -0.022322  0.008727  0.018381  \n",
       "4    -0.007676  0.000336 -0.006266  \n",
       "...        ...       ...       ...  \n",
       "1039 -0.009373 -0.017060 -0.026426  \n",
       "1040 -0.011721  0.005191  0.007356  \n",
       "1041 -0.072000 -0.014485  0.044567  \n",
       "1042 -0.022203 -0.032627  0.034219  \n",
       "1043  0.048471 -0.059464 -0.045433  \n",
       "\n",
       "[1044 rows x 10 columns]"
      ]
     },
     "execution_count": 37,
     "metadata": {},
     "output_type": "execute_result"
    }
   ],
   "source": [
    "pca = PCA(n_components=10) \n",
    "X = preprocessing.normalize(df_dummies.drop(\"romantic_yes\", axis = 1), norm='l2')\n",
    "\n",
    "principalComponents = pca.fit_transform(X)\n",
    "\n",
    "cols = []\n",
    "for i in range(10): \n",
    "    cols.append(\"pc\"+str(i+1))\n",
    "\n",
    "principalDf = pd.DataFrame(data = principalComponents, columns = cols)\n",
    "principalDf"
   ]
  },
  {
   "cell_type": "code",
   "execution_count": 38,
   "metadata": {},
   "outputs": [
    {
     "data": {
      "text/plain": [
       "array([0.48064371, 0.55648099, 0.61878967, 0.66826408, 0.71678488,\n",
       "       0.75103801, 0.78087927, 0.80322883, 0.82247856, 0.84129384])"
      ]
     },
     "execution_count": 38,
     "metadata": {},
     "output_type": "execute_result"
    }
   ],
   "source": [
    "pca.explained_variance_ratio_.cumsum()   # 55 % wariancji w 2 ważnych kolumnach"
   ]
  },
  {
   "cell_type": "markdown",
   "metadata": {},
   "source": [
    "zredukowaliśmy wymiar do 10"
   ]
  },
  {
   "cell_type": "code",
   "execution_count": 39,
   "metadata": {},
   "outputs": [
    {
     "data": {
      "text/html": [
       "<div>\n",
       "<style scoped>\n",
       "    .dataframe tbody tr th:only-of-type {\n",
       "        vertical-align: middle;\n",
       "    }\n",
       "\n",
       "    .dataframe tbody tr th {\n",
       "        vertical-align: top;\n",
       "    }\n",
       "\n",
       "    .dataframe thead th {\n",
       "        text-align: right;\n",
       "    }\n",
       "</style>\n",
       "<table border=\"1\" class=\"dataframe\">\n",
       "  <thead>\n",
       "    <tr style=\"text-align: right;\">\n",
       "      <th></th>\n",
       "      <th>pc1</th>\n",
       "      <th>pc2</th>\n",
       "      <th>pc3</th>\n",
       "      <th>pc4</th>\n",
       "      <th>pc5</th>\n",
       "      <th>pc6</th>\n",
       "      <th>pc7</th>\n",
       "      <th>pc8</th>\n",
       "      <th>pc9</th>\n",
       "      <th>pc10</th>\n",
       "      <th>romantic_yes</th>\n",
       "    </tr>\n",
       "  </thead>\n",
       "  <tbody>\n",
       "    <tr>\n",
       "      <th>0</th>\n",
       "      <td>0.291357</td>\n",
       "      <td>-0.002310</td>\n",
       "      <td>-0.068397</td>\n",
       "      <td>-0.104919</td>\n",
       "      <td>0.132940</td>\n",
       "      <td>-0.017787</td>\n",
       "      <td>-0.000859</td>\n",
       "      <td>-0.005117</td>\n",
       "      <td>0.019692</td>\n",
       "      <td>0.029364</td>\n",
       "      <td>0</td>\n",
       "    </tr>\n",
       "    <tr>\n",
       "      <th>1</th>\n",
       "      <td>0.293148</td>\n",
       "      <td>-0.014608</td>\n",
       "      <td>-0.150127</td>\n",
       "      <td>-0.030610</td>\n",
       "      <td>0.003750</td>\n",
       "      <td>-0.047458</td>\n",
       "      <td>0.017834</td>\n",
       "      <td>0.000423</td>\n",
       "      <td>0.035776</td>\n",
       "      <td>-0.037097</td>\n",
       "      <td>0</td>\n",
       "    </tr>\n",
       "    <tr>\n",
       "      <th>2</th>\n",
       "      <td>0.065921</td>\n",
       "      <td>-0.117237</td>\n",
       "      <td>-0.074609</td>\n",
       "      <td>0.000286</td>\n",
       "      <td>-0.021265</td>\n",
       "      <td>0.022723</td>\n",
       "      <td>0.022138</td>\n",
       "      <td>-0.010900</td>\n",
       "      <td>-0.018566</td>\n",
       "      <td>-0.054670</td>\n",
       "      <td>0</td>\n",
       "    </tr>\n",
       "    <tr>\n",
       "      <th>3</th>\n",
       "      <td>-0.190891</td>\n",
       "      <td>0.069406</td>\n",
       "      <td>0.031124</td>\n",
       "      <td>-0.042401</td>\n",
       "      <td>-0.026170</td>\n",
       "      <td>0.030764</td>\n",
       "      <td>0.026880</td>\n",
       "      <td>-0.022322</td>\n",
       "      <td>0.008727</td>\n",
       "      <td>0.018381</td>\n",
       "      <td>1</td>\n",
       "    </tr>\n",
       "    <tr>\n",
       "      <th>4</th>\n",
       "      <td>0.058324</td>\n",
       "      <td>-0.061050</td>\n",
       "      <td>-0.065479</td>\n",
       "      <td>-0.137130</td>\n",
       "      <td>0.010415</td>\n",
       "      <td>0.032583</td>\n",
       "      <td>-0.062040</td>\n",
       "      <td>-0.007676</td>\n",
       "      <td>0.000336</td>\n",
       "      <td>-0.006266</td>\n",
       "      <td>0</td>\n",
       "    </tr>\n",
       "    <tr>\n",
       "      <th>...</th>\n",
       "      <td>...</td>\n",
       "      <td>...</td>\n",
       "      <td>...</td>\n",
       "      <td>...</td>\n",
       "      <td>...</td>\n",
       "      <td>...</td>\n",
       "      <td>...</td>\n",
       "      <td>...</td>\n",
       "      <td>...</td>\n",
       "      <td>...</td>\n",
       "      <td>...</td>\n",
       "    </tr>\n",
       "    <tr>\n",
       "      <th>1039</th>\n",
       "      <td>0.076266</td>\n",
       "      <td>0.019750</td>\n",
       "      <td>-0.048860</td>\n",
       "      <td>-0.049729</td>\n",
       "      <td>-0.027928</td>\n",
       "      <td>0.011573</td>\n",
       "      <td>-0.026541</td>\n",
       "      <td>-0.009373</td>\n",
       "      <td>-0.017060</td>\n",
       "      <td>-0.026426</td>\n",
       "      <td>0</td>\n",
       "    </tr>\n",
       "    <tr>\n",
       "      <th>1040</th>\n",
       "      <td>-0.157430</td>\n",
       "      <td>0.026529</td>\n",
       "      <td>-0.045728</td>\n",
       "      <td>0.067681</td>\n",
       "      <td>0.041066</td>\n",
       "      <td>-0.023296</td>\n",
       "      <td>0.014745</td>\n",
       "      <td>-0.011721</td>\n",
       "      <td>0.005191</td>\n",
       "      <td>0.007356</td>\n",
       "      <td>0</td>\n",
       "    </tr>\n",
       "    <tr>\n",
       "      <th>1041</th>\n",
       "      <td>0.012407</td>\n",
       "      <td>0.073764</td>\n",
       "      <td>-0.076956</td>\n",
       "      <td>0.019303</td>\n",
       "      <td>-0.081741</td>\n",
       "      <td>0.139707</td>\n",
       "      <td>-0.014794</td>\n",
       "      <td>-0.072000</td>\n",
       "      <td>-0.014485</td>\n",
       "      <td>0.044567</td>\n",
       "      <td>0</td>\n",
       "    </tr>\n",
       "    <tr>\n",
       "      <th>1042</th>\n",
       "      <td>0.055787</td>\n",
       "      <td>-0.105886</td>\n",
       "      <td>0.039204</td>\n",
       "      <td>0.093806</td>\n",
       "      <td>0.034677</td>\n",
       "      <td>0.004991</td>\n",
       "      <td>0.009567</td>\n",
       "      <td>-0.022203</td>\n",
       "      <td>-0.032627</td>\n",
       "      <td>0.034219</td>\n",
       "      <td>0</td>\n",
       "    </tr>\n",
       "    <tr>\n",
       "      <th>1043</th>\n",
       "      <td>0.045790</td>\n",
       "      <td>-0.069946</td>\n",
       "      <td>0.009933</td>\n",
       "      <td>-0.019240</td>\n",
       "      <td>-0.048216</td>\n",
       "      <td>0.069031</td>\n",
       "      <td>-0.005755</td>\n",
       "      <td>0.048471</td>\n",
       "      <td>-0.059464</td>\n",
       "      <td>-0.045433</td>\n",
       "      <td>0</td>\n",
       "    </tr>\n",
       "  </tbody>\n",
       "</table>\n",
       "<p>1044 rows × 11 columns</p>\n",
       "</div>"
      ],
      "text/plain": [
       "           pc1       pc2       pc3       pc4       pc5       pc6       pc7  \\\n",
       "0     0.291357 -0.002310 -0.068397 -0.104919  0.132940 -0.017787 -0.000859   \n",
       "1     0.293148 -0.014608 -0.150127 -0.030610  0.003750 -0.047458  0.017834   \n",
       "2     0.065921 -0.117237 -0.074609  0.000286 -0.021265  0.022723  0.022138   \n",
       "3    -0.190891  0.069406  0.031124 -0.042401 -0.026170  0.030764  0.026880   \n",
       "4     0.058324 -0.061050 -0.065479 -0.137130  0.010415  0.032583 -0.062040   \n",
       "...        ...       ...       ...       ...       ...       ...       ...   \n",
       "1039  0.076266  0.019750 -0.048860 -0.049729 -0.027928  0.011573 -0.026541   \n",
       "1040 -0.157430  0.026529 -0.045728  0.067681  0.041066 -0.023296  0.014745   \n",
       "1041  0.012407  0.073764 -0.076956  0.019303 -0.081741  0.139707 -0.014794   \n",
       "1042  0.055787 -0.105886  0.039204  0.093806  0.034677  0.004991  0.009567   \n",
       "1043  0.045790 -0.069946  0.009933 -0.019240 -0.048216  0.069031 -0.005755   \n",
       "\n",
       "           pc8       pc9      pc10  romantic_yes  \n",
       "0    -0.005117  0.019692  0.029364             0  \n",
       "1     0.000423  0.035776 -0.037097             0  \n",
       "2    -0.010900 -0.018566 -0.054670             0  \n",
       "3    -0.022322  0.008727  0.018381             1  \n",
       "4    -0.007676  0.000336 -0.006266             0  \n",
       "...        ...       ...       ...           ...  \n",
       "1039 -0.009373 -0.017060 -0.026426             0  \n",
       "1040 -0.011721  0.005191  0.007356             0  \n",
       "1041 -0.072000 -0.014485  0.044567             0  \n",
       "1042 -0.022203 -0.032627  0.034219             0  \n",
       "1043  0.048471 -0.059464 -0.045433             0  \n",
       "\n",
       "[1044 rows x 11 columns]"
      ]
     },
     "execution_count": 39,
     "metadata": {},
     "output_type": "execute_result"
    }
   ],
   "source": [
    "pca_df = pd.concat([principalDf,df_dummies.romantic_yes],axis =1)\n",
    "pca_df"
   ]
  },
  {
   "cell_type": "code",
   "execution_count": 40,
   "metadata": {},
   "outputs": [
    {
     "data": {
      "text/plain": [
       "<matplotlib.axes._subplots.AxesSubplot at 0x7f269d49b710>"
      ]
     },
     "execution_count": 40,
     "metadata": {},
     "output_type": "execute_result"
    },
    {
     "data": {
      "image/png": "[encoded data removed]",
      "text/plain": [
       "<Figure size 576x396 with 1 Axes>"
      ]
     },
     "metadata": {},
     "output_type": "display_data"
    }
   ],
   "source": [
    "sns.scatterplot(x = \"pc1\", y = \"pc2\", data = pca_df, hue = \"romantic_yes\")  "
   ]
  },
  {
   "cell_type": "markdown",
   "metadata": {},
   "source": [
    "Nie widać widocznego podziału danych"
   ]
  },
  {
   "cell_type": "code",
   "execution_count": 41,
   "metadata": {},
   "outputs": [
    {
     "data": {
      "text/plain": [
       "0.6304147943433231"
      ]
     },
     "execution_count": 41,
     "metadata": {},
     "output_type": "execute_result"
    }
   ],
   "source": [
    "get_auc_mean(pca_df, 19)"
   ]
  },
  {
   "cell_type": "markdown",
   "metadata": {},
   "source": [
    "Czyli najlepsze średnie AUC dostaliśmy po przekształceniach\n",
    "ramki danych logarytmicznie i eksponując niektóre zależności"
   ]
  },
  {
   "cell_type": "markdown",
   "metadata": {},
   "source": [
    "Ponowne wczytanie danych"
   ]
  },
  {
   "cell_type": "code",
   "execution_count": 42,
   "metadata": {},
   "outputs": [
    {
     "data": {
      "text/html": [
       "<div>\n",
       "<style scoped>\n",
       "    .dataframe tbody tr th:only-of-type {\n",
       "        vertical-align: middle;\n",
       "    }\n",
       "\n",
       "    .dataframe tbody tr th {\n",
       "        vertical-align: top;\n",
       "    }\n",
       "\n",
       "    .dataframe thead th {\n",
       "        text-align: right;\n",
       "    }\n",
       "</style>\n",
       "<table border=\"1\" class=\"dataframe\">\n",
       "  <thead>\n",
       "    <tr style=\"text-align: right;\">\n",
       "      <th></th>\n",
       "      <th>age</th>\n",
       "      <th>Medu</th>\n",
       "      <th>Fedu</th>\n",
       "      <th>traveltime</th>\n",
       "      <th>studytime</th>\n",
       "      <th>failures</th>\n",
       "      <th>romantic</th>\n",
       "      <th>famrel</th>\n",
       "      <th>freetime</th>\n",
       "      <th>goout</th>\n",
       "      <th>Dalc</th>\n",
       "      <th>Walc</th>\n",
       "      <th>health</th>\n",
       "      <th>absences</th>\n",
       "      <th>G1</th>\n",
       "      <th>G2</th>\n",
       "      <th>G3</th>\n",
       "      <th>school_MS</th>\n",
       "      <th>sex_M</th>\n",
       "      <th>address_U</th>\n",
       "      <th>famsize_LE3</th>\n",
       "      <th>Pstatus_T</th>\n",
       "      <th>Mjob_health</th>\n",
       "      <th>Mjob_other</th>\n",
       "      <th>Mjob_services</th>\n",
       "      <th>Mjob_teacher</th>\n",
       "      <th>Fjob_health</th>\n",
       "      <th>Fjob_other</th>\n",
       "      <th>Fjob_services</th>\n",
       "      <th>Fjob_teacher</th>\n",
       "      <th>reason_home</th>\n",
       "      <th>reason_other</th>\n",
       "      <th>reason_reputation</th>\n",
       "      <th>guardian_mother</th>\n",
       "      <th>guardian_other</th>\n",
       "      <th>schoolsup_yes</th>\n",
       "      <th>famsup_yes</th>\n",
       "      <th>paid_yes</th>\n",
       "      <th>activities_yes</th>\n",
       "      <th>nursery_yes</th>\n",
       "      <th>higher_yes</th>\n",
       "      <th>internet_yes</th>\n",
       "      <th>major_por</th>\n",
       "    </tr>\n",
       "  </thead>\n",
       "  <tbody>\n",
       "    <tr>\n",
       "      <th>0</th>\n",
       "      <td>18</td>\n",
       "      <td>4</td>\n",
       "      <td>4</td>\n",
       "      <td>2</td>\n",
       "      <td>2</td>\n",
       "      <td>0</td>\n",
       "      <td>0</td>\n",
       "      <td>4</td>\n",
       "      <td>3</td>\n",
       "      <td>4</td>\n",
       "      <td>1</td>\n",
       "      <td>1</td>\n",
       "      <td>3</td>\n",
       "      <td>6</td>\n",
       "      <td>5</td>\n",
       "      <td>6</td>\n",
       "      <td>6</td>\n",
       "      <td>0</td>\n",
       "      <td>0</td>\n",
       "      <td>1</td>\n",
       "      <td>0</td>\n",
       "      <td>0</td>\n",
       "      <td>0</td>\n",
       "      <td>0</td>\n",
       "      <td>0</td>\n",
       "      <td>0</td>\n",
       "      <td>0</td>\n",
       "      <td>0</td>\n",
       "      <td>0</td>\n",
       "      <td>1</td>\n",
       "      <td>0</td>\n",
       "      <td>0</td>\n",
       "      <td>0</td>\n",
       "      <td>1</td>\n",
       "      <td>0</td>\n",
       "      <td>1</td>\n",
       "      <td>0</td>\n",
       "      <td>0</td>\n",
       "      <td>0</td>\n",
       "      <td>1</td>\n",
       "      <td>1</td>\n",
       "      <td>0</td>\n",
       "      <td>0</td>\n",
       "    </tr>\n",
       "    <tr>\n",
       "      <th>1</th>\n",
       "      <td>17</td>\n",
       "      <td>1</td>\n",
       "      <td>1</td>\n",
       "      <td>1</td>\n",
       "      <td>2</td>\n",
       "      <td>0</td>\n",
       "      <td>0</td>\n",
       "      <td>5</td>\n",
       "      <td>3</td>\n",
       "      <td>3</td>\n",
       "      <td>1</td>\n",
       "      <td>1</td>\n",
       "      <td>3</td>\n",
       "      <td>4</td>\n",
       "      <td>5</td>\n",
       "      <td>5</td>\n",
       "      <td>6</td>\n",
       "      <td>0</td>\n",
       "      <td>0</td>\n",
       "      <td>1</td>\n",
       "      <td>0</td>\n",
       "      <td>1</td>\n",
       "      <td>0</td>\n",
       "      <td>0</td>\n",
       "      <td>0</td>\n",
       "      <td>0</td>\n",
       "      <td>0</td>\n",
       "      <td>1</td>\n",
       "      <td>0</td>\n",
       "      <td>0</td>\n",
       "      <td>0</td>\n",
       "      <td>0</td>\n",
       "      <td>0</td>\n",
       "      <td>0</td>\n",
       "      <td>0</td>\n",
       "      <td>0</td>\n",
       "      <td>1</td>\n",
       "      <td>0</td>\n",
       "      <td>0</td>\n",
       "      <td>0</td>\n",
       "      <td>1</td>\n",
       "      <td>1</td>\n",
       "      <td>0</td>\n",
       "    </tr>\n",
       "    <tr>\n",
       "      <th>2</th>\n",
       "      <td>15</td>\n",
       "      <td>1</td>\n",
       "      <td>1</td>\n",
       "      <td>1</td>\n",
       "      <td>2</td>\n",
       "      <td>3</td>\n",
       "      <td>0</td>\n",
       "      <td>4</td>\n",
       "      <td>3</td>\n",
       "      <td>2</td>\n",
       "      <td>2</td>\n",
       "      <td>3</td>\n",
       "      <td>3</td>\n",
       "      <td>10</td>\n",
       "      <td>7</td>\n",
       "      <td>8</td>\n",
       "      <td>10</td>\n",
       "      <td>0</td>\n",
       "      <td>0</td>\n",
       "      <td>1</td>\n",
       "      <td>1</td>\n",
       "      <td>1</td>\n",
       "      <td>0</td>\n",
       "      <td>0</td>\n",
       "      <td>0</td>\n",
       "      <td>0</td>\n",
       "      <td>0</td>\n",
       "      <td>1</td>\n",
       "      <td>0</td>\n",
       "      <td>0</td>\n",
       "      <td>0</td>\n",
       "      <td>1</td>\n",
       "      <td>0</td>\n",
       "      <td>1</td>\n",
       "      <td>0</td>\n",
       "      <td>1</td>\n",
       "      <td>0</td>\n",
       "      <td>1</td>\n",
       "      <td>0</td>\n",
       "      <td>1</td>\n",
       "      <td>1</td>\n",
       "      <td>1</td>\n",
       "      <td>0</td>\n",
       "    </tr>\n",
       "    <tr>\n",
       "      <th>3</th>\n",
       "      <td>15</td>\n",
       "      <td>4</td>\n",
       "      <td>2</td>\n",
       "      <td>1</td>\n",
       "      <td>3</td>\n",
       "      <td>0</td>\n",
       "      <td>1</td>\n",
       "      <td>3</td>\n",
       "      <td>2</td>\n",
       "      <td>2</td>\n",
       "      <td>1</td>\n",
       "      <td>1</td>\n",
       "      <td>5</td>\n",
       "      <td>2</td>\n",
       "      <td>15</td>\n",
       "      <td>14</td>\n",
       "      <td>15</td>\n",
       "      <td>0</td>\n",
       "      <td>0</td>\n",
       "      <td>1</td>\n",
       "      <td>0</td>\n",
       "      <td>1</td>\n",
       "      <td>1</td>\n",
       "      <td>0</td>\n",
       "      <td>0</td>\n",
       "      <td>0</td>\n",
       "      <td>0</td>\n",
       "      <td>0</td>\n",
       "      <td>1</td>\n",
       "      <td>0</td>\n",
       "      <td>1</td>\n",
       "      <td>0</td>\n",
       "      <td>0</td>\n",
       "      <td>1</td>\n",
       "      <td>0</td>\n",
       "      <td>0</td>\n",
       "      <td>1</td>\n",
       "      <td>1</td>\n",
       "      <td>1</td>\n",
       "      <td>1</td>\n",
       "      <td>1</td>\n",
       "      <td>1</td>\n",
       "      <td>0</td>\n",
       "    </tr>\n",
       "    <tr>\n",
       "      <th>4</th>\n",
       "      <td>16</td>\n",
       "      <td>3</td>\n",
       "      <td>3</td>\n",
       "      <td>1</td>\n",
       "      <td>2</td>\n",
       "      <td>0</td>\n",
       "      <td>0</td>\n",
       "      <td>4</td>\n",
       "      <td>3</td>\n",
       "      <td>2</td>\n",
       "      <td>1</td>\n",
       "      <td>2</td>\n",
       "      <td>5</td>\n",
       "      <td>4</td>\n",
       "      <td>6</td>\n",
       "      <td>10</td>\n",
       "      <td>10</td>\n",
       "      <td>0</td>\n",
       "      <td>0</td>\n",
       "      <td>1</td>\n",
       "      <td>0</td>\n",
       "      <td>1</td>\n",
       "      <td>0</td>\n",
       "      <td>1</td>\n",
       "      <td>0</td>\n",
       "      <td>0</td>\n",
       "      <td>0</td>\n",
       "      <td>1</td>\n",
       "      <td>0</td>\n",
       "      <td>0</td>\n",
       "      <td>1</td>\n",
       "      <td>0</td>\n",
       "      <td>0</td>\n",
       "      <td>0</td>\n",
       "      <td>0</td>\n",
       "      <td>0</td>\n",
       "      <td>1</td>\n",
       "      <td>1</td>\n",
       "      <td>0</td>\n",
       "      <td>1</td>\n",
       "      <td>1</td>\n",
       "      <td>0</td>\n",
       "      <td>0</td>\n",
       "    </tr>\n",
       "  </tbody>\n",
       "</table>\n",
       "</div>"
      ],
      "text/plain": [
       "   age  Medu  Fedu  traveltime  studytime  failures  romantic  famrel  \\\n",
       "0   18     4     4           2          2         0         0       4   \n",
       "1   17     1     1           1          2         0         0       5   \n",
       "2   15     1     1           1          2         3         0       4   \n",
       "3   15     4     2           1          3         0         1       3   \n",
       "4   16     3     3           1          2         0         0       4   \n",
       "\n",
       "   freetime  goout  Dalc  Walc  health  absences  G1  G2  G3  school_MS  \\\n",
       "0         3      4     1     1       3         6   5   6   6          0   \n",
       "1         3      3     1     1       3         4   5   5   6          0   \n",
       "2         3      2     2     3       3        10   7   8  10          0   \n",
       "3         2      2     1     1       5         2  15  14  15          0   \n",
       "4         3      2     1     2       5         4   6  10  10          0   \n",
       "\n",
       "   sex_M  address_U  famsize_LE3  Pstatus_T  Mjob_health  Mjob_other  \\\n",
       "0      0          1            0          0            0           0   \n",
       "1      0          1            0          1            0           0   \n",
       "2      0          1            1          1            0           0   \n",
       "3      0          1            0          1            1           0   \n",
       "4      0          1            0          1            0           1   \n",
       "\n",
       "   Mjob_services  Mjob_teacher  Fjob_health  Fjob_other  Fjob_services  \\\n",
       "0              0             0            0           0              0   \n",
       "1              0             0            0           1              0   \n",
       "2              0             0            0           1              0   \n",
       "3              0             0            0           0              1   \n",
       "4              0             0            0           1              0   \n",
       "\n",
       "   Fjob_teacher  reason_home  reason_other  reason_reputation  \\\n",
       "0             1            0             0                  0   \n",
       "1             0            0             0                  0   \n",
       "2             0            0             1                  0   \n",
       "3             0            1             0                  0   \n",
       "4             0            1             0                  0   \n",
       "\n",
       "   guardian_mother  guardian_other  schoolsup_yes  famsup_yes  paid_yes  \\\n",
       "0                1               0              1           0         0   \n",
       "1                0               0              0           1         0   \n",
       "2                1               0              1           0         1   \n",
       "3                1               0              0           1         1   \n",
       "4                0               0              0           1         1   \n",
       "\n",
       "   activities_yes  nursery_yes  higher_yes  internet_yes  major_por  \n",
       "0               0            1           1             0          0  \n",
       "1               0            0           1             1          0  \n",
       "2               0            1           1             1          0  \n",
       "3               1            1           1             1          0  \n",
       "4               0            1           1             0          0  "
      ]
     },
     "execution_count": 42,
     "metadata": {},
     "output_type": "execute_result"
    }
   ],
   "source": [
    "df = pd.read_csv(\"students-all.csv\")\n",
    "# remove rownames\n",
    "df = df.iloc[:,1:]\n",
    "df['romantic'] = np.where(df['romantic']=='yes', 1, 0)\n",
    "df_dummies = pd.get_dummies(df, drop_first=True)\n",
    "df_dummies.head()"
   ]
  },
  {
   "cell_type": "code",
   "execution_count": 43,
   "metadata": {},
   "outputs": [],
   "source": [
    "df_dummies = df_dummies.sample(frac =1)"
   ]
  },
  {
   "cell_type": "markdown",
   "metadata": {},
   "source": [
    "Po zastanowieniu doszliśmy do wniosku, że chcielibyśmy zobaczyć jak różne enkodery działają na różnych modelach, by móc zdecydować się na ostateczny wybór modelu, który chcemy zastosować."
   ]
  },
  {
   "cell_type": "code",
   "execution_count": 44,
   "metadata": {},
   "outputs": [],
   "source": [
    "def measure_encoder(encoder, model):\n",
    "    \"\"\"\n",
    "    Funkcja działająca jako pipeline w następujących krokach:\n",
    "    * kodowanie\n",
    "    * dopasowanie\n",
    "    * liczenie roc_auc_score\n",
    "    \"\"\"\n",
    "    \n",
    "    X_train, X_test, y_train, y_test = train_test_split(df.drop(['romantic'], axis = 1),df.romantic, test_size = 0.3, random_state = 66)\n",
    "    \n",
    "    encoder.fit(X_train, y_train)\n",
    "    \n",
    "    X_train = encoder.transform(X_train)\n",
    "    X_test = encoder.transform(X_test)\n",
    "    \n",
    "    model.fit(X_train, y_train)\n",
    "    y_pred = model.predict(X_test)\n",
    "\n",
    "    auc = roc_auc_score(y_test, y_pred)\n",
    "    \n",
    "    return auc"
   ]
  },
  {
   "cell_type": "code",
   "execution_count": 45,
   "metadata": {},
   "outputs": [],
   "source": [
    "columns= ['school', 'sex', 'address', 'famsize', 'Pstatus', 'Medu', 'Fedu',\n",
    "       'Mjob', 'Fjob', 'reason', 'guardian', 'traveltime', 'studytime', 'schoolsup', 'famsup', 'paid', 'activities', 'nursery',\n",
    "       'higher', 'internet', 'famrel', 'freetime', 'goout', 'Dalc',\n",
    "       'Walc', 'health', 'major']"
   ]
  },
  {
   "cell_type": "markdown",
   "metadata": {},
   "source": [
    "Wszystkie możliwe encodery"
   ]
  },
  {
   "cell_type": "code",
   "execution_count": 46,
   "metadata": {},
   "outputs": [],
   "source": [
    "enc = [ce.BackwardDifferenceEncoder(cols=columns),\n",
    "ce.BaseNEncoder(cols=columns),\n",
    "ce.BinaryEncoder(cols=columns),\n",
    "ce.CatBoostEncoder(cols=columns),\n",
    "ce.HashingEncoder(cols=columns),\n",
    "ce.HelmertEncoder(cols=columns),\n",
    "ce.JamesSteinEncoder(cols=columns),\n",
    "ce.LeaveOneOutEncoder(cols=columns),\n",
    "ce.MEstimateEncoder(cols=columns),\n",
    "ce.OneHotEncoder(cols=columns),\n",
    "ce.OrdinalEncoder(cols=columns),\n",
    "ce.SumEncoder(cols=columns),\n",
    "ce.PolynomialEncoder(cols=columns),\n",
    "ce.TargetEncoder(cols=columns),\n",
    "ce.WOEEncoder(cols=columns)]"
   ]
  },
  {
   "cell_type": "code",
   "execution_count": 47,
   "metadata": {
    "scrolled": true
   },
   "outputs": [],
   "source": [
    "def measure_encodesrs(model):\n",
    "    res = pd.DataFrame()\n",
    "    names = ['BackwardDifferenceEncoder',\n",
    "            'BaseNEncoder',\n",
    "            'BinaryEncoder',\n",
    "            'CatBoostEncoder',\n",
    "             'HashingEncoder',\n",
    "             'HelmertEncoder',\n",
    "             'JamesSteinEncoder',\n",
    "             'LeaveOneOutEncoder',\n",
    "             'MEstimateEncoder',\n",
    "             'OneHotEncoder',\n",
    "             'OrdinalEncoder',\n",
    "             'SumEncoder',\n",
    "             'PolynomialEncoder',\n",
    "             'TargetEncoder',\n",
    "             'WOEEncoder'\n",
    "            ]\n",
    "    for i in range(len(enc)):\n",
    "        auc = measure_encoder(enc[i], model)\n",
    "        res = res.append({\"Name\": names[i], \"auc\": auc}, ignore_index = True)\n",
    "    return res"
   ]
  },
  {
   "cell_type": "markdown",
   "metadata": {},
   "source": [
    "Modele, które rozważamy do klasyfikacji "
   ]
  },
  {
   "cell_type": "code",
   "execution_count": 48,
   "metadata": {
    "scrolled": true
   },
   "outputs": [],
   "source": [
    "models = [AdaBoostClassifier(), \n",
    "          BaggingClassifier(), \n",
    "          ExtraTreesClassifier(),\n",
    "          RandomForestClassifier(), \n",
    "          GradientBoostingClassifier(),\n",
    "          XGBClassifier(),\n",
    "          XGBRFClassifier()]"
   ]
  },
  {
   "cell_type": "code",
   "execution_count": 49,
   "metadata": {
    "scrolled": true
   },
   "outputs": [
    {
     "name": "stdout",
     "output_type": "stream",
     "text": [
      "AdaBoostClassifier(algorithm='SAMME.R', base_estimator=None, learning_rate=1.0,\n",
      "                   n_estimators=50, random_state=None)\n",
      "                         Name       auc\n",
      "0   BackwardDifferenceEncoder  0.547339\n",
      "1                BaseNEncoder  0.554279\n",
      "2               BinaryEncoder  0.554279\n",
      "3             CatBoostEncoder  0.612314\n",
      "4              HashingEncoder  0.508089\n",
      "5              HelmertEncoder  0.589993\n",
      "6           JamesSteinEncoder  0.612314\n",
      "7          LeaveOneOutEncoder  0.612314\n",
      "8            MEstimateEncoder  0.612314\n",
      "9               OneHotEncoder  0.588004\n",
      "10             OrdinalEncoder  0.547339\n",
      "11                 SumEncoder  0.588004\n",
      "12          PolynomialEncoder  0.560732\n",
      "13              TargetEncoder  0.612314\n",
      "14                 WOEEncoder  0.612314\n",
      "BaggingClassifier(base_estimator=None, bootstrap=True, bootstrap_features=False,\n",
      "                  max_features=1.0, max_samples=1.0, n_estimators=10,\n",
      "                  n_jobs=None, oob_score=False, random_state=None, verbose=0,\n",
      "                  warm_start=False)\n",
      "                         Name       auc\n",
      "0   BackwardDifferenceEncoder  0.652360\n",
      "1                BaseNEncoder  0.647940\n",
      "2               BinaryEncoder  0.607806\n",
      "3             CatBoostEncoder  0.684097\n",
      "4              HashingEncoder  0.557726\n",
      "5              HelmertEncoder  0.613243\n",
      "6           JamesSteinEncoder  0.658814\n",
      "7          LeaveOneOutEncoder  0.619165\n",
      "8            MEstimateEncoder  0.648913\n",
      "9               OneHotEncoder  0.681135\n",
      "10             OrdinalEncoder  0.609220\n",
      "11                 SumEncoder  0.653863\n",
      "12          PolynomialEncoder  0.663278\n",
      "13              TargetEncoder  0.616204\n",
      "14                 WOEEncoder  0.671720\n",
      "ExtraTreesClassifier(bootstrap=False, ccp_alpha=0.0, class_weight=None,\n",
      "                     criterion='gini', max_depth=None, max_features='auto',\n",
      "                     max_leaf_nodes=None, max_samples=None,\n",
      "                     min_impurity_decrease=0.0, min_impurity_split=None,\n",
      "                     min_samples_leaf=1, min_samples_split=2,\n",
      "                     min_weight_fraction_leaf=0.0, n_estimators=100,\n",
      "                     n_jobs=None, oob_score=False, random_state=None, verbose=0,\n",
      "                     warm_start=False)\n",
      "                         Name       auc\n",
      "0   BackwardDifferenceEncoder  0.719811\n",
      "1                BaseNEncoder  0.717822\n",
      "2               BinaryEncoder  0.706418\n",
      "3             CatBoostEncoder  0.732187\n",
      "4              HashingEncoder  0.539339\n",
      "5              HelmertEncoder  0.699965\n",
      "6           JamesSteinEncoder  0.717291\n",
      "7          LeaveOneOutEncoder  0.729712\n",
      "8            MEstimateEncoder  0.720783\n",
      "9               OneHotEncoder  0.724275\n",
      "10             OrdinalEncoder  0.718308\n",
      "11                 SumEncoder  0.749558\n",
      "12          PolynomialEncoder  0.723745\n",
      "13              TargetEncoder  0.737138\n",
      "14                 WOEEncoder  0.715833\n",
      "RandomForestClassifier(bootstrap=True, ccp_alpha=0.0, class_weight=None,\n",
      "                       criterion='gini', max_depth=None, max_features='auto',\n",
      "                       max_leaf_nodes=None, max_samples=None,\n",
      "                       min_impurity_decrease=0.0, min_impurity_split=None,\n",
      "                       min_samples_leaf=1, min_samples_split=2,\n",
      "                       min_weight_fraction_leaf=0.0, n_estimators=100,\n",
      "                       n_jobs=None, oob_score=False, random_state=None,\n",
      "                       verbose=0, warm_start=False)\n",
      "                         Name       auc\n",
      "0   BackwardDifferenceEncoder  0.683566\n",
      "1                BaseNEncoder  0.649355\n",
      "2               BinaryEncoder  0.681621\n",
      "3             CatBoostEncoder  0.642901\n",
      "4              HashingEncoder  0.584910\n",
      "5              HelmertEncoder  0.688517\n",
      "6           JamesSteinEncoder  0.683080\n",
      "7          LeaveOneOutEncoder  0.671676\n",
      "8            MEstimateEncoder  0.667698\n",
      "9               OneHotEncoder  0.674151\n",
      "10             OrdinalEncoder  0.651344\n",
      "11                 SumEncoder  0.702926\n",
      "12          PolynomialEncoder  0.694484\n",
      "13              TargetEncoder  0.674151\n",
      "14                 WOEEncoder  0.685069\n",
      "GradientBoostingClassifier(ccp_alpha=0.0, criterion='friedman_mse', init=None,\n",
      "                           learning_rate=0.1, loss='deviance', max_depth=3,\n",
      "                           max_features=None, max_leaf_nodes=None,\n",
      "                           min_impurity_decrease=0.0, min_impurity_split=None,\n",
      "                           min_samples_leaf=1, min_samples_split=2,\n",
      "                           min_weight_fraction_leaf=0.0, n_estimators=100,\n",
      "                           n_iter_no_change=None, presort='deprecated',\n",
      "                           random_state=None, subsample=1.0, tol=0.0001,\n",
      "                           validation_fraction=0.1, verbose=0,\n",
      "                           warm_start=False)\n",
      "                         Name       auc\n",
      "0   BackwardDifferenceEncoder  0.588932\n",
      "1                BaseNEncoder  0.583982\n",
      "2               BinaryEncoder  0.583982\n",
      "3             CatBoostEncoder  0.662792\n",
      "4              HashingEncoder  0.542786\n",
      "5              HelmertEncoder  0.620182\n",
      "6           JamesSteinEncoder  0.662792\n",
      "7          LeaveOneOutEncoder  0.658327\n",
      "8            MEstimateEncoder  0.658327\n",
      "9               OneHotEncoder  0.613729\n",
      "10             OrdinalEncoder  0.588932\n",
      "11                 SumEncoder  0.611740\n",
      "12          PolynomialEncoder  0.630569\n",
      "13              TargetEncoder  0.658327\n",
      "14                 WOEEncoder  0.658327\n",
      "XGBClassifier(base_score=None, booster=None, colsample_bylevel=None,\n",
      "              colsample_bynode=None, colsample_bytree=None, gamma=None,\n",
      "              gpu_id=None, importance_type='gain', interaction_constraints=None,\n",
      "              learning_rate=None, max_delta_step=None, max_depth=None,\n",
      "              min_child_weight=None, missing=nan, monotone_constraints=None,\n",
      "              n_estimators=100, n_jobs=None, num_parallel_tree=None,\n",
      "              objective='binary:logistic', random_state=None, reg_alpha=None,\n",
      "              reg_lambda=None, scale_pos_weight=None, subsample=None,\n",
      "              tree_method=None, validate_parameters=False, verbosity=None)\n",
      "                         Name       auc\n",
      "0   BackwardDifferenceEncoder  0.665797\n",
      "1                BaseNEncoder  0.708451\n",
      "2               BinaryEncoder  0.708451\n",
      "3             CatBoostEncoder  0.681665\n",
      "4              HashingEncoder  0.600866\n",
      "5              HelmertEncoder  0.720341\n",
      "6           JamesSteinEncoder  0.681665\n",
      "7          LeaveOneOutEncoder  0.681665\n",
      "8            MEstimateEncoder  0.681665\n",
      "9               OneHotEncoder  0.725778\n",
      "10             OrdinalEncoder  0.671764\n",
      "11                 SumEncoder  0.725778\n",
      "12          PolynomialEncoder  0.707921\n",
      "13              TargetEncoder  0.681665\n",
      "14                 WOEEncoder  0.681665\n",
      "XGBRFClassifier(base_score=None, booster=None, colsample_bylevel=None,\n",
      "                colsample_bynode=0.8, colsample_bytree=None, gamma=None,\n",
      "                gpu_id=None, importance_type='gain',\n",
      "                interaction_constraints=None, learning_rate=1,\n",
      "                max_delta_step=None, max_depth=None, min_child_weight=None,\n",
      "                missing=nan, monotone_constraints=None, n_estimators=100,\n",
      "                n_jobs=None, num_parallel_tree=None,\n",
      "                objective='binary:logistic', random_state=None, reg_alpha=None,\n",
      "                reg_lambda=1e-05, scale_pos_weight=None, subsample=0.8,\n",
      "                tree_method=None, validate_parameters=False, verbosity=None)\n",
      "                         Name       auc\n",
      "0   BackwardDifferenceEncoder  0.545704\n",
      "1                BaseNEncoder  0.552687\n",
      "2               BinaryEncoder  0.552687\n",
      "3             CatBoostEncoder  0.559097\n",
      "4              HashingEncoder  0.533327\n",
      "5              HelmertEncoder  0.566036\n",
      "6           JamesSteinEncoder  0.559097\n",
      "7          LeaveOneOutEncoder  0.559097\n",
      "8            MEstimateEncoder  0.559097\n",
      "9               OneHotEncoder  0.557594\n",
      "10             OrdinalEncoder  0.552643\n",
      "11                 SumEncoder  0.553129\n",
      "12          PolynomialEncoder  0.555118\n",
      "13              TargetEncoder  0.559097\n",
      "14                 WOEEncoder  0.559097\n"
     ]
    }
   ],
   "source": [
    "r = []\n",
    "for m in models:\n",
    "    print(m)\n",
    "    print(measure_encodesrs(m))"
   ]
  },
  {
   "cell_type": "markdown",
   "metadata": {},
   "source": [
    "Warto rozważyć i dostroić hiperparametry dla dwóch modeli z potencjałem - XGBClassifier i ExtraTreesClassifier.\n",
    "Poniżej zastosowaliśmy BayesSearchCV by dostroić parametry dla tych modeli."
   ]
  },
  {
   "cell_type": "code",
   "execution_count": 50,
   "metadata": {},
   "outputs": [],
   "source": [
    "def on_step(optim_result):\n",
    "    score = bsc.best_score_\n",
    "    print(\"best score: %s\" % score)\n",
    "    return"
   ]
  },
  {
   "cell_type": "code",
   "execution_count": 51,
   "metadata": {},
   "outputs": [],
   "source": [
    "encoder = ce.OneHotEncoder()\n",
    "\n",
    "X = pd.read_csv(\"students-all.csv\").iloc[:,1:]\n",
    "y = X.romantic\n",
    "X = X.drop(\"romantic\", axis =1)\n",
    "\n",
    "encoder.fit(X)\n",
    "X = encoder.transform(X)"
   ]
  },
  {
   "cell_type": "code",
   "execution_count": 52,
   "metadata": {},
   "outputs": [],
   "source": [
    "xgb_model = xgb.XGBClassifier()\n",
    "extra_trees_model = ExtraTreesClassifier()\n",
    "\n",
    "xgb_params = {\n",
    "                \"max_depth\"         : np.arange(3,100),\n",
    "                \"learning_rate\"     : np.arange(0.001,1,0.001, dtype = \"float64\"),\n",
    "                \"booster\"           : [\"gbtree\",\"gblinear\",\"dart\"],\n",
    "                \"subsample\"         : np.arange(0.1,1,0.1, dtype = \"float64\"),\n",
    "                \"colsample_bytree\"  : np.arange(0.1,1,0.1, dtype = \"float64\"),\n",
    "                \"reg_alpha\"         : np.arange(0,10,0.1, dtype = \"float64\"),\n",
    "                \"reg_lambda\"        : np.arange(0,10,0.1, dtype = \"float64\")\n",
    "}\n",
    "\n",
    "extra_params = {\n",
    "                    \"min_samples_split\" : np.arange(2,20,1),\n",
    "                    \"min_samples_leaf\"  : np.arange(1,20,1),\n",
    "                    \"bootstrap\" : [False,True],\n",
    "                    \"ccp_alpha\" :  np.arange(0,10, 0.1)\n",
    "                }\n",
    "\n",
    "\n"
   ]
  },
  {
   "cell_type": "code",
   "execution_count": 19,
   "metadata": {
    "scrolled": true
   },
   "outputs": [
    {
     "name": "stdout",
     "output_type": "stream",
     "text": [
      "best score: 0.6446360153256705\n",
      "best score: 0.6446360153256705\n",
      "best score: 0.6446360153256705\n",
      "best score: 0.6446360153256705\n",
      "best score: 0.6446360153256705\n",
      "best score: 0.6446360153256705\n",
      "best score: 0.6446360153256705\n",
      "best score: 0.6446360153256705\n",
      "best score: 0.6446360153256705\n",
      "best score: 0.6446360153256705\n",
      "best score: 0.6446360153256705\n",
      "best score: 0.6446360153256705\n",
      "best score: 0.6446360153256705\n",
      "best score: 0.6446360153256705\n",
      "best score: 0.6446360153256705\n",
      "best score: 0.6446360153256705\n",
      "best score: 0.6446360153256705\n",
      "best score: 0.6446360153256705\n",
      "best score: 0.6446360153256705\n",
      "best score: 0.6446360153256705\n",
      "best score: 0.6446360153256705\n",
      "best score: 0.6446360153256705\n",
      "best score: 0.6446360153256705\n",
      "best score: 0.6446360153256705\n",
      "best score: 0.6446360153256705\n",
      "best score: 0.6446360153256705\n",
      "best score: 0.6446360153256705\n",
      "best score: 0.6446360153256705\n",
      "best score: 0.6446360153256705\n",
      "best score: 0.6446360153256705\n",
      "best score: 0.6446360153256705\n",
      "best score: 0.6446360153256705\n",
      "best score: 0.6446360153256705\n",
      "best score: 0.6446360153256705\n",
      "best score: 0.6446360153256705\n",
      "best score: 0.6446360153256705\n",
      "best score: 0.6446360153256705\n",
      "best score: 0.6446360153256705\n",
      "best score: 0.6446360153256705\n",
      "best score: 0.6446360153256705\n",
      "best score: 0.6446360153256705\n",
      "best score: 0.6446360153256705\n",
      "best score: 0.6446360153256705\n",
      "best score: 0.6446360153256705\n",
      "best score: 0.6446360153256705\n",
      "best score: 0.6446360153256705\n",
      "best score: 0.6446360153256705\n",
      "best score: 0.6446360153256705\n",
      "best score: 0.6446360153256705\n",
      "best score: 0.6446360153256705\n",
      "best score: 0.6446360153256705\n",
      "best score: 0.6446360153256705\n",
      "best score: 0.6446360153256705\n",
      "best score: 0.6446360153256705\n",
      "best score: 0.6446360153256705\n",
      "best score: 0.6446360153256705\n",
      "best score: 0.6446360153256705\n",
      "best score: 0.6446360153256705\n",
      "best score: 0.6446360153256705\n",
      "best score: 0.6446360153256705\n",
      "best score: 0.6446360153256705\n",
      "best score: 0.6446360153256705\n",
      "best score: 0.6446360153256705\n",
      "best score: 0.6446360153256705\n",
      "best score: 0.6446360153256705\n",
      "best score: 0.6446360153256705\n",
      "best score: 0.6446360153256705\n",
      "best score: 0.6446360153256705\n",
      "best score: 0.6446360153256705\n",
      "best score: 0.6446360153256705\n",
      "best score: 0.6446360153256705\n",
      "best score: 0.6446360153256705\n",
      "best score: 0.6446360153256705\n",
      "best score: 0.6446360153256705\n",
      "best score: 0.6446360153256705\n",
      "best score: 0.6446360153256705\n",
      "best score: 0.6446360153256705\n",
      "best score: 0.6446360153256705\n",
      "best score: 0.6446360153256705\n",
      "best score: 0.6446360153256705\n",
      "best score: 0.6446360153256705\n",
      "best score: 0.6446360153256705\n",
      "best score: 0.6446360153256705\n",
      "best score: 0.6446360153256705\n",
      "best score: 0.6446360153256705\n",
      "best score: 0.6446360153256705\n",
      "best score: 0.6446360153256705\n",
      "best score: 0.6446360153256705\n",
      "best score: 0.6446360153256705\n",
      "best score: 0.6446360153256705\n",
      "best score: 0.6446360153256705\n",
      "best score: 0.6446360153256705\n",
      "best score: 0.6446360153256705\n",
      "best score: 0.6446360153256705\n",
      "best score: 0.6446360153256705\n",
      "best score: 0.6446360153256705\n",
      "best score: 0.6446360153256705\n",
      "best score: 0.6446360153256705\n",
      "best score: 0.6446360153256705\n",
      "best score: 0.6446360153256705\n"
     ]
    },
    {
     "data": {
      "text/plain": [
       "BayesSearchCV(cv=5, error_score='raise',\n",
       "              estimator=ExtraTreesClassifier(bootstrap=False, ccp_alpha=0.0,\n",
       "                                             class_weight=None,\n",
       "                                             criterion='gini', max_depth=None,\n",
       "                                             max_features='auto',\n",
       "                                             max_leaf_nodes=None,\n",
       "                                             max_samples=None,\n",
       "                                             min_impurity_decrease=0.0,\n",
       "                                             min_impurity_split=None,\n",
       "                                             min_samples_leaf=1,\n",
       "                                             min_samples_split=2,\n",
       "                                             min_weight_fraction_leaf=0.0,\n",
       "                                             n_estimators=100, n_jobs=N...\n",
       "       5.2, 5.3, 5.4, 5.5, 5.6, 5.7, 5.8, 5.9, 6. , 6.1, 6.2, 6.3, 6.4,\n",
       "       6.5, 6.6, 6.7, 6.8, 6.9, 7. , 7.1, 7.2, 7.3, 7.4, 7.5, 7.6, 7.7,\n",
       "       7.8, 7.9, 8. , 8.1, 8.2, 8.3, 8.4, 8.5, 8.6, 8.7, 8.8, 8.9, 9. ,\n",
       "       9.1, 9.2, 9.3, 9.4, 9.5, 9.6, 9.7, 9.8, 9.9]),\n",
       "                             'min_samples_leaf': array([ 1,  2,  3,  4,  5,  6,  7,  8,  9, 10, 11, 12, 13, 14, 15, 16, 17,\n",
       "       18, 19]),\n",
       "                             'min_samples_split': array([ 2,  3,  4,  5,  6,  7,  8,  9, 10, 11, 12, 13, 14, 15, 16, 17, 18,\n",
       "       19])},\n",
       "              verbose=0)"
      ]
     },
     "execution_count": 19,
     "metadata": {},
     "output_type": "execute_result"
    }
   ],
   "source": [
    "bsc = BayesSearchCV(extra_trees_model, extra_params, n_iter = 100, cv = 5)\n",
    "bsc.fit(X,y, callback = on_step)\n"
   ]
  },
  {
   "cell_type": "code",
   "execution_count": 8,
   "metadata": {
    "scrolled": true
   },
   "outputs": [
    {
     "name": "stdout",
     "output_type": "stream",
     "text": [
      "best score: 0.6283524904214559\n",
      "best score: 0.6724137931034483\n",
      "best score: 0.6724137931034483\n",
      "best score: 0.6724137931034483\n",
      "best score: 0.6724137931034483\n",
      "best score: 0.6724137931034483\n",
      "best score: 0.6772030651340997\n",
      "best score: 0.6772030651340997\n",
      "best score: 0.6772030651340997\n",
      "best score: 0.6772030651340997\n",
      "best score: 0.6886973180076629\n",
      "best score: 0.6886973180076629\n",
      "best score: 0.6886973180076629\n",
      "best score: 0.6886973180076629\n",
      "best score: 0.6886973180076629\n",
      "best score: 0.6886973180076629\n",
      "best score: 0.7078544061302682\n",
      "best score: 0.7078544061302682\n",
      "best score: 0.7078544061302682\n",
      "best score: 0.7078544061302682\n",
      "best score: 0.7078544061302682\n",
      "best score: 0.7327586206896551\n",
      "best score: 0.7327586206896551\n",
      "best score: 0.7327586206896551\n",
      "best score: 0.7327586206896551\n",
      "best score: 0.7327586206896551\n",
      "best score: 0.7327586206896551\n",
      "best score: 0.7327586206896551\n",
      "best score: 0.7327586206896551\n",
      "best score: 0.7327586206896551\n",
      "best score: 0.7327586206896551\n",
      "best score: 0.7327586206896551\n",
      "best score: 0.7327586206896551\n",
      "best score: 0.7394636015325671\n",
      "best score: 0.7394636015325671\n",
      "best score: 0.7394636015325671\n",
      "best score: 0.7394636015325671\n",
      "best score: 0.7394636015325671\n",
      "best score: 0.7394636015325671\n",
      "best score: 0.7394636015325671\n",
      "best score: 0.7394636015325671\n",
      "best score: 0.7394636015325671\n",
      "best score: 0.7394636015325671\n",
      "best score: 0.7394636015325671\n",
      "best score: 0.7394636015325671\n",
      "best score: 0.7394636015325671\n",
      "best score: 0.7394636015325671\n",
      "best score: 0.7394636015325671\n",
      "best score: 0.7394636015325671\n",
      "best score: 0.7394636015325671\n",
      "best score: 0.7394636015325671\n",
      "best score: 0.7394636015325671\n",
      "best score: 0.7394636015325671\n",
      "best score: 0.7394636015325671\n",
      "best score: 0.7394636015325671\n",
      "best score: 0.7394636015325671\n",
      "best score: 0.7394636015325671\n",
      "best score: 0.7394636015325671\n",
      "best score: 0.7394636015325671\n",
      "best score: 0.7394636015325671\n",
      "best score: 0.7394636015325671\n",
      "best score: 0.7394636015325671\n",
      "best score: 0.7394636015325671\n",
      "best score: 0.7394636015325671\n",
      "best score: 0.7394636015325671\n",
      "best score: 0.7394636015325671\n",
      "best score: 0.7394636015325671\n",
      "best score: 0.7394636015325671\n",
      "best score: 0.7394636015325671\n",
      "best score: 0.7394636015325671\n",
      "best score: 0.7394636015325671\n",
      "best score: 0.7394636015325671\n",
      "best score: 0.7394636015325671\n",
      "best score: 0.7394636015325671\n",
      "best score: 0.7394636015325671\n",
      "best score: 0.7394636015325671\n",
      "best score: 0.7394636015325671\n",
      "best score: 0.7394636015325671\n",
      "best score: 0.7394636015325671\n",
      "best score: 0.7394636015325671\n",
      "best score: 0.7394636015325671\n",
      "best score: 0.7394636015325671\n",
      "best score: 0.7394636015325671\n",
      "best score: 0.7394636015325671\n",
      "best score: 0.7394636015325671\n",
      "best score: 0.7394636015325671\n",
      "best score: 0.7394636015325671\n",
      "best score: 0.7394636015325671\n",
      "best score: 0.7394636015325671\n",
      "best score: 0.7394636015325671\n",
      "best score: 0.7394636015325671\n",
      "best score: 0.7394636015325671\n",
      "best score: 0.7394636015325671\n",
      "best score: 0.7394636015325671\n",
      "best score: 0.7394636015325671\n",
      "best score: 0.7394636015325671\n",
      "best score: 0.7394636015325671\n",
      "best score: 0.7394636015325671\n",
      "best score: 0.7394636015325671\n",
      "best score: 0.7394636015325671\n",
      "best score: 0.7394636015325671\n",
      "best score: 0.7394636015325671\n",
      "best score: 0.7394636015325671\n",
      "best score: 0.7394636015325671\n",
      "best score: 0.7394636015325671\n",
      "best score: 0.7394636015325671\n",
      "best score: 0.7394636015325671\n",
      "best score: 0.7442528735632183\n",
      "best score: 0.7442528735632183\n",
      "best score: 0.7442528735632183\n",
      "best score: 0.7442528735632183\n",
      "best score: 0.7442528735632183\n",
      "best score: 0.7442528735632183\n",
      "best score: 0.7442528735632183\n",
      "best score: 0.7442528735632183\n",
      "best score: 0.7442528735632183\n",
      "best score: 0.7442528735632183\n",
      "best score: 0.7442528735632183\n",
      "best score: 0.7442528735632183\n",
      "best score: 0.7442528735632183\n",
      "best score: 0.7442528735632183\n",
      "best score: 0.7442528735632183\n",
      "best score: 0.7442528735632183\n",
      "best score: 0.7442528735632183\n",
      "best score: 0.7442528735632183\n",
      "best score: 0.7442528735632183\n",
      "best score: 0.7442528735632183\n",
      "best score: 0.7442528735632183\n",
      "best score: 0.7461685823754789\n",
      "best score: 0.7461685823754789\n",
      "best score: 0.7461685823754789\n",
      "best score: 0.7461685823754789\n",
      "best score: 0.7461685823754789\n",
      "best score: 0.7461685823754789\n",
      "best score: 0.7461685823754789\n",
      "best score: 0.7461685823754789\n",
      "best score: 0.7461685823754789\n",
      "best score: 0.7461685823754789\n",
      "best score: 0.7461685823754789\n",
      "best score: 0.7461685823754789\n",
      "best score: 0.7461685823754789\n",
      "best score: 0.7461685823754789\n",
      "best score: 0.7461685823754789\n",
      "best score: 0.7461685823754789\n",
      "best score: 0.7461685823754789\n",
      "best score: 0.7461685823754789\n",
      "best score: 0.7461685823754789\n",
      "best score: 0.7461685823754789\n",
      "best score: 0.7461685823754789\n",
      "best score: 0.7461685823754789\n",
      "best score: 0.7461685823754789\n",
      "best score: 0.7461685823754789\n",
      "best score: 0.7461685823754789\n",
      "best score: 0.7461685823754789\n",
      "best score: 0.7461685823754789\n",
      "best score: 0.7461685823754789\n",
      "best score: 0.7461685823754789\n",
      "best score: 0.7461685823754789\n",
      "best score: 0.7461685823754789\n",
      "best score: 0.7461685823754789\n",
      "best score: 0.7461685823754789\n",
      "best score: 0.7461685823754789\n",
      "best score: 0.7461685823754789\n",
      "best score: 0.7461685823754789\n",
      "best score: 0.7461685823754789\n",
      "best score: 0.7461685823754789\n",
      "best score: 0.7461685823754789\n",
      "best score: 0.7461685823754789\n",
      "best score: 0.7461685823754789\n",
      "best score: 0.7461685823754789\n",
      "best score: 0.7461685823754789\n",
      "best score: 0.7461685823754789\n",
      "best score: 0.7461685823754789\n",
      "best score: 0.7461685823754789\n",
      "best score: 0.7461685823754789\n",
      "best score: 0.7461685823754789\n",
      "best score: 0.7461685823754789\n",
      "best score: 0.7461685823754789\n",
      "best score: 0.7461685823754789\n",
      "best score: 0.7461685823754789\n",
      "best score: 0.7461685823754789\n",
      "best score: 0.7461685823754789\n",
      "best score: 0.7461685823754789\n",
      "best score: 0.7461685823754789\n",
      "best score: 0.7461685823754789\n",
      "best score: 0.7461685823754789\n",
      "best score: 0.7461685823754789\n",
      "best score: 0.7461685823754789\n",
      "best score: 0.7461685823754789\n",
      "best score: 0.7461685823754789\n",
      "best score: 0.7461685823754789\n",
      "best score: 0.7461685823754789\n",
      "best score: 0.7461685823754789\n",
      "best score: 0.7461685823754789\n",
      "best score: 0.7461685823754789\n",
      "best score: 0.7461685823754789\n",
      "best score: 0.7461685823754789\n",
      "best score: 0.7461685823754789\n",
      "best score: 0.7461685823754789\n",
      "best score: 0.7461685823754789\n"
     ]
    },
    {
     "data": {
      "text/plain": [
       "BayesSearchCV(cv=5, error_score='raise',\n",
       "              estimator=XGBClassifier(base_score=None, booster=None,\n",
       "                                      colsample_bylevel=None,\n",
       "                                      colsample_bynode=None,\n",
       "                                      colsample_bytree=None, gamma=None,\n",
       "                                      gpu_id=None, importance_type='gain',\n",
       "                                      interaction_constraints=None,\n",
       "                                      learning_rate=None, max_delta_step=None,\n",
       "                                      max_depth=None, min_child_weight=None,\n",
       "                                      missing=nan, monotone_constraints=None,\n",
       "                                      n_...\n",
       "       2.6, 2.7, 2.8, 2.9, 3. , 3.1, 3.2, 3.3, 3.4, 3.5, 3.6, 3.7, 3.8,\n",
       "       3.9, 4. , 4.1, 4.2, 4.3, 4.4, 4.5, 4.6, 4.7, 4.8, 4.9, 5. , 5.1,\n",
       "       5.2, 5.3, 5.4, 5.5, 5.6, 5.7, 5.8, 5.9, 6. , 6.1, 6.2, 6.3, 6.4,\n",
       "       6.5, 6.6, 6.7, 6.8, 6.9, 7. , 7.1, 7.2, 7.3, 7.4, 7.5, 7.6, 7.7,\n",
       "       7.8, 7.9, 8. , 8.1, 8.2, 8.3, 8.4, 8.5, 8.6, 8.7, 8.8, 8.9, 9. ,\n",
       "       9.1, 9.2, 9.3, 9.4, 9.5, 9.6, 9.7, 9.8, 9.9]),\n",
       "                             'subsample': array([0.1, 0.2, 0.3, 0.4, 0.5, 0.6, 0.7, 0.8, 0.9])},\n",
       "              verbose=0)"
      ]
     },
     "execution_count": 8,
     "metadata": {},
     "output_type": "execute_result"
    }
   ],
   "source": [
    "bsc = BayesSearchCV(xgb_model, xgb_params, n_iter = 200, cv = 5)\n",
    "bsc.fit(X,y, callback = on_step)\n"
   ]
  },
  {
   "cell_type": "code",
   "execution_count": 9,
   "metadata": {
    "scrolled": true
   },
   "outputs": [
    {
     "data": {
      "text/plain": [
       "OrderedDict([('booster', 'dart'),\n",
       "             ('colsample_bytree', 0.9),\n",
       "             ('learning_rate', 0.461),\n",
       "             ('max_depth', 47),\n",
       "             ('reg_alpha', 0.0),\n",
       "             ('reg_lambda', 1.1),\n",
       "             ('subsample', 0.6)])"
      ]
     },
     "execution_count": 9,
     "metadata": {},
     "output_type": "execute_result"
    }
   ],
   "source": [
    "bsc.best_params_"
   ]
  },
  {
   "cell_type": "markdown",
   "metadata": {},
   "source": [
    "Model ten zapisaliśmy jako alco.model, żeby móc go potem bezproblemowo używać"
   ]
  },
  {
   "cell_type": "code",
   "execution_count": 53,
   "metadata": {},
   "outputs": [],
   "source": [
    "xgb_model = xgb.XGBClassifier()\n",
    "xgb_model.load_model('alco.model')"
   ]
  },
  {
   "cell_type": "markdown",
   "metadata": {},
   "source": [
    "# Wyniki ostatecznego modelu"
   ]
  },
  {
   "cell_type": "markdown",
   "metadata": {},
   "source": [
    "Wczytanie po raz kolejny danych, by na pewno były czyste i ich zenkodowanie."
   ]
  },
  {
   "cell_type": "code",
   "execution_count": 54,
   "metadata": {},
   "outputs": [],
   "source": [
    "df = pd.read_csv(\"students-all.csv\")\n",
    "# remove rownames\n",
    "df = df.iloc[:,1:]\n",
    "\n",
    "encoder = ce.OneHotEncoder()\n",
    "\n",
    "df = pd.read_csv(\"students-all.csv\").iloc[:,1:]\n",
    "y = df.romantic\n",
    "df = df.drop(\"romantic\", axis =1)\n",
    "\n",
    "df_one_hot = encoder.fit_transform(df)\n",
    "\n",
    "target = np.where(y=='yes', 1, 0)\n",
    "\n",
    "X_train, X_test, y_train, y_test = train_test_split(df_one_hot,\n",
    "                                                    target, test_size = 0.2, random_state = 666)"
   ]
  },
  {
   "cell_type": "markdown",
   "metadata": {},
   "source": [
    "Zobaczmy ile wynosi auc:"
   ]
  },
  {
   "cell_type": "code",
   "execution_count": 55,
   "metadata": {},
   "outputs": [
    {
     "data": {
      "text/plain": [
       "0.8041666666666667"
      ]
     },
     "execution_count": 55,
     "metadata": {},
     "output_type": "execute_result"
    }
   ],
   "source": [
    "y_predict_prob = xgb_model.predict_proba(X_test)[:,1]\n",
    "y_pres = xgb_model.predict(X_test)\n",
    "from sklearn.metrics import roc_auc_score\n",
    "roc_auc_score(y_test, y_predict_prob)"
   ]
  },
  {
   "cell_type": "markdown",
   "metadata": {},
   "source": [
    "## Features importance"
   ]
  },
  {
   "cell_type": "code",
   "execution_count": 56,
   "metadata": {
    "scrolled": false
   },
   "outputs": [
    {
     "data": {
      "image/png": "[encoded data removed]",
      "text/plain": [
       "<Figure size 1440x720 with 1 Axes>"
      ]
     },
     "metadata": {},
     "output_type": "display_data"
    }
   ],
   "source": [
    "sorted_idx = np.argsort(xgb_model.feature_importances_)[::-1]\n",
    "names = []\n",
    "val = []\n",
    "for index in sorted_idx:\n",
    "    names.append(X_train.columns[index])\n",
    "    val.append(xgb_model.feature_importances_[index])\n",
    "\n",
    "d = pd.DataFrame({'feature':names, 'importance': val});\n",
    "plt.rcParams['figure.figsize'] = [20, 10];\n",
    "ax = d.plot(kind='bar', label = names);\n",
    "ax.set_title('Amount Frequency');\n",
    "ax.set_xlabel('');\n",
    "ax.set_ylabel('Importance');\n",
    "ax.set_xticklabels(names);"
   ]
  },
  {
   "cell_type": "markdown",
   "metadata": {},
   "source": [
    "### Confusion matrix"
   ]
  },
  {
   "cell_type": "code",
   "execution_count": 57,
   "metadata": {},
   "outputs": [
    {
     "data": {
      "text/plain": [
       "<sklearn.metrics._plot.confusion_matrix.ConfusionMatrixDisplay at 0x7f269d620898>"
      ]
     },
     "execution_count": 57,
     "metadata": {},
     "output_type": "execute_result"
    },
    {
     "data": {
      "image/png": "[encoded data removed]",
      "text/plain": [
       "<Figure size 1440x720 with 2 Axes>"
      ]
     },
     "metadata": {},
     "output_type": "display_data"
    }
   ],
   "source": [
    "plot_confusion_matrix(xgb_model, X_test, y_test)"
   ]
  },
  {
   "cell_type": "markdown",
   "metadata": {},
   "source": [
    "### Roc curve"
   ]
  },
  {
   "cell_type": "code",
   "execution_count": 58,
   "metadata": {
    "scrolled": false
   },
   "outputs": [
    {
     "data": {
      "text/plain": [
       "<sklearn.metrics._plot.roc_curve.RocCurveDisplay at 0x7f2690fc7b00>"
      ]
     },
     "execution_count": 58,
     "metadata": {},
     "output_type": "execute_result"
    },
    {
     "data": {
      "image/png": "[encoded data removed]",
      "text/plain": [
       "<Figure size 1440x720 with 1 Axes>"
      ]
     },
     "metadata": {},
     "output_type": "display_data"
    }
   ],
   "source": [
    "plot_roc_curve(xgb_model, X_test, y_test)"
   ]
  },
  {
   "cell_type": "markdown",
   "metadata": {},
   "source": [
    "### Precision Recall curve"
   ]
  },
  {
   "cell_type": "code",
   "execution_count": 59,
   "metadata": {},
   "outputs": [
    {
     "data": {
      "text/plain": [
       "<sklearn.metrics._plot.precision_recall_curve.PrecisionRecallDisplay at 0x7f2690fc7908>"
      ]
     },
     "execution_count": 59,
     "metadata": {},
     "output_type": "execute_result"
    },
    {
     "data": {
      "image/png": "[encoded data removed]",
      "text/plain": [
       "<Figure size 1440x720 with 1 Axes>"
      ]
     },
     "metadata": {},
     "output_type": "display_data"
    }
   ],
   "source": [
    "plot_precision_recall_curve(xgb_model, X_test, y_test)"
   ]
  },
  {
   "cell_type": "markdown",
   "metadata": {},
   "source": [
    "## Ankieta w czasie rzeczywistym\n",
    "Poniższy kod przedstawia budowę skryptu, który w czasie rzeczywistym przetwarza akietę (link)[https://docs.google.com/forms/d/e/1FAIpQLSdf2byFFOKvdps4FAR6ZQZbDuFN24LqqXO13Z_eZTYgxQKIdA/viewform]\n",
    "\n",
    "Używa on klucza deweloperskiego, którego ze względów bezpieczeństwa i prywatności nie udostępnimy, niemniej jednak kod upubliczniamy ze wzgęldu na jego użyteczność."
   ]
  },
  {
   "cell_type": "code",
   "execution_count": 60,
   "metadata": {},
   "outputs": [],
   "source": [
    "def parse(data, encoder):\n",
    "    \"\"\"\n",
    "    Parsing data to the same format as in \"students-all.csv\"\n",
    "    \n",
    "    returns: nicks, mails array and dataframe\n",
    "    \"\"\"\n",
    "    nicks = np.array(data['Nick'])\n",
    "    mails = np.array(data['Feedback mail'])\n",
    "    data = data.iloc[:, 2:-1]\n",
    "\n",
    "    column_names = [\n",
    "        'sex', 'age', 'address', 'famsize', 'Pstatus', 'Medu', 'Fedu', 'Mjob',\n",
    "        'Fjob', 'reason', 'guardian', 'traveltime', 'studytime', 'failures',\n",
    "        'schoolsup', 'famsup', 'paid', 'activities', 'nursery', 'internet',\n",
    "        'famrel', 'freetime', 'goout', 'Dalc', 'Walc', 'health', 'absences',\n",
    "        'G1', 'G2', 'G3'\n",
    "    ]\n",
    "\n",
    "    data.columns = column_names\n",
    "\n",
    "    # deafults\n",
    "    data['school'] = np.repeat(\"GP\", data.shape[0])\n",
    "    data['major'] = np.repeat(\"mat\", data.shape[0])\n",
    "    data['higher'] = np.repeat(\"yes\", data.shape[0])\n",
    "\n",
    "    # corect order\n",
    "    data = data[[\n",
    "        'school', 'sex', 'age', 'address', 'famsize', 'Pstatus', 'Medu',\n",
    "        'Fedu', 'Mjob', 'Fjob', 'reason', 'guardian', 'traveltime',\n",
    "        'studytime', 'failures', 'schoolsup', 'famsup', 'paid', 'activities',\n",
    "        'nursery', 'higher', 'internet', 'famrel', 'freetime', 'goout', 'Dalc',\n",
    "        'Walc', 'health', 'absences', 'G1', 'G2', 'G3', 'major'\n",
    "    ]]\n",
    "    \n",
    "    data['age'] = pd.to_numeric(data['age'])\n",
    "    data['sex'] = np.where(data.sex == 'Male', 'M', 'F')\n",
    "    data['address'] = np.where(data.address == 'Rural', 'R', 'U')\n",
    "    data['famsize'] = np.where(data.famsize == 'more than 3', 'GT3', 'LE3')\n",
    "    data['Pstatus'] = np.where(data.Pstatus == 'living apart', 'A', 'T')\n",
    "\n",
    "    d1 = {\n",
    "        'none': 0,\n",
    "        'primary education': 1,\n",
    "        'middle school': 2,\n",
    "        'high school': 3,\n",
    "        'higher education': 4\n",
    "    }\n",
    "\n",
    "    data['Medu'] = [d1[item] for item in list(data.Medu)]\n",
    "    data['Fedu'] = [d1[item] for item in list(data.Fedu)]\n",
    "\n",
    "    d2 = {\n",
    "        'teacher': 'teacher',\n",
    "        'healthcare': 'health',\n",
    "        'civil services': 'civil',\n",
    "        'home': 'at_home',\n",
    "        'other': 'other'\n",
    "    }\n",
    "\n",
    "    data['Mjob'] = [d2[item] for item in list(data.Mjob)]\n",
    "    data['Fjob'] = [d2[item] for item in list(data.Fjob)]\n",
    "\n",
    "    d3 = {\n",
    "        'close to home': 'home',\n",
    "        'school reputation': 'reputation',\n",
    "        'course preference': 'course',\n",
    "        'other': 'other'\n",
    "    }\n",
    "\n",
    "    data['reason'] = [d3[item] for item in list(data.reason)]\n",
    "    \n",
    "    d4 = {'Mother':'mother', 'Father':'father', 'other':'other'}\n",
    "    \n",
    "    data['guardian'] = [d4[item] for item in list(data.guardian)]\n",
    "\n",
    "    d5 = {'< 15':1, '15-30':2, '30-60':3,'60 >':4}\n",
    "    \n",
    "    data['traveltime'] = [d5[item] for item in list(data.traveltime)]\n",
    "    \n",
    "    d6 = {'< 2':1, '2-5':2, '5-10':3,'10 >':4}\n",
    "    \n",
    "    data['studytime'] = [d6[item] for item in list(data.studytime)]\n",
    "    \n",
    "    data['G1'] = np.array(((pd.to_numeric(data.G1) -2 )/3)*20 , dtype = 'int64')\n",
    "    data['G2'] = np.array(((pd.to_numeric(data.G2) -2 )/3)*20 , dtype = 'int64') \n",
    "    data['G3'] = np.array(((pd.to_numeric(data.G3) -2 )/3)*20 , dtype = 'int64')\n",
    "    \n",
    "    data['absences'] = np.array(pd.to_numeric(data.absences) , dtype = 'int64')\n",
    "    data['failures'] = np.array(data.failures, dtype = 'int64')\n",
    "    data['famrel']   = np.array(data.famrel, dtype = 'int64')\n",
    "    data['freetime'] = np.array(data.freetime, dtype = 'int64')\n",
    "    data['goout']    = np.array(data.goout, dtype = 'int64')\n",
    "    data['Dalc']     = np.array(data.Dalc, dtype = 'int64')\n",
    "    data['Walc']     = np.array(data.Walc, dtype = 'int64')\n",
    "    data['health']   = np.array(data.health, dtype = 'int64')\n",
    "    \n",
    "    \n",
    "    data_transformed = encoder.transform(data)\n",
    "    \n",
    "    return nicks, mails, data_transformed"
   ]
  },
  {
   "cell_type": "code",
   "execution_count": 61,
   "metadata": {},
   "outputs": [],
   "source": [
    "def get_new_entries(entries_processed,\n",
    "                    encoder,\n",
    "                    rows = 5000, \n",
    "                    SAMPLE_SPREADSHEET_ID = '1e1tWLI0vD05bUj-wLWicOnl0iU-GWz0aaWEtRDlTQ2M'):\n",
    "    \"\"\"\n",
    "    Ściąga i przetwarza nowe wiersze w arkuszu odpowiedzi od wiersza = entries_processed\n",
    "    \"\"\"\n",
    "    \n",
    "    cols = \"AG\"\n",
    "    SAMPLE_RANGE_NAME = 'A1:'+ cols + str(rows)\n",
    "    result = sheet.values().get(spreadsheetId=SAMPLE_SPREADSHEET_ID,\n",
    "                                range=SAMPLE_RANGE_NAME).execute()\n",
    "    values = result.get('values', [])\n",
    "    data = pd.DataFrame(values)\n",
    "    data.columns = data.iloc[0,:]\n",
    "    data = data.iloc[1+entries_processed:,:]\n",
    "    print('Processing from rows: {}. Got {} new entries'.format(entries_processed, data.shape[0]))\n",
    "    \n",
    "    n,m,df = parse(data, encoder)\n",
    "    return n,m,df"
   ]
  },
  {
   "cell_type": "code",
   "execution_count": 62,
   "metadata": {},
   "outputs": [],
   "source": [
    "def predict_new_entries(df, model):\n",
    "    \"\"\"\n",
    "    Przewiduje ramkę danych przed model - wrapper\n",
    "    \"\"\"\n",
    "    \n",
    "    y_predict = model.predict(df)\n",
    "    y_predict_prob = model.predict_proba(df)[:,1]\n",
    "    \n",
    "    return y_predict, y_predict_prob"
   ]
  },
  {
   "cell_type": "code",
   "execution_count": 63,
   "metadata": {},
   "outputs": [],
   "source": [
    "def send_response(nick, send_to_email, result, prob):\n",
    "    \"\"\"\n",
    "    wysyła mail do adresata\n",
    "    \"\"\"\n",
    "    \n",
    "    # dane prywatne \n",
    "    global email, password\n",
    "    subject = \"Student, do you have partner?\"\n",
    "    message = 'Hi, {}'.format(nick)\n",
    "    message += \"\\n\\nThank you for participating in our survey! Here are your results: \"\n",
    "\n",
    "    if result == 0:\n",
    "        message += '\\nForever alone'\n",
    "    else:\n",
    "        message += '\\nYou have partner!'\n",
    "    \n",
    "    message += '\\nYour probability of being in romantic relationship is: {}'.format(prob)\n",
    "    message += '\\n\\nThis result was predicted by machine learning model trained on Student Alcohol Consumption dataset from University Of Camerino'\n",
    "    \n",
    "    message += '\\n\\nSee you next time!'\n",
    "    \n",
    "    msg = MIMEMultipart()\n",
    "    msg[\"From\"] = email\n",
    "    msg[\"To\"] = send_to_email\n",
    "    msg[\"Subject\"] = subject\n",
    "\n",
    "    msg.attach(MIMEText(message, 'plain'))\n",
    "\n",
    "    try: \n",
    "        server = smtplib.SMTP(\"smtp.gmail.com\", 587)\n",
    "        server.starttls()\n",
    "        server.login(email, password)\n",
    "        text = msg.as_string()\n",
    "        server.sendmail(email, send_to_email, text)\n",
    "        server.quit()\n",
    "        censored_mail = send_to_email[:2] + '*'*(len(send_to_email)-2)\n",
    "        print('Sent mail to {}, {}'.format(nick, censored_mail))\n",
    "    \n",
    "    except:\n",
    "        print('Error in sending')\n",
    "    return"
   ]
  },
  {
   "cell_type": "code",
   "execution_count": 64,
   "metadata": {},
   "outputs": [],
   "source": [
    "def notify_users(n,m,y_predict, y_predict_prob, sleep_time = 0.5):\n",
    "    \"\"\"\n",
    "    wysyła wiele maili\n",
    "    \"\"\"\n",
    "    for i in range(len(n)):\n",
    "        if m[i]:\n",
    "            send_response(n[i], m[i], y_predict[i], y_predict_prob[i])\n",
    "            sleep(sleep_time)\n",
    "    return"
   ]
  },
  {
   "cell_type": "code",
   "execution_count": 65,
   "metadata": {},
   "outputs": [],
   "source": [
    "def update(model, encoder, small_sleep_time):\n",
    "    \"\"\"\n",
    "    pipeline\n",
    "    \"\"\"\n",
    "    \n",
    "    f = open(\"./watcher.py\", \"r\")\n",
    "    entries_processed = int(f.read()[18:])\n",
    "    f.close()\n",
    "    \n",
    "    n,m,df = get_new_entries(entries_processed, encoder)\n",
    "    \n",
    "    if len(n) == 0: return\n",
    "    \n",
    "    y_predict, y_predict_prob = predict_new_entries(df, model)\n",
    "    notify_users(n,m,y_predict, y_predict_prob)\n",
    "    \n",
    "    f = open(\"./watcher.py\", \"w\")\n",
    "    f.write(\"entries_processed={}\".format(entries_processed + len(n)))\n",
    "    f.close()\n",
    "    \n",
    "    return"
   ]
  },
  {
   "cell_type": "code",
   "execution_count": 66,
   "metadata": {},
   "outputs": [],
   "source": [
    "def inf_update(model,\n",
    "               encoder, \n",
    "               big_sleep_time=60, \n",
    "               small_sleep_time=0.5):\n",
    "    \"\"\"\n",
    "    infinite pipeline\n",
    "    \"\"\"\n",
    "    \n",
    "    while True:\n",
    "        update(model, encoder, small_sleep_time)\n",
    "        sleep(big_sleep_time)"
   ]
  },
  {
   "cell_type": "code",
   "execution_count": 67,
   "metadata": {},
   "outputs": [],
   "source": [
    "service = build('sheets', 'v4',developerKey=key)\n",
    "sheet = service.spreadsheets()\n",
    "#SAMPLE_SPREADSHEET_ID = '1e1tWLI0vD05bUj-wLWicOnl0iU-GWz0aaWEtRDlTQ2M'"
   ]
  },
  {
   "cell_type": "code",
   "execution_count": null,
   "metadata": {},
   "outputs": [],
   "source": [
    "inf_update(xgb_model,encoder, big_sleep_time=60)"
   ]
  },
  {
   "cell_type": "markdown",
   "metadata": {},
   "source": [
    "Zobaczmy wyniki ankiery"
   ]
  },
  {
   "cell_type": "code",
   "execution_count": 68,
   "metadata": {
    "scrolled": false
   },
   "outputs": [
    {
     "name": "stdout",
     "output_type": "stream",
     "text": [
      "Processing from rows: 0. Got 28 new entries\n"
     ]
    },
    {
     "data": {
      "text/html": [
       "<div>\n",
       "<style scoped>\n",
       "    .dataframe tbody tr th:only-of-type {\n",
       "        vertical-align: middle;\n",
       "    }\n",
       "\n",
       "    .dataframe tbody tr th {\n",
       "        vertical-align: top;\n",
       "    }\n",
       "\n",
       "    .dataframe thead th {\n",
       "        text-align: right;\n",
       "    }\n",
       "</style>\n",
       "<table border=\"1\" class=\"dataframe\">\n",
       "  <thead>\n",
       "    <tr style=\"text-align: right;\">\n",
       "      <th></th>\n",
       "      <th>nick</th>\n",
       "      <th>romantic</th>\n",
       "      <th>prob</th>\n",
       "    </tr>\n",
       "  </thead>\n",
       "  <tbody>\n",
       "    <tr>\n",
       "      <th>0</th>\n",
       "      <td>testuś</td>\n",
       "      <td>1</td>\n",
       "      <td>0.612720</td>\n",
       "    </tr>\n",
       "    <tr>\n",
       "      <th>1</th>\n",
       "      <td>testuś2</td>\n",
       "      <td>1</td>\n",
       "      <td>0.631785</td>\n",
       "    </tr>\n",
       "    <tr>\n",
       "      <th>2</th>\n",
       "      <td>test3</td>\n",
       "      <td>0</td>\n",
       "      <td>0.195529</td>\n",
       "    </tr>\n",
       "    <tr>\n",
       "      <th>3</th>\n",
       "      <td>test4</td>\n",
       "      <td>0</td>\n",
       "      <td>0.172275</td>\n",
       "    </tr>\n",
       "    <tr>\n",
       "      <th>4</th>\n",
       "      <td>test_czy_submit_dziala</td>\n",
       "      <td>1</td>\n",
       "      <td>0.520502</td>\n",
       "    </tr>\n",
       "    <tr>\n",
       "      <th>5</th>\n",
       "      <td>3</td>\n",
       "      <td>0</td>\n",
       "      <td>0.380111</td>\n",
       "    </tr>\n",
       "    <tr>\n",
       "      <th>6</th>\n",
       "      <td>silnoręki</td>\n",
       "      <td>1</td>\n",
       "      <td>0.789935</td>\n",
       "    </tr>\n",
       "    <tr>\n",
       "      <th>7</th>\n",
       "      <td>Haha</td>\n",
       "      <td>1</td>\n",
       "      <td>0.606270</td>\n",
       "    </tr>\n",
       "    <tr>\n",
       "      <th>8</th>\n",
       "      <td>Beniz</td>\n",
       "      <td>0</td>\n",
       "      <td>0.131113</td>\n",
       "    </tr>\n",
       "    <tr>\n",
       "      <th>9</th>\n",
       "      <td>h_1</td>\n",
       "      <td>0</td>\n",
       "      <td>0.275652</td>\n",
       "    </tr>\n",
       "    <tr>\n",
       "      <th>10</th>\n",
       "      <td>h_2</td>\n",
       "      <td>0</td>\n",
       "      <td>0.396469</td>\n",
       "    </tr>\n",
       "    <tr>\n",
       "      <th>11</th>\n",
       "      <td>Pip</td>\n",
       "      <td>1</td>\n",
       "      <td>0.508388</td>\n",
       "    </tr>\n",
       "    <tr>\n",
       "      <th>12</th>\n",
       "      <td>przysiąść fałdów</td>\n",
       "      <td>1</td>\n",
       "      <td>0.764274</td>\n",
       "    </tr>\n",
       "    <tr>\n",
       "      <th>13</th>\n",
       "      <td>blblblblblbl</td>\n",
       "      <td>0</td>\n",
       "      <td>0.162227</td>\n",
       "    </tr>\n",
       "    <tr>\n",
       "      <th>14</th>\n",
       "      <td>blblblblb_drunk</td>\n",
       "      <td>0</td>\n",
       "      <td>0.457285</td>\n",
       "    </tr>\n",
       "    <tr>\n",
       "      <th>15</th>\n",
       "      <td>pppppp</td>\n",
       "      <td>1</td>\n",
       "      <td>0.694099</td>\n",
       "    </tr>\n",
       "    <tr>\n",
       "      <th>16</th>\n",
       "      <td>Baterie na Mikser</td>\n",
       "      <td>1</td>\n",
       "      <td>0.695052</td>\n",
       "    </tr>\n",
       "    <tr>\n",
       "      <th>17</th>\n",
       "      <td>Meduza</td>\n",
       "      <td>0</td>\n",
       "      <td>0.196854</td>\n",
       "    </tr>\n",
       "    <tr>\n",
       "      <th>18</th>\n",
       "      <td>MarekGagolewski</td>\n",
       "      <td>0</td>\n",
       "      <td>0.430884</td>\n",
       "    </tr>\n",
       "    <tr>\n",
       "      <th>19</th>\n",
       "      <td>Ja</td>\n",
       "      <td>0</td>\n",
       "      <td>0.416895</td>\n",
       "    </tr>\n",
       "    <tr>\n",
       "      <th>20</th>\n",
       "      <td>testowy</td>\n",
       "      <td>0</td>\n",
       "      <td>0.425239</td>\n",
       "    </tr>\n",
       "    <tr>\n",
       "      <th>21</th>\n",
       "      <td>gitarasiema</td>\n",
       "      <td>0</td>\n",
       "      <td>0.193025</td>\n",
       "    </tr>\n",
       "    <tr>\n",
       "      <th>22</th>\n",
       "      <td>Ankieter</td>\n",
       "      <td>0</td>\n",
       "      <td>0.152445</td>\n",
       "    </tr>\n",
       "    <tr>\n",
       "      <th>23</th>\n",
       "      <td>elo320</td>\n",
       "      <td>1</td>\n",
       "      <td>0.693677</td>\n",
       "    </tr>\n",
       "    <tr>\n",
       "      <th>24</th>\n",
       "      <td>Tabaluga</td>\n",
       "      <td>0</td>\n",
       "      <td>0.124815</td>\n",
       "    </tr>\n",
       "    <tr>\n",
       "      <th>25</th>\n",
       "      <td>panbanka</td>\n",
       "      <td>1</td>\n",
       "      <td>0.602619</td>\n",
       "    </tr>\n",
       "    <tr>\n",
       "      <th>26</th>\n",
       "      <td>123</td>\n",
       "      <td>0</td>\n",
       "      <td>0.238178</td>\n",
       "    </tr>\n",
       "    <tr>\n",
       "      <th>27</th>\n",
       "      <td>alkoholik123</td>\n",
       "      <td>0</td>\n",
       "      <td>0.339935</td>\n",
       "    </tr>\n",
       "  </tbody>\n",
       "</table>\n",
       "</div>"
      ],
      "text/plain": [
       "                      nick  romantic      prob\n",
       "0                   testuś         1  0.612720\n",
       "1                  testuś2         1  0.631785\n",
       "2                    test3         0  0.195529\n",
       "3                    test4         0  0.172275\n",
       "4   test_czy_submit_dziala         1  0.520502\n",
       "5                        3         0  0.380111\n",
       "6                silnoręki         1  0.789935\n",
       "7                     Haha         1  0.606270\n",
       "8                    Beniz         0  0.131113\n",
       "9                      h_1         0  0.275652\n",
       "10                     h_2         0  0.396469\n",
       "11                     Pip         1  0.508388\n",
       "12        przysiąść fałdów         1  0.764274\n",
       "13            blblblblblbl         0  0.162227\n",
       "14         blblblblb_drunk         0  0.457285\n",
       "15                  pppppp         1  0.694099\n",
       "16       Baterie na Mikser         1  0.695052\n",
       "17                  Meduza         0  0.196854\n",
       "18         MarekGagolewski         0  0.430884\n",
       "19                      Ja         0  0.416895\n",
       "20                 testowy         0  0.425239\n",
       "21             gitarasiema         0  0.193025\n",
       "22                Ankieter         0  0.152445\n",
       "23                  elo320         1  0.693677\n",
       "24                Tabaluga         0  0.124815\n",
       "25                panbanka         1  0.602619\n",
       "26                     123         0  0.238178\n",
       "27            alkoholik123         0  0.339935"
      ]
     },
     "execution_count": 68,
     "metadata": {},
     "output_type": "execute_result"
    }
   ],
   "source": [
    "n,m,df = get_new_entries(0, encoder)\n",
    "\n",
    "y_predict, y_predict_prob = predict_new_entries(df, xgb_model)\n",
    "pd.DataFrame({'nick':n, 'romantic':y_predict,'prob':y_predict_prob})"
   ]
  },
  {
   "cell_type": "markdown",
   "metadata": {},
   "source": [
    "# Podsumowanie\n",
    "Pomimo tego, iż wyternowaliśmy zbiór na innym targecie niż był on zamierzony, udało się nam dostać całkiem niezły wynik i stworzyć interesującą ankietę, która (mamy nadzieję) dała odrobinę radości w tych kwarantannowych czasach. "
   ]
  },
  {
   "cell_type": "markdown",
   "metadata": {},
   "source": [
    "# Oświadczenie\n",
    "\"Potwierdzam samodzielność powyższej pracy oraz niekorzystanie przeze mnie z niedozwolonych źródeł\""
   ]
  }
 ],
 "metadata": {
  "kernelspec": {
   "display_name": "Python 3",
   "language": "python",
   "name": "python3"
  },
  "language_info": {
   "codemirror_mode": {
    "name": "ipython",
    "version": 3
   },
   "file_extension": ".py",
   "mimetype": "text/x-python",
   "name": "python",
   "nbconvert_exporter": "python",
   "pygments_lexer": "ipython3",
   "version": "3.7.1"
  }
 },
 "nbformat": 4,
 "nbformat_minor": 2
}
