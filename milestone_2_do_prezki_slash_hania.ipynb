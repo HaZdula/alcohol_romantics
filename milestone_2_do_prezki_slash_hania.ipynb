{
 "cells": [
  {
   "cell_type": "code",
   "execution_count": 3,
   "metadata": {},
   "outputs": [],
   "source": [
    "#! pip install https://github.com/pandas-profiling/pandas-profiling/archive/master.zip"
   ]
  },
  {
   "cell_type": "code",
   "execution_count": 1,
   "metadata": {},
   "outputs": [],
   "source": [
    "import pandas as pd \n",
    "import numpy as np \n",
    "import matplotlib.pyplot as plt\n",
    "import seaborn as sns\n",
    "from pandas_profiling import ProfileReport\n",
    "from scipy.io import arff\n",
    "import xgboost as xgb\n",
    "pd.options.display.max_columns = None\n",
    "import seaborn as sns\n",
    "import matplotlib.pyplot as plt\n",
    "from sklearn.model_selection import KFold\n",
    "from sklearn import metrics"
   ]
  },
  {
   "cell_type": "markdown",
   "metadata": {},
   "source": [
    "## Wczytanie danych"
   ]
  },
  {
   "cell_type": "code",
   "execution_count": 132,
   "metadata": {},
   "outputs": [],
   "source": [
    "df = pd.read_csv(\"students-all.csv\")\n",
    "# remove rownames\n",
    "df = df.iloc[:,1:]"
   ]
  },
  {
   "cell_type": "code",
   "execution_count": 6,
   "metadata": {},
   "outputs": [
    {
     "data": {
      "text/html": [
       "<div>\n",
       "<style scoped>\n",
       "    .dataframe tbody tr th:only-of-type {\n",
       "        vertical-align: middle;\n",
       "    }\n",
       "\n",
       "    .dataframe tbody tr th {\n",
       "        vertical-align: top;\n",
       "    }\n",
       "\n",
       "    .dataframe thead th {\n",
       "        text-align: right;\n",
       "    }\n",
       "</style>\n",
       "<table border=\"1\" class=\"dataframe\">\n",
       "  <thead>\n",
       "    <tr style=\"text-align: right;\">\n",
       "      <th></th>\n",
       "      <th>age</th>\n",
       "      <th>Medu</th>\n",
       "      <th>Fedu</th>\n",
       "      <th>traveltime</th>\n",
       "      <th>studytime</th>\n",
       "      <th>failures</th>\n",
       "      <th>famrel</th>\n",
       "      <th>freetime</th>\n",
       "      <th>goout</th>\n",
       "      <th>Dalc</th>\n",
       "      <th>Walc</th>\n",
       "      <th>health</th>\n",
       "      <th>absences</th>\n",
       "      <th>G1</th>\n",
       "      <th>G2</th>\n",
       "      <th>G3</th>\n",
       "      <th>school_MS</th>\n",
       "      <th>sex_M</th>\n",
       "      <th>address_U</th>\n",
       "      <th>famsize_LE3</th>\n",
       "      <th>Pstatus_T</th>\n",
       "      <th>Mjob_health</th>\n",
       "      <th>Mjob_other</th>\n",
       "      <th>Mjob_services</th>\n",
       "      <th>Mjob_teacher</th>\n",
       "      <th>Fjob_health</th>\n",
       "      <th>Fjob_other</th>\n",
       "      <th>Fjob_services</th>\n",
       "      <th>Fjob_teacher</th>\n",
       "      <th>reason_home</th>\n",
       "      <th>reason_other</th>\n",
       "      <th>reason_reputation</th>\n",
       "      <th>guardian_mother</th>\n",
       "      <th>guardian_other</th>\n",
       "      <th>schoolsup_yes</th>\n",
       "      <th>famsup_yes</th>\n",
       "      <th>paid_yes</th>\n",
       "      <th>activities_yes</th>\n",
       "      <th>nursery_yes</th>\n",
       "      <th>higher_yes</th>\n",
       "      <th>internet_yes</th>\n",
       "      <th>romantic_yes</th>\n",
       "      <th>major_por</th>\n",
       "    </tr>\n",
       "  </thead>\n",
       "  <tbody>\n",
       "    <tr>\n",
       "      <th>0</th>\n",
       "      <td>18</td>\n",
       "      <td>4</td>\n",
       "      <td>4</td>\n",
       "      <td>2</td>\n",
       "      <td>2</td>\n",
       "      <td>0</td>\n",
       "      <td>4</td>\n",
       "      <td>3</td>\n",
       "      <td>4</td>\n",
       "      <td>1</td>\n",
       "      <td>1</td>\n",
       "      <td>3</td>\n",
       "      <td>6</td>\n",
       "      <td>5</td>\n",
       "      <td>6</td>\n",
       "      <td>6</td>\n",
       "      <td>0</td>\n",
       "      <td>0</td>\n",
       "      <td>1</td>\n",
       "      <td>0</td>\n",
       "      <td>0</td>\n",
       "      <td>0</td>\n",
       "      <td>0</td>\n",
       "      <td>0</td>\n",
       "      <td>0</td>\n",
       "      <td>0</td>\n",
       "      <td>0</td>\n",
       "      <td>0</td>\n",
       "      <td>1</td>\n",
       "      <td>0</td>\n",
       "      <td>0</td>\n",
       "      <td>0</td>\n",
       "      <td>1</td>\n",
       "      <td>0</td>\n",
       "      <td>1</td>\n",
       "      <td>0</td>\n",
       "      <td>0</td>\n",
       "      <td>0</td>\n",
       "      <td>1</td>\n",
       "      <td>1</td>\n",
       "      <td>0</td>\n",
       "      <td>0</td>\n",
       "      <td>0</td>\n",
       "    </tr>\n",
       "    <tr>\n",
       "      <th>1</th>\n",
       "      <td>17</td>\n",
       "      <td>1</td>\n",
       "      <td>1</td>\n",
       "      <td>1</td>\n",
       "      <td>2</td>\n",
       "      <td>0</td>\n",
       "      <td>5</td>\n",
       "      <td>3</td>\n",
       "      <td>3</td>\n",
       "      <td>1</td>\n",
       "      <td>1</td>\n",
       "      <td>3</td>\n",
       "      <td>4</td>\n",
       "      <td>5</td>\n",
       "      <td>5</td>\n",
       "      <td>6</td>\n",
       "      <td>0</td>\n",
       "      <td>0</td>\n",
       "      <td>1</td>\n",
       "      <td>0</td>\n",
       "      <td>1</td>\n",
       "      <td>0</td>\n",
       "      <td>0</td>\n",
       "      <td>0</td>\n",
       "      <td>0</td>\n",
       "      <td>0</td>\n",
       "      <td>1</td>\n",
       "      <td>0</td>\n",
       "      <td>0</td>\n",
       "      <td>0</td>\n",
       "      <td>0</td>\n",
       "      <td>0</td>\n",
       "      <td>0</td>\n",
       "      <td>0</td>\n",
       "      <td>0</td>\n",
       "      <td>1</td>\n",
       "      <td>0</td>\n",
       "      <td>0</td>\n",
       "      <td>0</td>\n",
       "      <td>1</td>\n",
       "      <td>1</td>\n",
       "      <td>0</td>\n",
       "      <td>0</td>\n",
       "    </tr>\n",
       "    <tr>\n",
       "      <th>2</th>\n",
       "      <td>15</td>\n",
       "      <td>1</td>\n",
       "      <td>1</td>\n",
       "      <td>1</td>\n",
       "      <td>2</td>\n",
       "      <td>3</td>\n",
       "      <td>4</td>\n",
       "      <td>3</td>\n",
       "      <td>2</td>\n",
       "      <td>2</td>\n",
       "      <td>3</td>\n",
       "      <td>3</td>\n",
       "      <td>10</td>\n",
       "      <td>7</td>\n",
       "      <td>8</td>\n",
       "      <td>10</td>\n",
       "      <td>0</td>\n",
       "      <td>0</td>\n",
       "      <td>1</td>\n",
       "      <td>1</td>\n",
       "      <td>1</td>\n",
       "      <td>0</td>\n",
       "      <td>0</td>\n",
       "      <td>0</td>\n",
       "      <td>0</td>\n",
       "      <td>0</td>\n",
       "      <td>1</td>\n",
       "      <td>0</td>\n",
       "      <td>0</td>\n",
       "      <td>0</td>\n",
       "      <td>1</td>\n",
       "      <td>0</td>\n",
       "      <td>1</td>\n",
       "      <td>0</td>\n",
       "      <td>1</td>\n",
       "      <td>0</td>\n",
       "      <td>1</td>\n",
       "      <td>0</td>\n",
       "      <td>1</td>\n",
       "      <td>1</td>\n",
       "      <td>1</td>\n",
       "      <td>0</td>\n",
       "      <td>0</td>\n",
       "    </tr>\n",
       "    <tr>\n",
       "      <th>3</th>\n",
       "      <td>15</td>\n",
       "      <td>4</td>\n",
       "      <td>2</td>\n",
       "      <td>1</td>\n",
       "      <td>3</td>\n",
       "      <td>0</td>\n",
       "      <td>3</td>\n",
       "      <td>2</td>\n",
       "      <td>2</td>\n",
       "      <td>1</td>\n",
       "      <td>1</td>\n",
       "      <td>5</td>\n",
       "      <td>2</td>\n",
       "      <td>15</td>\n",
       "      <td>14</td>\n",
       "      <td>15</td>\n",
       "      <td>0</td>\n",
       "      <td>0</td>\n",
       "      <td>1</td>\n",
       "      <td>0</td>\n",
       "      <td>1</td>\n",
       "      <td>1</td>\n",
       "      <td>0</td>\n",
       "      <td>0</td>\n",
       "      <td>0</td>\n",
       "      <td>0</td>\n",
       "      <td>0</td>\n",
       "      <td>1</td>\n",
       "      <td>0</td>\n",
       "      <td>1</td>\n",
       "      <td>0</td>\n",
       "      <td>0</td>\n",
       "      <td>1</td>\n",
       "      <td>0</td>\n",
       "      <td>0</td>\n",
       "      <td>1</td>\n",
       "      <td>1</td>\n",
       "      <td>1</td>\n",
       "      <td>1</td>\n",
       "      <td>1</td>\n",
       "      <td>1</td>\n",
       "      <td>1</td>\n",
       "      <td>0</td>\n",
       "    </tr>\n",
       "    <tr>\n",
       "      <th>4</th>\n",
       "      <td>16</td>\n",
       "      <td>3</td>\n",
       "      <td>3</td>\n",
       "      <td>1</td>\n",
       "      <td>2</td>\n",
       "      <td>0</td>\n",
       "      <td>4</td>\n",
       "      <td>3</td>\n",
       "      <td>2</td>\n",
       "      <td>1</td>\n",
       "      <td>2</td>\n",
       "      <td>5</td>\n",
       "      <td>4</td>\n",
       "      <td>6</td>\n",
       "      <td>10</td>\n",
       "      <td>10</td>\n",
       "      <td>0</td>\n",
       "      <td>0</td>\n",
       "      <td>1</td>\n",
       "      <td>0</td>\n",
       "      <td>1</td>\n",
       "      <td>0</td>\n",
       "      <td>1</td>\n",
       "      <td>0</td>\n",
       "      <td>0</td>\n",
       "      <td>0</td>\n",
       "      <td>1</td>\n",
       "      <td>0</td>\n",
       "      <td>0</td>\n",
       "      <td>1</td>\n",
       "      <td>0</td>\n",
       "      <td>0</td>\n",
       "      <td>0</td>\n",
       "      <td>0</td>\n",
       "      <td>0</td>\n",
       "      <td>1</td>\n",
       "      <td>1</td>\n",
       "      <td>0</td>\n",
       "      <td>1</td>\n",
       "      <td>1</td>\n",
       "      <td>0</td>\n",
       "      <td>0</td>\n",
       "      <td>0</td>\n",
       "    </tr>\n",
       "  </tbody>\n",
       "</table>\n",
       "</div>"
      ],
      "text/plain": [
       "   age  Medu  Fedu  traveltime  studytime  failures  famrel  freetime  goout  \\\n",
       "0   18     4     4           2          2         0       4         3      4   \n",
       "1   17     1     1           1          2         0       5         3      3   \n",
       "2   15     1     1           1          2         3       4         3      2   \n",
       "3   15     4     2           1          3         0       3         2      2   \n",
       "4   16     3     3           1          2         0       4         3      2   \n",
       "\n",
       "   Dalc  Walc  health  absences  G1  G2  G3  school_MS  sex_M  address_U  \\\n",
       "0     1     1       3         6   5   6   6          0      0          1   \n",
       "1     1     1       3         4   5   5   6          0      0          1   \n",
       "2     2     3       3        10   7   8  10          0      0          1   \n",
       "3     1     1       5         2  15  14  15          0      0          1   \n",
       "4     1     2       5         4   6  10  10          0      0          1   \n",
       "\n",
       "   famsize_LE3  Pstatus_T  Mjob_health  Mjob_other  Mjob_services  \\\n",
       "0            0          0            0           0              0   \n",
       "1            0          1            0           0              0   \n",
       "2            1          1            0           0              0   \n",
       "3            0          1            1           0              0   \n",
       "4            0          1            0           1              0   \n",
       "\n",
       "   Mjob_teacher  Fjob_health  Fjob_other  Fjob_services  Fjob_teacher  \\\n",
       "0             0            0           0              0             1   \n",
       "1             0            0           1              0             0   \n",
       "2             0            0           1              0             0   \n",
       "3             0            0           0              1             0   \n",
       "4             0            0           1              0             0   \n",
       "\n",
       "   reason_home  reason_other  reason_reputation  guardian_mother  \\\n",
       "0            0             0                  0                1   \n",
       "1            0             0                  0                0   \n",
       "2            0             1                  0                1   \n",
       "3            1             0                  0                1   \n",
       "4            1             0                  0                0   \n",
       "\n",
       "   guardian_other  schoolsup_yes  famsup_yes  paid_yes  activities_yes  \\\n",
       "0               0              1           0         0               0   \n",
       "1               0              0           1         0               0   \n",
       "2               0              1           0         1               0   \n",
       "3               0              0           1         1               1   \n",
       "4               0              0           1         1               0   \n",
       "\n",
       "   nursery_yes  higher_yes  internet_yes  romantic_yes  major_por  \n",
       "0            1           1             0             0          0  \n",
       "1            0           1             1             0          0  \n",
       "2            1           1             1             0          0  \n",
       "3            1           1             1             1          0  \n",
       "4            1           1             0             0          0  "
      ]
     },
     "execution_count": 6,
     "metadata": {},
     "output_type": "execute_result"
    }
   ],
   "source": [
    "df_dummies = pd.get_dummies(df, drop_first=True)\n",
    "df_dummies.head()"
   ]
  },
  {
   "cell_type": "markdown",
   "metadata": {},
   "source": [
    "## Funkcja ternująca na xgboost"
   ]
  },
  {
   "cell_type": "code",
   "execution_count": 7,
   "metadata": {},
   "outputs": [],
   "source": [
    "def train_fast(df, max_depth, target ):\n",
    "    \n",
    "    # shuffling index\n",
    "    df = df.sample(frac=1).reset_index(drop=True)\n",
    "    n = len(df)\n",
    "    \n",
    "    # 5 fold cross validation\n",
    "    kf = KFold(n_splits=5)\n",
    "        \n",
    "    \n",
    "    ret = []\n",
    "    \n",
    "    # we will make test 10% and validation 10%\n",
    "    for train_index, test_index in kf.split(df):\n",
    "        \n",
    "        train = df.iloc[train_index,:]\n",
    "        \n",
    "        v_ind = test_index[0:(len(test_index)//2)] \n",
    "        t_ind = test_index[(len(test_index)//2):len(test_index)]\n",
    "        \n",
    "        validation = df.iloc[v_ind,:]\n",
    "        test = df.iloc[t_ind,:]\n",
    "        \n",
    "        label_train = train[target]\n",
    "        label_val = validation[target]\n",
    "        label_test = test[target]\n",
    "\n",
    "        df_train = train.drop([target], axis = 1)\n",
    "        df_test  = test.drop([target], axis = 1)\n",
    "        df_val  = validation.drop([target], axis = 1)\n",
    "        \n",
    "        dtrain = xgb.DMatrix(data = df_train, label=label_train)\n",
    "        dval = xgb.DMatrix(data = df_val, label=label_val)\n",
    "        dtest = xgb.DMatrix(data = df_test, label=label_val)\n",
    "        \n",
    "        param = {'max_depth': max_depth, 'objective': 'binary:logistic', 'eval_metric':'auc'}\n",
    "        \n",
    "        evallist = [(dval, 'eval'), (dtrain, 'train')]\n",
    "        \n",
    "        num_round = 100\n",
    "        \n",
    "        bst = xgb.train(param, dtrain, num_round, evallist, verbose_eval=50)\n",
    "        y_pred = bst.predict(dtest, ntree_limit=bst.best_ntree_limit)\n",
    "\n",
    "        fpr, tpr, thresholds = metrics.roc_curve(label_test.to_numpy(), y_pred)\n",
    "        roc_auc = metrics.auc(fpr, tpr)\n",
    "        \n",
    "        ret.append(metrics.auc(fpr, tpr))\n",
    "    \n",
    "    # plot figure - probably unnecessary here\n",
    "    lw = 2\n",
    "    plt.figure()\n",
    "    plt.plot(fpr, tpr, color='darkorange',\n",
    "    lw=lw, label='ROC curve (AUC = %0.2f)' % roc_auc)\n",
    "\n",
    "    plt.show()\n",
    "\n",
    "    return np.array(ret).mean(), bst"
   ]
  },
  {
   "cell_type": "code",
   "execution_count": 8,
   "metadata": {},
   "outputs": [
    {
     "name": "stdout",
     "output_type": "stream",
     "text": [
      "[0]\teval-auc:0.62206\ttrain-auc:0.93891\n",
      "[50]\teval-auc:0.81302\ttrain-auc:1.00000\n",
      "[99]\teval-auc:0.79706\ttrain-auc:1.00000\n",
      "[0]\teval-auc:0.54970\ttrain-auc:0.91724\n",
      "[50]\teval-auc:0.87847\ttrain-auc:1.00000\n",
      "[99]\teval-auc:0.88325\ttrain-auc:1.00000\n",
      "[0]\teval-auc:0.64533\ttrain-auc:0.91472\n",
      "[50]\teval-auc:0.75957\ttrain-auc:1.00000\n",
      "[99]\teval-auc:0.76635\ttrain-auc:1.00000\n",
      "[0]\teval-auc:0.73516\ttrain-auc:0.93521\n",
      "[50]\teval-auc:0.85069\ttrain-auc:1.00000\n",
      "[99]\teval-auc:0.84808\ttrain-auc:1.00000\n",
      "[0]\teval-auc:0.70933\ttrain-auc:0.94515\n",
      "[50]\teval-auc:0.84295\ttrain-auc:1.00000\n",
      "[99]\teval-auc:0.85270\ttrain-auc:1.00000\n"
     ]
    },
    {
     "data": {
      "image/png": "[encoded data removed]",
      "text/plain": [
       "<Figure size 576x396 with 1 Axes>"
      ]
     },
     "metadata": {},
     "output_type": "display_data"
    },
    {
     "data": {
      "text/plain": [
       "(0.8399136801871986, <xgboost.core.Booster at 0x7f72a2d06da0>)"
      ]
     },
     "execution_count": 8,
     "metadata": {},
     "output_type": "execute_result"
    }
   ],
   "source": [
    "train_fast(df_dummies, 13, \"romantic_yes\")"
   ]
  },
  {
   "cell_type": "markdown",
   "metadata": {},
   "source": [
    "## Uśrednione auc"
   ]
  },
  {
   "cell_type": "code",
   "execution_count": 54,
   "metadata": {},
   "outputs": [],
   "source": [
    "def get_auc_mean(df, max_depth, target = \"romantic_yes\", n = 10):\n",
    "    auc_sum = 0\n",
    "    for i in range(n):\n",
    "        auc, bst = train_fast(df, max_depth, target)\n",
    "        auc_sum += auc\n",
    "    return auc_sum/n"
   ]
  },
  {
   "cell_type": "markdown",
   "metadata": {},
   "source": [
    "Zobaczmy jak zachowuje się xgboost przy różnych parametrach max_depth. Może chwilę potrwać"
   ]
  },
  {
   "cell_type": "code",
   "execution_count": 55,
   "metadata": {
    "scrolled": true
   },
   "outputs": [],
   "source": [
    "%%capture\n",
    "auc_results = []\n",
    "\n",
    "for i in range(40): \n",
    "    auc = get_auc_mean(df_dummies, i, \"romantic_yes\")\n",
    "    auc_results.append(auc)"
   ]
  },
  {
   "cell_type": "code",
   "execution_count": 56,
   "metadata": {},
   "outputs": [],
   "source": [
    "# Zróbmy średnią kroczącą \n",
    "def moving_average(a, n=3) :\n",
    "    ret = np.cumsum(a, dtype=float)\n",
    "    ret[n:] = ret[n:] - ret[:-n]\n",
    "    return ret[n - 1:] / n"
   ]
  },
  {
   "cell_type": "code",
   "execution_count": 57,
   "metadata": {},
   "outputs": [],
   "source": [
    "a = moving_average(np.array(auc_results),5)"
   ]
  },
  {
   "cell_type": "code",
   "execution_count": 58,
   "metadata": {},
   "outputs": [
    {
     "data": {
      "text/plain": [
       "Text(0.5, 1.0, 'auc based on max_depth')"
      ]
     },
     "execution_count": 58,
     "metadata": {},
     "output_type": "execute_result"
    },
    {
     "data": {
      "image/png": "[encoded data removed]",
      "text/plain": [
       "<Figure size 576x396 with 1 Axes>"
      ]
     },
     "metadata": {},
     "output_type": "display_data"
    }
   ],
   "source": [
    "res = pd.DataFrame({\"auc\": auc_results, \"depth\": [i for i in range(40)]})\n",
    "sns.lineplot(data = res, x = \"depth\", y = \"auc\").set_title(\"auc based on max_depth\")"
   ]
  },
  {
   "cell_type": "code",
   "execution_count": 59,
   "metadata": {
    "scrolled": false
   },
   "outputs": [
    {
     "data": {
      "text/plain": [
       "Text(0.5, 1.0, 'moving average of auc, base = 5')"
      ]
     },
     "execution_count": 59,
     "metadata": {},
     "output_type": "execute_result"
    },
    {
     "data": {
      "image/png": "[encoded data removed]",
      "text/plain": [
       "<Figure size 576x396 with 1 Axes>"
      ]
     },
     "metadata": {},
     "output_type": "display_data"
    }
   ],
   "source": [
    "res = pd.DataFrame({\"auc\":a,\"depth\":np.arange(len(auc_results))[2:-2]})\n",
    "sns.lineplot(data = res, x = \"depth\", y = \"auc\").set_title(\"moving average of auc, base = 5\")"
   ]
  },
  {
   "cell_type": "markdown",
   "metadata": {},
   "source": [
    "## Różne encodery"
   ]
  },
  {
   "cell_type": "code",
   "execution_count": 133,
   "metadata": {
    "scrolled": true
   },
   "outputs": [
    {
     "data": {
      "text/plain": [
       "Index(['school', 'sex', 'age', 'address', 'famsize', 'Pstatus', 'Medu', 'Fedu',\n",
       "       'Mjob', 'Fjob', 'reason', 'guardian', 'traveltime', 'studytime',\n",
       "       'failures', 'schoolsup', 'famsup', 'paid', 'activities', 'nursery',\n",
       "       'higher', 'internet', 'romantic', 'famrel', 'freetime', 'goout', 'Dalc',\n",
       "       'Walc', 'health', 'absences', 'G1', 'G2', 'G3', 'major'],\n",
       "      dtype='object')"
      ]
     },
     "execution_count": 133,
     "metadata": {},
     "output_type": "execute_result"
    }
   ],
   "source": [
    "df.columns"
   ]
  },
  {
   "cell_type": "code",
   "execution_count": 134,
   "metadata": {},
   "outputs": [],
   "source": [
    "df['romantic'] = np.where(df['romantic']=='yes', 1, 0)\n",
    "y = df[['romantic']].copy()\n",
    "df = df.drop(columns='romantic')"
   ]
  },
  {
   "cell_type": "code",
   "execution_count": 140,
   "metadata": {},
   "outputs": [],
   "source": [
    "import category_encoders as ce\n",
    "\n",
    "encolums = ['school', 'sex', 'address', 'famsize', 'Pstatus', 'Medu', 'Fedu',\n",
    "       'Mjob', 'Fjob', 'reason', 'guardian', 'traveltime', 'studytime', 'schoolsup', 'famsup', 'paid', 'activities', 'nursery',\n",
    "       'higher', 'internet', 'famrel', 'freetime', 'goout', 'Dalc',\n",
    "       'Walc', 'health', 'major']"
   ]
  },
  {
   "cell_type": "code",
   "execution_count": 141,
   "metadata": {
    "scrolled": true
   },
   "outputs": [
    {
     "name": "stdout",
     "output_type": "stream",
     "text": [
      "[0]\teval-auc:0.61193\ttrain-auc:0.92412\n",
      "[50]\teval-auc:0.78295\ttrain-auc:1.00000\n",
      "[99]\teval-auc:0.79091\ttrain-auc:1.00000\n",
      "[0]\teval-auc:0.64266\ttrain-auc:0.94282\n",
      "[50]\teval-auc:0.75803\ttrain-auc:1.00000\n",
      "[99]\teval-auc:0.77197\ttrain-auc:1.00000\n",
      "[0]\teval-auc:0.61925\ttrain-auc:0.92130\n",
      "[50]\teval-auc:0.80663\ttrain-auc:1.00000\n",
      "[99]\teval-auc:0.79917\ttrain-auc:1.00000\n",
      "[0]\teval-auc:0.61499\ttrain-auc:0.92759\n",
      "[50]\teval-auc:0.84028\ttrain-auc:1.00000\n",
      "[99]\teval-auc:0.83497\ttrain-auc:1.00000\n",
      "[0]\teval-auc:0.64228\ttrain-auc:0.92945\n",
      "[50]\teval-auc:0.82733\ttrain-auc:1.00000\n",
      "[99]\teval-auc:0.83546\ttrain-auc:1.00000\n"
     ]
    },
    {
     "data": {
      "image/png": "[encoded data removed]",
      "text/plain": [
       "<Figure size 576x396 with 1 Axes>"
      ]
     },
     "metadata": {},
     "output_type": "display_data"
    },
    {
     "name": "stdout",
     "output_type": "stream",
     "text": [
      "0.8235406250357589 0.8235406250357589\n",
      "[0]\teval-auc:0.62101\ttrain-auc:0.93881\n",
      "[50]\teval-auc:0.86387\ttrain-auc:1.00000\n",
      "[99]\teval-auc:0.86429\ttrain-auc:1.00000\n",
      "[0]\teval-auc:0.65104\ttrain-auc:0.92737\n",
      "[50]\teval-auc:0.81695\ttrain-auc:1.00000\n",
      "[99]\teval-auc:0.81243\ttrain-auc:1.00000\n",
      "[0]\teval-auc:0.70331\ttrain-auc:0.94491\n",
      "[50]\teval-auc:0.92836\ttrain-auc:1.00000\n",
      "[99]\teval-auc:0.91926\ttrain-auc:1.00000\n",
      "[0]\teval-auc:0.68602\ttrain-auc:0.93632\n",
      "[50]\teval-auc:0.87069\ttrain-auc:1.00000\n",
      "[99]\teval-auc:0.87960\ttrain-auc:1.00000\n",
      "[0]\teval-auc:0.60647\ttrain-auc:0.94477\n",
      "[50]\teval-auc:0.78320\ttrain-auc:1.00000\n",
      "[99]\teval-auc:0.78320\ttrain-auc:1.00000\n"
     ]
    },
    {
     "data": {
      "image/png": "[encoded data removed]",
      "text/plain": [
       "<Figure size 576x396 with 1 Axes>"
      ]
     },
     "metadata": {},
     "output_type": "display_data"
    },
    {
     "name": "stdout",
     "output_type": "stream",
     "text": [
      "0.82883020935495 1.6523708343907089\n",
      "[0]\teval-auc:0.55686\ttrain-auc:0.94505\n",
      "[50]\teval-auc:0.72569\ttrain-auc:1.00000\n",
      "[99]\teval-auc:0.73698\ttrain-auc:1.00000\n",
      "[0]\teval-auc:0.61501\ttrain-auc:0.92607\n",
      "[50]\teval-auc:0.81336\ttrain-auc:1.00000\n",
      "[99]\teval-auc:0.80031\ttrain-auc:1.00000\n",
      "[0]\teval-auc:0.66340\ttrain-auc:0.93176\n",
      "[50]\teval-auc:0.86520\ttrain-auc:1.00000\n",
      "[99]\teval-auc:0.86806\ttrain-auc:1.00000\n",
      "[0]\teval-auc:0.65950\ttrain-auc:0.92869\n",
      "[50]\teval-auc:0.81998\ttrain-auc:1.00000\n",
      "[99]\teval-auc:0.81339\ttrain-auc:1.00000\n",
      "[0]\teval-auc:0.68254\ttrain-auc:0.93823\n",
      "[50]\teval-auc:0.86179\ttrain-auc:1.00000\n",
      "[99]\teval-auc:0.86760\ttrain-auc:1.00000\n"
     ]
    },
    {
     "data": {
      "image/png": "[encoded data removed]",
      "text/plain": [
       "<Figure size 576x396 with 1 Axes>"
      ]
     },
     "metadata": {},
     "output_type": "display_data"
    },
    {
     "name": "stdout",
     "output_type": "stream",
     "text": [
      "0.8202643047131124 2.4726351391038213\n",
      "[0]\teval-auc:0.62676\ttrain-auc:0.91195\n",
      "[50]\teval-auc:0.87879\ttrain-auc:1.00000\n",
      "[99]\teval-auc:0.87068\ttrain-auc:1.00000\n",
      "[0]\teval-auc:0.73018\ttrain-auc:0.93256\n",
      "[50]\teval-auc:0.87140\ttrain-auc:1.00000\n",
      "[99]\teval-auc:0.87456\ttrain-auc:1.00000\n",
      "[0]\teval-auc:0.67290\ttrain-auc:0.92868\n",
      "[50]\teval-auc:0.81807\ttrain-auc:1.00000\n",
      "[99]\teval-auc:0.81807\ttrain-auc:1.00000\n",
      "[0]\teval-auc:0.70461\ttrain-auc:0.93367\n",
      "[50]\teval-auc:0.84514\ttrain-auc:1.00000\n",
      "[99]\teval-auc:0.84553\ttrain-auc:1.00000\n",
      "[0]\teval-auc:0.64869\ttrain-auc:0.93171\n",
      "[50]\teval-auc:0.87173\ttrain-auc:1.00000\n",
      "[99]\teval-auc:0.87909\ttrain-auc:1.00000\n"
     ]
    },
    {
     "data": {
      "image/png": "[encoded data removed]",
      "text/plain": [
       "<Figure size 576x396 with 1 Axes>"
      ]
     },
     "metadata": {},
     "output_type": "display_data"
    },
    {
     "name": "stdout",
     "output_type": "stream",
     "text": [
      "0.8101667031822644 3.2828018422860854\n",
      "[0]\teval-auc:0.64556\ttrain-auc:0.92598\n",
      "[50]\teval-auc:0.85049\ttrain-auc:1.00000\n",
      "[99]\teval-auc:0.85523\ttrain-auc:1.00000\n",
      "[0]\teval-auc:0.65764\ttrain-auc:0.92879\n",
      "[50]\teval-auc:0.83026\ttrain-auc:1.00000\n",
      "[99]\teval-auc:0.84025\ttrain-auc:1.00000\n",
      "[0]\teval-auc:0.60389\ttrain-auc:0.91063\n",
      "[50]\teval-auc:0.81014\ttrain-auc:1.00000\n",
      "[99]\teval-auc:0.81205\ttrain-auc:1.00000\n",
      "[0]\teval-auc:0.64180\ttrain-auc:0.92929\n",
      "[50]\teval-auc:0.84922\ttrain-auc:1.00000\n",
      "[99]\teval-auc:0.85313\ttrain-auc:1.00000\n",
      "[0]\teval-auc:0.78084\ttrain-auc:0.93556\n",
      "[50]\teval-auc:0.82757\ttrain-auc:1.00000\n",
      "[99]\teval-auc:0.81818\ttrain-auc:1.00000\n"
     ]
    },
    {
     "data": {
      "image/png": "[encoded data removed]",
      "text/plain": [
       "<Figure size 576x396 with 1 Axes>"
      ]
     },
     "metadata": {},
     "output_type": "display_data"
    },
    {
     "name": "stdout",
     "output_type": "stream",
     "text": [
      "0.8141435580133056 4.096945400299391\n",
      "[0]\teval-auc:0.69213\ttrain-auc:0.95567\n",
      "[50]\teval-auc:0.80207\ttrain-auc:1.00000\n",
      "[99]\teval-auc:0.80041\ttrain-auc:1.00000\n",
      "[0]\teval-auc:0.66144\ttrain-auc:0.92369\n",
      "[50]\teval-auc:0.78397\ttrain-auc:1.00000\n",
      "[99]\teval-auc:0.79520\ttrain-auc:1.00000\n",
      "[0]\teval-auc:0.65777\ttrain-auc:0.91336\n",
      "[50]\teval-auc:0.86177\ttrain-auc:1.00000\n",
      "[99]\teval-auc:0.85210\ttrain-auc:1.00000\n",
      "[0]\teval-auc:0.55540\ttrain-auc:0.91600\n",
      "[50]\teval-auc:0.78483\ttrain-auc:1.00000\n",
      "[99]\teval-auc:0.79310\ttrain-auc:1.00000\n",
      "[0]\teval-auc:0.56353\ttrain-auc:0.91531\n",
      "[50]\teval-auc:0.83582\ttrain-auc:1.00000\n",
      "[99]\teval-auc:0.83582\ttrain-auc:1.00000\n"
     ]
    },
    {
     "data": {
      "image/png": "[encoded data removed]",
      "text/plain": [
       "<Figure size 576x396 with 1 Axes>"
      ]
     },
     "metadata": {},
     "output_type": "display_data"
    },
    {
     "name": "stdout",
     "output_type": "stream",
     "text": [
      "0.8468468956017222 4.943792295901113\n",
      "[0]\teval-auc:0.74070\ttrain-auc:0.92740\n",
      "[50]\teval-auc:0.83891\ttrain-auc:1.00000\n",
      "[99]\teval-auc:0.83631\ttrain-auc:1.00000\n",
      "[0]\teval-auc:0.64441\ttrain-auc:0.93152\n",
      "[50]\teval-auc:0.83179\ttrain-auc:1.00000\n",
      "[99]\teval-auc:0.83098\ttrain-auc:1.00000\n",
      "[0]\teval-auc:0.58491\ttrain-auc:0.93699\n",
      "[50]\teval-auc:0.83179\ttrain-auc:1.00000\n",
      "[99]\teval-auc:0.83864\ttrain-auc:1.00000\n",
      "[0]\teval-auc:0.71509\ttrain-auc:0.92881\n",
      "[50]\teval-auc:0.83063\ttrain-auc:1.00000\n",
      "[99]\teval-auc:0.83198\ttrain-auc:1.00000\n",
      "[0]\teval-auc:0.72466\ttrain-auc:0.93488\n",
      "[50]\teval-auc:0.79211\ttrain-auc:1.00000\n",
      "[99]\teval-auc:0.80000\ttrain-auc:1.00000\n"
     ]
    },
    {
     "data": {
      "image/png": "[encoded data removed]",
      "text/plain": [
       "<Figure size 576x396 with 1 Axes>"
      ]
     },
     "metadata": {},
     "output_type": "display_data"
    },
    {
     "name": "stdout",
     "output_type": "stream",
     "text": [
      "0.8605535704716649 5.804345866372778\n",
      "[0]\teval-auc:0.68757\ttrain-auc:0.91304\n",
      "[50]\teval-auc:0.73961\ttrain-auc:1.00000\n",
      "[99]\teval-auc:0.74686\ttrain-auc:1.00000\n",
      "[0]\teval-auc:0.66217\ttrain-auc:0.93419\n",
      "[50]\teval-auc:0.81454\ttrain-auc:1.00000\n",
      "[99]\teval-auc:0.81904\ttrain-auc:1.00000\n",
      "[0]\teval-auc:0.69508\ttrain-auc:0.93396\n",
      "[50]\teval-auc:0.77917\ttrain-auc:1.00000\n",
      "[99]\teval-auc:0.79924\ttrain-auc:1.00000\n",
      "[0]\teval-auc:0.67619\ttrain-auc:0.94300\n",
      "[50]\teval-auc:0.82402\ttrain-auc:1.00000\n",
      "[99]\teval-auc:0.80290\ttrain-auc:1.00000\n",
      "[0]\teval-auc:0.74265\ttrain-auc:0.92443\n",
      "[50]\teval-auc:0.83520\ttrain-auc:1.00000\n",
      "[99]\teval-auc:0.83147\ttrain-auc:1.00000\n"
     ]
    },
    {
     "data": {
      "image/png": "[encoded data removed]",
      "text/plain": [
       "<Figure size 576x396 with 1 Axes>"
      ]
     },
     "metadata": {},
     "output_type": "display_data"
    },
    {
     "name": "stdout",
     "output_type": "stream",
     "text": [
      "0.8298307937048705 6.634176660077648\n",
      "[0]\teval-auc:0.60559\ttrain-auc:0.92732\n",
      "[50]\teval-auc:0.82360\ttrain-auc:1.00000\n",
      "[99]\teval-auc:0.81946\ttrain-auc:1.00000\n",
      "[0]\teval-auc:0.64115\ttrain-auc:0.92051\n",
      "[50]\teval-auc:0.84410\ttrain-auc:1.00000\n",
      "[99]\teval-auc:0.83891\ttrain-auc:1.00000\n",
      "[0]\teval-auc:0.68970\ttrain-auc:0.93783\n",
      "[50]\teval-auc:0.81378\ttrain-auc:1.00000\n",
      "[99]\teval-auc:0.80797\ttrain-auc:1.00000\n",
      "[0]\teval-auc:0.70403\ttrain-auc:0.93092\n",
      "[50]\teval-auc:0.84127\ttrain-auc:1.00000\n",
      "[99]\teval-auc:0.84708\ttrain-auc:1.00000\n",
      "[0]\teval-auc:0.70872\ttrain-auc:0.94151\n",
      "[50]\teval-auc:0.89132\ttrain-auc:1.00000\n",
      "[99]\teval-auc:0.89785\ttrain-auc:1.00000\n"
     ]
    },
    {
     "data": {
      "image/png": "[encoded data removed]",
      "text/plain": [
       "<Figure size 576x396 with 1 Axes>"
      ]
     },
     "metadata": {},
     "output_type": "display_data"
    },
    {
     "name": "stdout",
     "output_type": "stream",
     "text": [
      "0.8320847267819624 7.46626138685961\n",
      "[0]\teval-auc:0.64536\ttrain-auc:0.92663\n",
      "[50]\teval-auc:0.81223\ttrain-auc:1.00000\n",
      "[99]\teval-auc:0.83235\ttrain-auc:1.00000\n",
      "[0]\teval-auc:0.56781\ttrain-auc:0.93010\n",
      "[50]\teval-auc:0.74837\ttrain-auc:1.00000\n",
      "[99]\teval-auc:0.74346\ttrain-auc:1.00000\n",
      "[0]\teval-auc:0.75147\ttrain-auc:0.94217\n",
      "[50]\teval-auc:0.85672\ttrain-auc:1.00000\n",
      "[99]\teval-auc:0.86177\ttrain-auc:1.00000\n",
      "[0]\teval-auc:0.66471\ttrain-auc:0.95150\n",
      "[50]\teval-auc:0.87066\ttrain-auc:1.00000\n",
      "[99]\teval-auc:0.86589\ttrain-auc:1.00000\n",
      "[0]\teval-auc:0.68613\ttrain-auc:0.93307\n",
      "[50]\teval-auc:0.82031\ttrain-auc:1.00000\n",
      "[99]\teval-auc:0.83828\ttrain-auc:1.00000\n"
     ]
    },
    {
     "data": {
      "image/png": "[encoded data removed]",
      "text/plain": [
       "<Figure size 576x396 with 1 Axes>"
      ]
     },
     "metadata": {},
     "output_type": "display_data"
    },
    {
     "name": "stdout",
     "output_type": "stream",
     "text": [
      "0.8473267488022348 8.313588135661846\n"
     ]
    }
   ],
   "source": [
    "%%capture\n",
    "res_dict = {}\n",
    "encoder = ce.backward_difference.BackwardDifferenceEncoder(cols = encolums)\n",
    "df_encoded = encoder.fit_transform(df)\n",
    "df_encoded['romantic'] = y\n",
    "res_dict[\"BackwardDifferenceEncoder\"] = get_auc_mean(df_encoded, 18, \"romantic\")"
   ]
  },
  {
   "cell_type": "code",
   "execution_count": 143,
   "metadata": {},
   "outputs": [],
   "source": [
    "%%capture\n",
    "encoder = ce.binary.BinaryEncoder(cols = encolums)\n",
    "df_encoded = encoder.fit_transform(df)\n",
    "df_encoded['romantic'] = y\n",
    "res_dict[\"BinaryEncoder\"] = get_auc_mean(df_encoded, 18, \"romantic\")"
   ]
  },
  {
   "cell_type": "code",
   "execution_count": 144,
   "metadata": {},
   "outputs": [],
   "source": [
    "%%capture\n",
    "encoder = ce.basen.BaseNEncoder(cols = encolums)\n",
    "df_encoded = encoder.fit_transform(df)\n",
    "df_encoded['romantic'] = y\n",
    "res_dict[\"BaseNEncoder\"] = get_auc_mean(df_encoded, 18, \"romantic\")"
   ]
  },
  {
   "cell_type": "code",
   "execution_count": 145,
   "metadata": {},
   "outputs": [],
   "source": [
    "%%capture\n",
    "encoder = ce.hashing.HashingEncoder(cols = encolums)\n",
    "df_encoded = encoder.fit_transform(df)\n",
    "df_encoded['romantic'] = y\n",
    "res_dict[\"HashingEncoder\"] = get_auc_mean(df_encoded, 18, \"romantic\")"
   ]
  },
  {
   "cell_type": "code",
   "execution_count": 146,
   "metadata": {},
   "outputs": [],
   "source": [
    "%%capture\n",
    "encoder = ce.helmert.HelmertEncoder(cols = encolums)\n",
    "df_encoded = encoder.fit_transform(df)\n",
    "df_encoded['romantic'] = y\n",
    "res_dict[\"HelmertEncoder\"] = get_auc_mean(df_encoded, 18, \"romantic\")"
   ]
  },
  {
   "cell_type": "code",
   "execution_count": 148,
   "metadata": {},
   "outputs": [],
   "source": [
    "%%capture\n",
    "encoder = ce.one_hot.OneHotEncoder(cols = encolums)\n",
    "df_encoded = encoder.fit_transform(df)\n",
    "df_encoded['romantic'] = y\n",
    "res_dict[\"OneHotEncoder\"] = get_auc_mean(df_encoded, 18, \"romantic\")"
   ]
  },
  {
   "cell_type": "code",
   "execution_count": 149,
   "metadata": {},
   "outputs": [],
   "source": [
    "%%capture\n",
    "encoder = ce.ordinal.OrdinalEncoder(cols = encolums)\n",
    "df_encoded = encoder.fit_transform(df)\n",
    "df_encoded['romantic'] = y\n",
    "res_dict[\"OneHotEncoder\"] = get_auc_mean(df_encoded, 18, \"romantic\")"
   ]
  },
  {
   "cell_type": "code",
   "execution_count": 150,
   "metadata": {},
   "outputs": [],
   "source": [
    "%%capture\n",
    "encoder = ce.polynomial.PolynomialEncoder(cols = encolums)\n",
    "df_encoded = encoder.fit_transform(df)\n",
    "df_encoded['romantic'] = y\n",
    "res_dict[\"OneHotEncoder\"] = get_auc_mean(df_encoded, 18, \"romantic\")"
   ]
  },
  {
   "cell_type": "code",
   "execution_count": 151,
   "metadata": {},
   "outputs": [],
   "source": [
    "%%capture\n",
    "encoder = ce.sum_coding.SumEncoder(cols = encolums)\n",
    "df_encoded = encoder.fit_transform(df)\n",
    "df_encoded['romantic'] = y\n",
    "res_dict[\"OneHotEncoder\"] = get_auc_mean(df_encoded, 18, \"romantic\")"
   ]
  },
  {
   "cell_type": "code",
   "execution_count": 170,
   "metadata": {},
   "outputs": [
    {
     "data": {
      "text/plain": [
       "<matplotlib.axes._subplots.AxesSubplot at 0x7f7295619cf8>"
      ]
     },
     "execution_count": 170,
     "metadata": {},
     "output_type": "execute_result"
    },
    {
     "data": {
      "image/png": "[encoded data removed]",
      "text/plain": [
       "<Figure size 576x396 with 1 Axes>"
      ]
     },
     "metadata": {},
     "output_type": "display_data"
    }
   ],
   "source": [
    "res_df = pd.DataFrame({\"encoder\": list(res_dict.keys()), \"mean_auc\": list(res_dict.values())})\n",
    "sns.barplot(data = res_df, y = \"encoder\", x = \"mean_auc\")"
   ]
  },
  {
   "cell_type": "code",
   "execution_count": 161,
   "metadata": {
    "scrolled": true
   },
   "outputs": [
    {
     "name": "stdout",
     "output_type": "stream",
     "text": [
      "                     encoder  mean_auc\n",
      "0  BackwardDifferenceEncoder  0.831359\n",
      "1              BinaryEncoder  0.843413\n",
      "2               BaseNEncoder  0.839767\n",
      "3             HashingEncoder  0.633894\n",
      "4             HelmertEncoder  0.845647\n",
      "5              OneHotEncoder  0.843604\n"
     ]
    }
   ],
   "source": [
    "from pprint import pprint\n",
    "pprint(res_df)"
   ]
  },
  {
   "cell_type": "markdown",
   "metadata": {},
   "source": [
    "## Logarytmowanie zmiennych ciągłych"
   ]
  },
  {
   "cell_type": "markdown",
   "metadata": {},
   "source": [
    "Widzimy, że najlepiej wypada model dla głębokości około 40, ale ogólnie charakteryzuje się sporą wariancją wyniku accuracy"
   ]
  },
  {
   "cell_type": "code",
   "execution_count": 123,
   "metadata": {},
   "outputs": [
    {
     "data": {
      "text/plain": [
       "<matplotlib.axes._subplots.AxesSubplot at 0x7fde6c1af4d0>"
      ]
     },
     "execution_count": 123,
     "metadata": {},
     "output_type": "execute_result"
    },
    {
     "data": {
      "image/png": "[encoded data removed]",
      "text/plain": [
       "<Figure size 432x288 with 1 Axes>"
      ]
     },
     "metadata": {
      "needs_background": "light"
     },
     "output_type": "display_data"
    }
   ],
   "source": [
    "sns.distplot(df.absences)"
   ]
  },
  {
   "cell_type": "code",
   "execution_count": 124,
   "metadata": {},
   "outputs": [
    {
     "data": {
      "text/plain": [
       "<matplotlib.axes._subplots.AxesSubplot at 0x7fde6c036690>"
      ]
     },
     "execution_count": 124,
     "metadata": {},
     "output_type": "execute_result"
    },
    {
     "data": {
      "image/png": "[encoded data removed]",
      "text/plain": [
       "<Figure size 432x288 with 1 Axes>"
      ]
     },
     "metadata": {
      "needs_background": "light"
     },
     "output_type": "display_data"
    }
   ],
   "source": [
    "sns.distplot(np.log(df.absences+1)) # pytanie czy warto, może coś lepszego"
   ]
  },
  {
   "cell_type": "code",
   "execution_count": 220,
   "metadata": {},
   "outputs": [],
   "source": [
    "df[\"absences\"] = np.log(df.absences +1)"
   ]
  },
  {
   "cell_type": "code",
   "execution_count": 158,
   "metadata": {},
   "outputs": [
    {
     "data": {
      "text/plain": [
       "<matplotlib.axes._subplots.AxesSubplot at 0x7fde67ea5e90>"
      ]
     },
     "execution_count": 158,
     "metadata": {},
     "output_type": "execute_result"
    },
    {
     "data": {
      "image/png": "[encoded data removed]",
      "text/plain": [
       "<Figure size 432x288 with 1 Axes>"
      ]
     },
     "metadata": {
      "needs_background": "light"
     },
     "output_type": "display_data"
    }
   ],
   "source": [
    "sns.distplot(df.loc[df.romantic_yes == 1].Walc * df.loc[df.romantic_yes == 1].Dalc)"
   ]
  },
  {
   "cell_type": "code",
   "execution_count": 159,
   "metadata": {
    "scrolled": true
   },
   "outputs": [
    {
     "data": {
      "text/plain": [
       "<matplotlib.axes._subplots.AxesSubplot at 0x7fde67db63d0>"
      ]
     },
     "execution_count": 159,
     "metadata": {},
     "output_type": "execute_result"
    },
    {
     "data": {
      "image/png": "[encoded data removed]",
      "text/plain": [
       "<Figure size 432x288 with 1 Axes>"
      ]
     },
     "metadata": {
      "needs_background": "light"
     },
     "output_type": "display_data"
    }
   ],
   "source": [
    "sns.distplot(df.loc[df.romantic_yes == 0].Walc * df.loc[df.romantic_yes == 0].Dalc)"
   ]
  },
  {
   "cell_type": "markdown",
   "metadata": {},
   "source": [
    "## Nowe zmienne "
   ]
  },
  {
   "cell_type": "code",
   "execution_count": 221,
   "metadata": {},
   "outputs": [],
   "source": [
    "df[\"WeekandEnd\"] = df.Walc * df.Dalc"
   ]
  },
  {
   "cell_type": "code",
   "execution_count": 222,
   "metadata": {
    "scrolled": true
   },
   "outputs": [
    {
     "name": "stdout",
     "output_type": "stream",
     "text": [
      "[0]\teval-auc:0.69847\ttrain-auc:0.943899\n",
      "[50]\teval-auc:0.769577\ttrain-auc:1\n",
      "[99]\teval-auc:0.762196\ttrain-auc:1\n",
      "[0]\teval-auc:0.655798\ttrain-auc:0.934646\n",
      "[50]\teval-auc:0.821396\ttrain-auc:1\n",
      "[99]\teval-auc:0.8366\ttrain-auc:1\n",
      "[0]\teval-auc:0.678363\ttrain-auc:0.949497\n",
      "[50]\teval-auc:0.795676\ttrain-auc:1\n",
      "[99]\teval-auc:0.793727\ttrain-auc:1\n",
      "[0]\teval-auc:0.535996\ttrain-auc:0.915929\n",
      "[50]\teval-auc:0.762777\ttrain-auc:1\n",
      "[99]\teval-auc:0.775966\ttrain-auc:1\n",
      "[0]\teval-auc:0.671387\ttrain-auc:0.930621\n",
      "[50]\teval-auc:0.845497\ttrain-auc:1\n",
      "[99]\teval-auc:0.837691\ttrain-auc:1\n",
      "[0]\teval-auc:0.744374\ttrain-auc:0.945999\n",
      "[50]\teval-auc:0.863193\ttrain-auc:1\n",
      "[99]\teval-auc:0.846004\ttrain-auc:1\n",
      "[0]\teval-auc:0.662301\ttrain-auc:0.934734\n",
      "[50]\teval-auc:0.823228\ttrain-auc:1\n",
      "[99]\teval-auc:0.831288\ttrain-auc:1\n",
      "[0]\teval-auc:0.622592\ttrain-auc:0.921328\n",
      "[50]\teval-auc:0.805581\ttrain-auc:1\n",
      "[99]\teval-auc:0.80216\ttrain-auc:1\n",
      "[0]\teval-auc:0.611786\ttrain-auc:0.94098\n",
      "[50]\teval-auc:0.810571\ttrain-auc:1\n",
      "[99]\teval-auc:0.808063\ttrain-auc:1\n",
      "[0]\teval-auc:0.715686\ttrain-auc:0.935381\n",
      "[50]\teval-auc:0.791939\ttrain-auc:1\n",
      "[99]\teval-auc:0.802469\ttrain-auc:1\n",
      "[0]\teval-auc:0.643584\ttrain-auc:0.915542\n",
      "[50]\teval-auc:0.744083\ttrain-auc:1\n",
      "[99]\teval-auc:0.747226\ttrain-auc:1\n",
      "[0]\teval-auc:0.702385\ttrain-auc:0.943727\n",
      "[50]\teval-auc:0.847078\ttrain-auc:1\n",
      "[99]\teval-auc:0.844675\ttrain-auc:1\n",
      "[0]\teval-auc:0.669042\ttrain-auc:0.932627\n",
      "[50]\teval-auc:0.826078\ttrain-auc:1\n",
      "[99]\teval-auc:0.825688\ttrain-auc:1\n",
      "[0]\teval-auc:0.724764\ttrain-auc:0.939261\n",
      "[50]\teval-auc:0.836238\ttrain-auc:1\n",
      "[99]\teval-auc:0.83061\ttrain-auc:1\n",
      "[0]\teval-auc:0.52348\ttrain-auc:0.906294\n",
      "[50]\teval-auc:0.791423\ttrain-auc:1\n",
      "[99]\teval-auc:0.793372\ttrain-auc:1\n",
      "[0]\teval-auc:0.63984\ttrain-auc:0.928839\n",
      "[50]\teval-auc:0.781782\ttrain-auc:1\n",
      "[99]\teval-auc:0.779179\ttrain-auc:1\n",
      "[0]\teval-auc:0.645486\ttrain-auc:0.938381\n",
      "[50]\teval-auc:0.769444\ttrain-auc:1\n",
      "[99]\teval-auc:0.776736\ttrain-auc:1\n",
      "[0]\teval-auc:0.701221\ttrain-auc:0.942905\n",
      "[50]\teval-auc:0.88785\ttrain-auc:1\n",
      "[99]\teval-auc:0.893191\ttrain-auc:1\n",
      "[0]\teval-auc:0.701208\ttrain-auc:0.917904\n",
      "[50]\teval-auc:0.885073\ttrain-auc:1\n",
      "[99]\teval-auc:0.88956\ttrain-auc:1\n",
      "[0]\teval-auc:0.701339\ttrain-auc:0.934392\n",
      "[50]\teval-auc:0.800179\ttrain-auc:1\n",
      "[99]\teval-auc:0.800357\ttrain-auc:1\n"
     ]
    }
   ],
   "source": [
    "acc_arr = np.zeros(20)\n",
    "for i in range(20):\n",
    "    acc2, _ = train_fast(df,40)\n",
    "    acc_arr[i] = acc2"
   ]
  },
  {
   "cell_type": "code",
   "execution_count": 223,
   "metadata": {},
   "outputs": [
    {
     "data": {
      "text/plain": [
       "0.7535031847133759"
      ]
     },
     "execution_count": 223,
     "metadata": {},
     "output_type": "execute_result"
    }
   ],
   "source": [
    "acc_arr.mean()       # ciut lepiej"
   ]
  },
  {
   "cell_type": "code",
   "execution_count": 224,
   "metadata": {},
   "outputs": [],
   "source": [
    "a = np.where((df.Dalc > 3)&(df.Walc <3),1,0 )   # wniosek z eda, osoby oznaczone w tej kolumnie jako 1, to wyłącznie romantycy\n",
    "df[\"WeirdDrinker\"] = a"
   ]
  },
  {
   "cell_type": "code",
   "execution_count": 225,
   "metadata": {
    "scrolled": true
   },
   "outputs": [
    {
     "name": "stdout",
     "output_type": "stream",
     "text": [
      "[0]\teval-auc:0.647882\ttrain-auc:0.93077\n",
      "[50]\teval-auc:0.742867\ttrain-auc:1\n",
      "[99]\teval-auc:0.761652\ttrain-auc:1\n",
      "[0]\teval-auc:0.651935\ttrain-auc:0.952581\n",
      "[50]\teval-auc:0.776598\ttrain-auc:1\n",
      "[99]\teval-auc:0.774437\ttrain-auc:1\n",
      "[0]\teval-auc:0.687144\ttrain-auc:0.931398\n",
      "[50]\teval-auc:0.837619\ttrain-auc:1\n",
      "[99]\teval-auc:0.839517\ttrain-auc:1\n",
      "[0]\teval-auc:0.701292\ttrain-auc:0.947721\n",
      "[50]\teval-auc:0.851659\ttrain-auc:1\n",
      "[99]\teval-auc:0.850116\ttrain-auc:1\n",
      "[0]\teval-auc:0.573943\ttrain-auc:0.90367\n",
      "[50]\teval-auc:0.747541\ttrain-auc:1\n",
      "[99]\teval-auc:0.748922\ttrain-auc:1\n",
      "[0]\teval-auc:0.608726\ttrain-auc:0.935896\n",
      "[50]\teval-auc:0.776566\ttrain-auc:1\n",
      "[99]\teval-auc:0.780084\ttrain-auc:1\n",
      "[0]\teval-auc:0.661058\ttrain-auc:0.915763\n",
      "[50]\teval-auc:0.768491\ttrain-auc:1\n",
      "[99]\teval-auc:0.780695\ttrain-auc:1\n",
      "[0]\teval-auc:0.605421\ttrain-auc:0.927021\n",
      "[50]\teval-auc:0.840085\ttrain-auc:1\n",
      "[99]\teval-auc:0.837963\ttrain-auc:1\n",
      "[0]\teval-auc:0.600734\ttrain-auc:0.94493\n",
      "[50]\teval-auc:0.816355\ttrain-auc:1\n",
      "[99]\teval-auc:0.802726\ttrain-auc:1\n",
      "[0]\teval-auc:0.680236\ttrain-auc:0.9369\n",
      "[50]\teval-auc:0.79587\ttrain-auc:1\n",
      "[99]\teval-auc:0.782045\ttrain-auc:1\n",
      "[0]\teval-auc:0.554539\ttrain-auc:0.935821\n",
      "[50]\teval-auc:0.748768\ttrain-auc:1\n",
      "[99]\teval-auc:0.764954\ttrain-auc:1\n",
      "[0]\teval-auc:0.521464\ttrain-auc:0.924566\n",
      "[50]\teval-auc:0.637403\ttrain-auc:1\n",
      "[99]\teval-auc:0.644616\ttrain-auc:1\n",
      "[0]\teval-auc:0.651161\ttrain-auc:0.947791\n",
      "[50]\teval-auc:0.792309\ttrain-auc:1\n",
      "[99]\teval-auc:0.804182\ttrain-auc:1\n",
      "[0]\teval-auc:0.689595\ttrain-auc:0.936609\n",
      "[50]\teval-auc:0.78018\ttrain-auc:1\n",
      "[99]\teval-auc:0.78714\ttrain-auc:1\n",
      "[0]\teval-auc:0.687192\ttrain-auc:0.941957\n",
      "[50]\teval-auc:0.80278\ttrain-auc:1\n",
      "[99]\teval-auc:0.800844\ttrain-auc:1\n",
      "[0]\teval-auc:0.651964\ttrain-auc:0.928908\n",
      "[50]\teval-auc:0.839821\ttrain-auc:1\n",
      "[99]\teval-auc:0.843036\ttrain-auc:1\n",
      "[0]\teval-auc:0.618491\ttrain-auc:0.93268\n",
      "[50]\teval-auc:0.765658\ttrain-auc:1\n",
      "[99]\teval-auc:0.768297\ttrain-auc:1\n",
      "[0]\teval-auc:0.673032\ttrain-auc:0.917304\n",
      "[50]\teval-auc:0.786343\ttrain-auc:1\n",
      "[99]\teval-auc:0.778241\ttrain-auc:1\n",
      "[0]\teval-auc:0.696007\ttrain-auc:0.90638\n",
      "[50]\teval-auc:0.819271\ttrain-auc:1\n",
      "[99]\teval-auc:0.819444\ttrain-auc:1\n",
      "[0]\teval-auc:0.707868\ttrain-auc:0.91016\n",
      "[50]\teval-auc:0.840333\ttrain-auc:1\n",
      "[99]\teval-auc:0.838207\ttrain-auc:1\n"
     ]
    }
   ],
   "source": [
    "acc_arr = np.zeros(20)\n",
    "for i in range(20):\n",
    "    acc3, _ = train_fast(df,40)\n",
    "    acc_arr[i] = acc3"
   ]
  },
  {
   "cell_type": "code",
   "execution_count": 226,
   "metadata": {},
   "outputs": [
    {
     "data": {
      "text/plain": [
       "0.771656050955414"
      ]
     },
     "execution_count": 226,
     "metadata": {},
     "output_type": "execute_result"
    }
   ],
   "source": [
    "acc_arr.mean()      # już dużo lepiej niż oryginalnie"
   ]
  },
  {
   "cell_type": "markdown",
   "metadata": {},
   "source": [
    "## PCA"
   ]
  },
  {
   "cell_type": "code",
   "execution_count": 203,
   "metadata": {},
   "outputs": [],
   "source": [
    "from sklearn.decomposition import PCA"
   ]
  },
  {
   "cell_type": "code",
   "execution_count": 185,
   "metadata": {},
   "outputs": [
    {
     "data": {
      "text/html": [
       "<div>\n",
       "<style scoped>\n",
       "    .dataframe tbody tr th:only-of-type {\n",
       "        vertical-align: middle;\n",
       "    }\n",
       "\n",
       "    .dataframe tbody tr th {\n",
       "        vertical-align: top;\n",
       "    }\n",
       "\n",
       "    .dataframe thead th {\n",
       "        text-align: right;\n",
       "    }\n",
       "</style>\n",
       "<table border=\"1\" class=\"dataframe\">\n",
       "  <thead>\n",
       "    <tr style=\"text-align: right;\">\n",
       "      <th></th>\n",
       "      <th>pc1</th>\n",
       "      <th>pc2</th>\n",
       "      <th>pc3</th>\n",
       "      <th>pc4</th>\n",
       "      <th>pc5</th>\n",
       "      <th>pc6</th>\n",
       "      <th>pc7</th>\n",
       "      <th>pc8</th>\n",
       "      <th>pc9</th>\n",
       "      <th>pc10</th>\n",
       "    </tr>\n",
       "  </thead>\n",
       "  <tbody>\n",
       "    <tr>\n",
       "      <th>0</th>\n",
       "      <td>9.353774</td>\n",
       "      <td>-0.550099</td>\n",
       "      <td>-0.110924</td>\n",
       "      <td>1.886126</td>\n",
       "      <td>2.526790</td>\n",
       "      <td>1.923906</td>\n",
       "      <td>-1.242351</td>\n",
       "      <td>-0.024718</td>\n",
       "      <td>0.037111</td>\n",
       "      <td>0.616042</td>\n",
       "    </tr>\n",
       "    <tr>\n",
       "      <th>1</th>\n",
       "      <td>10.094487</td>\n",
       "      <td>-1.389813</td>\n",
       "      <td>-2.389793</td>\n",
       "      <td>-0.335878</td>\n",
       "      <td>1.051091</td>\n",
       "      <td>-0.025940</td>\n",
       "      <td>-1.065988</td>\n",
       "      <td>-0.697437</td>\n",
       "      <td>0.053942</td>\n",
       "      <td>0.416029</td>\n",
       "    </tr>\n",
       "    <tr>\n",
       "      <th>2</th>\n",
       "      <td>4.957534</td>\n",
       "      <td>0.323846</td>\n",
       "      <td>-2.723654</td>\n",
       "      <td>-0.444309</td>\n",
       "      <td>1.689641</td>\n",
       "      <td>-1.447474</td>\n",
       "      <td>1.149817</td>\n",
       "      <td>-0.858096</td>\n",
       "      <td>-0.621435</td>\n",
       "      <td>-0.693584</td>\n",
       "    </tr>\n",
       "    <tr>\n",
       "      <th>3</th>\n",
       "      <td>-6.021629</td>\n",
       "      <td>-1.902445</td>\n",
       "      <td>1.577135</td>\n",
       "      <td>-1.106217</td>\n",
       "      <td>0.872031</td>\n",
       "      <td>-0.140397</td>\n",
       "      <td>1.308566</td>\n",
       "      <td>-0.877959</td>\n",
       "      <td>-0.555090</td>\n",
       "      <td>0.681144</td>\n",
       "    </tr>\n",
       "    <tr>\n",
       "      <th>4</th>\n",
       "      <td>4.019292</td>\n",
       "      <td>-0.189450</td>\n",
       "      <td>-0.932625</td>\n",
       "      <td>-1.010804</td>\n",
       "      <td>3.890214</td>\n",
       "      <td>0.445719</td>\n",
       "      <td>0.270783</td>\n",
       "      <td>1.191066</td>\n",
       "      <td>-0.959605</td>\n",
       "      <td>0.038107</td>\n",
       "    </tr>\n",
       "    <tr>\n",
       "      <th>...</th>\n",
       "      <td>...</td>\n",
       "      <td>...</td>\n",
       "      <td>...</td>\n",
       "      <td>...</td>\n",
       "      <td>...</td>\n",
       "      <td>...</td>\n",
       "      <td>...</td>\n",
       "      <td>...</td>\n",
       "      <td>...</td>\n",
       "      <td>...</td>\n",
       "    </tr>\n",
       "    <tr>\n",
       "      <th>1039</th>\n",
       "      <td>1.678819</td>\n",
       "      <td>-0.104869</td>\n",
       "      <td>-0.122668</td>\n",
       "      <td>-1.480298</td>\n",
       "      <td>-0.138726</td>\n",
       "      <td>2.519995</td>\n",
       "      <td>-0.997655</td>\n",
       "      <td>0.763093</td>\n",
       "      <td>-0.258722</td>\n",
       "      <td>-0.676246</td>\n",
       "    </tr>\n",
       "    <tr>\n",
       "      <th>1040</th>\n",
       "      <td>-7.072694</td>\n",
       "      <td>-0.597366</td>\n",
       "      <td>-1.782231</td>\n",
       "      <td>1.796408</td>\n",
       "      <td>-1.610812</td>\n",
       "      <td>0.667217</td>\n",
       "      <td>-1.030189</td>\n",
       "      <td>-0.487840</td>\n",
       "      <td>-0.032344</td>\n",
       "      <td>0.276993</td>\n",
       "    </tr>\n",
       "    <tr>\n",
       "      <th>1041</th>\n",
       "      <td>1.331891</td>\n",
       "      <td>-2.302947</td>\n",
       "      <td>-1.179159</td>\n",
       "      <td>-2.085767</td>\n",
       "      <td>-1.457850</td>\n",
       "      <td>1.768753</td>\n",
       "      <td>3.105314</td>\n",
       "      <td>0.654245</td>\n",
       "      <td>-2.098445</td>\n",
       "      <td>0.207371</td>\n",
       "    </tr>\n",
       "    <tr>\n",
       "      <th>1042</th>\n",
       "      <td>2.377861</td>\n",
       "      <td>2.692444</td>\n",
       "      <td>-0.893670</td>\n",
       "      <td>1.841289</td>\n",
       "      <td>-1.186198</td>\n",
       "      <td>-1.044776</td>\n",
       "      <td>0.687772</td>\n",
       "      <td>-0.241463</td>\n",
       "      <td>-0.489388</td>\n",
       "      <td>-0.457325</td>\n",
       "    </tr>\n",
       "    <tr>\n",
       "      <th>1043</th>\n",
       "      <td>1.126240</td>\n",
       "      <td>1.921840</td>\n",
       "      <td>-0.364912</td>\n",
       "      <td>-1.517369</td>\n",
       "      <td>0.231229</td>\n",
       "      <td>0.976460</td>\n",
       "      <td>1.485064</td>\n",
       "      <td>0.770444</td>\n",
       "      <td>0.879157</td>\n",
       "      <td>-2.324713</td>\n",
       "    </tr>\n",
       "  </tbody>\n",
       "</table>\n",
       "<p>1044 rows × 10 columns</p>\n",
       "</div>"
      ],
      "text/plain": [
       "            pc1       pc2       pc3       pc4       pc5       pc6       pc7  \\\n",
       "0      9.353774 -0.550099 -0.110924  1.886126  2.526790  1.923906 -1.242351   \n",
       "1     10.094487 -1.389813 -2.389793 -0.335878  1.051091 -0.025940 -1.065988   \n",
       "2      4.957534  0.323846 -2.723654 -0.444309  1.689641 -1.447474  1.149817   \n",
       "3     -6.021629 -1.902445  1.577135 -1.106217  0.872031 -0.140397  1.308566   \n",
       "4      4.019292 -0.189450 -0.932625 -1.010804  3.890214  0.445719  0.270783   \n",
       "...         ...       ...       ...       ...       ...       ...       ...   \n",
       "1039   1.678819 -0.104869 -0.122668 -1.480298 -0.138726  2.519995 -0.997655   \n",
       "1040  -7.072694 -0.597366 -1.782231  1.796408 -1.610812  0.667217 -1.030189   \n",
       "1041   1.331891 -2.302947 -1.179159 -2.085767 -1.457850  1.768753  3.105314   \n",
       "1042   2.377861  2.692444 -0.893670  1.841289 -1.186198 -1.044776  0.687772   \n",
       "1043   1.126240  1.921840 -0.364912 -1.517369  0.231229  0.976460  1.485064   \n",
       "\n",
       "           pc8       pc9      pc10  \n",
       "0    -0.024718  0.037111  0.616042  \n",
       "1    -0.697437  0.053942  0.416029  \n",
       "2    -0.858096 -0.621435 -0.693584  \n",
       "3    -0.877959 -0.555090  0.681144  \n",
       "4     1.191066 -0.959605  0.038107  \n",
       "...        ...       ...       ...  \n",
       "1039  0.763093 -0.258722 -0.676246  \n",
       "1040 -0.487840 -0.032344  0.276993  \n",
       "1041  0.654245 -2.098445  0.207371  \n",
       "1042 -0.241463 -0.489388 -0.457325  \n",
       "1043  0.770444  0.879157 -2.324713  \n",
       "\n",
       "[1044 rows x 10 columns]"
      ]
     },
     "execution_count": 185,
     "metadata": {},
     "output_type": "execute_result"
    }
   ],
   "source": [
    "pca = PCA(n_components=10) \n",
    "principalComponents = pca.fit_transform(df.drop(\"romantic_yes\", axis = 1))\n",
    "\n",
    "cols = []\n",
    "for i in range(10): \n",
    "    cols.append(\"pc\"+str(i+1))\n",
    "\n",
    "principalDf = pd.DataFrame(data = principalComponents, columns = cols)\n",
    "principalDf"
   ]
  },
  {
   "cell_type": "code",
   "execution_count": 187,
   "metadata": {},
   "outputs": [
    {
     "data": {
      "text/plain": [
       "array([0.59902194, 0.65019026, 0.69491414, 0.73266921, 0.77016296,\n",
       "       0.79725053, 0.82188999, 0.84136708, 0.8570918 , 0.87190621])"
      ]
     },
     "execution_count": 187,
     "metadata": {},
     "output_type": "execute_result"
    }
   ],
   "source": [
    "pca.explained_variance_ratio_.cumsum()   # 65 % wariancji w 2 ważnych kolumnach"
   ]
  },
  {
   "cell_type": "markdown",
   "metadata": {},
   "source": [
    "zredukowaliśmy wymiar do 10"
   ]
  },
  {
   "cell_type": "code",
   "execution_count": 188,
   "metadata": {},
   "outputs": [
    {
     "data": {
      "text/html": [
       "<div>\n",
       "<style scoped>\n",
       "    .dataframe tbody tr th:only-of-type {\n",
       "        vertical-align: middle;\n",
       "    }\n",
       "\n",
       "    .dataframe tbody tr th {\n",
       "        vertical-align: top;\n",
       "    }\n",
       "\n",
       "    .dataframe thead th {\n",
       "        text-align: right;\n",
       "    }\n",
       "</style>\n",
       "<table border=\"1\" class=\"dataframe\">\n",
       "  <thead>\n",
       "    <tr style=\"text-align: right;\">\n",
       "      <th></th>\n",
       "      <th>pc1</th>\n",
       "      <th>pc2</th>\n",
       "      <th>pc3</th>\n",
       "      <th>pc4</th>\n",
       "      <th>pc5</th>\n",
       "      <th>pc6</th>\n",
       "      <th>pc7</th>\n",
       "      <th>pc8</th>\n",
       "      <th>pc9</th>\n",
       "      <th>pc10</th>\n",
       "      <th>romantic_yes</th>\n",
       "    </tr>\n",
       "  </thead>\n",
       "  <tbody>\n",
       "    <tr>\n",
       "      <th>0</th>\n",
       "      <td>9.353774</td>\n",
       "      <td>-0.550099</td>\n",
       "      <td>-0.110924</td>\n",
       "      <td>1.886126</td>\n",
       "      <td>2.526790</td>\n",
       "      <td>1.923906</td>\n",
       "      <td>-1.242351</td>\n",
       "      <td>-0.024718</td>\n",
       "      <td>0.037111</td>\n",
       "      <td>0.616042</td>\n",
       "      <td>0</td>\n",
       "    </tr>\n",
       "    <tr>\n",
       "      <th>1</th>\n",
       "      <td>10.094487</td>\n",
       "      <td>-1.389813</td>\n",
       "      <td>-2.389793</td>\n",
       "      <td>-0.335878</td>\n",
       "      <td>1.051091</td>\n",
       "      <td>-0.025940</td>\n",
       "      <td>-1.065988</td>\n",
       "      <td>-0.697437</td>\n",
       "      <td>0.053942</td>\n",
       "      <td>0.416029</td>\n",
       "      <td>0</td>\n",
       "    </tr>\n",
       "    <tr>\n",
       "      <th>2</th>\n",
       "      <td>4.957534</td>\n",
       "      <td>0.323846</td>\n",
       "      <td>-2.723654</td>\n",
       "      <td>-0.444309</td>\n",
       "      <td>1.689641</td>\n",
       "      <td>-1.447474</td>\n",
       "      <td>1.149817</td>\n",
       "      <td>-0.858096</td>\n",
       "      <td>-0.621435</td>\n",
       "      <td>-0.693584</td>\n",
       "      <td>0</td>\n",
       "    </tr>\n",
       "    <tr>\n",
       "      <th>3</th>\n",
       "      <td>-6.021629</td>\n",
       "      <td>-1.902445</td>\n",
       "      <td>1.577135</td>\n",
       "      <td>-1.106217</td>\n",
       "      <td>0.872031</td>\n",
       "      <td>-0.140397</td>\n",
       "      <td>1.308566</td>\n",
       "      <td>-0.877959</td>\n",
       "      <td>-0.555090</td>\n",
       "      <td>0.681144</td>\n",
       "      <td>1</td>\n",
       "    </tr>\n",
       "    <tr>\n",
       "      <th>4</th>\n",
       "      <td>4.019292</td>\n",
       "      <td>-0.189450</td>\n",
       "      <td>-0.932625</td>\n",
       "      <td>-1.010804</td>\n",
       "      <td>3.890214</td>\n",
       "      <td>0.445719</td>\n",
       "      <td>0.270783</td>\n",
       "      <td>1.191066</td>\n",
       "      <td>-0.959605</td>\n",
       "      <td>0.038107</td>\n",
       "      <td>0</td>\n",
       "    </tr>\n",
       "    <tr>\n",
       "      <th>...</th>\n",
       "      <td>...</td>\n",
       "      <td>...</td>\n",
       "      <td>...</td>\n",
       "      <td>...</td>\n",
       "      <td>...</td>\n",
       "      <td>...</td>\n",
       "      <td>...</td>\n",
       "      <td>...</td>\n",
       "      <td>...</td>\n",
       "      <td>...</td>\n",
       "      <td>...</td>\n",
       "    </tr>\n",
       "    <tr>\n",
       "      <th>1039</th>\n",
       "      <td>1.678819</td>\n",
       "      <td>-0.104869</td>\n",
       "      <td>-0.122668</td>\n",
       "      <td>-1.480298</td>\n",
       "      <td>-0.138726</td>\n",
       "      <td>2.519995</td>\n",
       "      <td>-0.997655</td>\n",
       "      <td>0.763093</td>\n",
       "      <td>-0.258722</td>\n",
       "      <td>-0.676246</td>\n",
       "      <td>0</td>\n",
       "    </tr>\n",
       "    <tr>\n",
       "      <th>1040</th>\n",
       "      <td>-7.072694</td>\n",
       "      <td>-0.597366</td>\n",
       "      <td>-1.782231</td>\n",
       "      <td>1.796408</td>\n",
       "      <td>-1.610812</td>\n",
       "      <td>0.667217</td>\n",
       "      <td>-1.030189</td>\n",
       "      <td>-0.487840</td>\n",
       "      <td>-0.032344</td>\n",
       "      <td>0.276993</td>\n",
       "      <td>0</td>\n",
       "    </tr>\n",
       "    <tr>\n",
       "      <th>1041</th>\n",
       "      <td>1.331891</td>\n",
       "      <td>-2.302947</td>\n",
       "      <td>-1.179159</td>\n",
       "      <td>-2.085767</td>\n",
       "      <td>-1.457850</td>\n",
       "      <td>1.768753</td>\n",
       "      <td>3.105314</td>\n",
       "      <td>0.654245</td>\n",
       "      <td>-2.098445</td>\n",
       "      <td>0.207371</td>\n",
       "      <td>0</td>\n",
       "    </tr>\n",
       "    <tr>\n",
       "      <th>1042</th>\n",
       "      <td>2.377861</td>\n",
       "      <td>2.692444</td>\n",
       "      <td>-0.893670</td>\n",
       "      <td>1.841289</td>\n",
       "      <td>-1.186198</td>\n",
       "      <td>-1.044776</td>\n",
       "      <td>0.687772</td>\n",
       "      <td>-0.241463</td>\n",
       "      <td>-0.489388</td>\n",
       "      <td>-0.457325</td>\n",
       "      <td>0</td>\n",
       "    </tr>\n",
       "    <tr>\n",
       "      <th>1043</th>\n",
       "      <td>1.126240</td>\n",
       "      <td>1.921840</td>\n",
       "      <td>-0.364912</td>\n",
       "      <td>-1.517369</td>\n",
       "      <td>0.231229</td>\n",
       "      <td>0.976460</td>\n",
       "      <td>1.485064</td>\n",
       "      <td>0.770444</td>\n",
       "      <td>0.879157</td>\n",
       "      <td>-2.324713</td>\n",
       "      <td>0</td>\n",
       "    </tr>\n",
       "  </tbody>\n",
       "</table>\n",
       "<p>1044 rows × 11 columns</p>\n",
       "</div>"
      ],
      "text/plain": [
       "            pc1       pc2       pc3       pc4       pc5       pc6       pc7  \\\n",
       "0      9.353774 -0.550099 -0.110924  1.886126  2.526790  1.923906 -1.242351   \n",
       "1     10.094487 -1.389813 -2.389793 -0.335878  1.051091 -0.025940 -1.065988   \n",
       "2      4.957534  0.323846 -2.723654 -0.444309  1.689641 -1.447474  1.149817   \n",
       "3     -6.021629 -1.902445  1.577135 -1.106217  0.872031 -0.140397  1.308566   \n",
       "4      4.019292 -0.189450 -0.932625 -1.010804  3.890214  0.445719  0.270783   \n",
       "...         ...       ...       ...       ...       ...       ...       ...   \n",
       "1039   1.678819 -0.104869 -0.122668 -1.480298 -0.138726  2.519995 -0.997655   \n",
       "1040  -7.072694 -0.597366 -1.782231  1.796408 -1.610812  0.667217 -1.030189   \n",
       "1041   1.331891 -2.302947 -1.179159 -2.085767 -1.457850  1.768753  3.105314   \n",
       "1042   2.377861  2.692444 -0.893670  1.841289 -1.186198 -1.044776  0.687772   \n",
       "1043   1.126240  1.921840 -0.364912 -1.517369  0.231229  0.976460  1.485064   \n",
       "\n",
       "           pc8       pc9      pc10  romantic_yes  \n",
       "0    -0.024718  0.037111  0.616042             0  \n",
       "1    -0.697437  0.053942  0.416029             0  \n",
       "2    -0.858096 -0.621435 -0.693584             0  \n",
       "3    -0.877959 -0.555090  0.681144             1  \n",
       "4     1.191066 -0.959605  0.038107             0  \n",
       "...        ...       ...       ...           ...  \n",
       "1039  0.763093 -0.258722 -0.676246             0  \n",
       "1040 -0.487840 -0.032344  0.276993             0  \n",
       "1041  0.654245 -2.098445  0.207371             0  \n",
       "1042 -0.241463 -0.489388 -0.457325             0  \n",
       "1043  0.770444  0.879157 -2.324713             0  \n",
       "\n",
       "[1044 rows x 11 columns]"
      ]
     },
     "execution_count": 188,
     "metadata": {},
     "output_type": "execute_result"
    }
   ],
   "source": [
    "pca_df = pd.concat([principalDf,df.romantic_yes],axis =1)\n",
    "pca_df"
   ]
  },
  {
   "cell_type": "code",
   "execution_count": 189,
   "metadata": {},
   "outputs": [
    {
     "data": {
      "text/plain": [
       "<matplotlib.axes._subplots.AxesSubplot at 0x7fde64092e90>"
      ]
     },
     "execution_count": 189,
     "metadata": {},
     "output_type": "execute_result"
    },
    {
     "data": {
      "image/png": "[encoded data removed]",
      "text/plain": [
       "<Figure size 432x288 with 1 Axes>"
      ]
     },
     "metadata": {
      "needs_background": "light"
     },
     "output_type": "display_data"
    }
   ],
   "source": [
    "sns.scatterplot(x = \"pc1\", y = \"pc2\", data = pca_df, hue = \"romantic_yes\")  "
   ]
  },
  {
   "cell_type": "markdown",
   "metadata": {},
   "source": [
    "Nie widać widocznego podziału danych"
   ]
  },
  {
   "cell_type": "code",
   "execution_count": 198,
   "metadata": {
    "scrolled": true
   },
   "outputs": [
    {
     "name": "stdout",
     "output_type": "stream",
     "text": [
      "[0]\teval-auc:0.590414\ttrain-auc:0.938522\n",
      "[50]\teval-auc:0.66594\ttrain-auc:1\n",
      "[99]\teval-auc:0.651961\ttrain-auc:1\n"
     ]
    },
    {
     "name": "stderr",
     "output_type": "stream",
     "text": [
      "/home/jakwisn/anaconda3/lib/python3.7/site-packages/xgboost/core.py:587: FutureWarning: Series.base is deprecated and will be removed in a future version\n",
      "  if getattr(data, 'base', None) is not None and \\\n",
      "/home/jakwisn/anaconda3/lib/python3.7/site-packages/xgboost/core.py:588: FutureWarning: Series.base is deprecated and will be removed in a future version\n",
      "  data.base is not None and isinstance(data, np.ndarray) \\\n"
     ]
    },
    {
     "name": "stdout",
     "output_type": "stream",
     "text": [
      "[0]\teval-auc:0.564772\ttrain-auc:0.947271\n",
      "[50]\teval-auc:0.615975\ttrain-auc:1\n",
      "[99]\teval-auc:0.617512\ttrain-auc:1\n",
      "[0]\teval-auc:0.54392\ttrain-auc:0.937361\n",
      "[50]\teval-auc:0.641421\ttrain-auc:1\n",
      "[99]\teval-auc:0.656451\ttrain-auc:1\n",
      "[0]\teval-auc:0.534023\ttrain-auc:0.942584\n",
      "[50]\teval-auc:0.655626\ttrain-auc:1\n",
      "[99]\teval-auc:0.656166\ttrain-auc:1\n",
      "[0]\teval-auc:0.57507\ttrain-auc:0.936163\n",
      "[50]\teval-auc:0.627638\ttrain-auc:1\n",
      "[99]\teval-auc:0.619421\ttrain-auc:1\n",
      "[0]\teval-auc:0.551198\ttrain-auc:0.929449\n",
      "[50]\teval-auc:0.686093\ttrain-auc:1\n",
      "[99]\teval-auc:0.687545\ttrain-auc:1\n",
      "[0]\teval-auc:0.649788\ttrain-auc:0.950377\n",
      "[50]\teval-auc:0.678819\ttrain-auc:1\n",
      "[99]\teval-auc:0.689236\ttrain-auc:1\n",
      "[0]\teval-auc:0.588125\ttrain-auc:0.915627\n",
      "[50]\teval-auc:0.601607\ttrain-auc:1\n",
      "[99]\teval-auc:0.590893\ttrain-auc:1\n",
      "[0]\teval-auc:0.59386\ttrain-auc:0.931298\n",
      "[50]\teval-auc:0.698276\ttrain-auc:1\n",
      "[99]\teval-auc:0.695989\ttrain-auc:1\n",
      "[0]\teval-auc:0.503754\ttrain-auc:0.953026\n",
      "[50]\teval-auc:0.611404\ttrain-auc:1\n",
      "[99]\teval-auc:0.627435\ttrain-auc:1\n",
      "[0]\teval-auc:0.570952\ttrain-auc:0.94386\n",
      "[50]\teval-auc:0.697311\ttrain-auc:1\n",
      "[99]\teval-auc:0.697311\ttrain-auc:1\n",
      "[0]\teval-auc:0.559496\ttrain-auc:0.931002\n",
      "[50]\teval-auc:0.666967\ttrain-auc:1\n",
      "[99]\teval-auc:0.658866\ttrain-auc:1\n",
      "[0]\teval-auc:0.579638\ttrain-auc:0.92771\n",
      "[50]\teval-auc:0.684901\ttrain-auc:1\n",
      "[99]\teval-auc:0.684211\ttrain-auc:1\n",
      "[0]\teval-auc:0.598003\ttrain-auc:0.938676\n",
      "[50]\teval-auc:0.683802\ttrain-auc:1\n",
      "[99]\teval-auc:0.682877\ttrain-auc:1\n",
      "[0]\teval-auc:0.525558\ttrain-auc:0.943946\n",
      "[50]\teval-auc:0.632844\ttrain-auc:1\n",
      "[99]\teval-auc:0.641045\ttrain-auc:1\n",
      "[0]\teval-auc:0.551972\ttrain-auc:0.939543\n",
      "[50]\teval-auc:0.618316\ttrain-auc:1\n",
      "[99]\teval-auc:0.619318\ttrain-auc:1\n",
      "[0]\teval-auc:0.6239\ttrain-auc:0.936464\n",
      "[50]\teval-auc:0.693184\ttrain-auc:1\n",
      "[99]\teval-auc:0.692494\ttrain-auc:1\n",
      "[0]\teval-auc:0.477305\ttrain-auc:0.944824\n",
      "[50]\teval-auc:0.576707\ttrain-auc:1\n",
      "[99]\teval-auc:0.569141\ttrain-auc:1\n",
      "[0]\teval-auc:0.541113\ttrain-auc:0.94106\n",
      "[50]\teval-auc:0.651249\ttrain-auc:1\n",
      "[99]\teval-auc:0.658515\ttrain-auc:1\n",
      "[0]\teval-auc:0.592679\ttrain-auc:0.917337\n",
      "[50]\teval-auc:0.695536\ttrain-auc:1\n",
      "[99]\teval-auc:0.697143\ttrain-auc:1\n"
     ]
    }
   ],
   "source": [
    "acc_arr = np.zeros(20)\n",
    "for i in range(20):\n",
    "    acc4, _ =  train_fast(pca_df,40)\n",
    "    acc_arr[i] = acc3             "
   ]
  },
  {
   "cell_type": "code",
   "execution_count": 200,
   "metadata": {},
   "outputs": [
    {
     "data": {
      "text/plain": [
       "0.7388535031847134"
      ]
     },
     "execution_count": 200,
     "metadata": {},
     "output_type": "execute_result"
    }
   ],
   "source": [
    "acc_arr.mean()                                  # jest okej, ale lepiej gdy działamy na zwykłych danych"
   ]
  },
  {
   "cell_type": "code",
   "execution_count": 227,
   "metadata": {
    "scrolled": true
   },
   "outputs": [
    {
     "data": {
      "text/html": [
       "<div>\n",
       "<style scoped>\n",
       "    .dataframe tbody tr th:only-of-type {\n",
       "        vertical-align: middle;\n",
       "    }\n",
       "\n",
       "    .dataframe tbody tr th {\n",
       "        vertical-align: top;\n",
       "    }\n",
       "\n",
       "    .dataframe thead th {\n",
       "        text-align: right;\n",
       "    }\n",
       "</style>\n",
       "<table border=\"1\" class=\"dataframe\">\n",
       "  <thead>\n",
       "    <tr style=\"text-align: right;\">\n",
       "      <th></th>\n",
       "      <th>age</th>\n",
       "      <th>Medu</th>\n",
       "      <th>Fedu</th>\n",
       "      <th>traveltime</th>\n",
       "      <th>studytime</th>\n",
       "      <th>failures</th>\n",
       "      <th>famrel</th>\n",
       "      <th>freetime</th>\n",
       "      <th>goout</th>\n",
       "      <th>Dalc</th>\n",
       "      <th>Walc</th>\n",
       "      <th>health</th>\n",
       "      <th>absences</th>\n",
       "      <th>G1</th>\n",
       "      <th>G2</th>\n",
       "      <th>G3</th>\n",
       "      <th>school_MS</th>\n",
       "      <th>sex_M</th>\n",
       "      <th>address_U</th>\n",
       "      <th>famsize_LE3</th>\n",
       "      <th>Pstatus_T</th>\n",
       "      <th>Mjob_health</th>\n",
       "      <th>Mjob_other</th>\n",
       "      <th>Mjob_services</th>\n",
       "      <th>Mjob_teacher</th>\n",
       "      <th>Fjob_health</th>\n",
       "      <th>Fjob_other</th>\n",
       "      <th>Fjob_services</th>\n",
       "      <th>Fjob_teacher</th>\n",
       "      <th>reason_home</th>\n",
       "      <th>reason_other</th>\n",
       "      <th>reason_reputation</th>\n",
       "      <th>guardian_mother</th>\n",
       "      <th>guardian_other</th>\n",
       "      <th>schoolsup_yes</th>\n",
       "      <th>famsup_yes</th>\n",
       "      <th>paid_yes</th>\n",
       "      <th>activities_yes</th>\n",
       "      <th>nursery_yes</th>\n",
       "      <th>higher_yes</th>\n",
       "      <th>internet_yes</th>\n",
       "      <th>romantic_yes</th>\n",
       "      <th>major_por</th>\n",
       "      <th>WeekandEnd</th>\n",
       "      <th>WeirdDrinker</th>\n",
       "    </tr>\n",
       "  </thead>\n",
       "  <tbody>\n",
       "    <tr>\n",
       "      <th>0</th>\n",
       "      <td>18</td>\n",
       "      <td>4</td>\n",
       "      <td>4</td>\n",
       "      <td>2</td>\n",
       "      <td>2</td>\n",
       "      <td>0</td>\n",
       "      <td>4</td>\n",
       "      <td>3</td>\n",
       "      <td>4</td>\n",
       "      <td>1</td>\n",
       "      <td>1</td>\n",
       "      <td>3</td>\n",
       "      <td>1.945910</td>\n",
       "      <td>5</td>\n",
       "      <td>6</td>\n",
       "      <td>6</td>\n",
       "      <td>0</td>\n",
       "      <td>0</td>\n",
       "      <td>1</td>\n",
       "      <td>0</td>\n",
       "      <td>0</td>\n",
       "      <td>0</td>\n",
       "      <td>0</td>\n",
       "      <td>0</td>\n",
       "      <td>0</td>\n",
       "      <td>0</td>\n",
       "      <td>0</td>\n",
       "      <td>0</td>\n",
       "      <td>1</td>\n",
       "      <td>0</td>\n",
       "      <td>0</td>\n",
       "      <td>0</td>\n",
       "      <td>1</td>\n",
       "      <td>0</td>\n",
       "      <td>1</td>\n",
       "      <td>0</td>\n",
       "      <td>0</td>\n",
       "      <td>0</td>\n",
       "      <td>1</td>\n",
       "      <td>1</td>\n",
       "      <td>0</td>\n",
       "      <td>0</td>\n",
       "      <td>0</td>\n",
       "      <td>1</td>\n",
       "      <td>0</td>\n",
       "    </tr>\n",
       "    <tr>\n",
       "      <th>1</th>\n",
       "      <td>17</td>\n",
       "      <td>1</td>\n",
       "      <td>1</td>\n",
       "      <td>1</td>\n",
       "      <td>2</td>\n",
       "      <td>0</td>\n",
       "      <td>5</td>\n",
       "      <td>3</td>\n",
       "      <td>3</td>\n",
       "      <td>1</td>\n",
       "      <td>1</td>\n",
       "      <td>3</td>\n",
       "      <td>1.609438</td>\n",
       "      <td>5</td>\n",
       "      <td>5</td>\n",
       "      <td>6</td>\n",
       "      <td>0</td>\n",
       "      <td>0</td>\n",
       "      <td>1</td>\n",
       "      <td>0</td>\n",
       "      <td>1</td>\n",
       "      <td>0</td>\n",
       "      <td>0</td>\n",
       "      <td>0</td>\n",
       "      <td>0</td>\n",
       "      <td>0</td>\n",
       "      <td>1</td>\n",
       "      <td>0</td>\n",
       "      <td>0</td>\n",
       "      <td>0</td>\n",
       "      <td>0</td>\n",
       "      <td>0</td>\n",
       "      <td>0</td>\n",
       "      <td>0</td>\n",
       "      <td>0</td>\n",
       "      <td>1</td>\n",
       "      <td>0</td>\n",
       "      <td>0</td>\n",
       "      <td>0</td>\n",
       "      <td>1</td>\n",
       "      <td>1</td>\n",
       "      <td>0</td>\n",
       "      <td>0</td>\n",
       "      <td>1</td>\n",
       "      <td>0</td>\n",
       "    </tr>\n",
       "    <tr>\n",
       "      <th>2</th>\n",
       "      <td>15</td>\n",
       "      <td>1</td>\n",
       "      <td>1</td>\n",
       "      <td>1</td>\n",
       "      <td>2</td>\n",
       "      <td>3</td>\n",
       "      <td>4</td>\n",
       "      <td>3</td>\n",
       "      <td>2</td>\n",
       "      <td>2</td>\n",
       "      <td>3</td>\n",
       "      <td>3</td>\n",
       "      <td>2.397895</td>\n",
       "      <td>7</td>\n",
       "      <td>8</td>\n",
       "      <td>10</td>\n",
       "      <td>0</td>\n",
       "      <td>0</td>\n",
       "      <td>1</td>\n",
       "      <td>1</td>\n",
       "      <td>1</td>\n",
       "      <td>0</td>\n",
       "      <td>0</td>\n",
       "      <td>0</td>\n",
       "      <td>0</td>\n",
       "      <td>0</td>\n",
       "      <td>1</td>\n",
       "      <td>0</td>\n",
       "      <td>0</td>\n",
       "      <td>0</td>\n",
       "      <td>1</td>\n",
       "      <td>0</td>\n",
       "      <td>1</td>\n",
       "      <td>0</td>\n",
       "      <td>1</td>\n",
       "      <td>0</td>\n",
       "      <td>1</td>\n",
       "      <td>0</td>\n",
       "      <td>1</td>\n",
       "      <td>1</td>\n",
       "      <td>1</td>\n",
       "      <td>0</td>\n",
       "      <td>0</td>\n",
       "      <td>6</td>\n",
       "      <td>0</td>\n",
       "    </tr>\n",
       "    <tr>\n",
       "      <th>3</th>\n",
       "      <td>15</td>\n",
       "      <td>4</td>\n",
       "      <td>2</td>\n",
       "      <td>1</td>\n",
       "      <td>3</td>\n",
       "      <td>0</td>\n",
       "      <td>3</td>\n",
       "      <td>2</td>\n",
       "      <td>2</td>\n",
       "      <td>1</td>\n",
       "      <td>1</td>\n",
       "      <td>5</td>\n",
       "      <td>1.098612</td>\n",
       "      <td>15</td>\n",
       "      <td>14</td>\n",
       "      <td>15</td>\n",
       "      <td>0</td>\n",
       "      <td>0</td>\n",
       "      <td>1</td>\n",
       "      <td>0</td>\n",
       "      <td>1</td>\n",
       "      <td>1</td>\n",
       "      <td>0</td>\n",
       "      <td>0</td>\n",
       "      <td>0</td>\n",
       "      <td>0</td>\n",
       "      <td>0</td>\n",
       "      <td>1</td>\n",
       "      <td>0</td>\n",
       "      <td>1</td>\n",
       "      <td>0</td>\n",
       "      <td>0</td>\n",
       "      <td>1</td>\n",
       "      <td>0</td>\n",
       "      <td>0</td>\n",
       "      <td>1</td>\n",
       "      <td>1</td>\n",
       "      <td>1</td>\n",
       "      <td>1</td>\n",
       "      <td>1</td>\n",
       "      <td>1</td>\n",
       "      <td>1</td>\n",
       "      <td>0</td>\n",
       "      <td>1</td>\n",
       "      <td>0</td>\n",
       "    </tr>\n",
       "    <tr>\n",
       "      <th>4</th>\n",
       "      <td>16</td>\n",
       "      <td>3</td>\n",
       "      <td>3</td>\n",
       "      <td>1</td>\n",
       "      <td>2</td>\n",
       "      <td>0</td>\n",
       "      <td>4</td>\n",
       "      <td>3</td>\n",
       "      <td>2</td>\n",
       "      <td>1</td>\n",
       "      <td>2</td>\n",
       "      <td>5</td>\n",
       "      <td>1.609438</td>\n",
       "      <td>6</td>\n",
       "      <td>10</td>\n",
       "      <td>10</td>\n",
       "      <td>0</td>\n",
       "      <td>0</td>\n",
       "      <td>1</td>\n",
       "      <td>0</td>\n",
       "      <td>1</td>\n",
       "      <td>0</td>\n",
       "      <td>1</td>\n",
       "      <td>0</td>\n",
       "      <td>0</td>\n",
       "      <td>0</td>\n",
       "      <td>1</td>\n",
       "      <td>0</td>\n",
       "      <td>0</td>\n",
       "      <td>1</td>\n",
       "      <td>0</td>\n",
       "      <td>0</td>\n",
       "      <td>0</td>\n",
       "      <td>0</td>\n",
       "      <td>0</td>\n",
       "      <td>1</td>\n",
       "      <td>1</td>\n",
       "      <td>0</td>\n",
       "      <td>1</td>\n",
       "      <td>1</td>\n",
       "      <td>0</td>\n",
       "      <td>0</td>\n",
       "      <td>0</td>\n",
       "      <td>2</td>\n",
       "      <td>0</td>\n",
       "    </tr>\n",
       "  </tbody>\n",
       "</table>\n",
       "</div>"
      ],
      "text/plain": [
       "   age  Medu  Fedu  traveltime  studytime  failures  famrel  freetime  goout  \\\n",
       "0   18     4     4           2          2         0       4         3      4   \n",
       "1   17     1     1           1          2         0       5         3      3   \n",
       "2   15     1     1           1          2         3       4         3      2   \n",
       "3   15     4     2           1          3         0       3         2      2   \n",
       "4   16     3     3           1          2         0       4         3      2   \n",
       "\n",
       "   Dalc  Walc  health  absences  G1  G2  G3  school_MS  sex_M  address_U  \\\n",
       "0     1     1       3  1.945910   5   6   6          0      0          1   \n",
       "1     1     1       3  1.609438   5   5   6          0      0          1   \n",
       "2     2     3       3  2.397895   7   8  10          0      0          1   \n",
       "3     1     1       5  1.098612  15  14  15          0      0          1   \n",
       "4     1     2       5  1.609438   6  10  10          0      0          1   \n",
       "\n",
       "   famsize_LE3  Pstatus_T  Mjob_health  Mjob_other  Mjob_services  \\\n",
       "0            0          0            0           0              0   \n",
       "1            0          1            0           0              0   \n",
       "2            1          1            0           0              0   \n",
       "3            0          1            1           0              0   \n",
       "4            0          1            0           1              0   \n",
       "\n",
       "   Mjob_teacher  Fjob_health  Fjob_other  Fjob_services  Fjob_teacher  \\\n",
       "0             0            0           0              0             1   \n",
       "1             0            0           1              0             0   \n",
       "2             0            0           1              0             0   \n",
       "3             0            0           0              1             0   \n",
       "4             0            0           1              0             0   \n",
       "\n",
       "   reason_home  reason_other  reason_reputation  guardian_mother  \\\n",
       "0            0             0                  0                1   \n",
       "1            0             0                  0                0   \n",
       "2            0             1                  0                1   \n",
       "3            1             0                  0                1   \n",
       "4            1             0                  0                0   \n",
       "\n",
       "   guardian_other  schoolsup_yes  famsup_yes  paid_yes  activities_yes  \\\n",
       "0               0              1           0         0               0   \n",
       "1               0              0           1         0               0   \n",
       "2               0              1           0         1               0   \n",
       "3               0              0           1         1               1   \n",
       "4               0              0           1         1               0   \n",
       "\n",
       "   nursery_yes  higher_yes  internet_yes  romantic_yes  major_por  WeekandEnd  \\\n",
       "0            1           1             0             0          0           1   \n",
       "1            0           1             1             0          0           1   \n",
       "2            1           1             1             0          0           6   \n",
       "3            1           1             1             1          0           1   \n",
       "4            1           1             0             0          0           2   \n",
       "\n",
       "   WeirdDrinker  \n",
       "0             0  \n",
       "1             0  \n",
       "2             0  \n",
       "3             0  \n",
       "4             0  "
      ]
     },
     "execution_count": 227,
     "metadata": {},
     "output_type": "execute_result"
    }
   ],
   "source": [
    "df.head()"
   ]
  },
  {
   "cell_type": "markdown",
   "metadata": {},
   "source": [
    "Czyli najlepsze, bo ok 77% dostaliśmy accuracy modelu z kilkoma dodatkowymi kolumnami. Co jeszcze warto przemyśleć? Standaryzację zmiennych, jaki ma efekt dla modelu (dla tego powinien mieć żaden), na koniec projektu przemyślimy kilka modeli - drzewiaste, sieć nauronową oraz być może k średich. "
   ]
  },
  {
   "cell_type": "code",
   "execution_count": null,
   "metadata": {},
   "outputs": [],
   "source": []
  }
 ],
 "metadata": {
  "kernelspec": {
   "display_name": "Python 3",
   "language": "python",
   "name": "python3"
  },
  "language_info": {
   "codemirror_mode": {
    "name": "ipython",
    "version": 3
   },
   "file_extension": ".py",
   "mimetype": "text/x-python",
   "name": "python",
   "nbconvert_exporter": "python",
   "pygments_lexer": "ipython3",
   "version": "3.7.1"
  }
 },
 "nbformat": 4,
 "nbformat_minor": 2
}
