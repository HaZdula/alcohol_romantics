{
 "cells": [
  {
   "cell_type": "code",
   "execution_count": 3,
   "metadata": {},
   "outputs": [],
   "source": [
    "#! pip install https://github.com/pandas-profiling/pandas-profiling/archive/master.zip"
   ]
  },
  {
   "cell_type": "code",
   "execution_count": 1,
   "metadata": {},
   "outputs": [],
   "source": [
    "import pandas as pd \n",
    "import numpy as np \n",
    "import matplotlib.pyplot as plt\n",
    "import seaborn as sns\n",
    "from pandas_profiling import ProfileReport\n",
    "from scipy.io import arff\n",
    "import xgboost as xgb\n",
    "pd.options.display.max_columns = None\n",
    "import seaborn as sns\n",
    "import matplotlib.pyplot as plt\n",
    "from sklearn.model_selection import KFold\n",
    "from sklearn import metrics"
   ]
  },
  {
   "cell_type": "markdown",
   "metadata": {},
   "source": [
    "## Wczytanie danych"
   ]
  },
  {
   "cell_type": "code",
   "execution_count": 2,
   "metadata": {},
   "outputs": [],
   "source": [
    "df = pd.read_csv(\"students-all.csv\")\n",
    "# remove rownames\n",
    "df = df.iloc[:,1:]"
   ]
  },
  {
   "cell_type": "code",
   "execution_count": 3,
   "metadata": {},
   "outputs": [
    {
     "data": {
      "text/html": [
       "<div>\n",
       "<style scoped>\n",
       "    .dataframe tbody tr th:only-of-type {\n",
       "        vertical-align: middle;\n",
       "    }\n",
       "\n",
       "    .dataframe tbody tr th {\n",
       "        vertical-align: top;\n",
       "    }\n",
       "\n",
       "    .dataframe thead th {\n",
       "        text-align: right;\n",
       "    }\n",
       "</style>\n",
       "<table border=\"1\" class=\"dataframe\">\n",
       "  <thead>\n",
       "    <tr style=\"text-align: right;\">\n",
       "      <th></th>\n",
       "      <th>age</th>\n",
       "      <th>Medu</th>\n",
       "      <th>Fedu</th>\n",
       "      <th>traveltime</th>\n",
       "      <th>studytime</th>\n",
       "      <th>failures</th>\n",
       "      <th>famrel</th>\n",
       "      <th>freetime</th>\n",
       "      <th>goout</th>\n",
       "      <th>Dalc</th>\n",
       "      <th>Walc</th>\n",
       "      <th>health</th>\n",
       "      <th>absences</th>\n",
       "      <th>G1</th>\n",
       "      <th>G2</th>\n",
       "      <th>G3</th>\n",
       "      <th>school_MS</th>\n",
       "      <th>sex_M</th>\n",
       "      <th>address_U</th>\n",
       "      <th>famsize_LE3</th>\n",
       "      <th>Pstatus_T</th>\n",
       "      <th>Mjob_health</th>\n",
       "      <th>Mjob_other</th>\n",
       "      <th>Mjob_services</th>\n",
       "      <th>Mjob_teacher</th>\n",
       "      <th>Fjob_health</th>\n",
       "      <th>Fjob_other</th>\n",
       "      <th>Fjob_services</th>\n",
       "      <th>Fjob_teacher</th>\n",
       "      <th>reason_home</th>\n",
       "      <th>reason_other</th>\n",
       "      <th>reason_reputation</th>\n",
       "      <th>guardian_mother</th>\n",
       "      <th>guardian_other</th>\n",
       "      <th>schoolsup_yes</th>\n",
       "      <th>famsup_yes</th>\n",
       "      <th>paid_yes</th>\n",
       "      <th>activities_yes</th>\n",
       "      <th>nursery_yes</th>\n",
       "      <th>higher_yes</th>\n",
       "      <th>internet_yes</th>\n",
       "      <th>romantic_yes</th>\n",
       "      <th>major_por</th>\n",
       "    </tr>\n",
       "  </thead>\n",
       "  <tbody>\n",
       "    <tr>\n",
       "      <th>0</th>\n",
       "      <td>18</td>\n",
       "      <td>4</td>\n",
       "      <td>4</td>\n",
       "      <td>2</td>\n",
       "      <td>2</td>\n",
       "      <td>0</td>\n",
       "      <td>4</td>\n",
       "      <td>3</td>\n",
       "      <td>4</td>\n",
       "      <td>1</td>\n",
       "      <td>1</td>\n",
       "      <td>3</td>\n",
       "      <td>6</td>\n",
       "      <td>5</td>\n",
       "      <td>6</td>\n",
       "      <td>6</td>\n",
       "      <td>0</td>\n",
       "      <td>0</td>\n",
       "      <td>1</td>\n",
       "      <td>0</td>\n",
       "      <td>0</td>\n",
       "      <td>0</td>\n",
       "      <td>0</td>\n",
       "      <td>0</td>\n",
       "      <td>0</td>\n",
       "      <td>0</td>\n",
       "      <td>0</td>\n",
       "      <td>0</td>\n",
       "      <td>1</td>\n",
       "      <td>0</td>\n",
       "      <td>0</td>\n",
       "      <td>0</td>\n",
       "      <td>1</td>\n",
       "      <td>0</td>\n",
       "      <td>1</td>\n",
       "      <td>0</td>\n",
       "      <td>0</td>\n",
       "      <td>0</td>\n",
       "      <td>1</td>\n",
       "      <td>1</td>\n",
       "      <td>0</td>\n",
       "      <td>0</td>\n",
       "      <td>0</td>\n",
       "    </tr>\n",
       "    <tr>\n",
       "      <th>1</th>\n",
       "      <td>17</td>\n",
       "      <td>1</td>\n",
       "      <td>1</td>\n",
       "      <td>1</td>\n",
       "      <td>2</td>\n",
       "      <td>0</td>\n",
       "      <td>5</td>\n",
       "      <td>3</td>\n",
       "      <td>3</td>\n",
       "      <td>1</td>\n",
       "      <td>1</td>\n",
       "      <td>3</td>\n",
       "      <td>4</td>\n",
       "      <td>5</td>\n",
       "      <td>5</td>\n",
       "      <td>6</td>\n",
       "      <td>0</td>\n",
       "      <td>0</td>\n",
       "      <td>1</td>\n",
       "      <td>0</td>\n",
       "      <td>1</td>\n",
       "      <td>0</td>\n",
       "      <td>0</td>\n",
       "      <td>0</td>\n",
       "      <td>0</td>\n",
       "      <td>0</td>\n",
       "      <td>1</td>\n",
       "      <td>0</td>\n",
       "      <td>0</td>\n",
       "      <td>0</td>\n",
       "      <td>0</td>\n",
       "      <td>0</td>\n",
       "      <td>0</td>\n",
       "      <td>0</td>\n",
       "      <td>0</td>\n",
       "      <td>1</td>\n",
       "      <td>0</td>\n",
       "      <td>0</td>\n",
       "      <td>0</td>\n",
       "      <td>1</td>\n",
       "      <td>1</td>\n",
       "      <td>0</td>\n",
       "      <td>0</td>\n",
       "    </tr>\n",
       "    <tr>\n",
       "      <th>2</th>\n",
       "      <td>15</td>\n",
       "      <td>1</td>\n",
       "      <td>1</td>\n",
       "      <td>1</td>\n",
       "      <td>2</td>\n",
       "      <td>3</td>\n",
       "      <td>4</td>\n",
       "      <td>3</td>\n",
       "      <td>2</td>\n",
       "      <td>2</td>\n",
       "      <td>3</td>\n",
       "      <td>3</td>\n",
       "      <td>10</td>\n",
       "      <td>7</td>\n",
       "      <td>8</td>\n",
       "      <td>10</td>\n",
       "      <td>0</td>\n",
       "      <td>0</td>\n",
       "      <td>1</td>\n",
       "      <td>1</td>\n",
       "      <td>1</td>\n",
       "      <td>0</td>\n",
       "      <td>0</td>\n",
       "      <td>0</td>\n",
       "      <td>0</td>\n",
       "      <td>0</td>\n",
       "      <td>1</td>\n",
       "      <td>0</td>\n",
       "      <td>0</td>\n",
       "      <td>0</td>\n",
       "      <td>1</td>\n",
       "      <td>0</td>\n",
       "      <td>1</td>\n",
       "      <td>0</td>\n",
       "      <td>1</td>\n",
       "      <td>0</td>\n",
       "      <td>1</td>\n",
       "      <td>0</td>\n",
       "      <td>1</td>\n",
       "      <td>1</td>\n",
       "      <td>1</td>\n",
       "      <td>0</td>\n",
       "      <td>0</td>\n",
       "    </tr>\n",
       "    <tr>\n",
       "      <th>3</th>\n",
       "      <td>15</td>\n",
       "      <td>4</td>\n",
       "      <td>2</td>\n",
       "      <td>1</td>\n",
       "      <td>3</td>\n",
       "      <td>0</td>\n",
       "      <td>3</td>\n",
       "      <td>2</td>\n",
       "      <td>2</td>\n",
       "      <td>1</td>\n",
       "      <td>1</td>\n",
       "      <td>5</td>\n",
       "      <td>2</td>\n",
       "      <td>15</td>\n",
       "      <td>14</td>\n",
       "      <td>15</td>\n",
       "      <td>0</td>\n",
       "      <td>0</td>\n",
       "      <td>1</td>\n",
       "      <td>0</td>\n",
       "      <td>1</td>\n",
       "      <td>1</td>\n",
       "      <td>0</td>\n",
       "      <td>0</td>\n",
       "      <td>0</td>\n",
       "      <td>0</td>\n",
       "      <td>0</td>\n",
       "      <td>1</td>\n",
       "      <td>0</td>\n",
       "      <td>1</td>\n",
       "      <td>0</td>\n",
       "      <td>0</td>\n",
       "      <td>1</td>\n",
       "      <td>0</td>\n",
       "      <td>0</td>\n",
       "      <td>1</td>\n",
       "      <td>1</td>\n",
       "      <td>1</td>\n",
       "      <td>1</td>\n",
       "      <td>1</td>\n",
       "      <td>1</td>\n",
       "      <td>1</td>\n",
       "      <td>0</td>\n",
       "    </tr>\n",
       "    <tr>\n",
       "      <th>4</th>\n",
       "      <td>16</td>\n",
       "      <td>3</td>\n",
       "      <td>3</td>\n",
       "      <td>1</td>\n",
       "      <td>2</td>\n",
       "      <td>0</td>\n",
       "      <td>4</td>\n",
       "      <td>3</td>\n",
       "      <td>2</td>\n",
       "      <td>1</td>\n",
       "      <td>2</td>\n",
       "      <td>5</td>\n",
       "      <td>4</td>\n",
       "      <td>6</td>\n",
       "      <td>10</td>\n",
       "      <td>10</td>\n",
       "      <td>0</td>\n",
       "      <td>0</td>\n",
       "      <td>1</td>\n",
       "      <td>0</td>\n",
       "      <td>1</td>\n",
       "      <td>0</td>\n",
       "      <td>1</td>\n",
       "      <td>0</td>\n",
       "      <td>0</td>\n",
       "      <td>0</td>\n",
       "      <td>1</td>\n",
       "      <td>0</td>\n",
       "      <td>0</td>\n",
       "      <td>1</td>\n",
       "      <td>0</td>\n",
       "      <td>0</td>\n",
       "      <td>0</td>\n",
       "      <td>0</td>\n",
       "      <td>0</td>\n",
       "      <td>1</td>\n",
       "      <td>1</td>\n",
       "      <td>0</td>\n",
       "      <td>1</td>\n",
       "      <td>1</td>\n",
       "      <td>0</td>\n",
       "      <td>0</td>\n",
       "      <td>0</td>\n",
       "    </tr>\n",
       "  </tbody>\n",
       "</table>\n",
       "</div>"
      ],
      "text/plain": [
       "   age  Medu  Fedu  traveltime  studytime  failures  famrel  freetime  goout  \\\n",
       "0   18     4     4           2          2         0       4         3      4   \n",
       "1   17     1     1           1          2         0       5         3      3   \n",
       "2   15     1     1           1          2         3       4         3      2   \n",
       "3   15     4     2           1          3         0       3         2      2   \n",
       "4   16     3     3           1          2         0       4         3      2   \n",
       "\n",
       "   Dalc  Walc  health  absences  G1  G2  G3  school_MS  sex_M  address_U  \\\n",
       "0     1     1       3         6   5   6   6          0      0          1   \n",
       "1     1     1       3         4   5   5   6          0      0          1   \n",
       "2     2     3       3        10   7   8  10          0      0          1   \n",
       "3     1     1       5         2  15  14  15          0      0          1   \n",
       "4     1     2       5         4   6  10  10          0      0          1   \n",
       "\n",
       "   famsize_LE3  Pstatus_T  Mjob_health  Mjob_other  Mjob_services  \\\n",
       "0            0          0            0           0              0   \n",
       "1            0          1            0           0              0   \n",
       "2            1          1            0           0              0   \n",
       "3            0          1            1           0              0   \n",
       "4            0          1            0           1              0   \n",
       "\n",
       "   Mjob_teacher  Fjob_health  Fjob_other  Fjob_services  Fjob_teacher  \\\n",
       "0             0            0           0              0             1   \n",
       "1             0            0           1              0             0   \n",
       "2             0            0           1              0             0   \n",
       "3             0            0           0              1             0   \n",
       "4             0            0           1              0             0   \n",
       "\n",
       "   reason_home  reason_other  reason_reputation  guardian_mother  \\\n",
       "0            0             0                  0                1   \n",
       "1            0             0                  0                0   \n",
       "2            0             1                  0                1   \n",
       "3            1             0                  0                1   \n",
       "4            1             0                  0                0   \n",
       "\n",
       "   guardian_other  schoolsup_yes  famsup_yes  paid_yes  activities_yes  \\\n",
       "0               0              1           0         0               0   \n",
       "1               0              0           1         0               0   \n",
       "2               0              1           0         1               0   \n",
       "3               0              0           1         1               1   \n",
       "4               0              0           1         1               0   \n",
       "\n",
       "   nursery_yes  higher_yes  internet_yes  romantic_yes  major_por  \n",
       "0            1           1             0             0          0  \n",
       "1            0           1             1             0          0  \n",
       "2            1           1             1             0          0  \n",
       "3            1           1             1             1          0  \n",
       "4            1           1             0             0          0  "
      ]
     },
     "execution_count": 3,
     "metadata": {},
     "output_type": "execute_result"
    }
   ],
   "source": [
    "df_dummies = pd.get_dummies(df, drop_first=True)\n",
    "df_dummies.head()"
   ]
  },
  {
   "cell_type": "markdown",
   "metadata": {},
   "source": [
    "## Funkcja ternująca na xgboost"
   ]
  },
  {
   "cell_type": "code",
   "execution_count": 4,
   "metadata": {},
   "outputs": [],
   "source": [
    "def train_fast(df, max_depth, target ):\n",
    "    \n",
    "    \"\"\"\n",
    "    From Standard cross validation differs in data partitnion. Due to optimizing model on validation set,\n",
    "    we get final AUC score from equally big test set.\n",
    "    \"\"\"\n",
    "    \n",
    "    # shuffling index\n",
    "    df = df.sample(frac=1).reset_index(drop=True)\n",
    "    n = len(df)\n",
    "    \n",
    "    # 5 fold cross validation\n",
    "    kf = KFold(n_splits=5)\n",
    "        \n",
    "    \n",
    "    ret = []\n",
    "    tpr_arr = []\n",
    "    fpr_arr = []\n",
    "    \n",
    "    # we will make test 10% and validation 10%\n",
    "    for train_index, test_index in kf.split(df):\n",
    "        \n",
    "        train = df.iloc[train_index,:]\n",
    "        \n",
    "        v_ind = test_index[0:(len(test_index)//2)] \n",
    "        t_ind = test_index[(len(test_index)//2):len(test_index)]\n",
    "        \n",
    "        validation = df.iloc[v_ind,:]\n",
    "        test = df.iloc[t_ind,:]\n",
    "        \n",
    "        label_train = train[target]\n",
    "        label_val = validation[target]\n",
    "        label_test = test[target]\n",
    "\n",
    "        df_train = train.drop([target], axis = 1)\n",
    "        df_test  = test.drop([target], axis = 1)\n",
    "        df_val  = validation.drop([target], axis = 1)\n",
    "        \n",
    "        dtrain = xgb.DMatrix(data = df_train, label=label_train)\n",
    "        dval = xgb.DMatrix(data = df_val, label=label_val)\n",
    "        dtest = xgb.DMatrix(data = df_test, label=label_val)\n",
    "        \n",
    "        param = {'max_depth': max_depth, 'objective': 'binary:logistic', 'eval_metric':'auc'}\n",
    "        \n",
    "        evallist = [(dval, 'eval'), (dtrain, 'train')]\n",
    "        \n",
    "        num_round = 100\n",
    "        \n",
    "        bst = xgb.train(param, dtrain, num_round, evallist, verbose_eval=0)\n",
    "        y_pred = bst.predict(dtest, ntree_limit=bst.best_ntree_limit)\n",
    "\n",
    "        fpr, tpr, thresholds = metrics.roc_curve(label_test.to_numpy(), y_pred)\n",
    "\n",
    "        \n",
    "        ret.append(metrics.auc(fpr, tpr))\n",
    "        \n",
    "        fpr_arr.append(fpr)\n",
    "        tpr_arr.append(tpr)\n",
    "        \n",
    "    # fpr and tpr arrays are problematic, we will get them from median AUC score\n",
    "    # note that we are returning mean auc score, so it is not ideal \n",
    "    index = np.where(np.mean(np.array(ret))== np.mean(np.array(ret)))[0][0]\n",
    "    \n",
    "    \n",
    "    return np.array(ret).mean(), bst, fpr_arr[index],tpr_arr[index]"
   ]
  },
  {
   "cell_type": "code",
   "execution_count": 5,
   "metadata": {},
   "outputs": [
    {
     "data": {
      "text/plain": [
       "0.83010280915168"
      ]
     },
     "execution_count": 5,
     "metadata": {},
     "output_type": "execute_result"
    }
   ],
   "source": [
    "auc, _, _,_ = train_fast(df_dummies, 13, \"romantic_yes\")\n",
    "auc"
   ]
  },
  {
   "cell_type": "markdown",
   "metadata": {},
   "source": [
    "## Uśrednione auc"
   ]
  },
  {
   "cell_type": "code",
   "execution_count": 6,
   "metadata": {},
   "outputs": [],
   "source": [
    "def get_auc_mean(df, max_depth, target = \"romantic_yes\", n = 10):\n",
    "    auc_sum = 0\n",
    "    for i in range(n):\n",
    "        auc, bst, _, _ = train_fast(df, max_depth, target)\n",
    "        auc_sum += auc\n",
    "    return auc_sum/n"
   ]
  },
  {
   "cell_type": "markdown",
   "metadata": {},
   "source": [
    "Zobaczmy jak zachowuje się xgboost przy różnych parametrach max_depth. Może chwilę potrwać"
   ]
  },
  {
   "cell_type": "code",
   "execution_count": 7,
   "metadata": {
    "scrolled": true
   },
   "outputs": [],
   "source": [
    "%%capture\n",
    "auc_results = []\n",
    "\n",
    "for i in range(40): \n",
    "    auc = get_auc_mean(df_dummies, i, \"romantic_yes\")\n",
    "    auc_results.append(auc)"
   ]
  },
  {
   "cell_type": "code",
   "execution_count": 8,
   "metadata": {},
   "outputs": [],
   "source": [
    "# Zróbmy średnią kroczącą \n",
    "def moving_average(a, n=3) :\n",
    "    ret = np.cumsum(a, dtype=float)\n",
    "    ret[n:] = ret[n:] - ret[:-n]\n",
    "    return ret[n - 1:] / n"
   ]
  },
  {
   "cell_type": "code",
   "execution_count": 9,
   "metadata": {},
   "outputs": [],
   "source": [
    "a = moving_average(np.array(auc_results),5)"
   ]
  },
  {
   "cell_type": "code",
   "execution_count": 10,
   "metadata": {},
   "outputs": [
    {
     "data": {
      "text/plain": [
       "Text(0.5, 1.0, 'auc based on max_depth')"
      ]
     },
     "execution_count": 10,
     "metadata": {},
     "output_type": "execute_result"
    },
    {
     "data": {
      "image/png": "[encoded data removed]",
      "text/plain": [
       "<Figure size 576x396 with 1 Axes>"
      ]
     },
     "metadata": {},
     "output_type": "display_data"
    }
   ],
   "source": [
    "res = pd.DataFrame({\"auc\": auc_results, \"depth\": [i for i in range(40)]})\n",
    "sns.lineplot(data = res, x = \"depth\", y = \"auc\").set_title(\"auc based on max_depth\")"
   ]
  },
  {
   "cell_type": "code",
   "execution_count": 11,
   "metadata": {
    "scrolled": false
   },
   "outputs": [
    {
     "data": {
      "text/plain": [
       "Text(0.5, 1.0, 'moving average of auc, base = 5')"
      ]
     },
     "execution_count": 11,
     "metadata": {},
     "output_type": "execute_result"
    },
    {
     "data": {
      "image/png": "[encoded data removed]",
      "text/plain": [
       "<Figure size 576x396 with 1 Axes>"
      ]
     },
     "metadata": {},
     "output_type": "display_data"
    }
   ],
   "source": [
    "res = pd.DataFrame({\"auc\":a,\"depth\":np.arange(len(auc_results))[2:-2]})\n",
    "sns.lineplot(data = res, x = \"depth\", y = \"auc\").set_title(\"moving average of auc, base = 5\")"
   ]
  },
  {
   "cell_type": "markdown",
   "metadata": {},
   "source": [
    "## Różne encodery"
   ]
  },
  {
   "cell_type": "code",
   "execution_count": 12,
   "metadata": {
    "scrolled": true
   },
   "outputs": [
    {
     "data": {
      "text/plain": [
       "Index(['school', 'sex', 'age', 'address', 'famsize', 'Pstatus', 'Medu', 'Fedu',\n",
       "       'Mjob', 'Fjob', 'reason', 'guardian', 'traveltime', 'studytime',\n",
       "       'failures', 'schoolsup', 'famsup', 'paid', 'activities', 'nursery',\n",
       "       'higher', 'internet', 'romantic', 'famrel', 'freetime', 'goout', 'Dalc',\n",
       "       'Walc', 'health', 'absences', 'G1', 'G2', 'G3', 'major'],\n",
       "      dtype='object')"
      ]
     },
     "execution_count": 12,
     "metadata": {},
     "output_type": "execute_result"
    }
   ],
   "source": [
    "df.columns"
   ]
  },
  {
   "cell_type": "code",
   "execution_count": 13,
   "metadata": {},
   "outputs": [],
   "source": [
    "df['romantic'] = np.where(df['romantic']=='yes', 1, 0)\n",
    "y = df[['romantic']].copy()\n",
    "df = df.drop(columns='romantic')"
   ]
  },
  {
   "cell_type": "code",
   "execution_count": 14,
   "metadata": {},
   "outputs": [],
   "source": [
    "import category_encoders as ce\n",
    "\n",
    "encolums = ['school', 'sex', 'address', 'famsize', 'Pstatus', 'Medu', 'Fedu',\n",
    "       'Mjob', 'Fjob', 'reason', 'guardian', 'traveltime', 'studytime', 'schoolsup', 'famsup', 'paid', 'activities', 'nursery',\n",
    "       'higher', 'internet', 'famrel', 'freetime', 'goout', 'Dalc',\n",
    "       'Walc', 'health', 'major']"
   ]
  },
  {
   "cell_type": "code",
   "execution_count": 15,
   "metadata": {
    "scrolled": true
   },
   "outputs": [],
   "source": [
    "%%capture\n",
    "res_dict = {}\n",
    "encoder = ce.backward_difference.BackwardDifferenceEncoder(cols = encolums)\n",
    "df_encoded = encoder.fit_transform(df)\n",
    "df_encoded['romantic'] = y\n",
    "res_dict[\"BackwardDifferenceEncoder\"] = get_auc_mean(df_encoded, 18, \"romantic\")"
   ]
  },
  {
   "cell_type": "code",
   "execution_count": 16,
   "metadata": {},
   "outputs": [],
   "source": [
    "%%capture\n",
    "encoder = ce.binary.BinaryEncoder(cols = encolums)\n",
    "df_encoded = encoder.fit_transform(df)\n",
    "df_encoded['romantic'] = y\n",
    "res_dict[\"BinaryEncoder\"] = get_auc_mean(df_encoded, 18, \"romantic\")"
   ]
  },
  {
   "cell_type": "code",
   "execution_count": 17,
   "metadata": {},
   "outputs": [],
   "source": [
    "%%capture\n",
    "encoder = ce.basen.BaseNEncoder(cols = encolums)\n",
    "df_encoded = encoder.fit_transform(df)\n",
    "df_encoded['romantic'] = y\n",
    "res_dict[\"BaseNEncoder\"] = get_auc_mean(df_encoded, 18, \"romantic\")"
   ]
  },
  {
   "cell_type": "code",
   "execution_count": 18,
   "metadata": {},
   "outputs": [],
   "source": [
    "%%capture\n",
    "encoder = ce.hashing.HashingEncoder(cols = encolums)\n",
    "df_encoded = encoder.fit_transform(df)\n",
    "df_encoded['romantic'] = y\n",
    "res_dict[\"HashingEncoder\"] = get_auc_mean(df_encoded, 18, \"romantic\")"
   ]
  },
  {
   "cell_type": "code",
   "execution_count": 19,
   "metadata": {},
   "outputs": [],
   "source": [
    "%%capture\n",
    "encoder = ce.helmert.HelmertEncoder(cols = encolums)\n",
    "df_encoded = encoder.fit_transform(df)\n",
    "df_encoded['romantic'] = y\n",
    "res_dict[\"HelmertEncoder\"] = get_auc_mean(df_encoded, 18, \"romantic\")"
   ]
  },
  {
   "cell_type": "code",
   "execution_count": 20,
   "metadata": {},
   "outputs": [],
   "source": [
    "%%capture\n",
    "encoder = ce.one_hot.OneHotEncoder(cols = encolums)\n",
    "df_encoded = encoder.fit_transform(df)\n",
    "df_encoded['romantic'] = y\n",
    "res_dict[\"OneHotEncoder\"] = get_auc_mean(df_encoded, 18, \"romantic\")"
   ]
  },
  {
   "cell_type": "code",
   "execution_count": 21,
   "metadata": {},
   "outputs": [],
   "source": [
    "%%capture\n",
    "encoder = ce.ordinal.OrdinalEncoder(cols = encolums)\n",
    "df_encoded = encoder.fit_transform(df)\n",
    "df_encoded['romantic'] = y\n",
    "res_dict[\"OneHotEncoder\"] = get_auc_mean(df_encoded, 18, \"romantic\")"
   ]
  },
  {
   "cell_type": "code",
   "execution_count": 22,
   "metadata": {},
   "outputs": [],
   "source": [
    "%%capture\n",
    "encoder = ce.polynomial.PolynomialEncoder(cols = encolums)\n",
    "df_encoded = encoder.fit_transform(df)\n",
    "df_encoded['romantic'] = y\n",
    "res_dict[\"OneHotEncoder\"] = get_auc_mean(df_encoded, 18, \"romantic\")"
   ]
  },
  {
   "cell_type": "code",
   "execution_count": 23,
   "metadata": {},
   "outputs": [],
   "source": [
    "%%capture\n",
    "encoder = ce.sum_coding.SumEncoder(cols = encolums)\n",
    "df_encoded = encoder.fit_transform(df)\n",
    "df_encoded['romantic'] = y\n",
    "res_dict[\"OneHotEncoder\"] = get_auc_mean(df_encoded, 18, \"romantic\")"
   ]
  },
  {
   "cell_type": "code",
   "execution_count": 24,
   "metadata": {},
   "outputs": [
    {
     "data": {
      "text/plain": [
       "<matplotlib.axes._subplots.AxesSubplot at 0x7f2e72d7ded0>"
      ]
     },
     "execution_count": 24,
     "metadata": {},
     "output_type": "execute_result"
    },
    {
     "data": {
      "image/png": "[encoded data removed]",
      "text/plain": [
       "<Figure size 576x396 with 1 Axes>"
      ]
     },
     "metadata": {},
     "output_type": "display_data"
    }
   ],
   "source": [
    "res_df = pd.DataFrame({\"encoder\": list(res_dict.keys()), \"mean_auc\": list(res_dict.values())})\n",
    "sns.barplot(data = res_df, y = \"encoder\", x = \"mean_auc\")"
   ]
  },
  {
   "cell_type": "code",
   "execution_count": 25,
   "metadata": {
    "scrolled": true
   },
   "outputs": [
    {
     "name": "stdout",
     "output_type": "stream",
     "text": [
      "                     encoder  mean_auc\n",
      "0  BackwardDifferenceEncoder  0.826205\n",
      "1              BinaryEncoder  0.840831\n",
      "2               BaseNEncoder  0.837968\n",
      "3             HashingEncoder  0.646296\n",
      "4             HelmertEncoder  0.835151\n",
      "5              OneHotEncoder  0.846921\n"
     ]
    }
   ],
   "source": [
    "from pprint import pprint\n",
    "pprint(res_df)"
   ]
  },
  {
   "cell_type": "markdown",
   "metadata": {},
   "source": [
    "Najlepiej radzi sobie one_hot_encoder, w kolejnych obliczeniach używać będziemy jego najbliżeszego kuzyna `dummies`"
   ]
  },
  {
   "cell_type": "markdown",
   "metadata": {},
   "source": [
    "## Logarytmowanie zmiennych ciągłych"
   ]
  },
  {
   "cell_type": "markdown",
   "metadata": {},
   "source": [
    "Widzimy, że najlepiej wypada model dla głębokości około 40, ale ogólnie charakteryzuje się sporą wariancją wyniku accuracy"
   ]
  },
  {
   "cell_type": "code",
   "execution_count": 26,
   "metadata": {},
   "outputs": [
    {
     "data": {
      "text/plain": [
       "<matplotlib.axes._subplots.AxesSubplot at 0x7f2e72d4c950>"
      ]
     },
     "execution_count": 26,
     "metadata": {},
     "output_type": "execute_result"
    },
    {
     "data": {
      "image/png": "[encoded data removed]",
      "text/plain": [
       "<Figure size 576x396 with 1 Axes>"
      ]
     },
     "metadata": {},
     "output_type": "display_data"
    }
   ],
   "source": [
    "sns.distplot(df_dummies.absences)"
   ]
  },
  {
   "cell_type": "code",
   "execution_count": 27,
   "metadata": {},
   "outputs": [
    {
     "data": {
      "text/plain": [
       "<matplotlib.axes._subplots.AxesSubplot at 0x7f2e72bf5cd0>"
      ]
     },
     "execution_count": 27,
     "metadata": {},
     "output_type": "execute_result"
    },
    {
     "data": {
      "image/png": "[encoded data removed]",
      "text/plain": [
       "<Figure size 576x396 with 1 Axes>"
      ]
     },
     "metadata": {},
     "output_type": "display_data"
    }
   ],
   "source": [
    "sns.distplot(np.log(df_dummies.absences+1)) "
   ]
  },
  {
   "cell_type": "code",
   "execution_count": 28,
   "metadata": {},
   "outputs": [],
   "source": [
    "df_dummies[\"absences\"] = np.log(df.absences +1)"
   ]
  },
  {
   "cell_type": "code",
   "execution_count": 31,
   "metadata": {},
   "outputs": [
    {
     "data": {
      "text/plain": [
       "0.8308870015508489"
      ]
     },
     "execution_count": 31,
     "metadata": {},
     "output_type": "execute_result"
    }
   ],
   "source": [
    "get_auc_mean(df_dummies, 19)"
   ]
  },
  {
   "cell_type": "code",
   "execution_count": 38,
   "metadata": {},
   "outputs": [
    {
     "data": {
      "text/plain": [
       "<matplotlib.axes._subplots.AxesSubplot at 0x7f2e70d31950>"
      ]
     },
     "execution_count": 38,
     "metadata": {},
     "output_type": "execute_result"
    },
    {
     "data": {
      "image/png": "[encoded data removed]",
      "text/plain": [
       "<Figure size 576x396 with 1 Axes>"
      ]
     },
     "metadata": {},
     "output_type": "display_data"
    }
   ],
   "source": [
    "sns.distplot(np.log(df_dummies.loc[df_dummies.romantic_yes == 1].Walc * df_dummies.loc[df_dummies.romantic_yes == 1].Dalc + 1))"
   ]
  },
  {
   "cell_type": "code",
   "execution_count": 39,
   "metadata": {
    "scrolled": true
   },
   "outputs": [
    {
     "data": {
      "text/plain": [
       "<matplotlib.axes._subplots.AxesSubplot at 0x7f2e70e3b9d0>"
      ]
     },
     "execution_count": 39,
     "metadata": {},
     "output_type": "execute_result"
    },
    {
     "data": {
      "image/png": "[encoded data removed]",
      "text/plain": [
       "<Figure size 576x396 with 1 Axes>"
      ]
     },
     "metadata": {},
     "output_type": "display_data"
    }
   ],
   "source": [
    "sns.distplot(np.log(df_dummies.loc[df_dummies.romantic_yes == 0].Walc * df_dummies.loc[df_dummies.romantic_yes == 0].Dalc +1))"
   ]
  },
  {
   "cell_type": "code",
   "execution_count": 43,
   "metadata": {},
   "outputs": [],
   "source": [
    "df_dummies[\"WeekandEnd\"] = np.log(df_dummies.Walc * df_dummies.Dalc +1)"
   ]
  },
  {
   "cell_type": "code",
   "execution_count": 44,
   "metadata": {},
   "outputs": [
    {
     "data": {
      "text/plain": [
       "0.8373756581558108"
      ]
     },
     "execution_count": 44,
     "metadata": {},
     "output_type": "execute_result"
    }
   ],
   "source": [
    "get_auc_mean(df_dummies, 19)  # idziemy do przodu"
   ]
  },
  {
   "cell_type": "code",
   "execution_count": 45,
   "metadata": {},
   "outputs": [],
   "source": [
    "a = np.where((df_dummies.Dalc > 3)&(df_dummies.Walc <3),1,0 )   # wniosek z eda, osoby oznaczone w tej kolumnie jako 1, to wyłącznie romantycy\n",
    "df_dummies[\"WeirdDrinker\"] = a"
   ]
  },
  {
   "cell_type": "code",
   "execution_count": 48,
   "metadata": {},
   "outputs": [
    {
     "data": {
      "text/plain": [
       "0.8369038503612398"
      ]
     },
     "execution_count": 48,
     "metadata": {},
     "output_type": "execute_result"
    }
   ],
   "source": [
    "get_auc_mean(df_dummies,19)      # porównywalnie z ostatnią"
   ]
  },
  {
   "cell_type": "markdown",
   "metadata": {},
   "source": [
    "## PCA"
   ]
  },
  {
   "cell_type": "code",
   "execution_count": 53,
   "metadata": {},
   "outputs": [],
   "source": [
    "from sklearn.decomposition import PCA\n",
    "from sklearn import preprocessing"
   ]
  },
  {
   "cell_type": "code",
   "execution_count": 56,
   "metadata": {},
   "outputs": [
    {
     "data": {
      "text/html": [
       "<div>\n",
       "<style scoped>\n",
       "    .dataframe tbody tr th:only-of-type {\n",
       "        vertical-align: middle;\n",
       "    }\n",
       "\n",
       "    .dataframe tbody tr th {\n",
       "        vertical-align: top;\n",
       "    }\n",
       "\n",
       "    .dataframe thead th {\n",
       "        text-align: right;\n",
       "    }\n",
       "</style>\n",
       "<table border=\"1\" class=\"dataframe\">\n",
       "  <thead>\n",
       "    <tr style=\"text-align: right;\">\n",
       "      <th></th>\n",
       "      <th>pc1</th>\n",
       "      <th>pc2</th>\n",
       "      <th>pc3</th>\n",
       "      <th>pc4</th>\n",
       "      <th>pc5</th>\n",
       "      <th>pc6</th>\n",
       "      <th>pc7</th>\n",
       "      <th>pc8</th>\n",
       "      <th>pc9</th>\n",
       "      <th>pc10</th>\n",
       "    </tr>\n",
       "  </thead>\n",
       "  <tbody>\n",
       "    <tr>\n",
       "      <th>0</th>\n",
       "      <td>0.291357</td>\n",
       "      <td>-0.002311</td>\n",
       "      <td>-0.068393</td>\n",
       "      <td>-0.104923</td>\n",
       "      <td>0.132938</td>\n",
       "      <td>-0.017749</td>\n",
       "      <td>-0.000915</td>\n",
       "      <td>-0.005140</td>\n",
       "      <td>0.019595</td>\n",
       "      <td>0.029207</td>\n",
       "    </tr>\n",
       "    <tr>\n",
       "      <th>1</th>\n",
       "      <td>0.293148</td>\n",
       "      <td>-0.014609</td>\n",
       "      <td>-0.150128</td>\n",
       "      <td>-0.030613</td>\n",
       "      <td>0.003739</td>\n",
       "      <td>-0.047496</td>\n",
       "      <td>0.017811</td>\n",
       "      <td>0.000414</td>\n",
       "      <td>0.035211</td>\n",
       "      <td>-0.036633</td>\n",
       "    </tr>\n",
       "    <tr>\n",
       "      <th>2</th>\n",
       "      <td>0.065921</td>\n",
       "      <td>-0.117236</td>\n",
       "      <td>-0.074606</td>\n",
       "      <td>0.000284</td>\n",
       "      <td>-0.021249</td>\n",
       "      <td>0.022799</td>\n",
       "      <td>0.022122</td>\n",
       "      <td>-0.010901</td>\n",
       "      <td>-0.017853</td>\n",
       "      <td>-0.055132</td>\n",
       "    </tr>\n",
       "    <tr>\n",
       "      <th>3</th>\n",
       "      <td>-0.190891</td>\n",
       "      <td>0.069406</td>\n",
       "      <td>0.031124</td>\n",
       "      <td>-0.042399</td>\n",
       "      <td>-0.026171</td>\n",
       "      <td>0.030748</td>\n",
       "      <td>0.026886</td>\n",
       "      <td>-0.022249</td>\n",
       "      <td>0.008715</td>\n",
       "      <td>0.018455</td>\n",
       "    </tr>\n",
       "    <tr>\n",
       "      <th>4</th>\n",
       "      <td>0.058324</td>\n",
       "      <td>-0.061050</td>\n",
       "      <td>-0.065479</td>\n",
       "      <td>-0.137130</td>\n",
       "      <td>0.010410</td>\n",
       "      <td>0.032568</td>\n",
       "      <td>-0.062080</td>\n",
       "      <td>-0.007562</td>\n",
       "      <td>0.000079</td>\n",
       "      <td>-0.006048</td>\n",
       "    </tr>\n",
       "    <tr>\n",
       "      <th>...</th>\n",
       "      <td>...</td>\n",
       "      <td>...</td>\n",
       "      <td>...</td>\n",
       "      <td>...</td>\n",
       "      <td>...</td>\n",
       "      <td>...</td>\n",
       "      <td>...</td>\n",
       "      <td>...</td>\n",
       "      <td>...</td>\n",
       "      <td>...</td>\n",
       "    </tr>\n",
       "    <tr>\n",
       "      <th>1039</th>\n",
       "      <td>0.076266</td>\n",
       "      <td>0.019750</td>\n",
       "      <td>-0.048860</td>\n",
       "      <td>-0.049731</td>\n",
       "      <td>-0.027927</td>\n",
       "      <td>0.011546</td>\n",
       "      <td>-0.026540</td>\n",
       "      <td>-0.009539</td>\n",
       "      <td>-0.017109</td>\n",
       "      <td>-0.026529</td>\n",
       "    </tr>\n",
       "    <tr>\n",
       "      <th>1040</th>\n",
       "      <td>-0.157430</td>\n",
       "      <td>0.026529</td>\n",
       "      <td>-0.045725</td>\n",
       "      <td>0.067675</td>\n",
       "      <td>0.041065</td>\n",
       "      <td>-0.023281</td>\n",
       "      <td>0.014691</td>\n",
       "      <td>-0.011653</td>\n",
       "      <td>0.005087</td>\n",
       "      <td>0.007439</td>\n",
       "    </tr>\n",
       "    <tr>\n",
       "      <th>1041</th>\n",
       "      <td>0.012407</td>\n",
       "      <td>0.073764</td>\n",
       "      <td>-0.076955</td>\n",
       "      <td>0.019305</td>\n",
       "      <td>-0.081743</td>\n",
       "      <td>0.139695</td>\n",
       "      <td>-0.014790</td>\n",
       "      <td>-0.072080</td>\n",
       "      <td>-0.014536</td>\n",
       "      <td>0.044395</td>\n",
       "    </tr>\n",
       "    <tr>\n",
       "      <th>1042</th>\n",
       "      <td>0.055787</td>\n",
       "      <td>-0.105887</td>\n",
       "      <td>0.039204</td>\n",
       "      <td>0.093804</td>\n",
       "      <td>0.034678</td>\n",
       "      <td>0.005027</td>\n",
       "      <td>0.009558</td>\n",
       "      <td>-0.022210</td>\n",
       "      <td>-0.032627</td>\n",
       "      <td>0.034122</td>\n",
       "    </tr>\n",
       "    <tr>\n",
       "      <th>1043</th>\n",
       "      <td>0.045790</td>\n",
       "      <td>-0.069946</td>\n",
       "      <td>0.009932</td>\n",
       "      <td>-0.019244</td>\n",
       "      <td>-0.048214</td>\n",
       "      <td>0.069054</td>\n",
       "      <td>-0.005775</td>\n",
       "      <td>0.048402</td>\n",
       "      <td>-0.059451</td>\n",
       "      <td>-0.045462</td>\n",
       "    </tr>\n",
       "  </tbody>\n",
       "</table>\n",
       "<p>1044 rows × 10 columns</p>\n",
       "</div>"
      ],
      "text/plain": [
       "           pc1       pc2       pc3       pc4       pc5       pc6       pc7  \\\n",
       "0     0.291357 -0.002311 -0.068393 -0.104923  0.132938 -0.017749 -0.000915   \n",
       "1     0.293148 -0.014609 -0.150128 -0.030613  0.003739 -0.047496  0.017811   \n",
       "2     0.065921 -0.117236 -0.074606  0.000284 -0.021249  0.022799  0.022122   \n",
       "3    -0.190891  0.069406  0.031124 -0.042399 -0.026171  0.030748  0.026886   \n",
       "4     0.058324 -0.061050 -0.065479 -0.137130  0.010410  0.032568 -0.062080   \n",
       "...        ...       ...       ...       ...       ...       ...       ...   \n",
       "1039  0.076266  0.019750 -0.048860 -0.049731 -0.027927  0.011546 -0.026540   \n",
       "1040 -0.157430  0.026529 -0.045725  0.067675  0.041065 -0.023281  0.014691   \n",
       "1041  0.012407  0.073764 -0.076955  0.019305 -0.081743  0.139695 -0.014790   \n",
       "1042  0.055787 -0.105887  0.039204  0.093804  0.034678  0.005027  0.009558   \n",
       "1043  0.045790 -0.069946  0.009932 -0.019244 -0.048214  0.069054 -0.005775   \n",
       "\n",
       "           pc8       pc9      pc10  \n",
       "0    -0.005140  0.019595  0.029207  \n",
       "1     0.000414  0.035211 -0.036633  \n",
       "2    -0.010901 -0.017853 -0.055132  \n",
       "3    -0.022249  0.008715  0.018455  \n",
       "4    -0.007562  0.000079 -0.006048  \n",
       "...        ...       ...       ...  \n",
       "1039 -0.009539 -0.017109 -0.026529  \n",
       "1040 -0.011653  0.005087  0.007439  \n",
       "1041 -0.072080 -0.014536  0.044395  \n",
       "1042 -0.022210 -0.032627  0.034122  \n",
       "1043  0.048402 -0.059451 -0.045462  \n",
       "\n",
       "[1044 rows x 10 columns]"
      ]
     },
     "execution_count": 56,
     "metadata": {},
     "output_type": "execute_result"
    }
   ],
   "source": [
    "pca = PCA(n_components=10) \n",
    "X = preprocessing.normalize(df_dummies.drop(\"romantic_yes\", axis = 1), norm='l2')\n",
    "\n",
    "principalComponents = pca.fit_transform(X)\n",
    "\n",
    "cols = []\n",
    "for i in range(10): \n",
    "    cols.append(\"pc\"+str(i+1))\n",
    "\n",
    "principalDf = pd.DataFrame(data = principalComponents, columns = cols)\n",
    "principalDf"
   ]
  },
  {
   "cell_type": "code",
   "execution_count": 58,
   "metadata": {},
   "outputs": [
    {
     "data": {
      "text/plain": [
       "array([0.48064371, 0.55648099, 0.61878967, 0.66826408, 0.71678488,\n",
       "       0.75103801, 0.78087927, 0.80322884, 0.82247924, 0.84129396])"
      ]
     },
     "execution_count": 58,
     "metadata": {},
     "output_type": "execute_result"
    }
   ],
   "source": [
    "pca.explained_variance_ratio_.cumsum()   # 55 % wariancji w 2 ważnych kolumnach"
   ]
  },
  {
   "cell_type": "markdown",
   "metadata": {},
   "source": [
    "zredukowaliśmy wymiar do 10"
   ]
  },
  {
   "cell_type": "code",
   "execution_count": 59,
   "metadata": {},
   "outputs": [
    {
     "data": {
      "text/html": [
       "<div>\n",
       "<style scoped>\n",
       "    .dataframe tbody tr th:only-of-type {\n",
       "        vertical-align: middle;\n",
       "    }\n",
       "\n",
       "    .dataframe tbody tr th {\n",
       "        vertical-align: top;\n",
       "    }\n",
       "\n",
       "    .dataframe thead th {\n",
       "        text-align: right;\n",
       "    }\n",
       "</style>\n",
       "<table border=\"1\" class=\"dataframe\">\n",
       "  <thead>\n",
       "    <tr style=\"text-align: right;\">\n",
       "      <th></th>\n",
       "      <th>pc1</th>\n",
       "      <th>pc2</th>\n",
       "      <th>pc3</th>\n",
       "      <th>pc4</th>\n",
       "      <th>pc5</th>\n",
       "      <th>pc6</th>\n",
       "      <th>pc7</th>\n",
       "      <th>pc8</th>\n",
       "      <th>pc9</th>\n",
       "      <th>pc10</th>\n",
       "      <th>romantic_yes</th>\n",
       "    </tr>\n",
       "  </thead>\n",
       "  <tbody>\n",
       "    <tr>\n",
       "      <th>0</th>\n",
       "      <td>0.291357</td>\n",
       "      <td>-0.002311</td>\n",
       "      <td>-0.068393</td>\n",
       "      <td>-0.104923</td>\n",
       "      <td>0.132938</td>\n",
       "      <td>-0.017749</td>\n",
       "      <td>-0.000915</td>\n",
       "      <td>-0.005140</td>\n",
       "      <td>0.019595</td>\n",
       "      <td>0.029207</td>\n",
       "      <td>0</td>\n",
       "    </tr>\n",
       "    <tr>\n",
       "      <th>1</th>\n",
       "      <td>0.293148</td>\n",
       "      <td>-0.014609</td>\n",
       "      <td>-0.150128</td>\n",
       "      <td>-0.030613</td>\n",
       "      <td>0.003739</td>\n",
       "      <td>-0.047496</td>\n",
       "      <td>0.017811</td>\n",
       "      <td>0.000414</td>\n",
       "      <td>0.035211</td>\n",
       "      <td>-0.036633</td>\n",
       "      <td>0</td>\n",
       "    </tr>\n",
       "    <tr>\n",
       "      <th>2</th>\n",
       "      <td>0.065921</td>\n",
       "      <td>-0.117236</td>\n",
       "      <td>-0.074606</td>\n",
       "      <td>0.000284</td>\n",
       "      <td>-0.021249</td>\n",
       "      <td>0.022799</td>\n",
       "      <td>0.022122</td>\n",
       "      <td>-0.010901</td>\n",
       "      <td>-0.017853</td>\n",
       "      <td>-0.055132</td>\n",
       "      <td>0</td>\n",
       "    </tr>\n",
       "    <tr>\n",
       "      <th>3</th>\n",
       "      <td>-0.190891</td>\n",
       "      <td>0.069406</td>\n",
       "      <td>0.031124</td>\n",
       "      <td>-0.042399</td>\n",
       "      <td>-0.026171</td>\n",
       "      <td>0.030748</td>\n",
       "      <td>0.026886</td>\n",
       "      <td>-0.022249</td>\n",
       "      <td>0.008715</td>\n",
       "      <td>0.018455</td>\n",
       "      <td>1</td>\n",
       "    </tr>\n",
       "    <tr>\n",
       "      <th>4</th>\n",
       "      <td>0.058324</td>\n",
       "      <td>-0.061050</td>\n",
       "      <td>-0.065479</td>\n",
       "      <td>-0.137130</td>\n",
       "      <td>0.010410</td>\n",
       "      <td>0.032568</td>\n",
       "      <td>-0.062080</td>\n",
       "      <td>-0.007562</td>\n",
       "      <td>0.000079</td>\n",
       "      <td>-0.006048</td>\n",
       "      <td>0</td>\n",
       "    </tr>\n",
       "    <tr>\n",
       "      <th>...</th>\n",
       "      <td>...</td>\n",
       "      <td>...</td>\n",
       "      <td>...</td>\n",
       "      <td>...</td>\n",
       "      <td>...</td>\n",
       "      <td>...</td>\n",
       "      <td>...</td>\n",
       "      <td>...</td>\n",
       "      <td>...</td>\n",
       "      <td>...</td>\n",
       "      <td>...</td>\n",
       "    </tr>\n",
       "    <tr>\n",
       "      <th>1039</th>\n",
       "      <td>0.076266</td>\n",
       "      <td>0.019750</td>\n",
       "      <td>-0.048860</td>\n",
       "      <td>-0.049731</td>\n",
       "      <td>-0.027927</td>\n",
       "      <td>0.011546</td>\n",
       "      <td>-0.026540</td>\n",
       "      <td>-0.009539</td>\n",
       "      <td>-0.017109</td>\n",
       "      <td>-0.026529</td>\n",
       "      <td>0</td>\n",
       "    </tr>\n",
       "    <tr>\n",
       "      <th>1040</th>\n",
       "      <td>-0.157430</td>\n",
       "      <td>0.026529</td>\n",
       "      <td>-0.045725</td>\n",
       "      <td>0.067675</td>\n",
       "      <td>0.041065</td>\n",
       "      <td>-0.023281</td>\n",
       "      <td>0.014691</td>\n",
       "      <td>-0.011653</td>\n",
       "      <td>0.005087</td>\n",
       "      <td>0.007439</td>\n",
       "      <td>0</td>\n",
       "    </tr>\n",
       "    <tr>\n",
       "      <th>1041</th>\n",
       "      <td>0.012407</td>\n",
       "      <td>0.073764</td>\n",
       "      <td>-0.076955</td>\n",
       "      <td>0.019305</td>\n",
       "      <td>-0.081743</td>\n",
       "      <td>0.139695</td>\n",
       "      <td>-0.014790</td>\n",
       "      <td>-0.072080</td>\n",
       "      <td>-0.014536</td>\n",
       "      <td>0.044395</td>\n",
       "      <td>0</td>\n",
       "    </tr>\n",
       "    <tr>\n",
       "      <th>1042</th>\n",
       "      <td>0.055787</td>\n",
       "      <td>-0.105887</td>\n",
       "      <td>0.039204</td>\n",
       "      <td>0.093804</td>\n",
       "      <td>0.034678</td>\n",
       "      <td>0.005027</td>\n",
       "      <td>0.009558</td>\n",
       "      <td>-0.022210</td>\n",
       "      <td>-0.032627</td>\n",
       "      <td>0.034122</td>\n",
       "      <td>0</td>\n",
       "    </tr>\n",
       "    <tr>\n",
       "      <th>1043</th>\n",
       "      <td>0.045790</td>\n",
       "      <td>-0.069946</td>\n",
       "      <td>0.009932</td>\n",
       "      <td>-0.019244</td>\n",
       "      <td>-0.048214</td>\n",
       "      <td>0.069054</td>\n",
       "      <td>-0.005775</td>\n",
       "      <td>0.048402</td>\n",
       "      <td>-0.059451</td>\n",
       "      <td>-0.045462</td>\n",
       "      <td>0</td>\n",
       "    </tr>\n",
       "  </tbody>\n",
       "</table>\n",
       "<p>1044 rows × 11 columns</p>\n",
       "</div>"
      ],
      "text/plain": [
       "           pc1       pc2       pc3       pc4       pc5       pc6       pc7  \\\n",
       "0     0.291357 -0.002311 -0.068393 -0.104923  0.132938 -0.017749 -0.000915   \n",
       "1     0.293148 -0.014609 -0.150128 -0.030613  0.003739 -0.047496  0.017811   \n",
       "2     0.065921 -0.117236 -0.074606  0.000284 -0.021249  0.022799  0.022122   \n",
       "3    -0.190891  0.069406  0.031124 -0.042399 -0.026171  0.030748  0.026886   \n",
       "4     0.058324 -0.061050 -0.065479 -0.137130  0.010410  0.032568 -0.062080   \n",
       "...        ...       ...       ...       ...       ...       ...       ...   \n",
       "1039  0.076266  0.019750 -0.048860 -0.049731 -0.027927  0.011546 -0.026540   \n",
       "1040 -0.157430  0.026529 -0.045725  0.067675  0.041065 -0.023281  0.014691   \n",
       "1041  0.012407  0.073764 -0.076955  0.019305 -0.081743  0.139695 -0.014790   \n",
       "1042  0.055787 -0.105887  0.039204  0.093804  0.034678  0.005027  0.009558   \n",
       "1043  0.045790 -0.069946  0.009932 -0.019244 -0.048214  0.069054 -0.005775   \n",
       "\n",
       "           pc8       pc9      pc10  romantic_yes  \n",
       "0    -0.005140  0.019595  0.029207             0  \n",
       "1     0.000414  0.035211 -0.036633             0  \n",
       "2    -0.010901 -0.017853 -0.055132             0  \n",
       "3    -0.022249  0.008715  0.018455             1  \n",
       "4    -0.007562  0.000079 -0.006048             0  \n",
       "...        ...       ...       ...           ...  \n",
       "1039 -0.009539 -0.017109 -0.026529             0  \n",
       "1040 -0.011653  0.005087  0.007439             0  \n",
       "1041 -0.072080 -0.014536  0.044395             0  \n",
       "1042 -0.022210 -0.032627  0.034122             0  \n",
       "1043  0.048402 -0.059451 -0.045462             0  \n",
       "\n",
       "[1044 rows x 11 columns]"
      ]
     },
     "execution_count": 59,
     "metadata": {},
     "output_type": "execute_result"
    }
   ],
   "source": [
    "pca_df = pd.concat([principalDf,df_dummies.romantic_yes],axis =1)\n",
    "pca_df"
   ]
  },
  {
   "cell_type": "code",
   "execution_count": 60,
   "metadata": {},
   "outputs": [
    {
     "data": {
      "text/plain": [
       "<matplotlib.axes._subplots.AxesSubplot at 0x7f2e70efc7d0>"
      ]
     },
     "execution_count": 60,
     "metadata": {},
     "output_type": "execute_result"
    },
    {
     "data": {
      "image/png": "[encoded data removed]",
      "text/plain": [
       "<Figure size 576x396 with 1 Axes>"
      ]
     },
     "metadata": {},
     "output_type": "display_data"
    }
   ],
   "source": [
    "sns.scatterplot(x = \"pc1\", y = \"pc2\", data = pca_df, hue = \"romantic_yes\")  "
   ]
  },
  {
   "cell_type": "markdown",
   "metadata": {},
   "source": [
    "Nie widać widocznego podziału danych"
   ]
  },
  {
   "cell_type": "code",
   "execution_count": 62,
   "metadata": {},
   "outputs": [
    {
     "data": {
      "text/plain": [
       "0.6363860041803175"
      ]
     },
     "execution_count": 62,
     "metadata": {},
     "output_type": "execute_result"
    }
   ],
   "source": [
    "get_auc_mean(pca_df, 19)"
   ]
  },
  {
   "cell_type": "markdown",
   "metadata": {},
   "source": [
    "Czyli najlepsze średnie AUC dostaliśmy po przekształceniach\n",
    "ramki danych logarytmicznie i eksponując niektóre zależności"
   ]
  }
 ],
 "metadata": {
  "kernelspec": {
   "display_name": "Python 3",
   "language": "python",
   "name": "python3"
  },
  "language_info": {
   "codemirror_mode": {
    "name": "ipython",
    "version": 3
   },
   "file_extension": ".py",
   "mimetype": "text/x-python",
   "name": "python",
   "nbconvert_exporter": "python",
   "pygments_lexer": "ipython3",
   "version": "3.7.6"
  }
 },
 "nbformat": 4,
 "nbformat_minor": 2
}
