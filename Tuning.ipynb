{
 "cells": [
  {
   "cell_type": "code",
   "execution_count": 4,
   "metadata": {},
   "outputs": [],
   "source": [
    "import pandas as pd\n",
    "import numpy as np\n",
    "from sklearn.model_selection import train_test_split, GridSearchCV\n",
    "from sklearn.linear_model import LogisticRegression, LinearRegression, SGDClassifier\n",
    "from sklearn.svm import SVC\n",
    "from sklearn.ensemble import ExtraTreesClassifier\n",
    "from sklearn.neighbors import KNeighborsClassifier\n",
    "from xgboost import XGBClassifier\n",
    "from sklearn.preprocessing import scale\n",
    "from sklearn.metrics import accuracy_score, roc_auc_score, classification_report, recall_score, precision_score, plot_precision_recall_curve, mean_squared_error, r2_score\n",
    "import seaborn as sns\n",
    "import category_encoders as ce\n",
    "#import xgboost\n",
    "from lightgbm import LGBMClassifier\n",
    "from sklearn.neural_network import MLPClassifier\n",
    "np.random.seed(123)\n",
    "from sklearn.model_selection import cross_val_score\n",
    "\n",
    "import xgboost as xgb\n",
    "pd.options.display.max_columns = None\n",
    "import seaborn as sns\n",
    "import matplotlib.pyplot as plt\n",
    "from sklearn.model_selection import KFold\n",
    "from sklearn import metrics"
   ]
  },
  {
   "cell_type": "code",
   "execution_count": 2,
   "metadata": {},
   "outputs": [],
   "source": [
    "from skopt import BayesSearchCV, plots\n",
    "import warnings\n",
    "warnings.filterwarnings('ignore')"
   ]
  },
  {
   "cell_type": "code",
   "execution_count": 3,
   "metadata": {},
   "outputs": [],
   "source": [
    "def on_step(optim_result):\n",
    "    score = bsc.best_score_\n",
    "    print(\"best score: %s\" % score)\n",
    "    return\n"
   ]
  },
  {
   "cell_type": "code",
   "execution_count": 4,
   "metadata": {},
   "outputs": [],
   "source": [
    "encoder = ce.OneHotEncoder()\n",
    "\n",
    "X = pd.read_csv(\"students-all.csv\").iloc[:,1:]\n",
    "y = X.romantic\n",
    "X = X.drop(\"romantic\", axis =1)\n",
    "\n",
    "encoder.fit(X)\n",
    "X = encoder.transform(X)"
   ]
  },
  {
   "cell_type": "code",
   "execution_count": 5,
   "metadata": {},
   "outputs": [],
   "source": [
    "xgb_model = xgb.XGBClassifier()\n",
    "extra_trees_model = ExtraTreesClassifier()\n",
    "\n",
    "xgb_params = {\n",
    "                \"max_depth\"         : np.arange(3,100),\n",
    "                \"learning_rate\"     : np.arange(0.001,1,0.001, dtype = \"float64\"),\n",
    "                \"booster\"           : [\"gbtree\",\"gblinear\",\"dart\"],\n",
    "                \"subsample\"         : np.arange(0.1,1,0.1, dtype = \"float64\"),\n",
    "                \"colsample_bytree\"  : np.arange(0.1,1,0.1, dtype = \"float64\"),\n",
    "                \"reg_alpha\"         : np.arange(0,10,0.1, dtype = \"float64\"),\n",
    "                \"reg_lambda\"        : np.arange(0,10,0.1, dtype = \"float64\")\n",
    "}\n",
    "\n",
    "extra_params = {\n",
    "                    \"min_samples_split\" : np.arange(2,20,1),\n",
    "                    \"min_samples_leaf\"  : np.arange(1,20,1),\n",
    "                    \"bootstrap\" : [False,True],\n",
    "                    \"ccp_alpha\" :  np.arange(0,10, 0.1)\n",
    "                }\n",
    "\n",
    "\n"
   ]
  },
  {
   "cell_type": "code",
   "execution_count": 19,
   "metadata": {
    "scrolled": true
   },
   "outputs": [
    {
     "name": "stdout",
     "output_type": "stream",
     "text": [
      "best score: 0.6446360153256705\n",
      "best score: 0.6446360153256705\n",
      "best score: 0.6446360153256705\n",
      "best score: 0.6446360153256705\n",
      "best score: 0.6446360153256705\n",
      "best score: 0.6446360153256705\n",
      "best score: 0.6446360153256705\n",
      "best score: 0.6446360153256705\n",
      "best score: 0.6446360153256705\n",
      "best score: 0.6446360153256705\n",
      "best score: 0.6446360153256705\n",
      "best score: 0.6446360153256705\n",
      "best score: 0.6446360153256705\n",
      "best score: 0.6446360153256705\n",
      "best score: 0.6446360153256705\n",
      "best score: 0.6446360153256705\n",
      "best score: 0.6446360153256705\n",
      "best score: 0.6446360153256705\n",
      "best score: 0.6446360153256705\n",
      "best score: 0.6446360153256705\n",
      "best score: 0.6446360153256705\n",
      "best score: 0.6446360153256705\n",
      "best score: 0.6446360153256705\n",
      "best score: 0.6446360153256705\n",
      "best score: 0.6446360153256705\n",
      "best score: 0.6446360153256705\n",
      "best score: 0.6446360153256705\n",
      "best score: 0.6446360153256705\n",
      "best score: 0.6446360153256705\n",
      "best score: 0.6446360153256705\n",
      "best score: 0.6446360153256705\n",
      "best score: 0.6446360153256705\n",
      "best score: 0.6446360153256705\n",
      "best score: 0.6446360153256705\n",
      "best score: 0.6446360153256705\n",
      "best score: 0.6446360153256705\n",
      "best score: 0.6446360153256705\n",
      "best score: 0.6446360153256705\n",
      "best score: 0.6446360153256705\n",
      "best score: 0.6446360153256705\n",
      "best score: 0.6446360153256705\n",
      "best score: 0.6446360153256705\n",
      "best score: 0.6446360153256705\n",
      "best score: 0.6446360153256705\n",
      "best score: 0.6446360153256705\n",
      "best score: 0.6446360153256705\n",
      "best score: 0.6446360153256705\n",
      "best score: 0.6446360153256705\n",
      "best score: 0.6446360153256705\n",
      "best score: 0.6446360153256705\n",
      "best score: 0.6446360153256705\n",
      "best score: 0.6446360153256705\n",
      "best score: 0.6446360153256705\n",
      "best score: 0.6446360153256705\n",
      "best score: 0.6446360153256705\n",
      "best score: 0.6446360153256705\n",
      "best score: 0.6446360153256705\n",
      "best score: 0.6446360153256705\n",
      "best score: 0.6446360153256705\n",
      "best score: 0.6446360153256705\n",
      "best score: 0.6446360153256705\n",
      "best score: 0.6446360153256705\n",
      "best score: 0.6446360153256705\n",
      "best score: 0.6446360153256705\n",
      "best score: 0.6446360153256705\n",
      "best score: 0.6446360153256705\n",
      "best score: 0.6446360153256705\n",
      "best score: 0.6446360153256705\n",
      "best score: 0.6446360153256705\n",
      "best score: 0.6446360153256705\n",
      "best score: 0.6446360153256705\n",
      "best score: 0.6446360153256705\n",
      "best score: 0.6446360153256705\n",
      "best score: 0.6446360153256705\n",
      "best score: 0.6446360153256705\n",
      "best score: 0.6446360153256705\n",
      "best score: 0.6446360153256705\n",
      "best score: 0.6446360153256705\n",
      "best score: 0.6446360153256705\n",
      "best score: 0.6446360153256705\n",
      "best score: 0.6446360153256705\n",
      "best score: 0.6446360153256705\n",
      "best score: 0.6446360153256705\n",
      "best score: 0.6446360153256705\n",
      "best score: 0.6446360153256705\n",
      "best score: 0.6446360153256705\n",
      "best score: 0.6446360153256705\n",
      "best score: 0.6446360153256705\n",
      "best score: 0.6446360153256705\n",
      "best score: 0.6446360153256705\n",
      "best score: 0.6446360153256705\n",
      "best score: 0.6446360153256705\n",
      "best score: 0.6446360153256705\n",
      "best score: 0.6446360153256705\n",
      "best score: 0.6446360153256705\n",
      "best score: 0.6446360153256705\n",
      "best score: 0.6446360153256705\n",
      "best score: 0.6446360153256705\n",
      "best score: 0.6446360153256705\n",
      "best score: 0.6446360153256705\n"
     ]
    },
    {
     "data": {
      "text/plain": [
       "BayesSearchCV(cv=5, error_score='raise',\n",
       "              estimator=ExtraTreesClassifier(bootstrap=False, ccp_alpha=0.0,\n",
       "                                             class_weight=None,\n",
       "                                             criterion='gini', max_depth=None,\n",
       "                                             max_features='auto',\n",
       "                                             max_leaf_nodes=None,\n",
       "                                             max_samples=None,\n",
       "                                             min_impurity_decrease=0.0,\n",
       "                                             min_impurity_split=None,\n",
       "                                             min_samples_leaf=1,\n",
       "                                             min_samples_split=2,\n",
       "                                             min_weight_fraction_leaf=0.0,\n",
       "                                             n_estimators=100, n_jobs=N...\n",
       "       5.2, 5.3, 5.4, 5.5, 5.6, 5.7, 5.8, 5.9, 6. , 6.1, 6.2, 6.3, 6.4,\n",
       "       6.5, 6.6, 6.7, 6.8, 6.9, 7. , 7.1, 7.2, 7.3, 7.4, 7.5, 7.6, 7.7,\n",
       "       7.8, 7.9, 8. , 8.1, 8.2, 8.3, 8.4, 8.5, 8.6, 8.7, 8.8, 8.9, 9. ,\n",
       "       9.1, 9.2, 9.3, 9.4, 9.5, 9.6, 9.7, 9.8, 9.9]),\n",
       "                             'min_samples_leaf': array([ 1,  2,  3,  4,  5,  6,  7,  8,  9, 10, 11, 12, 13, 14, 15, 16, 17,\n",
       "       18, 19]),\n",
       "                             'min_samples_split': array([ 2,  3,  4,  5,  6,  7,  8,  9, 10, 11, 12, 13, 14, 15, 16, 17, 18,\n",
       "       19])},\n",
       "              verbose=0)"
      ]
     },
     "execution_count": 19,
     "metadata": {},
     "output_type": "execute_result"
    }
   ],
   "source": [
    "bsc = BayesSearchCV(extra_trees_model, extra_params, n_iter = 100, cv = 5)\n",
    "bsc.fit(X,y, callback = on_step)\n"
   ]
  },
  {
   "cell_type": "code",
   "execution_count": 8,
   "metadata": {},
   "outputs": [
    {
     "name": "stdout",
     "output_type": "stream",
     "text": [
      "best score: 0.6283524904214559\n",
      "best score: 0.6724137931034483\n",
      "best score: 0.6724137931034483\n",
      "best score: 0.6724137931034483\n",
      "best score: 0.6724137931034483\n",
      "best score: 0.6724137931034483\n",
      "best score: 0.6772030651340997\n",
      "best score: 0.6772030651340997\n",
      "best score: 0.6772030651340997\n",
      "best score: 0.6772030651340997\n",
      "best score: 0.6886973180076629\n",
      "best score: 0.6886973180076629\n",
      "best score: 0.6886973180076629\n",
      "best score: 0.6886973180076629\n",
      "best score: 0.6886973180076629\n",
      "best score: 0.6886973180076629\n",
      "best score: 0.7078544061302682\n",
      "best score: 0.7078544061302682\n",
      "best score: 0.7078544061302682\n",
      "best score: 0.7078544061302682\n",
      "best score: 0.7078544061302682\n",
      "best score: 0.7327586206896551\n",
      "best score: 0.7327586206896551\n",
      "best score: 0.7327586206896551\n",
      "best score: 0.7327586206896551\n",
      "best score: 0.7327586206896551\n",
      "best score: 0.7327586206896551\n",
      "best score: 0.7327586206896551\n",
      "best score: 0.7327586206896551\n",
      "best score: 0.7327586206896551\n",
      "best score: 0.7327586206896551\n",
      "best score: 0.7327586206896551\n",
      "best score: 0.7327586206896551\n",
      "best score: 0.7394636015325671\n",
      "best score: 0.7394636015325671\n",
      "best score: 0.7394636015325671\n",
      "best score: 0.7394636015325671\n",
      "best score: 0.7394636015325671\n",
      "best score: 0.7394636015325671\n",
      "best score: 0.7394636015325671\n",
      "best score: 0.7394636015325671\n",
      "best score: 0.7394636015325671\n",
      "best score: 0.7394636015325671\n",
      "best score: 0.7394636015325671\n",
      "best score: 0.7394636015325671\n",
      "best score: 0.7394636015325671\n",
      "best score: 0.7394636015325671\n",
      "best score: 0.7394636015325671\n",
      "best score: 0.7394636015325671\n",
      "best score: 0.7394636015325671\n",
      "best score: 0.7394636015325671\n",
      "best score: 0.7394636015325671\n",
      "best score: 0.7394636015325671\n",
      "best score: 0.7394636015325671\n",
      "best score: 0.7394636015325671\n",
      "best score: 0.7394636015325671\n",
      "best score: 0.7394636015325671\n",
      "best score: 0.7394636015325671\n",
      "best score: 0.7394636015325671\n",
      "best score: 0.7394636015325671\n",
      "best score: 0.7394636015325671\n",
      "best score: 0.7394636015325671\n",
      "best score: 0.7394636015325671\n",
      "best score: 0.7394636015325671\n",
      "best score: 0.7394636015325671\n",
      "best score: 0.7394636015325671\n",
      "best score: 0.7394636015325671\n",
      "best score: 0.7394636015325671\n",
      "best score: 0.7394636015325671\n",
      "best score: 0.7394636015325671\n",
      "best score: 0.7394636015325671\n",
      "best score: 0.7394636015325671\n",
      "best score: 0.7394636015325671\n",
      "best score: 0.7394636015325671\n",
      "best score: 0.7394636015325671\n",
      "best score: 0.7394636015325671\n",
      "best score: 0.7394636015325671\n",
      "best score: 0.7394636015325671\n",
      "best score: 0.7394636015325671\n",
      "best score: 0.7394636015325671\n",
      "best score: 0.7394636015325671\n",
      "best score: 0.7394636015325671\n",
      "best score: 0.7394636015325671\n",
      "best score: 0.7394636015325671\n",
      "best score: 0.7394636015325671\n",
      "best score: 0.7394636015325671\n",
      "best score: 0.7394636015325671\n",
      "best score: 0.7394636015325671\n",
      "best score: 0.7394636015325671\n",
      "best score: 0.7394636015325671\n",
      "best score: 0.7394636015325671\n",
      "best score: 0.7394636015325671\n",
      "best score: 0.7394636015325671\n",
      "best score: 0.7394636015325671\n",
      "best score: 0.7394636015325671\n",
      "best score: 0.7394636015325671\n",
      "best score: 0.7394636015325671\n",
      "best score: 0.7394636015325671\n",
      "best score: 0.7394636015325671\n",
      "best score: 0.7394636015325671\n",
      "best score: 0.7394636015325671\n",
      "best score: 0.7394636015325671\n",
      "best score: 0.7394636015325671\n",
      "best score: 0.7394636015325671\n",
      "best score: 0.7394636015325671\n",
      "best score: 0.7394636015325671\n",
      "best score: 0.7394636015325671\n",
      "best score: 0.7442528735632183\n",
      "best score: 0.7442528735632183\n",
      "best score: 0.7442528735632183\n",
      "best score: 0.7442528735632183\n",
      "best score: 0.7442528735632183\n",
      "best score: 0.7442528735632183\n",
      "best score: 0.7442528735632183\n",
      "best score: 0.7442528735632183\n",
      "best score: 0.7442528735632183\n",
      "best score: 0.7442528735632183\n",
      "best score: 0.7442528735632183\n",
      "best score: 0.7442528735632183\n",
      "best score: 0.7442528735632183\n",
      "best score: 0.7442528735632183\n",
      "best score: 0.7442528735632183\n",
      "best score: 0.7442528735632183\n",
      "best score: 0.7442528735632183\n",
      "best score: 0.7442528735632183\n",
      "best score: 0.7442528735632183\n",
      "best score: 0.7442528735632183\n",
      "best score: 0.7442528735632183\n",
      "best score: 0.7461685823754789\n",
      "best score: 0.7461685823754789\n",
      "best score: 0.7461685823754789\n",
      "best score: 0.7461685823754789\n",
      "best score: 0.7461685823754789\n",
      "best score: 0.7461685823754789\n",
      "best score: 0.7461685823754789\n",
      "best score: 0.7461685823754789\n",
      "best score: 0.7461685823754789\n",
      "best score: 0.7461685823754789\n",
      "best score: 0.7461685823754789\n",
      "best score: 0.7461685823754789\n",
      "best score: 0.7461685823754789\n",
      "best score: 0.7461685823754789\n",
      "best score: 0.7461685823754789\n",
      "best score: 0.7461685823754789\n",
      "best score: 0.7461685823754789\n",
      "best score: 0.7461685823754789\n",
      "best score: 0.7461685823754789\n",
      "best score: 0.7461685823754789\n",
      "best score: 0.7461685823754789\n",
      "best score: 0.7461685823754789\n",
      "best score: 0.7461685823754789\n",
      "best score: 0.7461685823754789\n",
      "best score: 0.7461685823754789\n",
      "best score: 0.7461685823754789\n",
      "best score: 0.7461685823754789\n",
      "best score: 0.7461685823754789\n",
      "best score: 0.7461685823754789\n",
      "best score: 0.7461685823754789\n",
      "best score: 0.7461685823754789\n",
      "best score: 0.7461685823754789\n",
      "best score: 0.7461685823754789\n",
      "best score: 0.7461685823754789\n",
      "best score: 0.7461685823754789\n",
      "best score: 0.7461685823754789\n",
      "best score: 0.7461685823754789\n",
      "best score: 0.7461685823754789\n",
      "best score: 0.7461685823754789\n",
      "best score: 0.7461685823754789\n",
      "best score: 0.7461685823754789\n",
      "best score: 0.7461685823754789\n",
      "best score: 0.7461685823754789\n",
      "best score: 0.7461685823754789\n",
      "best score: 0.7461685823754789\n",
      "best score: 0.7461685823754789\n",
      "best score: 0.7461685823754789\n",
      "best score: 0.7461685823754789\n",
      "best score: 0.7461685823754789\n",
      "best score: 0.7461685823754789\n",
      "best score: 0.7461685823754789\n",
      "best score: 0.7461685823754789\n",
      "best score: 0.7461685823754789\n",
      "best score: 0.7461685823754789\n",
      "best score: 0.7461685823754789\n",
      "best score: 0.7461685823754789\n",
      "best score: 0.7461685823754789\n",
      "best score: 0.7461685823754789\n",
      "best score: 0.7461685823754789\n",
      "best score: 0.7461685823754789\n",
      "best score: 0.7461685823754789\n",
      "best score: 0.7461685823754789\n",
      "best score: 0.7461685823754789\n",
      "best score: 0.7461685823754789\n",
      "best score: 0.7461685823754789\n",
      "best score: 0.7461685823754789\n",
      "best score: 0.7461685823754789\n",
      "best score: 0.7461685823754789\n",
      "best score: 0.7461685823754789\n",
      "best score: 0.7461685823754789\n",
      "best score: 0.7461685823754789\n",
      "best score: 0.7461685823754789\n"
     ]
    },
    {
     "data": {
      "text/plain": [
       "BayesSearchCV(cv=5, error_score='raise',\n",
       "              estimator=XGBClassifier(base_score=None, booster=None,\n",
       "                                      colsample_bylevel=None,\n",
       "                                      colsample_bynode=None,\n",
       "                                      colsample_bytree=None, gamma=None,\n",
       "                                      gpu_id=None, importance_type='gain',\n",
       "                                      interaction_constraints=None,\n",
       "                                      learning_rate=None, max_delta_step=None,\n",
       "                                      max_depth=None, min_child_weight=None,\n",
       "                                      missing=nan, monotone_constraints=None,\n",
       "                                      n_...\n",
       "       2.6, 2.7, 2.8, 2.9, 3. , 3.1, 3.2, 3.3, 3.4, 3.5, 3.6, 3.7, 3.8,\n",
       "       3.9, 4. , 4.1, 4.2, 4.3, 4.4, 4.5, 4.6, 4.7, 4.8, 4.9, 5. , 5.1,\n",
       "       5.2, 5.3, 5.4, 5.5, 5.6, 5.7, 5.8, 5.9, 6. , 6.1, 6.2, 6.3, 6.4,\n",
       "       6.5, 6.6, 6.7, 6.8, 6.9, 7. , 7.1, 7.2, 7.3, 7.4, 7.5, 7.6, 7.7,\n",
       "       7.8, 7.9, 8. , 8.1, 8.2, 8.3, 8.4, 8.5, 8.6, 8.7, 8.8, 8.9, 9. ,\n",
       "       9.1, 9.2, 9.3, 9.4, 9.5, 9.6, 9.7, 9.8, 9.9]),\n",
       "                             'subsample': array([0.1, 0.2, 0.3, 0.4, 0.5, 0.6, 0.7, 0.8, 0.9])},\n",
       "              verbose=0)"
      ]
     },
     "execution_count": 8,
     "metadata": {},
     "output_type": "execute_result"
    }
   ],
   "source": [
    "bsc = BayesSearchCV(xgb_model, xgb_params, n_iter = 200, cv = 5)\n",
    "bsc.fit(X,y, callback = on_step)\n"
   ]
  },
  {
   "cell_type": "code",
   "execution_count": 9,
   "metadata": {
    "scrolled": true
   },
   "outputs": [
    {
     "data": {
      "text/plain": [
       "OrderedDict([('booster', 'dart'),\n",
       "             ('colsample_bytree', 0.9),\n",
       "             ('learning_rate', 0.461),\n",
       "             ('max_depth', 47),\n",
       "             ('reg_alpha', 0.0),\n",
       "             ('reg_lambda', 1.1),\n",
       "             ('subsample', 0.6)])"
      ]
     },
     "execution_count": 9,
     "metadata": {},
     "output_type": "execute_result"
    }
   ],
   "source": [
    "bsc.best_params_"
   ]
  },
  {
   "cell_type": "code",
   "execution_count": 9,
   "metadata": {},
   "outputs": [],
   "source": [
    "xgb_model = xgb.XGBClassifier()\n",
    "xgb_model.load_model('alco.model')"
   ]
  },
  {
   "cell_type": "code",
   "execution_count": 15,
   "metadata": {},
   "outputs": [],
   "source": [
    "df = pd.read_csv(\"students-all.csv\")\n",
    "# remove rownames\n",
    "df = df.iloc[:,1:]\n",
    "\n",
    "encoder = ce.OneHotEncoder()\n",
    "\n",
    "df = pd.read_csv(\"students-all.csv\").iloc[:,1:]\n",
    "y = df.romantic\n",
    "df = df.drop(\"romantic\", axis =1)\n",
    "\n",
    "df_one_hot = encoder.fit_transform(df)\n",
    "\n",
    "target = np.where(y=='yes', 1, 0)\n",
    "\n",
    "X_train, X_test, y_train, y_test = train_test_split(df_one_hot,\n",
    "                                                    target, test_size = 0.2, random_state = 666)"
   ]
  },
  {
   "cell_type": "code",
   "execution_count": 16,
   "metadata": {},
   "outputs": [
    {
     "data": {
      "text/plain": [
       "0.8041666666666667"
      ]
     },
     "execution_count": 16,
     "metadata": {},
     "output_type": "execute_result"
    }
   ],
   "source": [
    "y_predict_prob = xgb_model.predict_proba(X_test)[:,1]\n",
    "y_pres = xgb_model.predict(X_test)\n",
    "from sklearn.metrics import roc_auc_score\n",
    "roc_auc_score(y_test, y_predict_prob)"
   ]
  },
  {
   "cell_type": "code",
   "execution_count": 17,
   "metadata": {},
   "outputs": [
    {
     "data": {
      "text/plain": [
       "[Text(0, 0, 'guardian_3'),\n",
       " Text(0, 0, 'schoolsup_1'),\n",
       " Text(0, 0, 'Fjob_5'),\n",
       " Text(0, 0, 'guardian_2'),\n",
       " Text(0, 0, 'Walc'),\n",
       " Text(0, 0, 'Mjob_2'),\n",
       " Text(0, 0, 'nursery_1'),\n",
       " Text(0, 0, 'age'),\n",
       " Text(0, 0, 'Mjob_5'),\n",
       " Text(0, 0, 'sex_1'),\n",
       " Text(0, 0, 'internet_1'),\n",
       " Text(0, 0, 'school_2'),\n",
       " Text(0, 0, 'reason_3'),\n",
       " Text(0, 0, 'Fjob_4'),\n",
       " Text(0, 0, 'Pstatus_1'),\n",
       " Text(0, 0, 'failures'),\n",
       " Text(0, 0, 'nursery_2'),\n",
       " Text(0, 0, 'famsup_1'),\n",
       " Text(0, 0, 'studytime'),\n",
       " Text(0, 0, 'reason_2'),\n",
       " Text(0, 0, 'traveltime'),\n",
       " Text(0, 0, 'famrel'),\n",
       " Text(0, 0, 'goout'),\n",
       " Text(0, 0, 'freetime'),\n",
       " Text(0, 0, 'G3'),\n",
       " Text(0, 0, 'Medu'),\n",
       " Text(0, 0, 'Fedu'),\n",
       " Text(0, 0, 'Mjob_1'),\n",
       " Text(0, 0, 'activities_2'),\n",
       " Text(0, 0, 'Fjob_1'),\n",
       " Text(0, 0, 'higher_1'),\n",
       " Text(0, 0, 'major_1'),\n",
       " Text(0, 0, 'health'),\n",
       " Text(0, 0, 'Pstatus_2'),\n",
       " Text(0, 0, 'paid_1'),\n",
       " Text(0, 0, 'absences'),\n",
       " Text(0, 0, 'G1'),\n",
       " Text(0, 0, 'reason_4'),\n",
       " Text(0, 0, 'address_1'),\n",
       " Text(0, 0, 'activities_1'),\n",
       " Text(0, 0, 'Dalc'),\n",
       " Text(0, 0, 'famsize_1'),\n",
       " Text(0, 0, 'Fjob_3'),\n",
       " Text(0, 0, 'major_2'),\n",
       " Text(0, 0, 'higher_2'),\n",
       " Text(0, 0, 'schoolsup_2'),\n",
       " Text(0, 0, 'school_1'),\n",
       " Text(0, 0, 'famsize_2'),\n",
       " Text(0, 0, 'G2'),\n",
       " Text(0, 0, 'guardian_1'),\n",
       " Text(0, 0, 'sex_2'),\n",
       " Text(0, 0, 'Mjob_4'),\n",
       " Text(0, 0, 'Fjob_2'),\n",
       " Text(0, 0, 'reason_1'),\n",
       " Text(0, 0, 'Mjob_3'),\n",
       " Text(0, 0, 'address_2'),\n",
       " Text(0, 0, 'paid_2'),\n",
       " Text(0, 0, 'internet_2'),\n",
       " Text(0, 0, 'famsup_2')]"
      ]
     },
     "execution_count": 17,
     "metadata": {},
     "output_type": "execute_result"
    },
    {
     "data": {
      "image/png": "[encoded data removed]",
      "text/plain": [
       "<Figure size 1440x720 with 1 Axes>"
      ]
     },
     "metadata": {
      "needs_background": "light"
     },
     "output_type": "display_data"
    }
   ],
   "source": [
    "sorted_idx = np.argsort(xgb_model.feature_importances_)[::-1]\n",
    "names = []\n",
    "val = []\n",
    "for index in sorted_idx:\n",
    "    names.append(X_train.columns[index])\n",
    "    val.append(xgb_model.feature_importances_[index])\n",
    "\n",
    "d = pd.DataFrame({'feature':names, 'importance': val})\n",
    "plt.rcParams['figure.figsize'] = [20, 10]\n",
    "ax = d.plot(kind='bar', label = names)\n",
    "ax.set_title('Amount Frequency')\n",
    "ax.set_xlabel('')\n",
    "ax.set_ylabel('Importance')\n",
    "ax.set_xticklabels(names)"
   ]
  },
  {
   "cell_type": "code",
   "execution_count": 25,
   "metadata": {},
   "outputs": [],
   "source": [
    "from sklearn.metrics import plot_confusion_matrix, plot_roc_curve, plot_precision_recall_curve"
   ]
  },
  {
   "cell_type": "code",
   "execution_count": 27,
   "metadata": {},
   "outputs": [
    {
     "data": {
      "text/plain": [
       "<sklearn.metrics._plot.confusion_matrix.ConfusionMatrixDisplay at 0x7f6df6241550>"
      ]
     },
     "execution_count": 27,
     "metadata": {},
     "output_type": "execute_result"
    },
    {
     "data": {
      "image/png": "[encoded data removed]",
      "text/plain": [
       "<Figure size 1440x720 with 2 Axes>"
      ]
     },
     "metadata": {
      "needs_background": "light"
     },
     "output_type": "display_data"
    }
   ],
   "source": [
    "plot_confusion_matrix(xgb_model, X_test, y_test)"
   ]
  },
  {
   "cell_type": "code",
   "execution_count": 24,
   "metadata": {},
   "outputs": [
    {
     "data": {
      "text/plain": [
       "<sklearn.metrics._plot.roc_curve.RocCurveDisplay at 0x7f6df6336668>"
      ]
     },
     "execution_count": 24,
     "metadata": {},
     "output_type": "execute_result"
    },
    {
     "data": {
      "image/png": "[encoded data removed]",
      "text/plain": [
       "<Figure size 1440x720 with 1 Axes>"
      ]
     },
     "metadata": {
      "needs_background": "light"
     },
     "output_type": "display_data"
    }
   ],
   "source": [
    "plot_roc_curve(xgb_model, X_test, y_test)"
   ]
  },
  {
   "cell_type": "code",
   "execution_count": 26,
   "metadata": {},
   "outputs": [
    {
     "data": {
      "text/plain": [
       "<sklearn.metrics._plot.precision_recall_curve.PrecisionRecallDisplay at 0x7f6df6336ef0>"
      ]
     },
     "execution_count": 26,
     "metadata": {},
     "output_type": "execute_result"
    },
    {
     "data": {
      "image/png": "[encoded data removed]",
      "text/plain": [
       "<Figure size 1440x720 with 1 Axes>"
      ]
     },
     "metadata": {
      "needs_background": "light"
     },
     "output_type": "display_data"
    }
   ],
   "source": [
    "plot_precision_recall_curve(xgb_model, X_test, y_test)"
   ]
  }
 ],
 "metadata": {
  "kernelspec": {
   "display_name": "Python 3",
   "language": "python",
   "name": "python3"
  },
  "language_info": {
   "codemirror_mode": {
    "name": "ipython",
    "version": 3
   },
   "file_extension": ".py",
   "mimetype": "text/x-python",
   "name": "python",
   "nbconvert_exporter": "python",
   "pygments_lexer": "ipython3",
   "version": "3.7.1"
  }
 },
 "nbformat": 4,
 "nbformat_minor": 4
}
